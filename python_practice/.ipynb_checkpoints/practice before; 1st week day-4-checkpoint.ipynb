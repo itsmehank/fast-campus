{
 "cells": [
  {
   "cell_type": "code",
   "execution_count": null,
   "metadata": {},
   "outputs": [],
   "source": [
    "# Ethiopian Multiplication \n",
    "\n",
    "\n",
    "Numbers = str(input(\"What numbers do you want to multiply?(please enter the values separately by space) :\")).split()\n",
    "\n",
    "# split() makes 'Numbers' list which has two numbers as element and those are string.\n",
    "# So we need to make those string to integer for algebra.\n",
    "\n",
    "num1 = int(Numbers[0])\n",
    "num2 = int(Numbers[1])\n",
    "\n",
    "#Then, using while loop, make a process for ethiopian multiplication.\n",
    "result = 0\n",
    "while num1 >= 1: \n",
    "    if num1 % 2 == 0:\n",
    "        print (\"%4d %7d pass\" % (num1, num2) )    # **주의: %d와 %s와 같은 것은 string으로 처리해줘야 한다. \n",
    "    else:\n",
    "        print (\"%4d %7d keep\" % (num1, num2))\n",
    "        result+= num2\n",
    "    num1 = num1 // 2\n",
    "    num2 = num2 * 2\n",
    "\n",
    "print (\"The result is \", result)"
   ]
  },
  {
   "cell_type": "code",
   "execution_count": null,
   "metadata": {},
   "outputs": [],
   "source": [
    "# Transfrom ethiopian multiplication to 리스트 컴프리헨션\n",
    "\n",
    "Numbers2 = str(input(\"Insert two numbers you want to multiply(Caution:separate those numbers by space): \").split())\n",
    "\n",
    "list_ = [int(Numbers[0]), int(Numbers[1])]\n",
    "num01 = list_[0]\n",
    "num02 = list_[1]\n",
    "print (list_)\n",
    "eth_list = [\"%4d %7d pass\" % (num01, num02) * (num1 % 2 == 0) or \"%4d %7d keep\" % (num01, num02) while num01 >= 1 num1 = num1 //2 num2 = num2 * 2 ]\n",
    "print (eth_list)"
   ]
  },
  {
   "cell_type": "code",
   "execution_count": null,
   "metadata": {},
   "outputs": [],
   "source": [
    "# leap year\n",
    "# 기본 형태의 function \n",
    "\n",
    "\n",
    "def is_leap_year (year= int(input(\"Is this year leap year?: \"))):\n",
    "    if year % 400 == 0: \n",
    "        print (\"leap year\")\n",
    "    elif year % 100 == 0:\n",
    "        print (\"nah\")\n",
    "    elif year % 4 == 0:\n",
    "        print (\"leap year\")\n",
    "    else: \n",
    "        print (\"nah\")\n",
    "\n",
    "print (is_leap_year)\n",
    "\n",
    "        "
   ]
  },
  {
   "cell_type": "code",
   "execution_count": null,
   "metadata": {},
   "outputs": [],
   "source": [
    "# leap year\n",
    "# input statement이용해서 parameter 받기 >>> 위치는 function 아래 print 바로 위.\n",
    "\n",
    "def is_leap_year(year):\n",
    "    if year % 400 == 0: \n",
    "        return (\"leap year\")\n",
    "    elif year % 100 == 0:\n",
    "        return (\"nah\")\n",
    "    elif year % 4 == 0:\n",
    "        return (\"leap year\")\n",
    "    else: \n",
    "        return (\"nah\")\n",
    "\n",
    "year = int(input(\"wanna find this is leap year or not: \"))\n",
    "print(is_leap_year(year))\n",
    "\n",
    "\n"
   ]
  },
  {
   "cell_type": "code",
   "execution_count": null,
   "metadata": {},
   "outputs": [],
   "source": [
    "# leap year 문제 변형\n",
    "# 1부터 input 값까지 leap year 어떻게 분포하는 지 보기 >> leap year이 아닌 year는 str으로 표현\n",
    "empty_list = []\n",
    "def is_leap_year(year):\n",
    "    for i in range(1,year+1):\n",
    "        if i % 400 == 0:\n",
    "            empty_list.append(i)\n",
    "        elif i % 4 == 0 and not i % 100 == 0:\n",
    "            empty_list.append(i)\n",
    "        else: \n",
    "            empty_list.append(str(i))\n",
    "        \n",
    "    return empty_list\n",
    "\n",
    "year = int(input(\"what years are leap year since 1 to : \"))\n",
    "\n",
    "print (is_leap_year(year))"
   ]
  },
  {
   "cell_type": "code",
   "execution_count": null,
   "metadata": {},
   "outputs": [],
   "source": [
    "# leap year 응용 + list comprehension \n",
    "# year definition은 list comprehension보다 앞에 있어야 한다 >> 아닌 경우 list comprehension의 year 정의를 물어봄.\n",
    "\n",
    "year = int(input(\"what years are leap year since 1 to : \"))\n",
    "empty_list2 = [i*(i % 400 == 0) + i*(i%4 == 0 and not i % 100 == 0) or str(i) for i in range(1,year+1)]\n",
    "\n",
    "print(empty_list2)"
   ]
  },
  {
   "cell_type": "code",
   "execution_count": 1,
   "metadata": {},
   "outputs": [
    {
     "ename": "SyntaxError",
     "evalue": "unexpected EOF while parsing (<ipython-input-1-02443fd10d61>, line 4)",
     "output_type": "error",
     "traceback": [
      "\u001b[1;36m  File \u001b[1;32m\"<ipython-input-1-02443fd10d61>\"\u001b[1;36m, line \u001b[1;32m4\u001b[0m\n\u001b[1;33m    \u001b[0m\n\u001b[1;37m    ^\u001b[0m\n\u001b[1;31mSyntaxError\u001b[0m\u001b[1;31m:\u001b[0m unexpected EOF while parsing\n"
     ]
    }
   ],
   "source": [
    "# how many days we lived since birthday.\n",
    "from datetime import datetime\n",
    "\n",
    "\n",
    "\n",
    "print (datetime.now())\n",
    "#  print (100000[:3]) >>>>[:] indexing은 only string\n",
    "print (str(datetime.now())[:10])\n",
    "print (str(datetime.now())[:10].split(\"-\"))\n",
    "lista = str(datetime.now())[:10].split(\"-\")\n",
    "lista = [int(lista[0]), int(lista[1]), int(lista[2])]\n",
    "print (lista)\n",
    "\n",
    "\n",
    "def day_count(year, month, day):\n",
    "    \n",
    "    "
   ]
  },
  {
   "cell_type": "code",
   "execution_count": 13,
   "metadata": {},
   "outputs": [
    {
     "name": "stdout",
     "output_type": "stream",
     "text": [
      "2017-07-28 12:57:34.727392\n",
      "2017-07-28\n",
      "['2017', '07', '28']\n",
      "[2017, 7, 28]\n"
     ]
    }
   ],
   "source": [
    "from datetime import datetime\n",
    "print (datetime.now())\n",
    "#  print (100000[:3]) >>>>[:] indexing은 only string\n",
    "print (str(datetime.now())[:10])\n",
    "print (str(datetime.now())[:10].split(\"-\"))\n",
    "lista = str(datetime.now())[:10].split(\"-\")\n",
    "lista = [int(lista[0]), int(lista[1]), int(lista[2])]\n",
    "print (lista)\n"
   ]
  },
  {
   "cell_type": "code",
   "execution_count": null,
   "metadata": {
    "collapsed": true
   },
   "outputs": [],
   "source": []
  }
 ],
 "metadata": {
  "kernelspec": {
   "display_name": "Python 3",
   "language": "python",
   "name": "python3"
  },
  "language_info": {
   "codemirror_mode": {
    "name": "ipython",
    "version": 3
   },
   "file_extension": ".py",
   "mimetype": "text/x-python",
   "name": "python",
   "nbconvert_exporter": "python",
   "pygments_lexer": "ipython3",
   "version": "3.6.2"
  }
 },
 "nbformat": 4,
 "nbformat_minor": 2
}
