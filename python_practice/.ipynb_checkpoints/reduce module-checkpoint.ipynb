{
 "cells": [
  {
   "cell_type": "code",
   "execution_count": null,
   "metadata": {},
   "outputs": [],
   "source": []
  },
  {
   "cell_type": "code",
   "execution_count": 7,
   "metadata": {},
   "outputs": [
    {
     "name": "stdout",
     "output_type": "stream",
     "text": [
      "-16\n",
      "-16\n",
      "-16\n",
      "-16\n",
      "-16\n",
      "0\n",
      "-16\n"
     ]
    },
    {
     "data": {
      "text/plain": [
       "-16"
      ]
     },
     "execution_count": 7,
     "metadata": {},
     "output_type": "execute_result"
    }
   ],
   "source": [
    "def reduce(function, iterable, initializer=None):\n",
    "    it = iter(iterable) \n",
    "    if initializer is None:\n",
    "        value = next(it) \n",
    "    else: \n",
    "        value = initializer \n",
    "    for element in it:\n",
    "        value = function(value, element)\n",
    "        print(value)\n",
    "    return value\n",
    "\n",
    "ex_li = [2,-2,6,10,3,14,16,-9]\n",
    "result = reduce(lambda x,y: (x//16)*16 + (y//16)*16 , ex_li)\n",
    "result\n"
   ]
  },
  {
   "cell_type": "code",
   "execution_count": null,
   "metadata": {
    "collapsed": true
   },
   "outputs": [],
   "source": []
  }
 ],
 "metadata": {
  "kernelspec": {
   "display_name": "Python 3",
   "language": "python",
   "name": "python3"
  },
  "language_info": {
   "codemirror_mode": {
    "name": "ipython",
    "version": 3
   },
   "file_extension": ".py",
   "mimetype": "text/x-python",
   "name": "python",
   "nbconvert_exporter": "python",
   "pygments_lexer": "ipython3",
   "version": "3.6.2"
  }
 },
 "nbformat": 4,
 "nbformat_minor": 2
}
