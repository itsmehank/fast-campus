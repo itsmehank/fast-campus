{
 "cells": [
  {
   "cell_type": "code",
   "execution_count": 4,
   "metadata": {},
   "outputs": [
    {
     "name": "stdout",
     "output_type": "stream",
     "text": [
      "True\n"
     ]
    }
   ],
   "source": [
    "# String Validators \n",
    "\n",
    "# 두가지 배운점.\n",
    "\n",
    "# 1. if 와 elif의 관계\n",
    "# 2. 숫자형태의 string이 upper() 혹은 lower()을 만났을때\n",
    "\n",
    "'''\n",
    "1. if 와 elif의 관계: elif의 경우 if가 실행되지 않는 경우에만 실행된다. 즉 if가 실행되면 해당 조건문은 elif를 검토하지도 않고 종료된다.\n",
    "\n",
    "2. 숫자 형태의 string이 upper() 혹은 lower()를 만났을때는 아무런 변화가 없다. (같은 박스 하단 예시 참고)\n",
    "'''\n",
    "print ('2'.lower() == '2'.upper())     # 숫자 형태의 string인 경우 소문자, 대문자 구분이 없기에 형태가 변하지 않음."
   ]
  },
  {
   "cell_type": "code",
   "execution_count": 3,
   "metadata": {},
   "outputs": [
    {
     "name": "stdout",
     "output_type": "stream",
     "text": [
      "qA2\n",
      "element of s is : q\n",
      "element of s is : A\n",
      "element of s is : 2\n",
      "True\n",
      "True\n",
      "True\n",
      "True\n",
      "True\n"
     ]
    }
   ],
   "source": [
    "# 최종 풀이본\n",
    "# if와 elif의 성질과 숫자 형태의 string의 lower과 upper이 구분이 없다는 점을 인식해서 조건문의 순서를 바꿔주었다 >>> 실행 잘됨\n",
    "# 숫자 string의 조건문을 가장 상단에 위치시켰다. (소문자, 대문자 조건문이 상위에 위치하는 경우 숫자 조건문은 elif의 위치에 있기에 실행조차 안됨.)\n",
    "if __name__ == '__main__':\n",
    "    s = input()\n",
    "    c1 = False\n",
    "    c2 = False\n",
    "    c3 = False\n",
    "    c4 = False\n",
    "    c5 = False\n",
    "    for i in range(len(s)):\n",
    "        print (\"element of s is :\", s[i])\n",
    "        if s[i].isdigit():\n",
    "            c3 = True\n",
    "        elif s[i] == s[i].upper():\n",
    "            c5 = True\n",
    "        elif s[i] == s[i].lower():\n",
    "            c4 = True    \n",
    "    if c4 == True or c5 == True:\n",
    "        c2 = True\n",
    "    if c3 == True and c2 == True:\n",
    "        c1 = True\n",
    "    print (c1)\n",
    "    print (c2)\n",
    "    print (c3)\n",
    "    print (c4)\n",
    "    print (c5)"
   ]
  },
  {
   "cell_type": "code",
   "execution_count": null,
   "metadata": {
    "collapsed": true
   },
   "outputs": [],
   "source": [
    "# 원래 실수가 있었떤 조건문.\n",
    "if __name__ == '__main__':\n",
    "    s = input()\n",
    "    c1 = False\n",
    "    c2 = False\n",
    "    c3 = False\n",
    "    c4 = False\n",
    "    c5 = False\n",
    "    for i in range(len(s)):\n",
    "        print (\"element of s is :\", s[i])\n",
    "        if s[i] == s[i].upper():\n",
    "            c5 = True\n",
    "        elif s[i].isdigit():\n",
    "            c3 = True\n",
    "        elif s[i] == s[i].lower():\n",
    "            c4 = True    \n",
    "    if c4 == True or c5 == True:\n",
    "        c2 = True\n",
    "    if c3 == True and c2 == True:\n",
    "        c1 = True\n",
    "    print (c1)\n",
    "    print (c2)\n",
    "    print (c3)\n",
    "    print (c4)\n",
    "    print (c5)"
   ]
  }
 ],
 "metadata": {
  "kernelspec": {
   "display_name": "Python 3",
   "language": "python",
   "name": "python3"
  },
  "language_info": {
   "codemirror_mode": {
    "name": "ipython",
    "version": 3
   },
   "file_extension": ".py",
   "mimetype": "text/x-python",
   "name": "python",
   "nbconvert_exporter": "python",
   "pygments_lexer": "ipython3",
   "version": "3.6.2"
  }
 },
 "nbformat": 4,
 "nbformat_minor": 2
}
