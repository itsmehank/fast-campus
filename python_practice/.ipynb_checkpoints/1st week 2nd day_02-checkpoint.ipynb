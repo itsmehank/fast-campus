{
 "cells": [
  {
   "cell_type": "code",
   "execution_count": 1,
   "metadata": {},
   "outputs": [
    {
     "name": "stdout",
     "output_type": "stream",
     "text": [
      "1\n",
      "2\n",
      "3\n",
      "4\n",
      "5\n",
      "6\n",
      "7\n",
      "8\n",
      "9\n",
      "10\n"
     ]
    }
   ],
   "source": [
    "for i in range(1,10+1):\n",
    "    print (i)"
   ]
  },
  {
   "cell_type": "code",
   "execution_count": 8,
   "metadata": {},
   "outputs": [
    {
     "name": "stdout",
     "output_type": "stream",
     "text": [
      "55\n"
     ]
    }
   ],
   "source": [
    "sum = 0 \n",
    "for i in range(1,10+1):\n",
    "    sum += i\n",
    "print (sum)"
   ]
  },
  {
   "cell_type": "code",
   "execution_count": 9,
   "metadata": {},
   "outputs": [
    {
     "name": "stdout",
     "output_type": "stream",
     "text": [
      "range(1, 11)\n"
     ]
    }
   ],
   "source": [
    "print (range(1,11))"
   ]
  },
  {
   "cell_type": "code",
   "execution_count": 13,
   "metadata": {},
   "outputs": [
    {
     "name": "stdout",
     "output_type": "stream",
     "text": [
      "What's your name?why\n",
      "hello, why.\n",
      "What's your name?why\n",
      "hello, why.\n",
      "What's your name?why are you asking?\n",
      "hello, why are you asking?.\n",
      "What's your name?hummm\n",
      "hello, hummm.\n",
      "What's your name?hold a second\n",
      "hello, hold a second.\n",
      "What's your name?i have something for you\n",
      "hello, i have something for you.\n",
      "What's your name?pang pang\n",
      "hello, pang pang.\n",
      "What's your name?break\n",
      "hello, break.\n"
     ]
    }
   ],
   "source": [
    "name =''\n",
    "while name != 'break':\n",
    "    name = input(\"What's your name?\")\n",
    "    print ('hello, ' + name + '.')"
   ]
  },
  {
   "cell_type": "code",
   "execution_count": 38,
   "metadata": {},
   "outputs": [
    {
     "name": "stdout",
     "output_type": "stream",
     "text": [
      "1\n",
      "2\n",
      "Fizz\n",
      "4\n",
      "Buzz\n",
      "Fizz\n",
      "7\n",
      "8\n",
      "Fizz\n",
      "Buzz\n",
      "11\n",
      "Fizz\n",
      "13\n",
      "14\n",
      "FizzBuzz\n",
      "16\n",
      "17\n",
      "Fizz\n",
      "19\n",
      "Buzz\n",
      "Fizz\n",
      "22\n",
      "23\n",
      "Fizz\n",
      "Buzz\n",
      "26\n",
      "Fizz\n",
      "28\n",
      "29\n",
      "FizzBuzz\n",
      "31\n",
      "32\n",
      "Fizz\n",
      "34\n",
      "Buzz\n",
      "Fizz\n",
      "37\n",
      "38\n",
      "Fizz\n",
      "Buzz\n",
      "41\n",
      "Fizz\n",
      "43\n",
      "44\n",
      "FizzBuzz\n",
      "46\n",
      "47\n",
      "Fizz\n",
      "49\n",
      "Buzz\n",
      "Fizz\n",
      "52\n",
      "53\n",
      "Fizz\n",
      "Buzz\n",
      "56\n",
      "Fizz\n",
      "58\n",
      "59\n",
      "FizzBuzz\n",
      "61\n",
      "62\n",
      "Fizz\n",
      "64\n",
      "Buzz\n",
      "Fizz\n",
      "67\n",
      "68\n",
      "Fizz\n",
      "Buzz\n",
      "71\n",
      "Fizz\n",
      "73\n",
      "74\n",
      "FizzBuzz\n",
      "76\n",
      "77\n",
      "Fizz\n",
      "79\n",
      "Buzz\n",
      "Fizz\n",
      "82\n",
      "83\n",
      "Fizz\n",
      "Buzz\n",
      "86\n",
      "Fizz\n",
      "88\n",
      "89\n",
      "FizzBuzz\n",
      "91\n",
      "92\n",
      "Fizz\n",
      "94\n",
      "Buzz\n",
      "Fizz\n",
      "97\n",
      "98\n",
      "Fizz\n",
      "Buzz\n"
     ]
    }
   ],
   "source": [
    "for i in range(1,101):\n",
    "    if i%15 == 0:    #가장 상위의 조건(3과 5가 동시에 만족하는 경우)\n",
    "        print ('FizzBuzz')\n",
    "    elif i%5. == 0:\n",
    "        print ('Buzz')\n",
    "    elif i%3. == 0:   # 3의 배수가 더 많기 때문에 3의 elif 조건문을 먼저 써주는게 좋다.\n",
    "        print ('Fizz')\n",
    "    else:\n",
    "        print (i)\n"
   ]
  },
  {
   "cell_type": "code",
   "execution_count": 47,
   "metadata": {},
   "outputs": [
    {
     "ename": "SyntaxError",
     "evalue": "invalid syntax (<ipython-input-47-f55595830646>, line 11)",
     "output_type": "error",
     "traceback": [
      "\u001b[1;36m  File \u001b[1;32m\"<ipython-input-47-f55595830646>\"\u001b[1;36m, line \u001b[1;32m11\u001b[0m\n\u001b[1;33m    choice = random.randrange(<number>)   # 해당 0부터 (숫자-1)에서 랜덤으로 하나를 뽑는것. 즉 0,1,2 사이로 나타남.\u001b[0m\n\u001b[1;37m                              ^\u001b[0m\n\u001b[1;31mSyntaxError\u001b[0m\u001b[1;31m:\u001b[0m invalid syntax\n"
     ]
    }
   ],
   "source": [
    "import random\n",
    "\n",
    "\n",
    "stay = 0\n",
    "switch = 0\n",
    "for i in range(1000):\n",
    "    doors = [1,0,0]   #1 is car, 0 is goat.\n",
    "    random.shuffle(doors) # 해당 list를 섞어주는 함수.\n",
    "\n",
    "    #게스트의 첫번째 선택\n",
    "    choice = random.randrange(<number>)   # 해당 0부터 (숫자-1)에서 랜덤으로 하나를 뽑는것. 즉 0,1,2 사이로 나타남. \n",
    "                                          # 0,0,1 이 아니어도 되는 이유는 1이 아닌 숫자는 다 똑같기 때문. \n",
    "\n",
    "    # 처음에 골랐던 것이 1일 확률만 구하면 됨. \n",
    "    # 무엇을 선택하든 하나의 문을 열어 염소를 보여줌. \n",
    "    # 따라서 차를 선택할 확률은 \n",
    "    if choice == 1:\n",
    "        stay += 1\n",
    "    else:\n",
    "        switch += 1"
   ]
  },
  {
   "cell_type": "code",
   "execution_count": 52,
   "metadata": {},
   "outputs": [
    {
     "name": "stdout",
     "output_type": "stream",
     "text": [
      "324\n",
      "676\n"
     ]
    }
   ],
   "source": [
    "import random\n",
    "\n",
    "\n",
    "stay = 0\n",
    "switch = 0\n",
    "for i in range(1000):\n",
    "    doors = [1,0,0]\n",
    "    random.shuffle(doors)\n",
    "    choice = random.randrange(3)\n",
    "    if choice == 1:\n",
    "        stay += 1\n",
    "    else:\n",
    "        switch += 1    \n",
    "\n",
    "print (stay)\n",
    "print (switch)\n"
   ]
  },
  {
   "cell_type": "code",
   "execution_count": null,
   "metadata": {
    "collapsed": true
   },
   "outputs": [],
   "source": []
  },
  {
   "cell_type": "code",
   "execution_count": null,
   "metadata": {
    "collapsed": true
   },
   "outputs": [],
   "source": []
  },
  {
   "cell_type": "code",
   "execution_count": null,
   "metadata": {
    "collapsed": true
   },
   "outputs": [],
   "source": []
  }
 ],
 "metadata": {
  "kernelspec": {
   "display_name": "Python 3",
   "language": "python",
   "name": "python3"
  },
  "language_info": {
   "codemirror_mode": {
    "name": "ipython",
    "version": 3
   },
   "file_extension": ".py",
   "mimetype": "text/x-python",
   "name": "python",
   "nbconvert_exporter": "python",
   "pygments_lexer": "ipython3",
   "version": "3.6.2"
  }
 },
 "nbformat": 4,
 "nbformat_minor": 2
}
