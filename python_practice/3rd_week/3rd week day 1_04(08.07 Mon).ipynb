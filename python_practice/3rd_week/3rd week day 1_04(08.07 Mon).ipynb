{
 "cells": [
  {
   "cell_type": "code",
   "execution_count": 1,
   "metadata": {
    "collapsed": true
   },
   "outputs": [],
   "source": [
    "# 마지막 시간(5시~)"
   ]
  },
  {
   "cell_type": "code",
   "execution_count": 2,
   "metadata": {
    "collapsed": true
   },
   "outputs": [],
   "source": [
    "# 파이썬은 패러다임을 알고 쓰지 않으면 혼란스러워짐\n",
    "# 이것도 되고 저것도 되기 때문에>> 쓰이는 방식을 통일한 패러다임을 잘 알아야 한다."
   ]
  },
  {
   "cell_type": "code",
   "execution_count": 4,
   "metadata": {
    "collapsed": true
   },
   "outputs": [],
   "source": [
    "\n",
    "class Account:   \n",
    "    \n",
    "    #class member: 모든 객체가 공유하는 데이터!! class의 변수로 넣어줌.\n",
    "    \n",
    "    interest_rate = 7.0\n",
    "    account_name ='Good Life'\n",
    "    acccount_type = 'demanding deposit'  #참고: 요구불계좌 의미함(넣다 뺐다 자유로운 계좌)\n",
    "    \n",
    "    # 위의 class member로 정의된 정보는 모든 객체에 적용되는 정보임.\n",
    "    \n",
    "    \n",
    "    #class method\n",
    "    \n",
    "    @classmethod\n",
    "    def get_account_info(cls):     #cls는 자동으로 class인 Account를 받음\n",
    "        return cls.interest_rate, cls.account_name, cls.acccount_type\n",
    "    \n",
    "    \n",
    "    '''\n",
    "    클레스 맴버와 클레스 매서드가 나온 이유 >> 전역변수를 대체\n",
    "    \n",
    "    # 중요한 사실!! \n",
    "    # 클레스 매서드는 객체가 호출 되기 전에도 사용 가능\n",
    "    # 즉, Account라는 class를 만들고 나서 객체를 하나도 안만든 상황에서도 >\n",
    "    # Account.interest_rate를 출력할수 있다. (값> 7.0)\n",
    "    \n",
    "    # 즉 전역 변수를 대체할 수 있다.\n",
    "    \n",
    "    # 함수역시 같음\n",
    "    # Account.get_account_info() 를 통해 정보 얻을 수 있음\n",
    "    \n",
    "    # 둘다 class이름으로 호출하는 형태임\n",
    "    \n",
    "    \n",
    "    \n",
    "    #추가로 객체 형성 이후 객체를 통해서도 클레스 맴버와 매서드 모두 접근가능\n",
    "    \n",
    "    # 예를들어\n",
    "    my_account.get_account_info() >> 가능 ///// my_account.interest_rate >> 가능\n",
    "    '''\n",
    "    \n",
    "    \n",
    "    \n",
    "    def __init__(self, name, money): \n",
    "        \n",
    "        self.user = name  \n",
    "        self.balance = money\n",
    "        \n",
    "\n",
    "    def __del__(self):\n",
    "        print(\"Account object deleted\")\n",
    "    \n",
    "    def deposit(self, money):  \n",
    "        if money <= 0:\n",
    "            return None\n",
    "        else:\n",
    "            self.balance += money\n",
    "            return self.balance\n",
    "    \n",
    "    \n",
    "    def withdraw(self, money):\n",
    "        '''\n",
    "        obj.withdraw(self, money)--> bool #객체의 함수임을 나타내기 위해 obj 붙여줌\n",
    "        '''\n",
    "        if money <= self.balance:\n",
    "            self.balance -= money\n",
    "            return True,money\n",
    "        else:\n",
    "            return False\n",
    "        \n",
    "        \n",
    "    def transfer(self, other, money):\n",
    "        res = self.withdraw(money)    \n",
    "        if res:  \n",
    "            other.deposit(money)\n",
    "            return True\n",
    "        else:\n",
    "            return False\n",
    "        \n",
    "        \n",
    "    def __str__(self):\n",
    "        return '{},{}'.format(self.user, self.balance)  \n",
    "            \n",
    "        \n",
    "\n",
    "my_account = Account('hank',5000) \n",
    "your_account = Account('song', 10000)\n"
   ]
  },
  {
   "cell_type": "code",
   "execution_count": 5,
   "metadata": {},
   "outputs": [
    {
     "data": {
      "text/plain": [
       "'\\nAccount.deposit(my_account,2000)\\n'"
      ]
     },
     "execution_count": 5,
     "metadata": {},
     "output_type": "execute_result"
    }
   ],
   "source": [
    "# 객체의 메서드를 호출 할때\n",
    "# 객체.함수이름() >> 일반적인 형태\n",
    "'''\n",
    "my_account.deposit(6000)\n",
    "'''\n",
    "# 쓰이지는 않는데 가능한 것\n",
    "'''\n",
    "Account.deposit(my_account,2000)\n",
    "'''"
   ]
  },
  {
   "cell_type": "code",
   "execution_count": 6,
   "metadata": {},
   "outputs": [
    {
     "data": {
      "text/plain": [
       "method"
      ]
     },
     "execution_count": 6,
     "metadata": {},
     "output_type": "execute_result"
    }
   ],
   "source": [
    "type(my_account.deposit) #method 타입 >> 객체안에 있는 함수는 매서드"
   ]
  },
  {
   "cell_type": "code",
   "execution_count": 7,
   "metadata": {},
   "outputs": [
    {
     "data": {
      "text/plain": [
       "function"
      ]
     },
     "execution_count": 7,
     "metadata": {},
     "output_type": "execute_result"
    }
   ],
   "source": [
    "type(Account.deposit)  # 함수타입"
   ]
  },
  {
   "cell_type": "code",
   "execution_count": 8,
   "metadata": {},
   "outputs": [
    {
     "data": {
      "text/plain": [
       "['__call__',\n",
       " '__class__',\n",
       " '__delattr__',\n",
       " '__dir__',\n",
       " '__doc__',\n",
       " '__eq__',\n",
       " '__format__',\n",
       " '__func__',\n",
       " '__ge__',\n",
       " '__get__',\n",
       " '__getattribute__',\n",
       " '__gt__',\n",
       " '__hash__',\n",
       " '__init__',\n",
       " '__init_subclass__',\n",
       " '__le__',\n",
       " '__lt__',\n",
       " '__ne__',\n",
       " '__new__',\n",
       " '__reduce__',\n",
       " '__reduce_ex__',\n",
       " '__repr__',\n",
       " '__self__',\n",
       " '__setattr__',\n",
       " '__sizeof__',\n",
       " '__str__',\n",
       " '__subclasshook__']"
      ]
     },
     "execution_count": 8,
     "metadata": {},
     "output_type": "execute_result"
    }
   ],
   "source": [
    "dir(my_account.deposit) # function이라는 얘와 self라는 얘가 있음"
   ]
  },
  {
   "cell_type": "code",
   "execution_count": 9,
   "metadata": {
    "collapsed": true
   },
   "outputs": [],
   "source": [
    "# 매서드에는 __function__이랑 __self__가 들어있음 "
   ]
  },
  {
   "cell_type": "code",
   "execution_count": 10,
   "metadata": {},
   "outputs": [
    {
     "data": {
      "text/plain": [
       "True"
      ]
     },
     "execution_count": 10,
     "metadata": {},
     "output_type": "execute_result"
    }
   ],
   "source": [
    "my_account.deposit.__func__ is Account.deposit"
   ]
  },
  {
   "cell_type": "code",
   "execution_count": 11,
   "metadata": {},
   "outputs": [
    {
     "data": {
      "text/plain": [
       "True"
      ]
     },
     "execution_count": 11,
     "metadata": {},
     "output_type": "execute_result"
    }
   ],
   "source": [
    "my_account.deposit.__self__ is my_account"
   ]
  },
  {
   "cell_type": "code",
   "execution_count": 12,
   "metadata": {},
   "outputs": [
    {
     "data": {
      "text/plain": [
       "'즉 매서드는 함수와 객체가 이미 내부정보로 존재하는 것이다. \\n(==매서드는 함수정보와 객체정보를 가지고 있다.)'"
      ]
     },
     "execution_count": 12,
     "metadata": {},
     "output_type": "execute_result"
    }
   ],
   "source": [
    "# 두개의 의미\n",
    "# 객체.함수이름의 형태로 호출 할때. 매서드의 func에 함수가 담겨져 있고\n",
    "# 해당 매서드의 self에 객체 스스로가 포함되어 있다.(알아서 자신을 self에 insert 한다)\n",
    "\n",
    "'''즉 매서드는 함수와 객체가 이미 내부정보로 존재하는 것이다. \n",
    "(==매서드는 함수정보와 객체정보를 가지고 있다.)'''"
   ]
  },
  {
   "cell_type": "code",
   "execution_count": 13,
   "metadata": {
    "collapsed": true
   },
   "outputs": [],
   "source": [
    "# self는 객체를 의미 >> 클레스를 통해 찍어낸 실제 객체\n",
    "# 클레스라는 것도 객체. 그렇다면 클레스도 변수를 가질 수 있다\n",
    "# class member라고 부름\n",
    "# 위에 식에 추가함(이자율)\n",
    "\n",
    "# 그렇다면!!!\n",
    "# 클레스 매서드도 있을것(객체에 모두 적용되는.)"
   ]
  },
  {
   "cell_type": "code",
   "execution_count": 14,
   "metadata": {
    "collapsed": true
   },
   "outputs": [],
   "source": [
    "# 클레스 맴버 >> 모든 객체가 공유\n",
    "# 클레스 매서드 >> 객체 생성 전에도 호출할 수 있다. & 전역 함수 대체하기위해 사용함\n",
    "\n",
    "# instance method호출에서 보통 객체를 통해 접근하는 방식을 사용\n",
    "# 객체를 통해 접근하는 경우 알아서 객체를 self 자리에 넣어주기에 따로 입력하지 않는다.\n",
    "# 클레스로 접근하는 경우 반드시 객체를 넣어 줘야 그 객체가 self를 대체해서 사용됨"
   ]
  },
  {
   "cell_type": "code",
   "execution_count": 15,
   "metadata": {
    "collapsed": true
   },
   "outputs": [],
   "source": [
    "# 클레스 맴버나 매서드를 호출할때 역시 객체 혹은 클레스로 접근할 수 있다.\n"
   ]
  },
  {
   "cell_type": "code",
   "execution_count": 16,
   "metadata": {
    "collapsed": true
   },
   "outputs": [],
   "source": [
    "#  예제를 통해 지금까지 배운 내용 학습하기"
   ]
  },
  {
   "cell_type": "code",
   "execution_count": 18,
   "metadata": {},
   "outputs": [],
   "source": [
    "# class 만들기\n",
    "\n",
    "# person 이란 class 만들기\n",
    "\n",
    "class Person:\n",
    "    # 사람이 공통적으로 공유할 수 있는 특성이 있다면 >> class member로 만들 수 있다. \n",
    "    \n",
    "    planet = 'Earth'\n",
    "    \n",
    "    \n",
    "    \n",
    "    def __init__(self,name, age):\n",
    "        # 이름이랑 나이는 instance member\n",
    "        self.name = name\n",
    "        self.age = age\n",
    "    '''\n",
    "    def func(self):\n",
    "        self.a = 10    #새로운 instance member를 다른 함수에서 만들 수 있는데 이렇게 하면 안됨\n",
    "        # init 라는 함수는 맴버 초기화의 의미. 따라서 필요한 맴버 혹은 아직은 필요 없지만 나중에 쓰이는 맴버는 모두 inti에서 설정해주자.\n",
    "    '''\n",
    "\n",
    "    def __del__(self):\n",
    "        pass\n",
    "    \n",
    "    # instance method: 객체가 가지는 기능과 행동을 의미한다. (사람의 경우에는 행동이겠고 기계이면 기능일것)\n",
    "    def eat(self,food):\n",
    "        print ('{} eats {}'.format(self.name, food))\n",
    "        \n",
    "    def sleep(self, hour):\n",
    "        pass\n",
    "    \n",
    "    "
   ]
  },
  {
   "cell_type": "code",
   "execution_count": 37,
   "metadata": {},
   "outputs": [],
   "source": [
    "# 컴퓨터에 대한 클레스 설계하기\n",
    "# 구성요소와 동작을 생각해서\n",
    "# 최소한 3개의 맴버와 3개의 매서드로 설계하기\n",
    "# self.data, cpu, ram\n",
    "# browse, data receiver(받음), data sender(줌)\n",
    "# 메시지 파싱 : 다른 컴퓨터에게 내 정보를 전송하는 것 >> 만들어 보기\n",
    "\n",
    "class Computer:\n",
    "    \n",
    "    def __init__(self,cpu,ram):\n",
    "        self.cpu = cpu\n",
    "        self.ram = ram\n",
    "        self.send_data = None   \n",
    "        self.receive_data= None\n",
    "        \n",
    "    def __del__(self):\n",
    "        pass\n",
    "        \n",
    "    def get_data(self,data):\n",
    "        s= input(\"string: \")\n",
    "        self.send_data = s\n",
    "        \n",
    "    def receiver(self, data):\n",
    "        self.receive_data += data\n",
    "        return True\n",
    "    \n",
    "    def sender(self, other, data):\n",
    "        self.send_data - data\n",
    "        other.receiver(data)\n",
    "        \n",
    "    '''정답\n",
    "    def message_sender(self, other):\n",
    "        if not self.send_data:\n",
    "            return False\n",
    "        else:\n",
    "             res = other.message_receiver(self)    #함수를 호출해야한다.\n",
    "             self.send_data = None\n",
    "             return res\n",
    "           \n",
    "    def get_send_data(self):\n",
    "        return self.senf_data\n",
    "           \n",
    "    def message_receiver(self, other):\n",
    "        if self.receive_data:\n",
    "            return False   #받는 공간에 정보가 차있으면 받을 수 없음(공간x)\n",
    "        else:\n",
    "            (other.send_data 이런 식으로 접근하면 안됨 >> 함수를 통해 접근해야함)\n",
    "            self.receive_data = other.get_send_date()\n",
    "            if self.receive_data:\n",
    "                return True\n",
    "            else:\n",
    "                return False\n",
    "    def get_receive_data(self):\n",
    "        return self.receive_data\n",
    "        \n",
    "    def __str__(self):\n",
    "        if not self.receive_data:\n",
    "            return \"No data\"\n",
    "        else:\n",
    "            return self.receive_data\n",
    "            \n",
    "            \n",
    "    '''\n",
    "        \n",
    "        \n",
    "        \n",
    "        \n",
    "my_com = Computer('i5', '4G')    \n",
    "your_com = Computer('i3', '16G')"
   ]
  },
  {
   "cell_type": "code",
   "execution_count": 38,
   "metadata": {},
   "outputs": [
    {
     "name": "stdout",
     "output_type": "stream",
     "text": [
      "string: 'xxx'\n"
     ]
    }
   ],
   "source": [
    "my_com.get_data('file xxx')"
   ]
  },
  {
   "cell_type": "code",
   "execution_count": 65,
   "metadata": {},
   "outputs": [],
   "source": [
    "class Computer2:\n",
    "    \n",
    "    def __init__(self,cpu,ram):\n",
    "        self.cpu = cpu\n",
    "        self.ram = ram\n",
    "        self.send_data = None   \n",
    "        self.receive_data= None\n",
    "        \n",
    "    def get_data_from_user(self):    #컴퓨터에 데이터 입력\n",
    "        s= input(\"string: \")\n",
    "        self.send_data = s    \n",
    "\n",
    "    def message_sender(self, other):   #메세지를 보낸다. 1. 보낼 메세지함이 비어있지 않은지 2.받는 함수 호출해줌 & 보낸 메세지함 비우기\n",
    "        if not self.send_data:\n",
    "            return False\n",
    "        else:\n",
    "            res = other.message_receiver(self)#함수를 호출해야한다.\n",
    "            self.send_data = None\n",
    "            return res\n",
    "           \n",
    "    def get_send_data(self):\n",
    "        return self.send_data\n",
    "           \n",
    "    def message_receiver(self, other):  #메세지를 받는다 1. 받는 메세지함이 차있지는 않은지. 2.받는 데이터함에 받은 데이터 채워줌(함수로)\n",
    "        if self.receive_data:\n",
    "            return False   #받는 공간에 정보가 차있으면 받을 수 없음(공간x)\n",
    "        else:\n",
    "            #(other.send_data 이런 식으로 접근하면 안됨 >> 함수를 통해 접근해야함)\n",
    "            self.receive_data = other.get_send_data()\n",
    "            if self.receive_data:\n",
    "                return True\n",
    "            else:\n",
    "                return False\n",
    "    def get_receive_data(self):\n",
    "        return self.receive_data\n",
    "        \n",
    "    def __str__(self):\n",
    "        if not self.receive_data:\n",
    "            return \"No data\"\n",
    "        else:\n",
    "            return self.receive_data\n",
    "            "
   ]
  },
  {
   "cell_type": "code",
   "execution_count": 66,
   "metadata": {
    "collapsed": true
   },
   "outputs": [],
   "source": [
    "c1 = Computer2('intel', 16)\n",
    "c2 = Computer2('AMD', 4)"
   ]
  },
  {
   "cell_type": "code",
   "execution_count": 67,
   "metadata": {},
   "outputs": [
    {
     "name": "stdout",
     "output_type": "stream",
     "text": [
      "string: \n"
     ]
    }
   ],
   "source": [
    "c1.get_data_from_user()"
   ]
  },
  {
   "cell_type": "code",
   "execution_count": 68,
   "metadata": {},
   "outputs": [
    {
     "data": {
      "text/plain": [
       "False"
      ]
     },
     "execution_count": 68,
     "metadata": {},
     "output_type": "execute_result"
    }
   ],
   "source": [
    "c1.message_sender(c2) "
   ]
  },
  {
   "cell_type": "code",
   "execution_count": 69,
   "metadata": {},
   "outputs": [
    {
     "name": "stdout",
     "output_type": "stream",
     "text": [
      "No data\n"
     ]
    }
   ],
   "source": [
    "print(c2)"
   ]
  },
  {
   "cell_type": "code",
   "execution_count": null,
   "metadata": {
    "collapsed": true
   },
   "outputs": [],
   "source": []
  }
 ],
 "metadata": {
  "kernelspec": {
   "display_name": "Python 3",
   "language": "python",
   "name": "python3"
  },
  "language_info": {
   "codemirror_mode": {
    "name": "ipython",
    "version": 3
   },
   "file_extension": ".py",
   "mimetype": "text/x-python",
   "name": "python",
   "nbconvert_exporter": "python",
   "pygments_lexer": "ipython3",
   "version": "3.6.2"
  }
 },
 "nbformat": 4,
 "nbformat_minor": 2
}
