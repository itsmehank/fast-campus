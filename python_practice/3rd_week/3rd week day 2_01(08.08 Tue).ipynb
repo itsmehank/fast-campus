{
 "cells": [
  {
   "cell_type": "code",
   "execution_count": 1,
   "metadata": {
    "collapsed": true
   },
   "outputs": [],
   "source": [
    "# 오늘부터는 강의 제공 안됨>> 녹음파일 참고\n",
    "\n",
    "# 첫번째 녹음 파일 ~\n",
    "\n",
    "# computer.ipyn 파일 관련 >> 밑의 수정내용 반영한 파일 업로드 되어 있음\n",
    "    \n",
    "# 전시간의  senddata 는 출력버퍼(buffer), receivedata는 입력버퍼(buffer)\n",
    "# 그 위에 메인메모리인 mem 만들어줌 >>> mem = []    >> 받은 데이터는 여기에 넣어줌. "
   ]
  },
  {
   "cell_type": "code",
   "execution_count": 2,
   "metadata": {},
   "outputs": [
    {
     "data": {
      "text/plain": [
       "'절차지향적 프로그래밍은 프로그램의 각각의 부분이 무슨 기능을 하는지 보여주는데 초점이 맞춰져 있다면,, 객체지향적 프로그래밍은 \\n실제 세계의 객체를 어떻게 구현하는가에 초점이 맞춰져 있다'"
      ]
     },
     "execution_count": 2,
     "metadata": {},
     "output_type": "execute_result"
    }
   ],
   "source": [
    "# 절차지향의 장점: 이 프로그램이 무엇을 하는가를 볼 수 있다\n",
    "\n",
    "# 객체지향이 추구하는 것: 실제 세계에 존재하는 여러 객체의 특성과 행동을 뽑아서 프로그램에 구현함(이를 모델링이라고 함)\n",
    "\n",
    "# 현실에 있는 모든 객체를 표현하는 방법이 객체 지향의 가장 큰 쟁점. \n",
    "\n",
    "# 객체 지향의 ....\n",
    "# 1. 멤버 \n",
    "# 멤버 결정에 중요한 포인트: 무엇이 이 객체를 다르게 하는가?(이를 기준으로 맴버 결정)\n",
    "\n",
    "# 2. 매서드\n",
    "# 매서드 결정에 중요한 포인트: 이 객체는 무엇을 하는가? 그리고 이것을 이용하면 무엇을 할 수 있는가?\n",
    "\n",
    "'''절차지향적 프로그래밍은 프로그램의 각각의 부분이 무슨 기능을 하는지 보여주는데 초점이 맞춰져 있다면,, 객체지향적 프로그래밍은 \n",
    "실제 세계의 객체를 어떻게 구현하는가에 초점이 맞춰져 있다'''\n",
    "\n",
    "# encapsulation(캡슐화) >> 관련있는 변수와 매서드를 클래스로 묶는것.(행위)\n",
    "# 캡슐화할때 중요한점: 특정 맴버와 매서드를 사용자에게 보여줄지 말지 결정을 해야함.\n",
    "# 클래스 내부에서만 작동하도록 만든 맴버와 매서드를 [정보 은닉]이라고 부름(반대로 사용자에게 공개한 것은 [퍼블릭]이라고 함)\n",
    "# 캡슐화는 정보은닉을 포함한 개념.\n",
    "\n",
    "# 정보 은닉(information hiding)\n",
    "# 맴버와 매서드를 이용해 정보에 직접적으로 접근하는 것을 제한하는것\n",
    "# 사용자로부터 맴버와 매서드를 숨김\n",
    "# 숨겨진 맴버에는 access function을 통해 접근가능\n",
    "# 파이썬은 정보 은닉이 안됨 >> 정보 은닉이 되는 것처럼 보이지만 실상은 정보 은닉이 아님(예시 통해 보여줄것)\n",
    "\n",
    "'''\n",
    "c 언어에서는 class안에\n",
    "private과 public으로 접근 가능한 부분과 아닌 부분을 나눈다\n",
    "'''"
   ]
  },
  {
   "cell_type": "code",
   "execution_count": 46,
   "metadata": {
    "collapsed": true
   },
   "outputs": [],
   "source": [
    "# 정보 은닉 예시\n",
    "\n",
    "class Base:\n",
    "    \n",
    "    def __init__(self, n1, n2):\n",
    "        self.x = n1      # x는 instance member로 설정됨\n",
    "        self.__y = n2    #__<member name>으로 설정하면 해당 값을 정보은닉과 같은 효과\n",
    "                         # 이렇게 설정하면 해당 변수 이름을 파이썬 내부에서 바꿈(_Base__y로 바꿈)\n",
    "                        # 파이썬은 원천적으로 정보 은닉이 안됨. 그러나 맴버 앞에 언더바*2를 붙임으로서\n",
    "                        # 해당 정보의 이름을 바꿔서 저장함.(해당 맴버는 내부적으로만 사용하겠다는 의미)\n",
    "                        # 사용자에게 접근을 하지 말아달라고 부탁하는것. \n",
    "                        # 이건 정보 은닉이 아니기에 바뀐 이름으로 접근하면 접근이 가능함\n",
    "                        \n",
    "    # 외부에 공개                    \n",
    "    def f(self):\n",
    "        print('f is executed')\n",
    "        \n",
    "    # 내부에서만 사용    \n",
    "    def __g(self):                 # __<method>: 함수의 이름을 변경해 내부용도로 지정. 그러나 바뀐 이름을 입력하면 실행되긴 됨. \n",
    "        print('__g is executed')"
   ]
  },
  {
   "cell_type": "code",
   "execution_count": 63,
   "metadata": {},
   "outputs": [],
   "source": [
    "class Example:\n",
    "    \n",
    "    def __init__(self,n1,n2):\n",
    "        self.x = n1\n",
    "        self.__y = n2\n",
    "    \n",
    "    # 숨겨진 맴버에 접근하는 함수를 액세스 함수라고 한다.    \n",
    "    def get_y(self):\n",
    "        return self.__y\n",
    "\n",
    "    def set_y(self, data):\n",
    "        self.__y = data\n",
    "        return self.__y\n",
    "    \n",
    "    def __str__(self):\n",
    "        return '{}'.format(self.__y)\n",
    "\n",
    "        "
   ]
  },
  {
   "cell_type": "code",
   "execution_count": 64,
   "metadata": {},
   "outputs": [],
   "source": [
    "a = Example(5,6)"
   ]
  },
  {
   "cell_type": "code",
   "execution_count": 65,
   "metadata": {},
   "outputs": [
    {
     "name": "stdout",
     "output_type": "stream",
     "text": [
      "<bound method Example.get_y of <__main__.Example object at 0x00930190>>\n"
     ]
    }
   ],
   "source": [
    "print(a.get_y)"
   ]
  },
  {
   "cell_type": "code",
   "execution_count": 50,
   "metadata": {
    "collapsed": true
   },
   "outputs": [],
   "source": [
    "# 객체 vs 인스턴스\n",
    "\n",
    "# 1. 둘다 같은 메모리 공간을 가리킴\n",
    "# 2. 객체는 클래스로인해 생긴 그 자체를 가리킴(클레스 없이 설명할때.)\n",
    "# 3. 인스턴스는 객체를 클레스를 이용해 설명할 때 사용하는 용어\n",
    "# 예시. 객체 a\n",
    "# 예시. 객체 a는 클레스의 인스턴스다.(Example이란 클레스의 인스턴스)"
   ]
  },
  {
   "cell_type": "code",
   "execution_count": 52,
   "metadata": {
    "collapsed": true
   },
   "outputs": [],
   "source": [
    "class Base:\n",
    "    a = 10\n",
    "    b = 20\n",
    "    def __init__(self, x, y):\n",
    "        self.x = x\n",
    "        self.y = y\n",
    "        \n",
    "    def show_member(self):\n",
    "        print (a,b)\n",
    "    \n",
    "    def f(self):\n",
    "        print('f')"
   ]
  },
  {
   "cell_type": "code",
   "execution_count": 53,
   "metadata": {},
   "outputs": [
    {
     "data": {
      "text/plain": [
       "mappingproxy({'__dict__': <attribute '__dict__' of 'Base' objects>,\n",
       "              '__doc__': None,\n",
       "              '__init__': <function __main__.Base.__init__>,\n",
       "              '__module__': '__main__',\n",
       "              '__weakref__': <attribute '__weakref__' of 'Base' objects>,\n",
       "              'a': 10,\n",
       "              'b': 20,\n",
       "              'f': <function __main__.Base.f>,\n",
       "              'show_member': <function __main__.Base.show_member>})"
      ]
     },
     "execution_count": 53,
     "metadata": {},
     "output_type": "execute_result"
    }
   ],
   "source": [
    "# Base라는 클레스의 name space(네임스페이스)를 보여줌\n",
    "# 클레스의 맴버와  함수의 이름들이 있을 것(인스턴스의 맴버들은 없을 것(x,y)))\n",
    "Base.__dict__"
   ]
  },
  {
   "cell_type": "code",
   "execution_count": 54,
   "metadata": {
    "collapsed": true
   },
   "outputs": [],
   "source": [
    "# 클레스 네임스페이스에는 클레스 맴버와 매서드들이 들어있다."
   ]
  },
  {
   "cell_type": "code",
   "execution_count": 55,
   "metadata": {
    "collapsed": true
   },
   "outputs": [],
   "source": [
    "# 인스턴스 만들기\n",
    "\n",
    "b = Base(1,2)"
   ]
  },
  {
   "cell_type": "code",
   "execution_count": 58,
   "metadata": {},
   "outputs": [
    {
     "data": {
      "text/plain": [
       "{'x': 1, 'y': 2}"
      ]
     },
     "execution_count": 58,
     "metadata": {},
     "output_type": "execute_result"
    }
   ],
   "source": [
    "b.__dict__   #인스턴스init의 맴버들이 출력됨\n",
    "             # b는 x와 y라는 인스턴스 맴버들만 가지고 있을 뿐, 함수들은 없다\n",
    "             # 함수를 사용할 때는 클레스의 name space에 접근해서 함수를 실행한다(python tutor 참고"
   ]
  },
  {
   "cell_type": "code",
   "execution_count": 59,
   "metadata": {
    "collapsed": true
   },
   "outputs": [],
   "source": [
    "# 네임스페이스 : 변수와 함수가 저장되어 있는 공간\n",
    "# 모든 객체는 네임스페이스를 가지고 있다."
   ]
  },
  {
   "cell_type": "code",
   "execution_count": 60,
   "metadata": {
    "collapsed": true
   },
   "outputs": [],
   "source": [
    "def func(x):\n",
    "    return x"
   ]
  },
  {
   "cell_type": "code",
   "execution_count": 61,
   "metadata": {
    "collapsed": true
   },
   "outputs": [],
   "source": [
    "func.a = 10\n",
    "func.b = 20      \n",
    "# 함수 역시 객체이기에 함수도 네임스페이스를 가지고 있다.\n",
    "# 따라서 함수내부에 변수들을 저장할 수 도 있다.(쓰이진 않겠지만)"
   ]
  },
  {
   "cell_type": "code",
   "execution_count": 62,
   "metadata": {},
   "outputs": [
    {
     "data": {
      "text/plain": [
       "{'a': 10, 'b': 20}"
      ]
     },
     "execution_count": 62,
     "metadata": {},
     "output_type": "execute_result"
    }
   ],
   "source": [
    "func.__dict__ #함수 func의 네임스페이스를 출력"
   ]
  },
  {
   "cell_type": "code",
   "execution_count": 66,
   "metadata": {
    "collapsed": true
   },
   "outputs": [],
   "source": [
    "# 함수를 묶어줌으로서 클래스 만들 수 있다.\n",
    "\n",
    "# Person이라는 클레스 만들기\n",
    "\n",
    "# Person = def1 + def2 + def3...\n",
    "\n",
    "# Person[0] >> def1\n",
    "# Person[1] >> def2\n"
   ]
  },
  {
   "cell_type": "code",
   "execution_count": 72,
   "metadata": {
    "collapsed": true
   },
   "outputs": [],
   "source": [
    "# 클레스를 사용하지 않고 함수만 만들어 놓고 해당 함수를 묶어서 클레스로 이용해서 객체 만들기.\n",
    "\n",
    "# 녹음파일 1 끝\n",
    "\n",
    "\n",
    "\n",
    "\n",
    "\n",
    "\n"
   ]
  },
  {
   "cell_type": "code",
   "execution_count": null,
   "metadata": {},
   "outputs": [],
   "source": []
  },
  {
   "cell_type": "code",
   "execution_count": null,
   "metadata": {
    "collapsed": true
   },
   "outputs": [],
   "source": []
  }
 ],
 "metadata": {
  "kernelspec": {
   "display_name": "Python 3",
   "language": "python",
   "name": "python3"
  },
  "language_info": {
   "codemirror_mode": {
    "name": "ipython",
    "version": 3
   },
   "file_extension": ".py",
   "mimetype": "text/x-python",
   "name": "python",
   "nbconvert_exporter": "python",
   "pygments_lexer": "ipython3",
   "version": "3.6.2"
  }
 },
 "nbformat": 4,
 "nbformat_minor": 2
}
