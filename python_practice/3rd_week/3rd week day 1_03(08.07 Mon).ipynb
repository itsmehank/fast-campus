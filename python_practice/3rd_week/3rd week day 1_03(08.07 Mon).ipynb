{
 "cells": [
  {
   "cell_type": "code",
   "execution_count": 1,
   "metadata": {
    "collapsed": true
   },
   "outputs": [],
   "source": [
    "# 4시부터~\n",
    "\n",
    "# 절차지향적 프로그래밍 배움\n"
   ]
  },
  {
   "cell_type": "code",
   "execution_count": 2,
   "metadata": {
    "collapsed": true
   },
   "outputs": [],
   "source": [
    "# Class에 대해서 배울 것 >> oop를 본격적으로 시작하는것"
   ]
  },
  {
   "cell_type": "code",
   "execution_count": 3,
   "metadata": {},
   "outputs": [
    {
     "data": {
      "text/plain": [
       "'\\n* 가장 쉽게 이해하는 방법: 클레스는? >> 연관있는 변수와 연관있는 함수를 모아 둔 것이다.\\n* 연관있는 변수 >> 내부정보를 의미\\n\\n# 용어정리\\n1) 연관있는 변수를 파이썬에서 [맴버]라고 부름 (member)\\n2) 연관있는 함수를 파이썬에서 [매서드]라고 부름(method)\\n3) [매서드]와 [함수]는 다르다.(method != function)\\n\\n# count예제(클로저에서 썼던)를 class로 만들어보자\\n\\n'"
      ]
     },
     "execution_count": 3,
     "metadata": {},
     "output_type": "execute_result"
    }
   ],
   "source": [
    "# 클레스\n",
    "'''\n",
    "* 가장 쉽게 이해하는 방법: 클레스는? >> 연관있는 변수와 연관있는 함수를 모아 둔 것이다.\n",
    "* 연관있는 변수 >> 내부정보를 의미\n",
    "\n",
    "# 용어정리\n",
    "1) 연관있는 변수를 파이썬에서 [맴버]라고 부름 (member)\n",
    "2) 연관있는 함수를 파이썬에서 [매서드]라고 부름(method)\n",
    "3) [매서드]와 [함수]는 다르다.(method != function)\n",
    "\n",
    "# count예제(클로저에서 썼던)를 class로 만들어보자\n",
    "\n",
    "'''"
   ]
  },
  {
   "cell_type": "code",
   "execution_count": 4,
   "metadata": {
    "collapsed": true
   },
   "outputs": [],
   "source": [
    "# count 함수를 class로 만들어보자\n",
    "\n",
    "# 이름이 account인 class를 만들 것임.(class:Account:)\n",
    "class Account:   #일반적으로 class 이름의 첫 글자는 대문자로 함(관습)\n",
    "    pass"
   ]
  },
  {
   "cell_type": "code",
   "execution_count": 5,
   "metadata": {
    "collapsed": true
   },
   "outputs": [],
   "source": [
    "a = Account()"
   ]
  },
  {
   "cell_type": "code",
   "execution_count": 6,
   "metadata": {},
   "outputs": [
    {
     "data": {
      "text/plain": [
       "<__main__.Account at 0x50ec130>"
      ]
     },
     "execution_count": 6,
     "metadata": {},
     "output_type": "execute_result"
    }
   ],
   "source": [
    "a  # Account라는 class로부터 생성한 무언가(객체)가 되었다"
   ]
  },
  {
   "cell_type": "code",
   "execution_count": 34,
   "metadata": {
    "collapsed": true
   },
   "outputs": [],
   "source": [
    "# 생성자\n",
    "# 생성자의 역할: 맴버의 초기화를 함\n",
    "class Account:   \n",
    "    # 생성자\n",
    "    def __init__(self, name, money):  #__<>__ >>> 파이썬이 예약해놓은 명령어  // 초기에는 self만 인자로 받다가 밑에 작성하면서 추가함\n",
    "        #instance member : 연관있는 변수(account라는 class와 관련되 변수_사용자 이름과 잔액)\n",
    "        self.user = name  #인자에 name추가\n",
    "        self.balance = money # 인자에 money 추가\n",
    "        \n",
    "    # 소멸자\n",
    "    # 주목적은 메모리의 해체(파이썬은 메모리의 해체를 reference count가 알아서 해줌)\n",
    "    # 따라서 거의 쓰이지 않음\n",
    "    def __del__(self):\n",
    "        print(\"Account object deleted\")\n",
    "    \n",
    "    # 연관있는 함수들\n",
    "    # instance method\n",
    "    # 계좌에 돈 넣는 함수\n",
    "    def deposit(self, money):  #self는 무조건 처음에 넣는다.\n",
    "        if money <= 0:\n",
    "            return None\n",
    "        else:\n",
    "            self.balance += money\n",
    "            return self.balance\n",
    "    \n",
    "    #계좌에 돈 빼는 함수\n",
    "    def withdraw(self, money):\n",
    "        '''\n",
    "        obj.withdraw(self, money)--> bool #객체의 함수임을 나타내기 위해 obj 붙여줌\n",
    "        '''\n",
    "        if money <= self.balance:\n",
    "            self.balance -= money\n",
    "            return True,money\n",
    "        else:\n",
    "            return False\n",
    "        \n",
    "        \n",
    "    def transfer(self, other, money):\n",
    "        res = self.withdraw(money)    #method 안에서 다른 method이용하기\n",
    "        if res:  \n",
    "            # 다른 객체의 함수를 호출해서 내부 정보를 바꾼다. >>> other.balance += money로 바로 접근하면 안됨.\n",
    "            # 함수를 실행하면 내가 가지고 있는 돈을 빼서 상대에게 준다.(즉, 객체간의 통신을 하는데)\n",
    "            # 이때, 함수 호출을 통해서 상호 통신을한다. >>oop의 개념에서 객체간의 통신을 할때 함수 호출을 통해서 통신하고\n",
    "            # 내부정보를 바꿀 때, 바로 맴버로 접근하면 절대 안되고 함수를 통해서 접근해야 한다. (패러다임)\n",
    "            # 다시 한번 더 말해서, 상대방의 함수를 호출 함으로서 상대방의 내부정보를 바꿔줘야한다.\n",
    "            other.deposit(money)\n",
    "            return True\n",
    "        else:\n",
    "            return False\n",
    "        \n",
    "        \n",
    "    def __str__(self):\n",
    "        return '{},{}'.format(self.user, self.balance)  # print할때 변수의 값을 string화 해줘서 print 해주는 함수\n",
    "            \n",
    "        \n",
    "    \n",
    "        \n",
    "# class는 무언가를 찍어내는 붕어빵 틀이라고 생각하면 된다.        "
   ]
  },
  {
   "cell_type": "code",
   "execution_count": 35,
   "metadata": {
    "collapsed": true
   },
   "outputs": [],
   "source": [
    "# 이제 계좌를 찍어 낼것임\n",
    "# class가 찍어내는 틀\n",
    "# object : 클레스에서 찍어낸 실제로 존재하는 객체\n",
    "\n",
    "my_account = Account('hank',5000) #위의 class인자에서 self를 제외한 인자를 넣어주면 된다.\n",
    "your_account = Account('song', 10000)\n",
    "\n",
    "#이렇게 했을때 초기화 함수(inti)가 실행이됨 \n",
    "# 위의 인자들은 inti에 들어가 실행이 된다."
   ]
  },
  {
   "cell_type": "code",
   "execution_count": 25,
   "metadata": {},
   "outputs": [
    {
     "name": "stdout",
     "output_type": "stream",
     "text": [
      "hank 5000\n"
     ]
    }
   ],
   "source": [
    "# 재미있는 함수 하나 만들어보기\n",
    "# 확인을 하기 위해서는 print를 이용\n",
    "print(my_account.user, my_account.balance)"
   ]
  },
  {
   "cell_type": "code",
   "execution_count": 13,
   "metadata": {},
   "outputs": [
    {
     "name": "stdout",
     "output_type": "stream",
     "text": [
      "<__main__.Account object at 0x050ECE10>\n"
     ]
    }
   ],
   "source": [
    "# 그러나 oop에서는 위에서처럼 자료에 직접 접근하는 방식을 싫어함\n",
    "# 그래서 함수 만든것\n",
    "# 위로가서 str함수 만들기!!!!  >># print할때 변수의 값을 string화 해줘서 print 해주는 함수\n",
    "            \n",
    "# str 함수 없을때\n",
    "print(my_account)"
   ]
  },
  {
   "cell_type": "code",
   "execution_count": 26,
   "metadata": {},
   "outputs": [
    {
     "name": "stdout",
     "output_type": "stream",
     "text": [
      "hank,5000\n"
     ]
    }
   ],
   "source": [
    "# 만들고 나서 여기로 와서\n",
    "print(my_account)"
   ]
  },
  {
   "cell_type": "code",
   "execution_count": 19,
   "metadata": {},
   "outputs": [
    {
     "data": {
      "text/plain": [
       "'\\n일단 클레스는 함수들만 존재함(처음 실행시)\\ninit 함수에서 공간을 잡아 놓고 인자를 넣음\\n\\n어카운트라는 클레스 템플릿을 통해서 찍어낸 객체로(독립된) 메모리에 저장됨 (hank,5000)\\nmy_account와 your_account는 독립된 공간에 저장되는 정보\\n\\nself는 뭐냐면...\\nself는 호출시 해당 인자 자신을 가리키게 함\\n\\nmy_account.deposit을 호출시 self자리에 my_account가 들어감\\n\\n\\n\\n'"
      ]
     },
     "execution_count": 19,
     "metadata": {},
     "output_type": "execute_result"
    }
   ],
   "source": [
    "# 클레스 작동과정\n",
    "\n",
    "'''\n",
    "일단 클레스는 함수들만 존재함(처음 실행시)\n",
    "init 함수에서 공간을 잡아 놓고 인자를 넣음\n",
    "\n",
    "어카운트라는 클레스 템플릿을 통해서 찍어낸 객체로(독립된) 메모리에 저장됨 (hank,5000)\n",
    "my_account와 your_account는 독립된 공간에 저장되는 정보\n",
    "\n",
    "self는 뭐냐면...\n",
    "self는 호출시 해당 인자 자신을 가리키게 함\n",
    "\n",
    "my_account.deposit을 호출시 self자리에 my_account가 들어감\n",
    "\n",
    "\n",
    "\n",
    "'''"
   ]
  },
  {
   "cell_type": "code",
   "execution_count": 20,
   "metadata": {},
   "outputs": [
    {
     "data": {
      "text/plain": [
       "7000"
      ]
     },
     "execution_count": 20,
     "metadata": {},
     "output_type": "execute_result"
    }
   ],
   "source": [
    "# object로  method 호출   (class를 통해 만들어진 것(object)를 통해 class 내부의 함수(method)를 호출)\n",
    "my_account.deposit(2000)   #self자리에는 my_account가 자동으로 들어감\n",
    "                           #my_account에는 user: hank, money : 5000이 들어가 있음(내부정보)\n",
    "    "
   ]
  },
  {
   "cell_type": "code",
   "execution_count": 21,
   "metadata": {},
   "outputs": [
    {
     "name": "stdout",
     "output_type": "stream",
     "text": [
      "hank,7000\n"
     ]
    }
   ],
   "source": [
    "print(my_account)"
   ]
  },
  {
   "cell_type": "code",
   "execution_count": 22,
   "metadata": {
    "collapsed": true
   },
   "outputs": [],
   "source": [
    "# 연관성 있는 변수와 함수를 합침으로써 class하나로 관리\n"
   ]
  },
  {
   "cell_type": "code",
   "execution_count": 27,
   "metadata": {},
   "outputs": [
    {
     "data": {
      "text/plain": [
       "'\\n생성자: 객체 생성할때 호출// 맴버 초기화\\na = Account(~ ,~ ) >> 이때 생성자 호출됨\\n\\n소멸자\\n\\n'"
      ]
     },
     "execution_count": 27,
     "metadata": {},
     "output_type": "execute_result"
    }
   ],
   "source": [
    "'''\n",
    "생성자: 객체 생성할때 호출// 맴버 초기화\n",
    "a = Account(~ ,~ ) >> 이때 생성자 호출됨\n",
    "\n",
    "소멸자\n",
    "잘 쓰이지는 않는다.(파이썬은 reference count로 자동 소멸 기능 있기에)\n",
    "\n",
    "\n",
    "'''"
   ]
  },
  {
   "cell_type": "code",
   "execution_count": 29,
   "metadata": {
    "collapsed": true
   },
   "outputs": [],
   "source": [
    "# del my_account   # 객체가 사리짐!!"
   ]
  },
  {
   "cell_type": "code",
   "execution_count": 31,
   "metadata": {
    "collapsed": true
   },
   "outputs": [],
   "source": [
    "# 메시지 패싱에 대하여..\n",
    "\n",
    "\n",
    "# 위의 class에 함수 하나 더 추가 할것 \n",
    "# 함수 하나 더 설계 >> 이체함수\n"
   ]
  },
  {
   "cell_type": "code",
   "execution_count": 36,
   "metadata": {},
   "outputs": [
    {
     "data": {
      "text/plain": [
       "True"
      ]
     },
     "execution_count": 36,
     "metadata": {},
     "output_type": "execute_result"
    }
   ],
   "source": [
    "my_account.transfer(your_account, 3000)"
   ]
  },
  {
   "cell_type": "code",
   "execution_count": 37,
   "metadata": {},
   "outputs": [
    {
     "name": "stdout",
     "output_type": "stream",
     "text": [
      "hank,2000 song,13000\n"
     ]
    }
   ],
   "source": [
    "print(my_account,your_account)"
   ]
  },
  {
   "cell_type": "code",
   "execution_count": null,
   "metadata": {
    "collapsed": true
   },
   "outputs": [],
   "source": [
    "# 함수 호출을 통해서 song에게 돈을 줌 >>>> 내부정보가 둘다 바뀜(상호작용)\n",
    "\n",
    "# >>>> 이를 메시지 패싱이라고 부름\n",
    "\n",
    "# message passing (interaction btw objects) \n",
    "# 메시지 패싱은 반드시 함수 호출을 통해 이뤄져야 한다. \n",
    "\n",
    "\n",
    "'''여기까지 내용(03파일)은 github에 class1으로 올라감'''"
   ]
  }
 ],
 "metadata": {
  "kernelspec": {
   "display_name": "Python 3",
   "language": "python",
   "name": "python3"
  },
  "language_info": {
   "codemirror_mode": {
    "name": "ipython",
    "version": 3
   },
   "file_extension": ".py",
   "mimetype": "text/x-python",
   "name": "python",
   "nbconvert_exporter": "python",
   "pygments_lexer": "ipython3",
   "version": "3.6.2"
  }
 },
 "nbformat": 4,
 "nbformat_minor": 2
}
