{
 "cells": [
  {
   "cell_type": "code",
   "execution_count": 1,
   "metadata": {},
   "outputs": [
    {
     "name": "stdout",
     "output_type": "stream",
     "text": [
      "1  1  2  3  5  8  13  21  34  55  "
     ]
    }
   ],
   "source": [
    "# 세번째 녹음\n",
    "\n",
    "# 피보나치의 수 정답\n",
    "\n",
    "def fibo(n):\n",
    "    a = b = 1 #  초기 값을 설정\n",
    "    \n",
    "    for i in range(n):\n",
    "        yield a\n",
    "        a , b = b, a+b   # 새로운 a는 기존의 b(==1)이 되고 새로운 b는 2가 된다. \n",
    "\n",
    "f = fibo(10)\n",
    "\n",
    "for e in f:\n",
    "    print(e, end = '  ')"
   ]
  },
  {
   "cell_type": "code",
   "execution_count": 6,
   "metadata": {
    "collapsed": true
   },
   "outputs": [],
   "source": [
    "# property (파이썬의 기능중에..)\n",
    "\n",
    "# property : 객체에서 맴버에 접근하는 것 같지만 실제로는 매서드에 접근하는 것을 property라고 함\n",
    "# oop에서 맴버에 직접 접근하면 안되고 매서드를 통해 접근해야한다>> 이 룰에서 property가 탄생함\n",
    "\n",
    "class Person:\n",
    "    \n",
    "    def __init__(self,money):\n",
    "        self.money = money   # 여기서의 money는 property에 의해서 맴버가 아니라 함수를 호출함\n",
    "        \n",
    "    @property    # instance member에 접근하는 getter를 만든 것\n",
    "    def money(self):\n",
    "        print(\"getter\")    # 이 함수가 호출되는지 안되는지 보기 위해서 \n",
    "        return self._m\n",
    "    \n",
    "    @money.setter                       # 이 money함수는 전역함수처럼 class 내부 전체에 사용됨(init에도 사용됨)\n",
    "    def money(self, money):             # self.money >> money함수를 호출함\n",
    "        print(\"setter\")                 # 즉, 객체 초기에 조건문을 걸 수 있음\n",
    "        if money < 0:\n",
    "            money = 0 \n",
    "        elif money > 10000:\n",
    "            money = 10000\n",
    "            \n",
    "        self._m = money                 # init함수에서 money 함수로 내려와 self._m = money라는 instance member가 설정됨. \n",
    "        \n",
    "# 위키독스에서 검색\n",
    "# http://bigbigdata.tistory.com/69\n"
   ]
  },
  {
   "cell_type": "code",
   "execution_count": 7,
   "metadata": {},
   "outputs": [
    {
     "name": "stdout",
     "output_type": "stream",
     "text": [
      "setter\n"
     ]
    }
   ],
   "source": [
    "p1 = Person(9000)"
   ]
  },
  {
   "cell_type": "code",
   "execution_count": 8,
   "metadata": {},
   "outputs": [
    {
     "name": "stdout",
     "output_type": "stream",
     "text": [
      "setter\n"
     ]
    }
   ],
   "source": [
    "p1.money = 7000"
   ]
  },
  {
   "cell_type": "code",
   "execution_count": 9,
   "metadata": {},
   "outputs": [
    {
     "name": "stdout",
     "output_type": "stream",
     "text": [
      "getter\n"
     ]
    },
    {
     "data": {
      "text/plain": [
       "7000"
      ]
     },
     "execution_count": 9,
     "metadata": {},
     "output_type": "execute_result"
    }
   ],
   "source": [
    "p1.money"
   ]
  },
  {
   "cell_type": "code",
   "execution_count": 10,
   "metadata": {
    "collapsed": true
   },
   "outputs": [],
   "source": [
    "# 우리가 실제 class 내부에 가지고 있는 인스턴스 맴버는 self.m\n",
    "# p1.money >> 맴버처럼 접근. 그러나 money라는 것은 member가 아님\n",
    "# money라는 함수에 접근해서 해당 함수가 실행되는 것\n",
    "# 값을 가져 올때는 getter에 접근해서 값을 가져옴.\n"
   ]
  },
  {
   "cell_type": "code",
   "execution_count": 13,
   "metadata": {
    "collapsed": true
   },
   "outputs": [],
   "source": [
    "# 함수 오버로딩 >> 하나의 클레스 내에 같은 이름의 함수 두개를 사용하는것\n",
    "\n",
    "# 파이썬에서는 허용하지 않음 >>> 에러는 나지 않지만 가장 마지막에 입력된 function으로 작동함\n",
    "# 밑의 경우 2가 return됨\n",
    "\n",
    "class Base:\n",
    "    def func(self):\n",
    "        return '1'\n",
    "    def func(self):\n",
    "        return '2'\n",
    "    \n",
    "# 추가 tip : # 인자가 서로 달라도 함수가 이름이 같으면 안됨 "
   ]
  },
  {
   "cell_type": "code",
   "execution_count": null,
   "metadata": {
    "collapsed": true
   },
   "outputs": [],
   "source": [
    "# 파이썬은 함수 오버로딩이 안된다.  "
   ]
  },
  {
   "cell_type": "code",
   "execution_count": null,
   "metadata": {
    "collapsed": true
   },
   "outputs": [],
   "source": [
    "# 데코레이터 이너레이터 제너레이터 프로퍼티 >> 파이썬만의 특징 다 다룸"
   ]
  }
 ],
 "metadata": {
  "kernelspec": {
   "display_name": "Python 3",
   "language": "python",
   "name": "python3"
  },
  "language_info": {
   "codemirror_mode": {
    "name": "ipython",
    "version": 3
   },
   "file_extension": ".py",
   "mimetype": "text/x-python",
   "name": "python",
   "nbconvert_exporter": "python",
   "pygments_lexer": "ipython3",
   "version": "3.6.2"
  }
 },
 "nbformat": 4,
 "nbformat_minor": 2
}
