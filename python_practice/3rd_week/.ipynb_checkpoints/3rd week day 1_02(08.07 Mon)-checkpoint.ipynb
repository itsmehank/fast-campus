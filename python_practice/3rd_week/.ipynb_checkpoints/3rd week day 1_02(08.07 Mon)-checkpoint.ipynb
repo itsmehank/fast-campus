{
 "cells": [
  {
   "cell_type": "code",
   "execution_count": 1,
   "metadata": {},
   "outputs": [
    {
     "data": {
      "text/plain": [
       "'정규 분포의 특징'"
      ]
     },
     "execution_count": 1,
     "metadata": {},
     "output_type": "execute_result"
    }
   ],
   "source": [
    "# 두번째 시간\n",
    "\n",
    "# 정규 분포 배우기\n",
    "# 그럴듯한 난수를 만들때, 정규분포를 쓰면 괜찮은 난수를 만들 수 있다.\n",
    "\n",
    "# 정규분포 >> 평균을 중심으로 대칭을 이루는 종(모양) 형태\n",
    "# 표준편차 >> 평균을 중심으로 각 점수들의 떨어져 있는 편차의 표준\n",
    "'''표준편차의 문제'''\n",
    "# 표준편차 >> 정규분포의 경우 편차의 부호를 무시하지 않는 경우 결국 표준 편차는 0이 나옴(왼쪽 그래프 편차 + 오른쪽 그래프 편차 = 0)\n",
    "'''표준편차의 문제 해결'''\n",
    "# 위의 문제에서 도출된 개념이 분산. \n",
    "# 분산은 위의 문제를 극복하기 위해서 각 편차를 제곱(부호문제 해결)해서 평균을 낸 값\n",
    "# 이는 실제 편차보다 과장된(제곱되었기 때문에) 값이기에 이를 루트를 씌여준 값이 바로 표준편차.\n",
    "\n",
    "'''정리'''\n",
    "'''정규 분포의 특징'''\n",
    "# 정규분포 그래프에서 x축은 값이고 y축은 확률임\n",
    "# 따라서 그래프의 총 넓이는 1이다.(1 = 100%)\n",
    "#(주의*) : 확률은 늘 0보다 크거나 같다(음수가 나올 수없다.)"
   ]
  },
  {
   "cell_type": "code",
   "execution_count": 2,
   "metadata": {},
   "outputs": [
    {
     "data": {
      "text/plain": [
       "'개념'"
      ]
     },
     "execution_count": 2,
     "metadata": {},
     "output_type": "execute_result"
    }
   ],
   "source": [
    "# procedure부터 시작.(오늘 내용 본격적으로 시작)\n",
    "\n",
    "# 프로시져\n",
    "'''개념'''\n",
    "# 용어: 프로시져는 routine, subroutin,function으로 불림(언어마다 부르는 용어는 다른데 편한게 function으로 생각하면 된다.)\n",
    "# 한국말로 절차; 절차지향이라는 의미는 function을 통해 프로그래밍 한다는 말이다. \n",
    "\n",
    "# 왜 프로시져를 사용하는가?\n",
    "# modularity (모듈성) >> 모듈성이란? 함수를 설계해서 입력과 출력 이외에 데이터를 따로 떨어져 있을 때 작동하게 만든것\n",
    "# scoping >> 파이썬의 경우 indentation을 사용하는 것이 바로 스콥핑. 지역을 정해 놓고 해당 지역에 있는 애들은 그 안에서만 작동하는것.\n",
    "# 프로시져를 쓰는 이유는 코드이해가 쉽고 유지 보수가 쉽다. 함수 이름만 보면 이 프로그램이 무엇을 하는지 알 수 있다는 장점\n",
    "# oop는 객체의 모델링에 초점이 맞춰져 있다는 점에서 절차지향과 차이가 난다."
   ]
  },
  {
   "cell_type": "code",
   "execution_count": 3,
   "metadata": {
    "collapsed": true
   },
   "outputs": [],
   "source": [
    "# 실제 실습을 통해 이해 "
   ]
  },
  {
   "cell_type": "code",
   "execution_count": 40,
   "metadata": {},
   "outputs": [
    {
     "data": {
      "text/plain": [
       "51.5"
      ]
     },
     "execution_count": 40,
     "metadata": {},
     "output_type": "execute_result"
    }
   ],
   "source": [
    "# 함수가 하나도 없이 비 구조적으로 코딩하는 방법 >> 비구조적 프로그래밍 >> 현재는 어셈블리어 작성시만 사용됨.\n",
    "# 비구조적 프로그래밍으로 짜보고 여기에 절차지향적 방법 입히고 그리고 oop적용해서 변화 볼 것임 \n",
    "# 일단 비구조적으로 프로그램 짜보기\n",
    "\n",
    "# 예시\n",
    "\n",
    "# 해당 프로그램을 만드는데 필요한 모듈을 import\n",
    "import math\n",
    "from openpyxl import *\n",
    "from functools import reduce\n",
    "\n",
    "# 파일에서 데이터 읽어와서 파씽(parsing) _ 자료구조 생성\n",
    "\n",
    "wb = load_workbook('class_1.xlsx')\n",
    "\n",
    "ws = wb.active  #해당 wb의 첫번째 sheet 불러옴\n",
    "\n",
    "# {이름: 점수, 이름 : 점수, ...} 이런 형태로 자료구조를 만들 것\n",
    "\n",
    "raw_data = {}\n",
    "\n",
    "g=ws.rows\n",
    "\n",
    "for c1,c2 in g: #이름, 점수만 있는 excel 데이터 호출\n",
    "    raw_data.update({c1.value : c2.value})\n",
    "\n",
    "# test code >> raw_data   #테스트해봄  # idle 프로그램 사용시 테스트 하고 싶으면 f5누르면 됨\n",
    "\n",
    "# average 구할때는 점수만 필요\n",
    "\n",
    "scores = []\n",
    "\n",
    "for i in raw_data.values():\n",
    "    scores.append(i)\n",
    "\n",
    "# test code >> scores\n",
    "\n",
    "# reduce 함수를 이용해서 average 구하기(사실 reduce 쓸 필요는 없지만 복습 차원에서 해보기)\n",
    "\n",
    "ave = reduce(lambda x,y: x+y, scores)/len(scores) #reduce함수는 해당 자료를 수정하는게 아닌 새로운 값을 새롭게 return하는 것임.\n",
    "round(ave,2)  # 소수점 2자리에서 반올림해서 값 구함\n",
    "\n"
   ]
  },
  {
   "cell_type": "code",
   "execution_count": 46,
   "metadata": {},
   "outputs": [
    {
     "name": "stdout",
     "output_type": "stream",
     "text": [
      "51.5\n"
     ]
    },
    {
     "data": {
      "text/plain": [
       "1240.25"
      ]
     },
     "execution_count": 46,
     "metadata": {},
     "output_type": "execute_result"
    }
   ],
   "source": [
    "# 분산 구하기 \n",
    "print(ave)\n",
    "variance = reduce(lambda x, y: x + y,map(lambda x: (x-ave)**2, scores))/len(scores) # 리듀스와 맵을 동시에 사용하는것 생각 못함\n",
    "variance\n",
    "\n",
    "# reduce에서 바로 제곱하면 다음 값은 전의 값의 합이 제곱되서 오류..."
   ]
  },
  {
   "cell_type": "code",
   "execution_count": 50,
   "metadata": {},
   "outputs": [
    {
     "data": {
      "text/plain": [
       "35.2"
      ]
     },
     "execution_count": 50,
     "metadata": {},
     "output_type": "execute_result"
    }
   ],
   "source": [
    "# 표준 편차\n",
    "standard_deviation = math.sqrt(variance)\n",
    "round(standard_deviation,1)"
   ]
  },
  {
   "cell_type": "code",
   "execution_count": 51,
   "metadata": {
    "collapsed": true
   },
   "outputs": [],
   "source": [
    "# 아직까지 함수를 하나도 쓰지 않음. == def 사용하지 않았음. >>> 비구조적 프로그래밍."
   ]
  },
  {
   "cell_type": "code",
   "execution_count": 57,
   "metadata": {},
   "outputs": [],
   "source": [
    "# 함수를 사용하지 않은 채 프로그램을 짠 경우 어떤 기능이 반복적으로 필요할때 계속 똑같은 코드를 작성해야함."
   ]
  },
  {
   "cell_type": "code",
   "execution_count": 64,
   "metadata": {},
   "outputs": [
    {
     "name": "stdout",
     "output_type": "stream",
     "text": [
      "Help on function get_rawdata_from_excel in module __main__:\n",
      "\n",
      "get_rawdata_from_excel(filename)\n",
      "    get_rawdata_from_excel(filename) -> dict of rawdata\n",
      "    엑셀에서 파일을 읽어와서 {'name: score'....}의 딕셔너리를 반환한다.  #이를 help 함수를 통해 읽을 수 있다.\n",
      "\n"
     ]
    }
   ],
   "source": [
    "# 특정 기능별로 위의 비구조적 프로그래밍 분류해주기\n",
    "\n",
    "# 함수 이름, 인자 목록, 반환값 >>> 모두를 가리켜 (함수의)인터페이스라고 부름\n",
    "\n",
    "\n",
    "def get_rawdata_from_excel(filename):# 함수이름, 인자이름, 반환형이 무엇인지 설정하는 것 >>> 이를 '인터페이스' 설정이라고 부름('==시그니처'설정)\n",
    "    '''\n",
    "    get_rawdata_from_excel(filename) -> dict of rawdata\n",
    "    엑셀에서 파일을 읽어와서 {'name: score'....}의 딕셔너리를 반환한다.  #이를 help 함수를 통해 읽을 수 있다.\n",
    "    '''\n",
    "    wb = load_workbook(filename)\n",
    "    ws = wb.active\n",
    "    raw_data = {}\n",
    "    g = ws.rows\n",
    "    for c1, c2 in g:\n",
    "        raw_data.update({c1.value: c2.value})\n",
    "    return raw_data\n",
    "\n",
    "# 위의 함수 내용을 몰라도 함수 이름과 인자를 무엇으로 받는지 그리고 어떤값을 반환하는지만 알면 사용가능\n",
    "\n",
    "# 실제 함수 구현부와 실행하는 코딩을 구분하는 것을 추상화하고 부름(인터페이스와 실현부를 나누는 것)\n",
    "\n",
    "get_rawdata_from_excel('class_1.xlsx')\n",
    "\n",
    "help(get_rawdata_from_excel)"
   ]
  },
  {
   "cell_type": "code",
   "execution_count": null,
   "metadata": {
    "collapsed": true
   },
   "outputs": [],
   "source": [
    "# 같은 폴더에 함수를 작성해서 파일 저장해서 넣어주고\n",
    "# 해당 파일 이름을 from <파일이름> import *\n",
    "# 이렇게 해주면 다 가져올 수 있다.\n",
    "\n",
    "# 예시 functions.py에 아래의 여러 함수를 저장하고 실제 메인 파일에서는\n",
    "# from functions import *를 통해 해당 파일의 여러 함수들을 사용 할 수 있다.\n"
   ]
  },
  {
   "cell_type": "code",
   "execution_count": 78,
   "metadata": {
    "collapsed": true
   },
   "outputs": [],
   "source": [
    "# 평균 구하는 함수\n",
    "# 분산 구하는 함수\n",
    "# 인터페이스 목록을 설계하는 것(함수를 어떻게 만들까) >>> 프로그래머 실력\n",
    "\n",
    "# 평균 구하는 함수\n",
    "def average(dict_):\n",
    "    '''\n",
    "    average(dict_) -> average of values\n",
    "    딕셔너리의 각 키의 값의 평균을 구한다.\n",
    "    '''\n",
    "    scores1 =[]\n",
    "    for value in dict_.values():\n",
    "        scores1.append(value)\n",
    "    avrg = sum(scores1)/len(scores1)\n",
    "    avrg = round(avrg,2)\n",
    "    return avrg\n",
    "    \n",
    "# 분산과 표준편차 구하는 함수\n",
    "def v_and_std(avrg,dict_):\n",
    "    '''\n",
    "    variance(avrg,dict_) -> variance of dict_, standard deviation of dict_\n",
    "    '''\n",
    "    list_=[]\n",
    "    for keys,value in dict_.items():\n",
    "        list_.append((value-avrg)**2)\n",
    "    variance = sum(list_)/len(list_)\n",
    "    variance = round(variance, 2)\n",
    "    std_dev = round((variance) ** 0.5,2)    #루트의 경우 <숫자> ** 0.5 를 통해 구할 수 있다.\n",
    "    return variance,std_dev\n",
    "\n",
    "# 경고문 함수\n",
    "\n",
    "def show(avrg,std_dev,total_avrg):\n",
    "    '''\n",
    "    show(avrg,std_dev,total_avrg) -> none\n",
    "    avrg : 반성적 평균\n",
    "    std_dev: 반의 표준편차\n",
    "    total_avrg: 학년 전체 성적 평균\n",
    "    '''\n",
    "    if avrg <total_avrg and std_dev >20:\n",
    "        print(\"성적이 너무 저조하고 학생들의 실력 차이가 너무 크다.\")\n",
    "    elif avrg > total_avrg and std_dev >20:\n",
    "        print(\"성적은 평균이상이지만 학생들 실력 차이가 크다. 주의 요망!\")\n",
    "    elif avrg < total_avrg and std_dev <20:\n",
    "        print(\"학생들간 실력차는 나지 않으나 성적이 너무 저조하다. 주의 요망!\")\n",
    "    elif avrg > total_avrg and std_dev <20:\n",
    "        print(\"성적도 평균 이상이고 학생들의 실력차도 크지 않다.\")\n"
   ]
  },
  {
   "cell_type": "code",
   "execution_count": 82,
   "metadata": {},
   "outputs": [
    {
     "name": "stdout",
     "output_type": "stream",
     "text": [
      "평균 : 51.5, 분산 : 1240.25, 표준편차: 35.22\n",
      "성적은 평균이상이지만 학생들 실력 차이가 크다. 주의 요망!\n"
     ]
    }
   ],
   "source": [
    "# 위의 함수들이 functions.py라는 파일에 저장되어 있는 경우 from functions import *를 통해 모두 불러올 수 있다.\n",
    "if __name__ == \"__main__\":     #이것의 의미: 만약 이 파일이 main으로 실행이 되면 if문 아래가 실행이 된다. \n",
    "                                # 이게 메인이 아니라 모듈로 import되는 경우에는 if 문 아래가 실행이 안된다.\n",
    "                                # 라이브러리일때는 주로 text 코드를 작성하는데 쓰인다.(지금 함수 여러개 작성했음 >> 실험하는데 사용)\n",
    "    dict_data = get_rawdata_from_excel('class_1.xlsx')\n",
    "    average1 = average(dict_data)\n",
    "    variance_and_std = v_and_std(average1,dict_data)\n",
    "    print('평균 : {0}, 분산 : {1}, 표준편차: {2}'.format(average1,variance_and_std[0],variance_and_std[1]))\n",
    "    show(average1,variance_and_std[1],50)"
   ]
  },
  {
   "cell_type": "code",
   "execution_count": null,
   "metadata": {
    "collapsed": true
   },
   "outputs": [],
   "source": [
    "'''\n",
    "함수가 메인으로 실행된다는 의미는...\n",
    "cmd 에서 메인으로 파이썬 파일 실행하는것은 python <filename>.py임\n",
    "\n",
    "메인 파일이 아닌 파일을 메인 파일에 import해온다는 것은\n",
    "해당 파일을 메인 파일 제일 위에 복사 붙여 넣기 한다는 의미와 동일\n",
    "\n",
    "만약 메인이 아닌 파일에 if__name__ = \"__main__\":\n",
    "이렇게 시작하는 지시문이 있으면 if문 이하 내용은 해당 파일이 메인파일 일때 실행하고 \n",
    "아닐때(즉 해당 파일이 단지 (다른)메인 파일을 위한 import용 파일인 경우)는 if 이하 문장은 실행하지 않는다.\n",
    "\n",
    "라이브러리 파일 : 여러 함수가 작성된 파일. 즉 메인 파일을 위해 여러 함수가 작성된 파일\n",
    "\n",
    "라이브러리 파일에 main statement가 있으면 그건 작성자가 테스트를 위해 붙여 놓은 거라 보면 된다.\n",
    "\n",
    "\n",
    "'''"
   ]
  }
 ],
 "metadata": {
  "kernelspec": {
   "display_name": "Python 3",
   "language": "python",
   "name": "python3"
  },
  "language_info": {
   "codemirror_mode": {
    "name": "ipython",
    "version": 3
   },
   "file_extension": ".py",
   "mimetype": "text/x-python",
   "name": "python",
   "nbconvert_exporter": "python",
   "pygments_lexer": "ipython3",
   "version": "3.6.2"
  }
 },
 "nbformat": 4,
 "nbformat_minor": 2
}
