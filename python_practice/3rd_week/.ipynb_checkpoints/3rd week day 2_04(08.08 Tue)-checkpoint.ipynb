{
 "cells": [
  {
   "cell_type": "code",
   "execution_count": 1,
   "metadata": {
    "collapsed": true
   },
   "outputs": [],
   "source": [
    "# 네번째 시간 녹음.\n",
    "\n",
    "# 상속에 대해 할 것임. \n",
    "\n",
    "# oop가 가진 강력함은 상속을 통해 나옴. \n",
    "# 클레스 사이의 관계에 대해 배울 것임\n",
    "# oop의 꽃은 다형성. 다형성은 상속에 나오는 개념. "
   ]
  },
  {
   "cell_type": "code",
   "execution_count": 44,
   "metadata": {},
   "outputs": [],
   "source": [
    "# 그 전에 연산자 오버로딩을 해보자\n",
    "# 사칙 연산자 함수를 class에 overload (얹는) 것.\n",
    "\n",
    "# operator overloading \n",
    "\n",
    "class Point:\n",
    "    \n",
    "    def __init__(self, x=0, y=0):\n",
    "        self.x = x\n",
    "        self.y = y\n",
    "    \n",
    "    def get_point(self):\n",
    "        return self.x, self.y   #튜플 형태로 출력\n",
    "    \n",
    "    def set_point(self, x, y):\n",
    "        self.x = x\n",
    "        self.y = y\n",
    "        \n",
    "    def __add__(self, value):     # add 매서드를 설계할 때 암묵적 룰은 지시문에 +를 사용하여 해당 매서드의 기능을 직관적으로 보여줄 수\n",
    "        _x = self.x + value       # 있어야 한다. \n",
    "        _y = self.y + value\n",
    "        return Point(_x,_y)    #이렇게 하면 본래의 객체의 값은 변하지 않고 새롭게 정의된 객체가 새로운 값을 받아 탄생함\n",
    "   \n",
    "    def __radd__(self,other):   #radd 매서드는 + 연산에서 숫자가 앞에 오는 경우 순서를 바꿔서 계산할 수 있도록 도와준다.\n",
    "        return self.__add__(other)\n",
    "    \n",
    "    def __sub__(self,value):\n",
    "        _x = self.x - value\n",
    "        _y = self.y - value\n",
    "        return Point(_x,_y)\n",
    "    \n",
    "    def __rsub__(self,value):\n",
    "        return self.__sub__(value)\n",
    "    \n",
    "        \n",
    "    def __str__(self):\n",
    "        return '({},{})'.format(self.x, self.y)"
   ]
  },
  {
   "cell_type": "code",
   "execution_count": 45,
   "metadata": {
    "collapsed": true
   },
   "outputs": [],
   "source": [
    "p1 = Point()"
   ]
  },
  {
   "cell_type": "code",
   "execution_count": 46,
   "metadata": {},
   "outputs": [
    {
     "name": "stdout",
     "output_type": "stream",
     "text": [
      "(0,0)\n"
     ]
    }
   ],
   "source": [
    "print(p1)"
   ]
  },
  {
   "cell_type": "code",
   "execution_count": 47,
   "metadata": {
    "collapsed": true
   },
   "outputs": [],
   "source": [
    "p1.set_point(3,3)"
   ]
  },
  {
   "cell_type": "code",
   "execution_count": 48,
   "metadata": {},
   "outputs": [
    {
     "name": "stdout",
     "output_type": "stream",
     "text": [
      "(3,3)\n"
     ]
    }
   ],
   "source": [
    "print(p1)"
   ]
  },
  {
   "cell_type": "code",
   "execution_count": 49,
   "metadata": {},
   "outputs": [],
   "source": [
    "p2 = p1 + 5    # p1은 (Point)클레스의 인스턴스이고 5는 상수 >> 계산 오류\n"
   ]
  },
  {
   "cell_type": "code",
   "execution_count": 50,
   "metadata": {},
   "outputs": [
    {
     "name": "stdout",
     "output_type": "stream",
     "text": [
      "(3,3)\n",
      "(8,8)\n"
     ]
    }
   ],
   "source": [
    "# 위의 식을 가능하게 만드는게 연산자 오버로딩\n",
    "# 객체와 다른 객체 사이에 일반적으로 알고 있는 연산자가 실행되도록 만드는 것을 연산자 오버로딩이라고 부른다.\n",
    "\n",
    "# 위의 class 식으로 돌아가서 추가해줌\n",
    "'''\n",
    "def __add__(self, value):\n",
    "    self.x + value\n",
    "    self.y + value\n",
    "    return self\n",
    "'''\n",
    "\n",
    "\n",
    "\n",
    "print(p1)\n",
    "print(p2)\n",
    "\n",
    "\n",
    "\n",
    "\n"
   ]
  },
  {
   "cell_type": "code",
   "execution_count": 51,
   "metadata": {},
   "outputs": [],
   "source": [
    "p3 = 5 + p1   #안되는 이유는 상수 객체가 먼져 와서임  # 이것의 식은 5.__add__(p1)\n",
    "p2 = p1 + 5  # 이것의 식은 p1.__add__(5)와 같음"
   ]
  },
  {
   "cell_type": "code",
   "execution_count": 52,
   "metadata": {},
   "outputs": [
    {
     "name": "stdout",
     "output_type": "stream",
     "text": [
      "(8,8)\n"
     ]
    }
   ],
   "source": [
    "print(p3)"
   ]
  },
  {
   "cell_type": "code",
   "execution_count": 53,
   "metadata": {},
   "outputs": [],
   "source": [
    "p4 = p3 - 4   #__sub__매서드를 이용해서 가능"
   ]
  },
  {
   "cell_type": "code",
   "execution_count": 54,
   "metadata": {},
   "outputs": [],
   "source": [
    "p5 = 10 - p3   #__rsub__매서드를 이용해서 가능"
   ]
  },
  {
   "cell_type": "code",
   "execution_count": 55,
   "metadata": {},
   "outputs": [
    {
     "name": "stdout",
     "output_type": "stream",
     "text": [
      "(4,4)\n",
      "(-2,-2)\n"
     ]
    }
   ],
   "source": [
    "print(p4)\n",
    "print(p5)"
   ]
  },
  {
   "cell_type": "code",
   "execution_count": 57,
   "metadata": {},
   "outputs": [],
   "source": [
    "p6 = p1 + p2"
   ]
  },
  {
   "cell_type": "code",
   "execution_count": 58,
   "metadata": {},
   "outputs": [
    {
     "name": "stdout",
     "output_type": "stream",
     "text": [
      "((11,11),(11,11))\n"
     ]
    }
   ],
   "source": [
    "print(p6)"
   ]
  },
  {
   "cell_type": "code",
   "execution_count": 70,
   "metadata": {
    "collapsed": true
   },
   "outputs": [],
   "source": [
    "# 상속이란?\n",
    "# '클레스 간의 어떤 연관성이 있는가' 에 따라서 상속으로 하기도 하고 합성을 하기도 함\n",
    "# 언제 상속을 사용하고 언제 합성을 사용하는가\n",
    "\n",
    "# 상속을 사용하는 경우\n",
    "'''\n",
    "is-a의 경우\n",
    "\n",
    "~은 ~의 일종이다라고 할때 클레스 간의 관계는 is - a 관계라고 한다.\n",
    "(ex_)  laptop is a computer( computer includes all laptop)\n",
    "\n",
    "'''\n",
    "\n",
    "class Computer:\n",
    "    \n",
    "    # 인스턴스 맴버가 2개로 설정됨\n",
    "    def __init__(self,cpu,ram):\n",
    "        self.cpu = cpu\n",
    "        self.ram = ram\n",
    "        \n",
    "    def browse(self):\n",
    "        print('browse')\n",
    "        \n",
    "    def work(self):\n",
    "        return('work')\n",
    "    \n",
    "    \n",
    "# 상속하는 방법  >> 파생클래스(=자식캘러스) + (부모클래스(=기본클래스))\n",
    "# 상속받은 클래스만의 특성을 추가할 수 있음\n",
    "class Laptop(Computer):\n",
    "    # 현재 클래스 laptop은 클래스 computer가 가진 모든 맴버와 매서드를 가진 상태\n",
    "    \n",
    "    # 이후 작성되는 것은 클래스 laptop만의 특성 >> 추가적인 기능\n",
    "    \n",
    "    def __init__(self,cpu,ram,battery):  # 같은 이름의 함수를 불러와 추가 할 수 있음(순서상 수정 함수가 최근이 되기 때문)\n",
    "        super().__init__(cpu,ram)   #super() >> super.class의 함수를 호출(super class는 부모함수를 의미 )\n",
    "                                    # 이미 부모 함수에서 정의해준 맴버들을 한번에 불러오는 기능\n",
    "        self.battery = battery\n",
    "        \n",
    "    def move(self, where):\n",
    "        print('move to {}'.format(where))\n",
    "        \n",
    "    \n",
    "# 상속하는 순간: 부모 클래스의 모든 맴버와 매서드를 받는다."
   ]
  },
  {
   "cell_type": "code",
   "execution_count": 73,
   "metadata": {},
   "outputs": [],
   "source": [
    "l1 = Laptop('intel', 16, '60w')   "
   ]
  },
  {
   "cell_type": "code",
   "execution_count": 74,
   "metadata": {},
   "outputs": [
    {
     "data": {
      "text/plain": [
       "'intel'"
      ]
     },
     "execution_count": 74,
     "metadata": {},
     "output_type": "execute_result"
    }
   ],
   "source": [
    "l1.cpu"
   ]
  },
  {
   "cell_type": "code",
   "execution_count": 75,
   "metadata": {},
   "outputs": [
    {
     "data": {
      "text/plain": [
       "16"
      ]
     },
     "execution_count": 75,
     "metadata": {},
     "output_type": "execute_result"
    }
   ],
   "source": [
    "l1.ram"
   ]
  },
  {
   "cell_type": "code",
   "execution_count": 76,
   "metadata": {},
   "outputs": [
    {
     "data": {
      "text/plain": [
       "'60w'"
      ]
     },
     "execution_count": 76,
     "metadata": {},
     "output_type": "execute_result"
    }
   ],
   "source": [
    "l1.battery"
   ]
  },
  {
   "cell_type": "code",
   "execution_count": 77,
   "metadata": {},
   "outputs": [
    {
     "name": "stdout",
     "output_type": "stream",
     "text": [
      "move to office\n"
     ]
    }
   ],
   "source": [
    "l1.move('office')"
   ]
  },
  {
   "cell_type": "code",
   "execution_count": 78,
   "metadata": {
    "collapsed": true
   },
   "outputs": [],
   "source": [
    "# has-a 관계\n",
    "# ~이 ~을 가지고 있다\n",
    "# ~이 ~을 소유하고 있다\n",
    "\n",
    "# 경찰관이 총을 가지고 있다.   >> 총의 모든 속성을 경찰관이 가지는 것은 아님 >> 즉 상속을 사용할 수 없음\n",
    "\n",
    "# has-a 관계에서는 합성(composition)과 통합(aggregation)을 사용"
   ]
  },
  {
   "cell_type": "code",
   "execution_count": 168,
   "metadata": {
    "collapsed": true
   },
   "outputs": [],
   "source": [
    "# 구현 방법\n",
    "\n",
    "class Gun:\n",
    "    \n",
    "    def __init__(self, gun_kind):\n",
    "        self.gun_kind = gun_kind\n",
    "        \n",
    "    def bang(self):\n",
    "        print('bang bang')\n",
    "        print('bang bang')\n",
    "\n",
    "class Police:\n",
    "    \n",
    "    def __init__(self, gun_kind = ''):\n",
    "        if not gun_kind: \n",
    "            self.gun = None\n",
    "        else:\n",
    "            self.gun = Gun(gun_kind)    #>>>> 이게 합성(or 통합) 클래스 police의 맴버가 클래스 gun의 객체를 가지게 만듬\n",
    "            \n",
    "    def get_gun(self, gun):\n",
    "        self.gun = Gun(gun)\n",
    "        \n",
    "    def shoot(self):\n",
    "        if self.gun:\n",
    "            return\n",
    "        else:\n",
    "            self.gun.bang"
   ]
  },
  {
   "cell_type": "code",
   "execution_count": 173,
   "metadata": {},
   "outputs": [],
   "source": [
    "p1 = Police('리볼버')"
   ]
  },
  {
   "cell_type": "code",
   "execution_count": 174,
   "metadata": {},
   "outputs": [],
   "source": [
    "p1.shoot()  #bang bang이 나와야 하는데 안나옴"
   ]
  },
  {
   "cell_type": "code",
   "execution_count": 163,
   "metadata": {
    "collapsed": true
   },
   "outputs": [],
   "source": [
    "p2 = Police()"
   ]
  },
  {
   "cell_type": "code",
   "execution_count": 164,
   "metadata": {},
   "outputs": [],
   "source": [
    "p2.shoot()"
   ]
  },
  {
   "cell_type": "code",
   "execution_count": 165,
   "metadata": {
    "collapsed": true
   },
   "outputs": [],
   "source": [
    "gun = Gun('기관총')"
   ]
  },
  {
   "cell_type": "code",
   "execution_count": 166,
   "metadata": {
    "collapsed": true
   },
   "outputs": [],
   "source": [
    "p2.get_gun(gun)"
   ]
  },
  {
   "cell_type": "code",
   "execution_count": 167,
   "metadata": {
    "collapsed": true
   },
   "outputs": [],
   "source": [
    "p2.shoot()"
   ]
  },
  {
   "cell_type": "code",
   "execution_count": null,
   "metadata": {
    "collapsed": true
   },
   "outputs": [],
   "source": []
  },
  {
   "cell_type": "code",
   "execution_count": null,
   "metadata": {
    "collapsed": true
   },
   "outputs": [],
   "source": []
  }
 ],
 "metadata": {
  "kernelspec": {
   "display_name": "Python 3",
   "language": "python",
   "name": "python3"
  },
  "language_info": {
   "codemirror_mode": {
    "name": "ipython",
    "version": 3
   },
   "file_extension": ".py",
   "mimetype": "text/x-python",
   "name": "python",
   "nbconvert_exporter": "python",
   "pygments_lexer": "ipython3",
   "version": "3.6.2"
  }
 },
 "nbformat": 4,
 "nbformat_minor": 2
}
