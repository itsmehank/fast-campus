{
 "cells": [
  {
   "cell_type": "code",
   "execution_count": 1,
   "metadata": {
    "collapsed": true
   },
   "outputs": [],
   "source": [
    "# 첫번째 시간\n",
    "# 오늘_패러다임에 대해 배움\n",
    "# Procedure & OOP"
   ]
  },
  {
   "cell_type": "code",
   "execution_count": 2,
   "metadata": {
    "collapsed": true
   },
   "outputs": [],
   "source": [
    "# openpyxl을 통해 데이터를 가져오는 것을 실습해볼것.\n",
    "# procedure을 배우고 데이터를 핸들링 해보고 이것을 함수로 바꾸는 과정을 볼 것임\n",
    "# 표준,분산,표준편차라는 개념 그리고 정규분포에 대해 배울 것.\n",
    "# procedural programming이라는 패러다임에 대해 배울 것임(절차지향적 프로그래밍)\n",
    "\n",
    "# 패러다임>> 코딩의 구조를 짜는 사고방식에 대해 배울 것.\n",
    "# 절차지향의 패러다임과 객체지향의 패러다임의 의미에 대해 알아 볼 것임.\n",
    "# 절차지향에서 절차의 뜻은? \n",
    "\n",
    "#oop에서는\n",
    "#class가 무엇인가?\n",
    "#instance와 object는 무엇인가? 둘의 차이는 무엇인가?  >>>> 같음.(그러나 일부 개발자들은 다르다고 보는 시각 존재)\n",
    "# oop에서는 표현하는 방식이 굉장히 많음. \n",
    "# >> member와 method라는 파이썬 진영의 용어를 사용해서 설명할 것임(각각의 언어별 진영에서는 이를 부르는 용어가 다름)\n",
    "# >> 각각 종류가 나뉨\n",
    "# >> method와 function의 차이점 볼 것임\n",
    "# internal>> 파이썬 내부(c언어)에서 method와 function이 작동하는 방식\n",
    "\n",
    "\n",
    "# relation between class(클래스 간의 관계) >>>> oop 내용의 핵심중에 핵심(*****)\n",
    "# polymorphism(다형성) >> 패러다임 관련 개념\n",
    "# method overriding으로 다형성 구현\n",
    "\n",
    "# 개념 정립은 어렵지 않지만 이를 체화해서 코딩에 반영하는 것은 경력이 필요.\n",
    "\n",
    "# 연산자 오버로딩(operator overloading)\n",
    "# iterator, generator를 배울 것임\n",
    "# property라는 문법 용어를 배울 것임\n",
    "\n",
    "# 절차지향적으로 만들었던 프로그램을 객체지향적으로 바꾸는 작업 - 프로젝트 2"
   ]
  },
  {
   "cell_type": "code",
   "execution_count": 3,
   "metadata": {
    "collapsed": true
   },
   "outputs": [],
   "source": [
    "# 오늘과 내일 완전히 이해해서 수요일에 제시하는 과제 풀 수 있음."
   ]
  },
  {
   "cell_type": "code",
   "execution_count": 10,
   "metadata": {
    "collapsed": true
   },
   "outputs": [],
   "source": [
    "# 엑셀에서 자료를 읽어와서 파이썬에서 처리하기\n",
    "# http://openpyxl.readthedocs.io/en/default/ 을 통해 openpyxl(파이썬에서 엑셀 처리) 완벽하게 배울 수 있다.\n",
    "\n",
    "from openpyxl import * #openpyxl에서 모든 내용을 가져옴"
   ]
  },
  {
   "cell_type": "code",
   "execution_count": 11,
   "metadata": {},
   "outputs": [
    {
     "data": {
      "text/plain": [
       "'\\n(**주의) >> 제너레이터 자체로는 어떠한 데이터도 추출 안함.(next함수 이용해서 데이터 읽을 수 있음)\\n(***주의)>> next함수 이용해서 row를 읽으면 그 형태는 cell 형태로 나옴.\\n(이어서) >> cell 형태로 자료가 나온다는 말은 cell 안에 입력된 값이 아닌 cell 번호가 나옴 (ex_ A1, B1 등등)\\n'"
      ]
     },
     "execution_count": 11,
     "metadata": {},
     "output_type": "execute_result"
    }
   ],
   "source": [
    "# 용어 정리\n",
    "# workbook: 엑셀파일 하나(여러개의 work sheet를 포함 가능)\n",
    "# worksheet: workbook에 있는 sheet중에 하나\n",
    "\n",
    "# ----<workbook> 기능정리----\n",
    "# load_workbook(\"exal_file_name.xlsx') : 엑셀파일을 불러옴. 불러오기만 하고 출력값은 없음. 따라서 불러온 파일을 새로운 변수로 저장해줘야함.\n",
    "# <workbook name>.active: 해당 workbook의 첫 worksheet를 불러옴.\n",
    "\n",
    "# ---- <worksheet> 기능 정리 ----\n",
    "# <worksheet name>.rows >> 해당 worksheet의 row를 가장 위에서부터 한줄 씩 읽어 내려가는 generator를 만듬\n",
    "'''\n",
    "(**주의) >> 제너레이터 자체로는 어떠한 데이터도 추출 안함.(next함수 이용해서 데이터 읽을 수 있음)\n",
    "(***주의)>> next함수 이용해서 row를 읽으면 그 형태는 cell 형태로 나옴.\n",
    "(이어서) >> cell 형태로 자료가 나온다는 말은 cell 안에 입력된 값이 아닌 cell 번호가 나옴 (ex_ A1, B1 등등)\n",
    "'''\n",
    "# <cell>.value : cell에 입력된 값을 출력 (ex_ A1자리에 'hank'가 입력되어 있으면 A1.value는 'hank'를 출력함)"
   ]
  },
  {
   "cell_type": "code",
   "execution_count": 12,
   "metadata": {},
   "outputs": [
    {
     "data": {
      "text/plain": [
       "'<workbook>.create_worksheet(\"sheet_name\", 0): 가장 첫 자리에 새로운 sheet를 만들어줌'"
      ]
     },
     "execution_count": 12,
     "metadata": {},
     "output_type": "execute_result"
    }
   ],
   "source": [
    "# 기타 기능\n",
    "\n",
    "# <workbook>.create_worksheet(\"sheet_name\"): 해당 workbook의 마지막 자리에 새로운 worksheet을 만듬\n",
    "'''<workbook>.create_worksheet(\"sheet_name\", 0): 가장 첫 자리에 새로운 sheet를 만들어줌'''\n",
    "\n",
    "# sheet들은 생길때, 자동적으로 이름이 부여됨 (sheet1, sheet2, sheet3의 형식으로)\n",
    "# 이러한 이름을 바꾸기 위해서는\n",
    "# <worksheet>.title = \"new_name_sheet\"\n",
    "\n",
    "# cell의 자료를 수정 혹은 빈 cell에 입력하는 방법_01\n",
    "# <worksheet>['A4'] = <수정하려는 value>\n",
    "\n",
    "\n",
    "# cell의 자료를 수정 혹은 빈 cell에 입력하는 방법_02\n",
    "# <workshee>.cell(row = n, column = m, value = <value>)\n",
    "\n",
    "# for loop를 이용해서 cell에 값 입력하기\n",
    "# for i in range(1,100)"
   ]
  },
  {
   "cell_type": "code",
   "execution_count": 13,
   "metadata": {},
   "outputs": [],
   "source": [
    "wb = load_workbook('exam.xlsx')      #>>> 엑셀파일 가져오는것"
   ]
  },
  {
   "cell_type": "code",
   "execution_count": 14,
   "metadata": {},
   "outputs": [
    {
     "data": {
      "text/plain": [
       "['Sheet1']"
      ]
     },
     "execution_count": 14,
     "metadata": {},
     "output_type": "execute_result"
    }
   ],
   "source": [
    "wb.sheetnames  #sheet가 몇개 있는지 보는것"
   ]
  },
  {
   "cell_type": "code",
   "execution_count": 15,
   "metadata": {
    "collapsed": true
   },
   "outputs": [],
   "source": [
    "# 엑셀 파일의 내용을 보고 어떤 형태로 자료를 추출할지 결정\n",
    "# 예를 들면 exam 파일의 경우 각 이름과 각자의 성적을 하나의 딕셔러니로 하고 이를 요소로 하는 리스트를 추출하겠다고 결정\n",
    "# 각 딕셔너리의 키값은 엑셀의 카테고리 항목들을 키값으로 설정하면 됨\n"
   ]
  },
  {
   "cell_type": "code",
   "execution_count": 16,
   "metadata": {},
   "outputs": [
    {
     "name": "stdout",
     "output_type": "stream",
     "text": [
      "name\n"
     ]
    }
   ],
   "source": [
    "ws = wb.active\n",
    "print(ws['A1'].value)  # A1 이라는 cell에 입력된 값(value)을 찾아서 출력"
   ]
  },
  {
   "cell_type": "code",
   "execution_count": 17,
   "metadata": {},
   "outputs": [
    {
     "data": {
      "text/plain": [
       "<Worksheet \"Sheet1\">"
      ]
     },
     "execution_count": 17,
     "metadata": {},
     "output_type": "execute_result"
    }
   ],
   "source": [
    "ws"
   ]
  },
  {
   "cell_type": "code",
   "execution_count": 18,
   "metadata": {
    "collapsed": true
   },
   "outputs": [],
   "source": [
    "g = ws.rows  # 엑셀에서 한줄씩(열별로) 반환하는 함수인 rows >> next를 할때마다 한줄씩 반환함.\n",
    "             # 이때 반환해주는 형태는 cell이라는 형태임 >>> 이 cell을 이용해서 데이터 파씽을 할 것임."
   ]
  },
  {
   "cell_type": "code",
   "execution_count": 19,
   "metadata": {},
   "outputs": [
    {
     "data": {
      "text/plain": [
       "<generator object Worksheet._cells_by_row at 0x072A1F00>"
      ]
     },
     "execution_count": 19,
     "metadata": {},
     "output_type": "execute_result"
    }
   ],
   "source": [
    "g   # g는 제너레이터"
   ]
  },
  {
   "cell_type": "code",
   "execution_count": 20,
   "metadata": {
    "collapsed": true
   },
   "outputs": [],
   "source": [
    "# 첫번째 얘들을 받아서 key값으로 저장하자  # 엑섹파일에서 첫번째 줄에는 카테고리의 항목들이 저장되어 있기에.\n",
    "k= next(g)   # 첫번째 줄의 cell들을 반환함"
   ]
  },
  {
   "cell_type": "code",
   "execution_count": 21,
   "metadata": {},
   "outputs": [
    {
     "data": {
      "text/plain": [
       "(<Cell 'Sheet1'.A1>,\n",
       " <Cell 'Sheet1'.B1>,\n",
       " <Cell 'Sheet1'.C1>,\n",
       " <Cell 'Sheet1'.D1>)"
      ]
     },
     "execution_count": 21,
     "metadata": {},
     "output_type": "execute_result"
    }
   ],
   "source": [
    "k"
   ]
  },
  {
   "cell_type": "code",
   "execution_count": 22,
   "metadata": {
    "collapsed": true
   },
   "outputs": [],
   "source": [
    "keys = []  #keys라는 빈 리스트 만들어 놓고"
   ]
  },
  {
   "cell_type": "code",
   "execution_count": 23,
   "metadata": {
    "collapsed": true
   },
   "outputs": [],
   "source": [
    "for key in k:# for loop로 k를 돌것임 >> cell이 하나씩 나올것\n",
    "    keys.append(key.value) # key의 자료 값인value"
   ]
  },
  {
   "cell_type": "code",
   "execution_count": 24,
   "metadata": {},
   "outputs": [
    {
     "data": {
      "text/plain": [
       "['name', 'math', 'literature', 'science']"
      ]
     },
     "execution_count": 24,
     "metadata": {},
     "output_type": "execute_result"
    }
   ],
   "source": [
    "keys"
   ]
  },
  {
   "cell_type": "code",
   "execution_count": 25,
   "metadata": {
    "collapsed": true
   },
   "outputs": [],
   "source": [
    "student_data = []\n",
    "for row in g:   #이 row가 어떤 형태로 나오는가? >> cell\n",
    "    dic = {k : v.value for k, v in zip (keys, row)}  #zip은 keys의 각 요소와 row에서 나오는 각 cell이 하나씩 매칭됨.\n",
    "    student_data.append(dic)                         # cell을 value를 이용해 값으로 출력\n",
    "    "
   ]
  },
  {
   "cell_type": "code",
   "execution_count": 26,
   "metadata": {},
   "outputs": [
    {
     "data": {
      "text/plain": [
       "[{'literature': 65, 'math': 95, 'name': 'greg', 'science': 75},\n",
       " {'literature': 30, 'math': 25, 'name': 'john', 'science': 55},\n",
       " {'literature': 45, 'math': 50, 'name': 'yang', 'science': 40},\n",
       " {'literature': 65, 'math': 15, 'name': 'timothy', 'science': 90},\n",
       " {'literature': 100, 'math': 100, 'name': 'melisa', 'science': 100},\n",
       " {'literature': 15, 'math': 10, 'name': 'thor', 'science': 20},\n",
       " {'literature': 50, 'math': 25, 'name': 'elen', 'science': 100},\n",
       " {'literature': 75, 'math': 80, 'name': 'mark', 'science': 80},\n",
       " {'literature': 100, 'math': 95, 'name': 'steve', 'science': 95},\n",
       " {'literature': 20, 'math': 20, 'name': 'anna', 'science': 20}]"
      ]
     },
     "execution_count": 26,
     "metadata": {},
     "output_type": "execute_result"
    }
   ],
   "source": [
    "student_data   #이렇게 데이터를 원하는 형태로 바꾸는 것을 데이터 파씽이라고 부름!!!!!"
   ]
  },
  {
   "cell_type": "code",
   "execution_count": 33,
   "metadata": {},
   "outputs": [
    {
     "name": "stdout",
     "output_type": "stream",
     "text": [
      "name : greg          math : 95            literature : 65      science : 75         \n",
      "name : john          math : 25            literature : 30      science : 55         \n",
      "name : yang          math : 50            literature : 45      science : 40         \n",
      "name : timothy       math : 15            literature : 65      science : 90         \n",
      "name : melisa        math : 100           literature : 100     science : 100        \n",
      "name : thor          math : 10            literature : 15      science : 20         \n",
      "name : elen          math : 25            literature : 50      science : 100        \n",
      "name : mark          math : 80            literature : 75      science : 80         \n",
      "name : steve         math : 95            literature : 100     science : 95         \n",
      "name : anna          math : 20            literature : 20      science : 20         \n"
     ]
    }
   ],
   "source": [
    "for student in student_data:\n",
    "    for k,v in student.items():\n",
    "        print ('{} : {}'.format(k,v).ljust(20), end=' ') # 각 딕셔너리의 요소를 20간격으로 왼쪽 정렬, '  '(두칸)을 띄고 데이터 나열\n",
    "    print('')  #줄 바꿈\n",
    "# 데이터를 말끔하게 출력하기    "
   ]
  },
  {
   "cell_type": "code",
   "execution_count": null,
   "metadata": {
    "collapsed": true
   },
   "outputs": [],
   "source": []
  }
 ],
 "metadata": {
  "kernelspec": {
   "display_name": "Python 3",
   "language": "python",
   "name": "python3"
  },
  "language_info": {
   "codemirror_mode": {
    "name": "ipython",
    "version": 3
   },
   "file_extension": ".py",
   "mimetype": "text/x-python",
   "name": "python",
   "nbconvert_exporter": "python",
   "pygments_lexer": "ipython3",
   "version": "3.6.2"
  }
 },
 "nbformat": 4,
 "nbformat_minor": 2
}
