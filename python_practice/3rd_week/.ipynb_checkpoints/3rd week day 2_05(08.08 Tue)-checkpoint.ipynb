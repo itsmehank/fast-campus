{
 "cells": [
  {
   "cell_type": "code",
   "execution_count": 1,
   "metadata": {
    "collapsed": true
   },
   "outputs": [],
   "source": [
    "# 다섯번째 녹음 (다형성)\n"
   ]
  },
  {
   "cell_type": "code",
   "execution_count": 12,
   "metadata": {
    "collapsed": true
   },
   "outputs": [],
   "source": [
    "# abstract class (추상 클래스)\n",
    "# 추상 클래스의 특징 : instance를 만들 수 없다\n",
    "# 추상 클래스의 특징: 파이썬에서는 최소한 하나 이상의 abstract method(pure virtual function =순수 가상 함수)를 가지고 있어야 한다.\n",
    "# abstract method의 의미: 함수의 몸체가 없다. 즉 정의되어 있지 않음\n",
    "# >>>>>>abstract method는 반드시 자식(파생)클래스에서 재정의(overriding)를 해야 한다. \n",
    "\n",
    "from abc import *   #abc는 abstract base class의 약자\n",
    "\n",
    "class Animal(metaclass = ABCMeta):   #이 형태는 문법이니 그냥 받아들이기\n",
    "    @abstractmethod\n",
    "    def say(self):\n",
    "        pass   #몸체가 없음 \n",
    "\n",
    "class Dog(Animal):   # 반드시 Animal을 상속받아야한다. & 반드시 분모 클레스에 있는 say함수를 재정의해줘야함(abstract method이기에)\n",
    "    def say(self):\n",
    "        print('멍멍')\n",
    "        \n",
    "class Cat(Animal):\n",
    "    def say(self):\n",
    "        print('야옹')\n",
    "        \n",
    "class Duck(Animal):\n",
    "    def say(self):\n",
    "        print('꿱')\n",
    "        \n",
    "\n",
    "        \n",
    "# 같은 클래스 안에 같은 이름의 함수 두개 >> 오버 로딩  (파이썬에서 허용안함)\n",
    "\n",
    "# 분모 클래스와 분자 클래스 안에 같은 이름의 함수가 두개라 밑에것이 위에 것을 덮어 버리는 것 >> 오버 라이딩  (허용함)"
   ]
  },
  {
   "cell_type": "code",
   "execution_count": 8,
   "metadata": {},
   "outputs": [
    {
     "ename": "TypeError",
     "evalue": "Can't instantiate abstract class Animal with abstract methods say",
     "output_type": "error",
     "traceback": [
      "\u001b[1;31m---------------------------------------------------------------------------\u001b[0m",
      "\u001b[1;31mTypeError\u001b[0m                                 Traceback (most recent call last)",
      "\u001b[1;32m<ipython-input-8-94137cb51db3>\u001b[0m in \u001b[0;36m<module>\u001b[1;34m()\u001b[0m\n\u001b[1;32m----> 1\u001b[1;33m \u001b[0ma\u001b[0m \u001b[1;33m=\u001b[0m \u001b[0mAnimal\u001b[0m\u001b[1;33m(\u001b[0m\u001b[1;33m)\u001b[0m\u001b[1;33m\u001b[0m\u001b[0m\n\u001b[0m",
      "\u001b[1;31mTypeError\u001b[0m: Can't instantiate abstract class Animal with abstract methods say"
     ]
    }
   ],
   "source": [
    "a = Animal()"
   ]
  },
  {
   "cell_type": "code",
   "execution_count": 7,
   "metadata": {
    "collapsed": true
   },
   "outputs": [],
   "source": [
    "# 에러가 나는 이유 >> say라는 몸체가 없는 abstract method가 있기에 instance를 만들 수 없다.\n",
    "# abstract method는 정의가 되어 있지 않은 함수"
   ]
  },
  {
   "cell_type": "code",
   "execution_count": 9,
   "metadata": {
    "collapsed": true
   },
   "outputs": [],
   "source": [
    "b = Dog()"
   ]
  },
  {
   "cell_type": "code",
   "execution_count": 10,
   "metadata": {},
   "outputs": [
    {
     "name": "stdout",
     "output_type": "stream",
     "text": [
      "멍멍\n"
     ]
    }
   ],
   "source": [
    "b.say()"
   ]
  },
  {
   "cell_type": "code",
   "execution_count": 16,
   "metadata": {},
   "outputs": [
    {
     "name": "stdout",
     "output_type": "stream",
     "text": [
      "[<__main__.Dog object at 0x00FD1870>, <__main__.Cat object at 0x05D47950>, <__main__.Duck object at 0x00FD0450>]\n"
     ]
    }
   ],
   "source": [
    "# 고양이와 오리를 추가해줌\n",
    "\n",
    "# 다형성의 개념에 대해 배울 것임\n",
    "\n",
    "animals = []\n",
    "animals.append(Dog())\n",
    "animals.append(Cat())\n",
    "animals.append(Duck())\n",
    "print(animals)"
   ]
  },
  {
   "cell_type": "code",
   "execution_count": 14,
   "metadata": {
    "collapsed": true
   },
   "outputs": [],
   "source": [
    "# 다형성\n",
    "# 같은 코드 --> 다른 결과\n",
    "# 같은 이름의 매서드를 호출하는데 객체에 따라 결과가 다른다. "
   ]
  },
  {
   "cell_type": "code",
   "execution_count": 15,
   "metadata": {},
   "outputs": [
    {
     "name": "stdout",
     "output_type": "stream",
     "text": [
      "멍멍\n",
      "야옹\n",
      "꿱\n"
     ]
    }
   ],
   "source": [
    "for animal in animals:   #우리는 animal이 무엇인지 알 필요 없고 say라는 매서드를 가지고 있다는 것과 서로 다른 결과가 나올것이라 알고 있음\n",
    "    animal.say()"
   ]
  },
  {
   "cell_type": "code",
   "execution_count": 17,
   "metadata": {
    "collapsed": true
   },
   "outputs": [],
   "source": [
    "# 코드는 한줄로 같은데 for animal in animals >> 결과는 객체에 따라 다름 \n",
    "\n",
    "#oop의 꽃 >> 다형성\n",
    "\n",
    "# polymorphism (다형성)\n",
    "\n"
   ]
  },
  {
   "cell_type": "code",
   "execution_count": 19,
   "metadata": {
    "collapsed": true
   },
   "outputs": [],
   "source": [
    "from abc import *\n",
    "\n",
    "\n",
    "# 추상 클래스의 중요한 규칙: 공통적인 부분은 상위 클래스에 다 담는다.\n",
    "# 공통적인 부분은 맴버와 매서드 모두를 의미한다. \n",
    "\n",
    "class Char(metaclass = ABCMeta):\n",
    "    def __init__(self, name, hp, power):\n",
    "        self.name = name\n",
    "        self.hp = hp\n",
    "        self.power = power\n",
    "    @abstractmethod    \n",
    "    def attack(self, other, attack_kind):\n",
    "        pass\n",
    "    @abstractmethod\n",
    "    def get_damage(self, power, attack_kind):\n",
    "        pass\n",
    "    "
   ]
  },
  {
   "cell_type": "code",
   "execution_count": 72,
   "metadata": {
    "collapsed": true
   },
   "outputs": [],
   "source": [
    "class Player(Char):\n",
    "    def __init__(self,name ='player',hp=100 ,power = 20, *attack_kinds):    #(*) >> 가변인자로 받을 것임(가변인자는 튜플로 묶여서 들어옴_자동적으로)\n",
    "        super().__init__(name,hp,power)\n",
    "        self.skills = []\n",
    "        for attack_kind in attack_kinds:\n",
    "            self.skills.append(attack_kind)\n",
    "    \n",
    "    def attack(self, other, attack_kind):  \n",
    "        if attack_kind in self.skills:\n",
    "            other.get_damage(self.power, attack_kind)\n",
    "\n",
    "    \n",
    "    def get_damage(self,power, attack_kind):\n",
    "        '''만약에 스킬에 공격당하는 속성이 있으면 power의 반만 hp가 깎이고 없으면 power 만큼 깎인다.'''\n",
    "        if attack_kind in self.skills:\n",
    "            self.hp -= (power//2)\n",
    "        else:\n",
    "            self.hp -= power\n",
    "\n",
    "class Monster(Char):\n",
    "    def __init__(self, name, hp, power):\n",
    "        super().__init__(name,hp,power)\n",
    "        self.attack_kind = None\n",
    "    \n",
    "    def attack(self, other, attack_kind):\n",
    "        if self.attack_kind == attack_kind:\n",
    "            other.get_damage(self,power,attack_kind)\n",
    "    \n",
    "    def get_damage(self, power, attack_kind):\n",
    "        if self.attack_kind == attack_kind:\n",
    "            self.hp += power\n",
    "        else:\n",
    "            self.hp -= power\n",
    "            \n",
    "class IceMonster(Monster):\n",
    "    def __init__(self,name='ICE Monster',hp=100,power=20):\n",
    "        super().__init__(name,hp,power)\n",
    "        self.attack_kind = 'ICE'\n",
    "class FireMonster(Monster):\n",
    "    def __init__(self,name='FIRE Monster',hp=100,powe=30):\n",
    "        super().__init__(name,hp,power)\n",
    "        self.attack_kind = 'FIRE' \n",
    "\n"
   ]
  },
  {
   "cell_type": "code",
   "execution_count": 73,
   "metadata": {
    "collapsed": true
   },
   "outputs": [],
   "source": [
    "player = Player('great',120,30, 'ICE','FIRE')"
   ]
  },
  {
   "cell_type": "code",
   "execution_count": 74,
   "metadata": {
    "collapsed": true
   },
   "outputs": [],
   "source": [
    "monsters = []"
   ]
  },
  {
   "cell_type": "code",
   "execution_count": 75,
   "metadata": {
    "collapsed": true
   },
   "outputs": [],
   "source": [
    "monsters.append(IceMonster())"
   ]
  },
  {
   "cell_type": "code",
   "execution_count": 70,
   "metadata": {},
   "outputs": [
    {
     "name": "stdout",
     "output_type": "stream",
     "text": [
      "<__main__.IceMonster object at 0x01778B90>\n"
     ]
    }
   ],
   "source": [
    "for monster in monsters:\n",
    "    print(monster)"
   ]
  },
  {
   "cell_type": "code",
   "execution_count": null,
   "metadata": {
    "collapsed": true
   },
   "outputs": [],
   "source": [
    "# 절차지향의 경우 라이브러리에서 자신이 직접 함수를 가지고와야 하는데\n",
    "# 객체지향의 경우 변수와 함수가 묶여서 나옴. "
   ]
  }
 ],
 "metadata": {
  "kernelspec": {
   "display_name": "Python 3",
   "language": "python",
   "name": "python3"
  },
  "language_info": {
   "codemirror_mode": {
    "name": "ipython",
    "version": 3
   },
   "file_extension": ".py",
   "mimetype": "text/x-python",
   "name": "python",
   "nbconvert_exporter": "python",
   "pygments_lexer": "ipython3",
   "version": "3.6.2"
  }
 },
 "nbformat": 4,
 "nbformat_minor": 2
}
