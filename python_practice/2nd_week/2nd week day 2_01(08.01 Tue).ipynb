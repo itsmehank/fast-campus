{
 "cells": [
  {
   "cell_type": "code",
   "execution_count": 2,
   "metadata": {},
   "outputs": [
    {
     "name": "stdout",
     "output_type": "stream",
     "text": [
      "None\n"
     ]
    }
   ],
   "source": [
    "# 첫번째 녹음 >> 녹화 파일 참고(따로 녹음 안함)\n",
    "\n",
    "# 오늘 람다를 이용한 map filter reduce 하고 decorator 배울 것.\n",
    "# 내일할 과제 있음\n",
    "\n",
    "#목요일\n",
    "'''\n",
    "절차지향이란 것도 결국 함수.\n",
    "함수를 기반으로 하는 절차지향을 목요일에 나감\n",
    "'''\n",
    "print(None)"
   ]
  },
  {
   "cell_type": "code",
   "execution_count": 3,
   "metadata": {},
   "outputs": [
    {
     "data": {
      "text/plain": [
       "'\\n위의 3개의 특징 >>> 게으른 연산.(lazy evaluation) >>> 따라서 성능이 좋음\\n\\n\\n\\n'"
      ]
     },
     "execution_count": 3,
     "metadata": {},
     "output_type": "execute_result"
    }
   ],
   "source": [
    "# 수업 순서\n",
    "# 1.map 2.filter 3.reduce 4.게으른 연산 5.decorator(예제만들것)  (시간 남으면 인자 전달 방식)\n",
    "\n",
    "'''\n",
    "위의 3개의 특징 >>> 게으른 연산.(lazy evaluation) >>> 따라서 성능이 좋음\n",
    "'''"
   ]
  },
  {
   "cell_type": "code",
   "execution_count": 14,
   "metadata": {},
   "outputs": [
    {
     "name": "stdout",
     "output_type": "stream",
     "text": [
      "0\n",
      "1\n",
      "2\n",
      "3\n",
      "0  1  2  3  "
     ]
    },
    {
     "data": {
      "text/plain": [
       "('a', 1)"
      ]
     },
     "execution_count": 14,
     "metadata": {},
     "output_type": "execute_result"
    }
   ],
   "source": [
    "# map\n",
    "'''\n",
    "map(인자1, 인자2)\n",
    "\n",
    "인자2의 위치에는 iterable(순회가능한) 객체(object)가 들어옴\n",
    "\n",
    "'''\n",
    "# iterable \n",
    "# 정의: for loop로 실행할 수 있는 것.\n",
    "# iterable 객체: list, dictionary, tuple, string\n",
    "\n",
    "#print 와 end\n",
    "for i in range(4):\n",
    "    print(i) \n",
    "# 이렇게 print 하면 /n 으로 출력됨\n",
    "# 이유는 print (i, end='\\n'으로 되어 있기 때문)\n",
    "# \\n는 줄바꿈을 의미 >> 여기에 다른 것을 넣으면 각 출력 값을 입력 값을 기준으로 나뉘어 출력됨\n",
    "for e in range(4):\n",
    "    print(e, end='  ') \n",
    "\n",
    "# dictionary에 대해 +a\n",
    "key =('a','b')\n",
    "value =[1,2]\n",
    "# 일때, dictionary comprehension을 이용해서 dictionary 만들 수 있다.\n",
    " \n",
    "dic = {k : v for k, v in zip(key,value)}\n",
    "\n",
    "#zip은 두가지를 순서대로 묶어서 튜플 형태로 출력\n",
    "z = zip (key,value)\n",
    "# 재너레이터;게으른 연산(zip은 재너레이터의 한 종류)\n",
    "\n",
    "#next 함수(해당 함수를 연산해 순차적으로 결과를 보여줌)\n",
    "# 호출 할때마다 값을 하나씩 가져오고 다 가져오면 stop 메세지가 뜬다\n",
    "next(z)"
   ]
  },
  {
   "cell_type": "code",
   "execution_count": 15,
   "metadata": {},
   "outputs": [
    {
     "data": {
      "text/plain": [
       "('b', 2)"
      ]
     },
     "execution_count": 15,
     "metadata": {},
     "output_type": "execute_result"
    }
   ],
   "source": [
    "next(z)"
   ]
  },
  {
   "cell_type": "code",
   "execution_count": 19,
   "metadata": {},
   "outputs": [
    {
     "name": "stdout",
     "output_type": "stream",
     "text": [
      "{'a': 1, 'b': 2}\n"
     ]
    }
   ],
   "source": [
    "# dictionary에 대해 +a\n",
    "key =('a','b')\n",
    "value =[1,2]\n",
    "# 일때, dictionary comprehension을 이용해서 dictionary 만들 수 있다.\n",
    "# 방법1\n",
    "\n",
    "# dic = {k : v}   >>> key : value 형태\n",
    "dic = {k:v for k, v in zip(key, value)}\n",
    "print(dic)\n",
    "\n",
    "#방법2\n",
    "dic = dict(zip(key,value))   #zip으로 묶어서 dict 함수(dictionary 생성 함수)로 dictionary로 만듬"
   ]
  },
  {
   "cell_type": "code",
   "execution_count": 18,
   "metadata": {},
   "outputs": [
    {
     "name": "stdout",
     "output_type": "stream",
     "text": [
      "a 1\n",
      "b 2\n"
     ]
    }
   ],
   "source": [
    "# 두개로 나눠서 출력하기\n",
    "\n",
    "dic1 = {'a':1, 'b':2}\n",
    "for key, value in dic1.items():  #items에서 ()를 붙여주는 이유는 items는 함수이기에.\n",
    "    print(key, value)\n",
    "# dic1.items()를 for i in dic1.item():으로 받으면\n",
    "# 키와 벨류가 묶여서 튜플 형태로 출력됨\n",
    "# 키와 밸류를 나눠서 받고 싶으면 for statement에서 parameter를 두개로 설정하면 됨(위처럼)"
   ]
  },
  {
   "cell_type": "code",
   "execution_count": 21,
   "metadata": {},
   "outputs": [
    {
     "name": "stdout",
     "output_type": "stream",
     "text": [
      "{'a': 100, 'b': 200, 'c': 300}\n",
      "<zip object at 0x0065D878>\n",
      "(1, 'r')\n"
     ]
    }
   ],
   "source": [
    "# 실습\n",
    "\n",
    "keys = ('a', 'b', 'c')\n",
    "values = [100, 200, 300]\n",
    "dic3 = dict(zip(keys,values ))\n",
    "print(dic3)\n",
    "\n",
    "# 리스트와 리스트 zip\n",
    "list1 = [1,2,3]\n",
    "list2 = ['r','t','y']\n",
    "zz = zip(list1, list2)\n",
    "print(zz)\n",
    "print(next(zz))"
   ]
  },
  {
   "cell_type": "code",
   "execution_count": 22,
   "metadata": {
    "collapsed": true
   },
   "outputs": [],
   "source": [
    "# for 문에서 dictionary가 돌아갈 수 있는 이유\n",
    "# for문에서 list와 string dictionary를 넣는 순간 for문은 iterator로 변신함.\n",
    "# for 문에서 in의 대상이 되는 것은 그 자체로 들어가는 것이 아니라 iterator로 변한되서 들어감.\n"
   ]
  },
  {
   "cell_type": "code",
   "execution_count": 29,
   "metadata": {},
   "outputs": [
    {
     "name": "stdout",
     "output_type": "stream",
     "text": [
      "<list_iterator object at 0x00649F90>\n"
     ]
    }
   ],
   "source": [
    "# list를 iterator로 바꿔주는 것을 보기\n",
    "\n",
    "li =[1,2]\n",
    "it = iter(li)\n",
    "print(it)"
   ]
  },
  {
   "cell_type": "code",
   "execution_count": 30,
   "metadata": {},
   "outputs": [
    {
     "data": {
      "text/plain": [
       "1"
      ]
     },
     "execution_count": 30,
     "metadata": {},
     "output_type": "execute_result"
    }
   ],
   "source": [
    "next(it)"
   ]
  },
  {
   "cell_type": "code",
   "execution_count": 31,
   "metadata": {},
   "outputs": [
    {
     "data": {
      "text/plain": [
       "2"
      ]
     },
     "execution_count": 31,
     "metadata": {},
     "output_type": "execute_result"
    }
   ],
   "source": [
    "next(it)"
   ]
  },
  {
   "cell_type": "code",
   "execution_count": 32,
   "metadata": {
    "collapsed": true
   },
   "outputs": [],
   "source": [
    "# 이터레이터 안에 제너레이터가 포함됨. \n",
    "# 게으른 연산은 이터레이터의 특징"
   ]
  },
  {
   "cell_type": "code",
   "execution_count": 33,
   "metadata": {},
   "outputs": [
    {
     "data": {
      "text/plain": [
       "'\\nlist = [1,2,3,4] 라는 iterable object가 있다.\\nf(x) = y 라는 식이 있다.\\nx에 list의 element를 넣으면 각각의 y가 도출됨.\\n\\n>>> 이 기능을 하는 것이 map.\\nmap(<식>,<iterable object>)\\n'"
      ]
     },
     "execution_count": 33,
     "metadata": {},
     "output_type": "execute_result"
    }
   ],
   "source": [
    "# map\n",
    "# 형태>> map(<function>, <iterable object>)\n",
    "# iterator 자체도 iterable object임 (제너레이터도 iterable object임)\n",
    "'''\n",
    "list = [1,2,3,4] 라는 iterable object가 있다.\n",
    "f(x) = y 라는 식이 있다.\n",
    "x에 list의 element를 넣으면 각각의 y가 도출됨.\n",
    "\n",
    ">>> 이 기능을 하는 것이 map.\n",
    "map(<식>,<iterable object>)\n",
    "'''\n",
    "# map은 제너레이터"
   ]
  },
  {
   "cell_type": "code",
   "execution_count": 34,
   "metadata": {
    "collapsed": true
   },
   "outputs": [],
   "source": [
    "# map\n",
    "def mul_10(x):\n",
    "    return x * 10"
   ]
  },
  {
   "cell_type": "code",
   "execution_count": 35,
   "metadata": {},
   "outputs": [
    {
     "name": "stdout",
     "output_type": "stream",
     "text": [
      "<map object at 0x00649230>\n"
     ]
    }
   ],
   "source": [
    "listt = [1,2,3,4,]\n",
    "m = map(mul_10, listt)\n",
    "print(m)    #제너레이터인 map객체가 나옴"
   ]
  },
  {
   "cell_type": "code",
   "execution_count": 36,
   "metadata": {},
   "outputs": [
    {
     "data": {
      "text/plain": [
       "10"
      ]
     },
     "execution_count": 36,
     "metadata": {},
     "output_type": "execute_result"
    }
   ],
   "source": [
    "next(m)"
   ]
  },
  {
   "cell_type": "code",
   "execution_count": 37,
   "metadata": {},
   "outputs": [
    {
     "data": {
      "text/plain": [
       "20"
      ]
     },
     "execution_count": 37,
     "metadata": {},
     "output_type": "execute_result"
    }
   ],
   "source": [
    "next(m)"
   ]
  },
  {
   "cell_type": "code",
   "execution_count": 38,
   "metadata": {},
   "outputs": [
    {
     "name": "stdout",
     "output_type": "stream",
     "text": [
      "30\n",
      "40\n"
     ]
    }
   ],
   "source": [
    "# map역시 iterable object이기에 for 문에 사용 가능\n",
    "for i in m:\n",
    "    print(i)"
   ]
  },
  {
   "cell_type": "code",
   "execution_count": 40,
   "metadata": {},
   "outputs": [
    {
     "ename": "SyntaxError",
     "evalue": "can't use starred expression here (<ipython-input-40-890092d23f10>, line 3)",
     "output_type": "error",
     "traceback": [
      "\u001b[1;36m  File \u001b[1;32m\"<ipython-input-40-890092d23f10>\"\u001b[1;36m, line \u001b[1;32m3\u001b[0m\n\u001b[1;33m    m = map(lambda *listt : 10*(*listt))\u001b[0m\n\u001b[1;37m                               ^\u001b[0m\n\u001b[1;31mSyntaxError\u001b[0m\u001b[1;31m:\u001b[0m can't use starred expression here\n"
     ]
    }
   ],
   "source": [
    "# 람다로 함수 변환해서 map에 사용하기\n",
    "\n",
    "m = map(lambda x : 10*x, listt)\n",
    "for e in m:\n",
    "    print(e)"
   ]
  },
  {
   "cell_type": "code",
   "execution_count": 41,
   "metadata": {
    "collapsed": true
   },
   "outputs": [],
   "source": [
    "# 리스트가 메모리를 많이 먹음. >>>  이것 때문에 map을 사용"
   ]
  },
  {
   "cell_type": "code",
   "execution_count": 42,
   "metadata": {},
   "outputs": [
    {
     "data": {
      "text/plain": [
       "{'a': 1, 'b': 2}"
      ]
     },
     "execution_count": 42,
     "metadata": {},
     "output_type": "execute_result"
    }
   ],
   "source": [
    "# 중요한 특징\n",
    "dic"
   ]
  },
  {
   "cell_type": "code",
   "execution_count": 43,
   "metadata": {},
   "outputs": [
    {
     "data": {
      "text/plain": [
       "dict_keys(['a', 'b'])"
      ]
     },
     "execution_count": 43,
     "metadata": {},
     "output_type": "execute_result"
    }
   ],
   "source": [
    "dic.keys()    # 출력 형태를 보면 독특한 형태>> 이것의 특징을 보자"
   ]
  },
  {
   "cell_type": "code",
   "execution_count": 49,
   "metadata": {},
   "outputs": [
    {
     "data": {
      "text/plain": [
       "['a', 'b', 'e']"
      ]
     },
     "execution_count": 49,
     "metadata": {},
     "output_type": "execute_result"
    }
   ],
   "source": [
    "#dict_keys라는 형태가 마음에 안들어서 list로 바꾸면\n",
    "key_list = list(dic.keys())\n",
    "key_list"
   ]
  },
  {
   "cell_type": "code",
   "execution_count": 50,
   "metadata": {
    "collapsed": true
   },
   "outputs": [],
   "source": [
    "# keys(), values(), items()의 이름은 view 객체\n",
    "# 세가지의 특징은 동적이다라는 것(동적 객체)\n",
    "key_views = dic.keys()"
   ]
  },
  {
   "cell_type": "code",
   "execution_count": 51,
   "metadata": {},
   "outputs": [
    {
     "data": {
      "text/plain": [
       "dict_keys(['a', 'b', 'e'])"
      ]
     },
     "execution_count": 51,
     "metadata": {},
     "output_type": "execute_result"
    }
   ],
   "source": [
    "key_views"
   ]
  },
  {
   "cell_type": "code",
   "execution_count": 54,
   "metadata": {
    "collapsed": true
   },
   "outputs": [],
   "source": [
    "dic['f'] = 5 #dic에서 하나 추가"
   ]
  },
  {
   "cell_type": "code",
   "execution_count": 55,
   "metadata": {},
   "outputs": [
    {
     "data": {
      "text/plain": [
       "['a', 'b', 'e']"
      ]
     },
     "execution_count": 55,
     "metadata": {},
     "output_type": "execute_result"
    }
   ],
   "source": [
    "key_list # 변동 없음"
   ]
  },
  {
   "cell_type": "code",
   "execution_count": 56,
   "metadata": {},
   "outputs": [
    {
     "data": {
      "text/plain": [
       "dict_keys(['a', 'b', 'e', 'f'])"
      ]
     },
     "execution_count": 56,
     "metadata": {},
     "output_type": "execute_result"
    }
   ],
   "source": [
    "key_views"
   ]
  },
  {
   "cell_type": "code",
   "execution_count": 57,
   "metadata": {
    "collapsed": true
   },
   "outputs": [],
   "source": [
    "#key_views는 변동사항 반영한다. (중요한 특징_동적객체의 특징)"
   ]
  },
  {
   "cell_type": "code",
   "execution_count": 58,
   "metadata": {},
   "outputs": [
    {
     "data": {
      "text/plain": [
       "'\\n게으른 연산 : \\n필요할 때 마다 연산한다\\n\\n'"
      ]
     },
     "execution_count": 58,
     "metadata": {},
     "output_type": "execute_result"
    }
   ],
   "source": [
    "# map은 게으른 연산을 하기 때문에 효율적이다(메모리를 조금만 잡아먹음)\n",
    "\n",
    "#게으른 연산이란??\n",
    "\n",
    "'''\n",
    "게으른 연산 : \n",
    "필요할 때 마다 연산한다\n",
    "\n",
    "'''"
   ]
  },
  {
   "cell_type": "code",
   "execution_count": 60,
   "metadata": {},
   "outputs": [
    {
     "name": "stdout",
     "output_type": "stream",
     "text": [
      "func ecceuted\n"
     ]
    },
    {
     "data": {
      "text/plain": [
       "1"
      ]
     },
     "execution_count": 60,
     "metadata": {},
     "output_type": "execute_result"
    }
   ],
   "source": [
    "def func(a):\n",
    "    print(\"func ecceuted\")\n",
    "    return a ** 2\n",
    "lia = [1,2,3,4]\n",
    "m = map(func, lia)\n",
    "next(m)"
   ]
  },
  {
   "cell_type": "code",
   "execution_count": 61,
   "metadata": {},
   "outputs": [
    {
     "data": {
      "text/plain": [
       "'\\n필요할 때마다 가져와 계산한다는 것이 게으른 연산\\n즉!!!!\\nnext함수를 호출할 시기를 자신이 결정하는 것.\\n\\n'"
      ]
     },
     "execution_count": 61,
     "metadata": {},
     "output_type": "execute_result"
    }
   ],
   "source": [
    "# func이라는 것이 list에서 값을 가져와서 연산을 한번에 하나씩 하는 것.\n",
    "# next(m) 을 호출하는 순간 한번에 하나씩 인수를 가져와 계산 (참고로 map 함수 안에는 next 함수가 embedded 되어 있다.)\n",
    "\n",
    "#>>>>>>>>> 이것의 의미: 거대한 데이터를 분석할 때, 리스트로 분석시 해당 데이터와 똑같은 공간의 return 메모리 공간이 필요\n",
    "# >>>>>>>> map을 이용하면 한번에 하나씩 연산하기 때문에 동시에 원본데이터 공간과 출력 공간이 필요하지 않음. \n",
    "\n",
    "'''\n",
    "필요할 때마다 가져와 계산한다는 것이 게으른 연산\n",
    "즉!!!!\n",
    "next함수를 호출할 시기를 자신이 결정하는 것.\n",
    "\n",
    "'''\n",
    "\n",
    "#여기까지 map과 게으른 연산 끝."
   ]
  },
  {
   "cell_type": "code",
   "execution_count": 64,
   "metadata": {},
   "outputs": [
    {
     "name": "stdout",
     "output_type": "stream",
     "text": [
      "1  4  9  16  25  "
     ]
    }
   ],
   "source": [
    "# map 연습\n",
    "\n",
    "# 제곱\n",
    "list11=[1,2,3,4,5,]\n",
    "m = map(lambda x: x**2, list11)\n",
    "for i in m:\n",
    "    print(i, end='  ')"
   ]
  },
  {
   "cell_type": "code",
   "execution_count": null,
   "metadata": {
    "collapsed": true
   },
   "outputs": [],
   "source": [
    "# 제너레이터라는 이름\n",
    "# 실제로 함수가 실행 도중에 값을 만들어내기때문에 제너레이너라고 부름\n",
    "# class 배우고 제너레이터를 배울 것."
   ]
  }
 ],
 "metadata": {
  "kernelspec": {
   "display_name": "Python 3",
   "language": "python",
   "name": "python3"
  },
  "language_info": {
   "codemirror_mode": {
    "name": "ipython",
    "version": 3
   },
   "file_extension": ".py",
   "mimetype": "text/x-python",
   "name": "python",
   "nbconvert_exporter": "python",
   "pygments_lexer": "ipython3",
   "version": "3.6.2"
  }
 },
 "nbformat": 4,
 "nbformat_minor": 2
}
