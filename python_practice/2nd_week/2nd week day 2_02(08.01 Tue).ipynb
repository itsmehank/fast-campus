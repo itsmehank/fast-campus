{
 "cells": [
  {
   "cell_type": "code",
   "execution_count": 1,
   "metadata": {},
   "outputs": [
    {
     "name": "stdout",
     "output_type": "stream",
     "text": [
      "2\n",
      "5\n"
     ]
    }
   ],
   "source": [
    "# 두번째 파일\n",
    "\n",
    "\n",
    "# filter\n",
    "# 조건이 참이면 포함\n",
    "# 조건이 거짓이면 포함 안 함\n",
    "\n",
    "li = [2, -4, 5, -7]\n",
    "result = filter(lambda x: x>0, li) # 0보다 크면 list에 포함, 아니면 포함시키지 않음\n",
    "# filter는 제너레이터\n",
    "\n",
    "for e in result:\n",
    "    print(e)"
   ]
  },
  {
   "cell_type": "code",
   "execution_count": 2,
   "metadata": {},
   "outputs": [
    {
     "name": "stdout",
     "output_type": "stream",
     "text": [
      "a > 0\n"
     ]
    }
   ],
   "source": [
    "# 삼항 연산자\n",
    "\n",
    "a = 10\n",
    "if a > 0:\n",
    "    print('a > 0')\n",
    "else: \n",
    "    print('a < 0')\n",
    "    \n",
    "#이것과 똑같은 식을 삼항연산자로 만들면 줄일 수 있다."
   ]
  },
  {
   "cell_type": "code",
   "execution_count": 3,
   "metadata": {},
   "outputs": [
    {
     "name": "stdout",
     "output_type": "stream",
     "text": [
      "a > 0\n"
     ]
    }
   ],
   "source": [
    "#삼항 연산자 만들기\n",
    "print(\"a > 0\" if a>0 else 'a < 0')   #삼항 연산자를 만드는 순서 중요 (참일때 값 +  참인 조건 + 아니면 + 거짓일 때 값)"
   ]
  },
  {
   "cell_type": "code",
   "execution_count": 13,
   "metadata": {},
   "outputs": [
    {
     "name": "stdout",
     "output_type": "stream",
     "text": [
      "a>0\n"
     ]
    }
   ],
   "source": [
    "# 삼항 연산자는 elif가 되는데 복잡해짐\n",
    "print(\"a>0\" if a > 0 else(\"a==0\" if a == 0 else \"a<0\"))   # 조건이 많아 질수록 삼항연산자는 가독성이 매우 떨어지기에 조건이 많으면 if문쓰기"
   ]
  },
  {
   "cell_type": "code",
   "execution_count": 24,
   "metadata": {},
   "outputs": [
    {
     "name": "stdout",
     "output_type": "stream",
     "text": [
      "['양수', '0', '양수', '음수']\n"
     ]
    }
   ],
   "source": [
    "# 실습\n",
    "# 양수면 양수 출력, 음수면 음수 출력, 0이면 0 출력\n",
    "a = 10\n",
    "li =[2,0,5,-7]\n",
    "\n",
    "m = map(lambda x:\"양수\" if x>0  else(\"음수\" if x < 0 else \"0\") ,li)\n",
    "# lambda에서 삼항 연산자를 사용하는 형태 잘 보기\n",
    "# lambda에서 function의 위치에는 출력 값도 나타남.\n",
    "print(list(m))"
   ]
  },
  {
   "cell_type": "code",
   "execution_count": 45,
   "metadata": {},
   "outputs": [
    {
     "name": "stdout",
     "output_type": "stream",
     "text": [
      "<function <lambda> at 0x01561780> [1, 2, 3, 4]\n",
      "<map object at 0x01504790>\n",
      "False\n"
     ]
    }
   ],
   "source": [
    "# 람다에 대하여 실험 page\n",
    "li2222 = [1,2,3,4,]\n",
    "print(lambda x: x>2, li2222)  # 람다 자체는 일회성 [함수] 이기에 작동기능은 없음\n",
    "lambda x: x>2, li2222\n",
    "print(map(lambda x: x>2, li2222))\n",
    "print(next(map(lambda x: x>2, li2222)))\n",
    "'''\n",
    "람다는 def function(a,b)\n",
    "           return <something> \n",
    "과 같은 함수를 정의 내리지 않고 일회성으로 사용하기 위해 만든 것. \n",
    "'''"
   ]
  },
  {
   "cell_type": "code",
   "execution_count": 46,
   "metadata": {},
   "outputs": [
    {
     "data": {
      "text/plain": [
       "[4, 25]"
      ]
     },
     "execution_count": 46,
     "metadata": {},
     "output_type": "execute_result"
    }
   ],
   "source": [
    "#두번째 예제\n",
    "li333=[2,5,-6,0,-7]\n",
    "#양수만 뽑아서 제곱한 값들을 모은 list를 한줄로 만들어라. \n",
    "\n",
    "result = list(map(lambda x: x**2,list(filter(lambda x: x>0,li333))))  # filter의 결과물은 자체로 iterable object이기에 list화 시키지 않고\n",
    "result                                                                # 바로 map의 <iterable object>의 위치에 사용 가능.(list지우기)"
   ]
  },
  {
   "cell_type": "code",
   "execution_count": 47,
   "metadata": {},
   "outputs": [
    {
     "data": {
      "text/plain": [
       "[4, 25]"
      ]
     },
     "execution_count": 47,
     "metadata": {},
     "output_type": "execute_result"
    }
   ],
   "source": [
    "# filter의 결과물 바로 map에 사용하기 예시\n",
    "li4444=[2,5,-6,0,-7]\n",
    "result2 = list(map(lambda x: x**2,filter(lambda x: x > 0, li4444)))   #list로 바꾸지 않고 바로 사용 가능.\n",
    "result2"
   ]
  },
  {
   "cell_type": "code",
   "execution_count": null,
   "metadata": {
    "collapsed": true
   },
   "outputs": [],
   "source": []
  }
 ],
 "metadata": {
  "kernelspec": {
   "display_name": "Python 3",
   "language": "python",
   "name": "python3"
  },
  "language_info": {
   "codemirror_mode": {
    "name": "ipython",
    "version": 3
   },
   "file_extension": ".py",
   "mimetype": "text/x-python",
   "name": "python",
   "nbconvert_exporter": "python",
   "pygments_lexer": "ipython3",
   "version": "3.6.2"
  }
 },
 "nbformat": 4,
 "nbformat_minor": 2
}
