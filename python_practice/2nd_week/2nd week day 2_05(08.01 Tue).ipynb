{
 "cells": [
  {
   "cell_type": "code",
   "execution_count": 6,
   "metadata": {},
   "outputs": [
    {
     "name": "stdout",
     "output_type": "stream",
     "text": [
      "this is value:  1\n",
      "this is each value as for loop is working: 3\n",
      "this is each value as for loop is working: 6\n",
      "this is each value as for loop is working: 10\n",
      "this is each value as for loop is working: 15\n",
      "15\n"
     ]
    }
   ],
   "source": [
    "# reduce 작동원리 실험장\n",
    "def reduce(function, iterable, initializer=None):\n",
    "    it = iter(iterable) \n",
    "    if initializer is None:\n",
    "        value = next(it) \n",
    "        print (\"this is value: \", value)\n",
    "    else: \n",
    "        value = initializer\n",
    "    for element in it:\n",
    "        value = function(value, element)\n",
    "        print ('this is each value as for loop is working:', value)\n",
    "    return value\n",
    "\n",
    "li = [1,2,3,4,5,]\n",
    "\n",
    "print (reduce(lambda x,y: x+y, li))\n"
   ]
  },
  {
   "cell_type": "code",
   "execution_count": 11,
   "metadata": {},
   "outputs": [
    {
     "name": "stdout",
     "output_type": "stream",
     "text": [
      "13\n",
      "Things\n",
      "8\n",
      "Things\n",
      "9\n"
     ]
    }
   ],
   "source": [
    "# 데코레이터 decorator (중요*****)\n",
    "# 이미 누군가가 정의해 놓은 기능을 내 함수에 추가 해놓고 싶을때 데코레이터를 쓴다.\n",
    "\n",
    "'''\n",
    "\n",
    "\n",
    "'''\n",
    "# 시작하기전에 필수로 알아야 하는것\n",
    "# 같은 이름의 변수, 함수 등등이 있을때 가장 마지막에(최근에) 정의한 것이 해당 값이된다.\n",
    "\n",
    "# 시작\n",
    "def outer(func):\n",
    "    def inner(*args, **kwargs):\n",
    "        print(\"Things\")\n",
    "        return func(*args, **kwargs)\n",
    "    return inner\n",
    "\n",
    "#이렇게 하면 outer라는 데코레이터가 완성됨\n",
    "# 데코레이터는 클로저임.\n",
    "'''\n",
    "내부정보로 func라는 함수를 가짐\n",
    "'''\n",
    "\n",
    "def adder(a,b):\n",
    "    return a+b\n",
    "\n",
    "c = adder(5,8)\n",
    "print(c) # 8이 나옴\n",
    "\n",
    "\n",
    "adder = outer(adder)\n",
    "# adder라는 원래 있는 함수를 outer 함수에 넣음 \n",
    "\n",
    "c = adder(5,3)\n",
    "print(c)\n",
    "\n",
    "@outer\n",
    "def adder(a,b):\n",
    "    return a+b\n",
    "\n",
    "#이렇게 하면 outer의 기능이 adder에 추가가 됨\n",
    "\n",
    "print(adder(3,6))"
   ]
  },
  {
   "cell_type": "code",
   "execution_count": 12,
   "metadata": {},
   "outputs": [
    {
     "name": "stdout",
     "output_type": "stream",
     "text": [
      "call number : 1\n",
      "4\n",
      "call number : 2\n",
      "6\n",
      "call number : 3\n",
      "8\n",
      "call number : 4\n",
      "10\n",
      "call number : 5\n",
      "12\n",
      "call number : 6\n",
      "14\n",
      "call number : 7\n",
      "16\n",
      "call number : 8\n",
      "18\n",
      "call number : 9\n",
      "20\n",
      "call number : 10\n",
      "22\n"
     ]
    }
   ],
   "source": [
    "# @<추가하려는 function> \n",
    "# 추가 하고 싶은 기능 : 함수를 몇번 호출 했는지 보고 싶음\n",
    "\n",
    "def call_count(func):\n",
    "    count = 0\n",
    "    def inner(*args, **kwargs):\n",
    "        nonlocal count\n",
    "        count += 1\n",
    "        print(\"call number : {}\".format(count))\n",
    "        return func(*args,**kwargs)\n",
    "    return inner\n",
    "\n",
    "@call_count\n",
    "def adder(a,b):\n",
    "    return a+b                            \n",
    "'''\n",
    "위의 명령은 adder = call_count(adder(a,b)) 의 뜻\n",
    ">>즉 adder라는 함수를 데코레이터 한 것으로 새로 정의 내려주는것.\n",
    "이렇게 데코레이터를 붙여주는 시점에 adder=call_count(adder(a,b))의 결과인 inner()가 보이진 않지만 return되어 있다.\n",
    "(파이썬튜터.com 사용하면 볼 수 있음)\n",
    ">>> 따라서 adder실행시에 call_count(adder(a,b))가 아닌 바로 inner로 가서 실행된다!!!!\n",
    "'''\n",
    "for i in range(1,11):\n",
    "    a = i + 1\n",
    "    b = i + 1\n",
    "    print(adder(a,b))\n",
    "\n",
    "\n",
    "# call count는 디버깅할때 유용 >>> 몇번 돌아갔는지 확인\n",
    "# 데코레이터는 중첩이 된다.\n",
    "@a\n",
    "@b\n",
    "@c\n",
    "def funcs():\n",
    "    pass\n"
   ]
  },
  {
   "cell_type": "code",
   "execution_count": 18,
   "metadata": {},
   "outputs": [
    {
     "name": "stdout",
     "output_type": "stream",
     "text": [
      "elapsed time: 3.0 sec\n"
     ]
    },
    {
     "data": {
      "text/plain": [
       "9"
      ]
     },
     "execution_count": 18,
     "metadata": {},
     "output_type": "execute_result"
    }
   ],
   "source": [
    "# 하나 더 만들어보기\n",
    "import time\n",
    "\n",
    "start = time.time()   입력시 시간을 가리킴.\n",
    "# 무엇인가 진행(일들)\n",
    "elapsed = time.time() - a   # 지금 시점에서 처음 시점을 빼면 경과 시간이 출력됨.\n",
    "\n",
    "#time.time()  알아보기.\n",
    "\n",
    "\n",
    "def timer(func):\n",
    "    def inner(*args, **kwargs):\n",
    "        start = time.time()\n",
    "        ret =func(*args, **kwargs) # 언팩킹\n",
    "        elapsed = time.time() - start\n",
    "        print ('elapsed time: {} sec'.format(round(elapsed, 1)))\n",
    "        return ret\n",
    "    return inner\n",
    "\n",
    "@timer\n",
    "def adder(a,b):\n",
    "    time.sleep(3)  # 3초를 아무것도 안하고 쉬라는 명령 (os가 시간을 가져감.)\n",
    "    return a+b\n",
    "\n",
    "adder(4,5)"
   ]
  },
  {
   "cell_type": "code",
   "execution_count": 21,
   "metadata": {},
   "outputs": [
    {
     "name": "stdout",
     "output_type": "stream",
     "text": [
      "2.01\n",
      "3.1413\n"
     ]
    }
   ],
   "source": [
    "#time.time()  알아보기.\n",
    "#time.time()는 에포치라는 특정한 기준 시점(몇년 몇월 몇일 몇시 몇분 몇초 인지는 찾아보기)에서 현재까지의 지나간 시간을 초수로 나타냄\n",
    "\n",
    "#검색결과 >>> 1970년 1월 1일 자정 이후로 누적된 초를 float 단위로 반환 출처\n",
    "\n",
    "\n",
    "''' 경과시간 알아보는 함수(프로그램 작동 시간 볼때 많이 쓰임)'''\n",
    "start = time.time()\n",
    "time.sleep(2)\n",
    "elapsed = time.time() - start\n",
    "print(round(elapsed, 2))\n",
    "''' 여기까지'''\n",
    "\n",
    "\n",
    "#round 함수\n",
    "# round(<float>, <보고 싶은 소수점 숫자>) >>>>>>>>>>>>>>>>>>해당 숫자에서 반올림 해줌.\n",
    "#예시\n",
    "print(round(3.141253252352125, 4))"
   ]
  },
  {
   "cell_type": "code",
   "execution_count": 24,
   "metadata": {},
   "outputs": [
    {
     "name": "stdout",
     "output_type": "stream",
     "text": [
      "20\n",
      "elapsed time : 3.002020835876465 sec\n",
      "20\n"
     ]
    }
   ],
   "source": [
    "import time\n",
    "\n",
    "def timer(func):\n",
    "    def inner(*args, **kwargs):\n",
    "        start = time.time()\n",
    "        ret = func(*args, **kwargs)#나중에 리턴하기 위해 받아놓음  # 이렇게 변수 설정만 해도 실제 시행됨. \n",
    "        # print (ret) >>>>>> 이미 함수는 실행되서 결과 값이 ret에 저장됨\n",
    "        elapsed = time.time() - start  #시행되고 나서의 시간 확인\n",
    "        print ('elapsed time : {} sec'. format(elapsed))\n",
    "        return ret  # 저장된 ret을 불러옴.\n",
    "    return inner\n",
    "\n",
    "@timer\n",
    "def mul(a,b):\n",
    "    time.sleep(3)\n",
    "    return a*b\n",
    "\n",
    "print(mul(5,4))"
   ]
  },
  {
   "cell_type": "code",
   "execution_count": 27,
   "metadata": {},
   "outputs": [
    {
     "name": "stdout",
     "output_type": "stream",
     "text": [
      "inner_timer\n",
      "call number : 1\n",
      "hohohohohohoho\n",
      "elapsed time : 3.0077102184295654 sec\n",
      "20\n"
     ]
    }
   ],
   "source": [
    "# 마지막 데코레이터 특징\n",
    "\n",
    "# 위처럼 설계 했을때 치명적인 문제가 있음\n",
    "# 여러개의 데코레이터를 추가 할 수 있음\n",
    "def call_count(func):\n",
    "    count = 0\n",
    "    def inner_count(*args, **kwargs):\n",
    "        print(func.__name__)\n",
    "        nonlocal count\n",
    "        count += 1\n",
    "        print(\"call number : {}\".format(count))\n",
    "        return func(*args,**kwargs)\n",
    "    return inner_count\n",
    "\n",
    "def timer(func):\n",
    "    def inner_timer(*args, **kwargs):\n",
    "        print(func.__name__)\n",
    "        start = time.time()\n",
    "        ret = func(*args, **kwargs)\n",
    "        elapsed = time.time() - start  \n",
    "        print ('elapsed time : {} sec'. format(elapsed))\n",
    "        return ret  \n",
    "    return inner_timer\n",
    "\n",
    "\n",
    "@call_count   #function의 호출 횟수를 원하는 것 \n",
    "@timer        #function의 시행 시간을 원하는 것\n",
    "def hohohohohohoho(a,b):\n",
    "    time.sleep(3)\n",
    "    return a*b\n",
    "\n",
    "print(hohohohohohoho(5,4))\n",
    "\n",
    "#결과값에 기본 함수인 mul의 return 값이 두개가 출력됨. \n",
    "# call count가 timer를 감싸서 call count의 인자자리에 timer가 들어가버림 >>>> func가 inner_timer가 됨. \n",
    "'''\n",
    "\n",
    "1.@call_count\n",
    "2.@timer\n",
    "3.def hoho():\n",
    "\n",
    "2~3 >>>> hoho = timer(hoho)\n",
    "timer(hoho)는 최종적으로 inner_timer를 return\n",
    "\n",
    "1.@call_count\n",
    "2.@inner_timer\n",
    "3.def hoho():\n",
    "1~2 >>>> hoho = call_count(inner_timer)\n",
    "\n",
    "'''\n",
    "\n",
    "# return을 내부 함수로 해서 이러한 문제가 발생"
   ]
  },
  {
   "cell_type": "code",
   "execution_count": 34,
   "metadata": {},
   "outputs": [
    {
     "name": "stdout",
     "output_type": "stream",
     "text": [
      "hohohohohohoho\n",
      "call number : 1\n",
      "hohohohohohoho\n",
      "elapsed time : 3.0036275386810303 sec\n",
      "20\n"
     ]
    }
   ],
   "source": [
    "# 해결 방법\n",
    "# wrap 호출\n",
    "\n",
    "from functools import wraps\n",
    "\n",
    "\n",
    "def call_count(func):\n",
    "    count = 0\n",
    "    @wraps(func)\n",
    "    def inner_count(*args, **kwargs):\n",
    "        print(func.__name__)\n",
    "        nonlocal count\n",
    "        count += 1\n",
    "        print(\"call number : {}\".format(count))\n",
    "        return func(*args,**kwargs)\n",
    "    return inner_count\n",
    "\n",
    "def timer(func):\n",
    "    @wraps(func)\n",
    "    def inner_timer(*args, **kwargs):\n",
    "        print(func.__name__)\n",
    "        start = time.time()\n",
    "        ret = func(*args, **kwargs)\n",
    "        elapsed = time.time() - start  \n",
    "        print ('elapsed time : {} sec'. format(elapsed))\n",
    "        return ret  \n",
    "    return inner_timer\n",
    "\n",
    "\n",
    "@call_count   #function의 호출 횟수를 원하는 것 \n",
    "@timer        #function의 시행 시간을 원하는 것   # 순서는 call_count부터 실행 >> time 실행\n",
    "def hohohohohohoho(a,b):\n",
    "    time.sleep(3)\n",
    "    return a*b\n",
    "\n",
    "print(hohohohohohoho(5,4))"
   ]
  },
  {
   "cell_type": "code",
   "execution_count": null,
   "metadata": {
    "collapsed": true
   },
   "outputs": [],
   "source": []
  }
 ],
 "metadata": {
  "kernelspec": {
   "display_name": "Python 3",
   "language": "python",
   "name": "python3"
  },
  "language_info": {
   "codemirror_mode": {
    "name": "ipython",
    "version": 3
   },
   "file_extension": ".py",
   "mimetype": "text/x-python",
   "name": "python",
   "nbconvert_exporter": "python",
   "pygments_lexer": "ipython3",
   "version": "3.6.2"
  }
 },
 "nbformat": 4,
 "nbformat_minor": 2
}
