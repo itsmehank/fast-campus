{
 "cells": [
  {
   "cell_type": "code",
   "execution_count": 2,
   "metadata": {},
   "outputs": [
    {
     "name": "stdout",
     "output_type": "stream",
     "text": [
      "10000000\n"
     ]
    }
   ],
   "source": [
    "# 전역변수와 지역변수\n",
    "\n",
    "x = 10 # 전역변수\n",
    "\n",
    "def func(a,b):   #a,b는 parameter or argument or orpand라고 부름\n",
    "    c = 10       #a,b,c,d 는 모두 지역 변수\n",
    "    d = 20\n",
    "    global x\n",
    "    x = 10000000\n",
    "    return x\n",
    "\n",
    "print(func('a','b'))"
   ]
  },
  {
   "cell_type": "code",
   "execution_count": 3,
   "metadata": {},
   "outputs": [
    {
     "name": "stdout",
     "output_type": "stream",
     "text": [
      "1 10 20 30 40\n"
     ]
    }
   ],
   "source": [
    "# 함수 안에 함수\n",
    "\n",
    "x = 1    #global variable\n",
    "def outer():\n",
    "    a = 10    # a,b는 outer의 local variable이자,,, (inner입장에서는) inner의 free-variable이다. \n",
    "    b = 20\n",
    "    def inner(): \n",
    "        global x\n",
    "        nonlocal a\n",
    "        a = 100000\n",
    "        c = 30       #c,d는 inner의 local variable\n",
    "        d = 40\n",
    "        print(x,a,b,c,d)\n",
    "    return inner\n",
    "\n",
    "\n",
    "outer()\n",
    "\n",
    "'''\n",
    "inner function에서 outer function의 변수에 접근하는 방법\n",
    "nonlocal + <variable name>\n",
    "\n",
    "\n",
    "\n",
    "'''"
   ]
  },
  {
   "cell_type": "code",
   "execution_count": 8,
   "metadata": {},
   "outputs": [
    {
     "name": "stdout",
     "output_type": "stream",
     "text": [
      "1 10 20 30 40\n"
     ]
    }
   ],
   "source": [
    "f = outer()    #f는 inner를 return을 받아옴"
   ]
  },
  {
   "cell_type": "code",
   "execution_count": 9,
   "metadata": {},
   "outputs": [
    {
     "ename": "AttributeError",
     "evalue": "'NoneType' object has no attribute '__code__'",
     "output_type": "error",
     "traceback": [
      "\u001b[1;31m---------------------------------------------------------------------------\u001b[0m",
      "\u001b[1;31mAttributeError\u001b[0m                            Traceback (most recent call last)",
      "\u001b[1;32m<ipython-input-9-e2d96f60ec78>\u001b[0m in \u001b[0;36m<module>\u001b[1;34m()\u001b[0m\n\u001b[1;32m----> 1\u001b[1;33m \u001b[0mcode\u001b[0m \u001b[1;33m=\u001b[0m \u001b[0mf\u001b[0m\u001b[1;33m.\u001b[0m\u001b[0m__code__\u001b[0m\u001b[1;33m\u001b[0m\u001b[0m\n\u001b[0m",
      "\u001b[1;31mAttributeError\u001b[0m: 'NoneType' object has no attribute '__code__'"
     ]
    }
   ],
   "source": [
    "code = f.__code__ # code object를 받아옴"
   ]
  },
  {
   "cell_type": "code",
   "execution_count": 11,
   "metadata": {},
   "outputs": [
    {
     "ename": "NameError",
     "evalue": "name 'code' is not defined",
     "output_type": "error",
     "traceback": [
      "\u001b[1;31m---------------------------------------------------------------------------\u001b[0m",
      "\u001b[1;31mNameError\u001b[0m                                 Traceback (most recent call last)",
      "\u001b[1;32m<ipython-input-11-18d996582c82>\u001b[0m in \u001b[0;36m<module>\u001b[1;34m()\u001b[0m\n\u001b[1;32m----> 1\u001b[1;33m \u001b[0mcode\u001b[0m\u001b[1;33m.\u001b[0m\u001b[0mco_freevars\u001b[0m  \u001b[1;31m#inner의 free variable을 받아옴\u001b[0m\u001b[1;33m\u001b[0m\u001b[0m\n\u001b[0m",
      "\u001b[1;31mNameError\u001b[0m: name 'code' is not defined"
     ]
    }
   ],
   "source": [
    "code.co_freevars  #inner의 free variable을 받아옴"
   ]
  },
  {
   "cell_type": "code",
   "execution_count": 13,
   "metadata": {},
   "outputs": [],
   "source": [
    "# packing \n",
    "\n",
    "a = 1, 2, 3 ,4 ,5\n",
    "#변수는 하나인데 데이터가 여러개 들어감. 이런걸 packing이라고 부름\n",
    "#위의 경우 value들은 tuple로 묶임"
   ]
  },
  {
   "cell_type": "code",
   "execution_count": 14,
   "metadata": {},
   "outputs": [
    {
     "data": {
      "text/plain": [
       "(1, 2, 3, 4, 5)"
      ]
     },
     "execution_count": 14,
     "metadata": {},
     "output_type": "execute_result"
    }
   ],
   "source": [
    "a"
   ]
  },
  {
   "cell_type": "code",
   "execution_count": 16,
   "metadata": {},
   "outputs": [
    {
     "name": "stdout",
     "output_type": "stream",
     "text": [
      "None\n"
     ]
    }
   ],
   "source": [
    "# \n",
    "'''\n",
    "a = 10이라고 쓸 때\n",
    "c언어나 자바의 경우 a 자체가 10이란 공간을 차지\n",
    "파이썬의 경우 a 를 이름이라고 부르고 10를 값 객체라고 부름\n",
    "그리고 a는 10을 가리키고있음.(둘의 메모리 공간이 다름)\n",
    "\n",
    "a=20이라고 변경했을때\n",
    "c나 자바인경우 a=10이란 공간에 20을 다시 넣음\n",
    "파이썬의 경우 20이라는 새로운 공간을 만든다음 a를 다시 가리키게 하고 10은 메모리에서 사라짐.\n",
    "\n",
    "'''\n",
    "print(None)"
   ]
  },
  {
   "cell_type": "code",
   "execution_count": 19,
   "metadata": {},
   "outputs": [
    {
     "name": "stdout",
     "output_type": "stream",
     "text": [
      "1\n",
      "[2, 3, 4, 5]\n"
     ]
    }
   ],
   "source": [
    "# unpacking (언팩킹)\n",
    "\n",
    "b, *c = a     #b에 첫번째 변수를 할당하고 나머지 모두를 c에 할당.\n",
    "print (b)\n",
    "print (c)     # unpacking시 list로 나타남\n",
    "# tuple은 immutable / list는 mutable\n",
    "\n",
    "# immutable의 대표 예시\n",
    "# >> 튜플, string, 상수(10, 20등등 >>> 변하지 않음 단지 가리키는 변수가 달라지는 것.)\n",
    "\n",
    "# mutable의 대표 예시\n",
    "# >> list, dictionary\n",
    "\n"
   ]
  },
  {
   "cell_type": "code",
   "execution_count": 21,
   "metadata": {},
   "outputs": [
    {
     "name": "stdout",
     "output_type": "stream",
     "text": [
      "1\n",
      "2\n",
      "[3, 4, 5]\n"
     ]
    }
   ],
   "source": [
    "# 언팩킹 이어서\n",
    "\n",
    "b,c,*d = a\n",
    "print(b)\n",
    "print(c)\n",
    "print(d)"
   ]
  },
  {
   "cell_type": "code",
   "execution_count": 22,
   "metadata": {
    "collapsed": true
   },
   "outputs": [],
   "source": [
    "li = [1,2,3,4,5,]"
   ]
  },
  {
   "cell_type": "code",
   "execution_count": 23,
   "metadata": {
    "collapsed": true
   },
   "outputs": [],
   "source": [
    "def func(*args):\n",
    "    print(args)\n",
    "    "
   ]
  },
  {
   "cell_type": "code",
   "execution_count": 24,
   "metadata": {},
   "outputs": [
    {
     "name": "stdout",
     "output_type": "stream",
     "text": [
      "([1, 2, 3, 4, 5],)\n"
     ]
    }
   ],
   "source": [
    "# 에서터리스크(*) 없이 리스트를 통째로 함수에 넣는 경우\n",
    "\n",
    "func(li)   \n",
    "\n",
    "# 값 >>> 리스트 자체가 하나의 변수로 들어감\n",
    "# 이렇게 전달하는 건 그냥 변수를 input하는 것. "
   ]
  },
  {
   "cell_type": "code",
   "execution_count": 25,
   "metadata": {},
   "outputs": [
    {
     "name": "stdout",
     "output_type": "stream",
     "text": [
      "(1, 2, 3, 4, 5)\n"
     ]
    }
   ],
   "source": [
    "# 에서터리스크(*)와 함께 리스트를 통째로 함수에 넣는 경우\n",
    "\n",
    "func(*li)\n",
    "\n",
    "# 이렇게 전달하는 경우가 unpacking해서 input하는 것."
   ]
  },
  {
   "cell_type": "code",
   "execution_count": 26,
   "metadata": {
    "collapsed": true
   },
   "outputs": [],
   "source": [
    "# 헷갈릴수 있는 것 집고 넘어가기\n",
    "\n",
    "dict = {'a': 1, 'b':2, 'c': 3}\n"
   ]
  },
  {
   "cell_type": "code",
   "execution_count": 27,
   "metadata": {
    "collapsed": true
   },
   "outputs": [],
   "source": [
    "# 딕셔너리를 언팩킹하는 경우\n",
    "\n",
    "a, *b = dict"
   ]
  },
  {
   "cell_type": "code",
   "execution_count": 28,
   "metadata": {},
   "outputs": [
    {
     "name": "stdout",
     "output_type": "stream",
     "text": [
      "a\n",
      "['b', 'c']\n"
     ]
    }
   ],
   "source": [
    "print(a)\n",
    "print(b)\n",
    "\n",
    "# 딕셔너리를 언팩킹하면 key만 들어감. "
   ]
  },
  {
   "cell_type": "code",
   "execution_count": 29,
   "metadata": {},
   "outputs": [
    {
     "name": "stdout",
     "output_type": "stream",
     "text": [
      "('a', 1)\n",
      "[('b', 2), ('c', 3)]\n"
     ]
    }
   ],
   "source": [
    "# 둘다 포함해서 언팩킹 하고 싶다면\n",
    "\n",
    "a,*b = dict.items()\n",
    "print(a)\n",
    "print(b)\n",
    "\n",
    "# 이 경우 키와 밸류가 출력됨(튜플 형태로 출력)"
   ]
  },
  {
   "cell_type": "code",
   "execution_count": 34,
   "metadata": {},
   "outputs": [
    {
     "name": "stdout",
     "output_type": "stream",
     "text": [
      "1\n",
      "(1, 2, 3, 4, 5)\n",
      "{'b': 100, 'c': 200}\n"
     ]
    }
   ],
   "source": [
    "# \n",
    "\n",
    "def func(a, *args, **kwargs):\n",
    "    print(a)\n",
    "    print(args)\n",
    "    print(kwargs)\n",
    "    \n",
    "func(1, 1,2,3,4,5, b=100, c =200)\n",
    "\n",
    "# 참고사항\n",
    "# *는 튜플로 반환하고 **는 딕셔너리로 반환한다.\n",
    "# 주의사항 >> input을 입력할 때는 순서를 맞춰서 입력해줘야한다. 자료형이 다르다고 막 입력해서 함수가 자동 처리 할 수 있다고 생각하면 안됨. \n",
    "# 순서에 맞게 입력해줘야한다. "
   ]
  },
  {
   "cell_type": "code",
   "execution_count": 31,
   "metadata": {
    "collapsed": true
   },
   "outputs": [],
   "source": [
    "# 위의 경우 \n",
    "# def() >>> 오류남\n",
    "# def(a) >>> 오류 나지 않음\n",
    "\n",
    "# *나 **가 붙은 keyword arguement의 경우 가변인자이기 때문에 0부터 무한대까지 올 수 있다.\n",
    "# 그러나 위의 식에서a 는 하나를 차지하는 것이기에 필수적으로 input되야 함"
   ]
  },
  {
   "cell_type": "code",
   "execution_count": 33,
   "metadata": {},
   "outputs": [
    {
     "name": "stdout",
     "output_type": "stream",
     "text": [
      "None\n"
     ]
    }
   ],
   "source": [
    "# 식과 문. >>>파이썬의 함수는 식이다!!!\n",
    "\n",
    "def func(a,b):\n",
    "    return \n",
    "\n",
    "# 이경우 함수는 어떠한 값을 반환하는가?\n",
    "\n",
    "a = 50\n",
    "a = func(4,5)\n",
    "print(a)\n",
    "\n",
    "# 함수는 None을 반환한다.\n",
    "\n",
    "# 설령 함수에 return이 없어도 None은 무조건 반환한다.\n",
    "\n",
    "'''\n",
    "파이썬에서 함수는 expression, 즉 '식'이다.\n",
    "식에는 return 값이 있다.\n",
    "\n",
    "문은 'a = 10 + 7'과 같이 대입해주는(정의해주는) 것으로 반환하지 않는다.(return이 없음)\n",
    "\n",
    "파이썬의 함수는 식이기 때문에 무조건 반환해야하고 \n",
    "return이 없어도 None을 반환한다.\n",
    "\n",
    "'''"
   ]
  },
  {
   "cell_type": "code",
   "execution_count": 35,
   "metadata": {
    "collapsed": true
   },
   "outputs": [],
   "source": [
    "# 요약\n",
    "# 파이썬에서는 변수는 이름과 객체로 떨어져 있고 서로 가리키고 있다.(메모리 내부에서)\n",
    "# 예시 a -> 10 "
   ]
  },
  {
   "cell_type": "code",
   "execution_count": null,
   "metadata": {
    "collapsed": true
   },
   "outputs": [],
   "source": [
    "# 튜플과 리스트\n",
    "# 튜플은 리스트에 비해 메모리가 훨씬 적게 든다.\n",
    "# 그래서 출력되는 값의 경우 튜플로 나타나는 경우가 많다."
   ]
  }
 ],
 "metadata": {
  "kernelspec": {
   "display_name": "Python 3",
   "language": "python",
   "name": "python3"
  },
  "language_info": {
   "codemirror_mode": {
    "name": "ipython",
    "version": 3
   },
   "file_extension": ".py",
   "mimetype": "text/x-python",
   "name": "python",
   "nbconvert_exporter": "python",
   "pygments_lexer": "ipython3",
   "version": "3.6.2"
  }
 },
 "nbformat": 4,
 "nbformat_minor": 2
}
