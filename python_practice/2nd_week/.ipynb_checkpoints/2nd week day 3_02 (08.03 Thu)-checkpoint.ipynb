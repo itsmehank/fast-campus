{
 "cells": [
  {
   "cell_type": "code",
   "execution_count": 1,
   "metadata": {
    "collapsed": true
   },
   "outputs": [],
   "source": [
    "# 세번째 시간 \n",
    "# 이전까지 보았던 스택프레임은 c언어의 스택프레임\n",
    "# 파이썬의 스택프레임 이해하기 (call by assignment == call by object reference) >>> 전자의 의미가 훨씬 더 직관적 but 공식 명칭은 후자\n"
   ]
  },
  {
   "cell_type": "code",
   "execution_count": 3,
   "metadata": {},
   "outputs": [
    {
     "name": "stdout",
     "output_type": "stream",
     "text": [
      "None\n"
     ]
    }
   ],
   "source": [
    "# 코딩하면서 이해해볼것임 \n",
    "# 지금까지 c에서 했던 예제를 파이썬에서 그대로 구현해볼것임\n",
    "\n",
    "'''\n",
    "콜바이 레퍼런스와 콜바이 밸류를 아는 사람들이 파이썬을 보고나서 물어보는 것이 있음\n",
    ">> 질문: 파이썬 함수에서 콜바이 레퍼런스로 아웃풋 가능? \n",
    ">> 답변: 파이썬에서는 인자를 assignment로 던진다(전달한다) >> 콜바이 밸류, 콜바이 레퍼런스가 안된다는 것임.\n",
    "'''\n",
    "\n",
    "# 파이썬 3.6 에서 idle은 text editor, manuals는 파이썬의 모든 정보가 들어가 있음 >> 여기서 찾아보면 다 나옴.\n",
    "print(None)"
   ]
  },
  {
   "cell_type": "code",
   "execution_count": 5,
   "metadata": {},
   "outputs": [
    {
     "name": "stdout",
     "output_type": "stream",
     "text": [
      "x : 20 in change_value\n",
      "10\n"
     ]
    }
   ],
   "source": [
    "def change_value(x, value):\n",
    "    x = value\n",
    "    print(\"x : {} in change_value\".format(x))   # format은 string의 내장 함수 >> {}의 위치로 x가 들어간다는 것. x는 반드시 string이여야함.\n",
    "    \n",
    "x = 10\n",
    "change_value(x, 20)\n",
    "print(x)\n",
    "\n",
    "# 만약 콜바이 밸류라면 값이 안 바뀌어야 하고\n",
    "# 콜바이 레퍼런스라면 값이 바뀌어야 한다.\n",
    "# x가 함수를 거친 다음 출력시 바뀌지 않았음."
   ]
  },
  {
   "cell_type": "code",
   "execution_count": 7,
   "metadata": {},
   "outputs": [
    {
     "name": "stdout",
     "output_type": "stream",
     "text": [
      "['hank', 2, 3, 4]\n",
      "['hank', 2, 3, 4]\n"
     ]
    }
   ],
   "source": [
    "# 결과 값이 안바뀜 >> 콜바이 밸류구나\n",
    "\n",
    "# 다시 테스트\n",
    "def change_value(li, idx, value):\n",
    "    li[idx] = value\n",
    "    print(li)\n",
    "\n",
    "li=[1,2,3,4,]\n",
    "change_value(li, 0, \"hank\")\n",
    "print(li)"
   ]
  },
  {
   "cell_type": "code",
   "execution_count": 8,
   "metadata": {
    "collapsed": true
   },
   "outputs": [],
   "source": [
    "# 값이 바뀌었음!!! >>> 콜바이 밸류도 콜바이 레퍼런스도 아님 (neither)"
   ]
  },
  {
   "cell_type": "code",
   "execution_count": 9,
   "metadata": {},
   "outputs": [
    {
     "name": "stdout",
     "output_type": "stream",
     "text": [
      "x : 20 in change_value\n",
      "10\n"
     ]
    },
    {
     "data": {
      "text/plain": [
       "'\\nx = 10이라는 것을 main의 시작이라고 하면 해당 함수는 변수가 x 하나\\n1. 1개짜리 스택프레임 만듬 >> x = 10의 값을 입력함 \\n>>> 주의: 해당 10은 immutable\\n2. change_value라는 함수를 만남 >> 변수 갯수(2개) 확인 후 스택프레임 형성\\n2-1. main 함수의 change_value(x,20) 에서 x는 main 함수의 x를 가리킴(콜바이 레퍼런스와 같음)\\n2-2. 내부 함수와 외부함수의 x는 각각 10을 가리킴 \\n3. 스택 프레임 채워넣기 (value = 20) // (x = 20 ) >>> 내부 함수의 x는 20을 가리킴\\n4. 내부 함수 실행 종료 이후 해당 스택프레임 사라짐\\n>>> x --> 20 역시 사라짐\\n5. 남은 것은 기존의 x --> 10\\n\\n\\n\\n'"
      ]
     },
     "execution_count": 9,
     "metadata": {},
     "output_type": "execute_result"
    }
   ],
   "source": [
    "# 파이썬의 정체는? 파이썬의 답변 >> call by object reference\n",
    "\n",
    "# 스택프레임 쌓아보기(위의 예제 이용)\n",
    "\n",
    "def change_value(x, value):\n",
    "    x = value\n",
    "    print(\"x : {} in change_value\".format(x))   \n",
    "    \n",
    "x = 10\n",
    "change_value(x, 20)\n",
    "print(x)\n",
    "'''\n",
    "x = 10이라는 것을 main의 시작이라고 하면 해당 함수는 변수가 x 하나\n",
    "1. 1개짜리 스택프레임 만듬 >> x = 10의 값을 입력함 \n",
    ">>> 주의: 해당 10은 immutable\n",
    "2. change_value라는 함수를 만남 >> 변수 갯수(2개) 확인 후 스택프레임 형성\n",
    "2-1. main 함수의 change_value(x,20) 에서 x는 main 함수의 x를 가리킴(콜바이 레퍼런스와 같음)\n",
    "2-2. 내부 함수와 외부함수의 x는 각각 10을 가리킴 \n",
    "3. 스택 프레임 채워넣기 (value = 20) // (x = 20 ) >>> 내부 함수의 x는 20을 가리킴\n",
    "4. 내부 함수 실행 종료 이후 해당 스택프레임 사라짐\n",
    ">>> x --> 20 역시 사라짐\n",
    "5. 남은 것은 기존의 x --> 10\n",
    "\n",
    "\n",
    "\n",
    "'''"
   ]
  },
  {
   "cell_type": "code",
   "execution_count": 38,
   "metadata": {},
   "outputs": [
    {
     "name": "stdout",
     "output_type": "stream",
     "text": [
      "['hank', 2, 3, 4]\n",
      "['hank', 2, 3, 4]\n",
      "None\n"
     ]
    }
   ],
   "source": [
    "def change_value(li, idx, value):\n",
    "    li[idx] = value\n",
    "    print(li)\n",
    "\n",
    "li=[1,2,3,4,]\n",
    "change_value(li, 0, \"hank\")\n",
    "print(li)\n",
    "\n",
    "'''\n",
    "스택프레임 만들기\n",
    "li=[1,2,3,4,] 부터가 메인함수(외부함수)라고 생각하면\n",
    "1. 변수 1개 >> 스택프레임 만들기\n",
    "1-1.리스트의 경우 하나의 리스트가 하나의 스택프레임에 들어가있고 각각의 요인의 자리는 각각의 상수를 가리키는 형태로 저장됨\n",
    ">>>>참고<<<< 튜플의 경우 immutable하기 때문에 자리가 값을 가리키는 구조가 아니라 바로 해당 자리에 데이터를 박아 넣는 형태로 저장됨\n",
    "1-2. 리스트의 경우 요인이 몇개가 늘어나거나 줄어들든 리스트 갯수는 1개이므로 스택프레임에 영향 안줌(가능하다는 얘기)\n",
    "2. change_value(내부함수) 함수 만남 >> 변수 4개 스택프레임 만듬\n",
    "3. 내부 함수 스택프레임 채워줌 (value = \"hank\") (idx = 0) (li = [1,2,3,4,]) >>> li는 외부함수에서 받았기에 외부의 li와 동일한 것을 가리킴\n",
    "3-1. 리스트와 같은 mutable인 경우 요인 변경시 해당 리스트는 기존 리스트가 변한것. \n",
    "3-2. 즉 값이 변한것이기에 해당 값을 여러개의 서로 다른 변수가 가리키는 경우 모두 동시에 변경됨. \n",
    "3-3. 여기서 중요한 것은 이러한 변화는 새로운 메모리 공간을 할당한 것이 아니라 기존의 메모리 공간에서 변화가 이루어진것.\n",
    "3-4. 단, 재정의로 리스트를 변경하는 경우(요인 변경이 아닌, 전체 재정의) 새로운 리스트가 만들어 진다. \n",
    "4. (내부와 외부의 li는 동일한 리스트를 가리킴) 이 때, 해당 리스트의 요인의 변경이 이뤄짐\n",
    "5. referece count가 0이되서 내부 함수의 스택프레임은 사라짐. \n",
    "   # reference count가 무엇인가\n",
    "6. 외부의 li는 변경된 리스트를 가리킴. \n",
    "'''\n",
    "print(None)"
   ]
  },
  {
   "cell_type": "code",
   "execution_count": 34,
   "metadata": {},
   "outputs": [
    {
     "ename": "SyntaxError",
     "evalue": "name 's' is parameter and global (<ipython-input-34-2b7388a3c5c7>, line 2)",
     "output_type": "error",
     "traceback": [
      "\u001b[1;36m  File \u001b[1;32m\"<ipython-input-34-2b7388a3c5c7>\"\u001b[1;36m, line \u001b[1;32m2\u001b[0m\n\u001b[1;33m    global s\u001b[0m\n\u001b[1;37m    ^\u001b[0m\n\u001b[1;31mSyntaxError\u001b[0m\u001b[1;31m:\u001b[0m name 's' is parameter and global\n"
     ]
    }
   ],
   "source": [
    "def change_value(s):    # change_value(s)의 의미는>>  [함수 내부의 s] --> [함수 외부의 s 값] 이다. 즉, s --> 'abcde'\n",
    "    s = 12345           # 함수 내부의 s -> 12345     ('abcde;라는 string을 바꿀 수 없기에.)\n",
    "    print(s)\n",
    "    \n",
    "s = \"abcde\"             # 함수 외부의 s -> 'abcde'\n",
    "change_value(s)\n",
    "s"
   ]
  },
  {
   "cell_type": "code",
   "execution_count": 12,
   "metadata": {},
   "outputs": [
    {
     "name": "stdout",
     "output_type": "stream",
     "text": [
      "None\n"
     ]
    }
   ],
   "source": [
    "# reference count란 무엇인가?\n",
    "\n",
    "# c나 c++에서는 heap이라는 곳에다가 메모리 공간을 프로그래머가 할당. 이렇게 할당한 메모리는 만드시 프로그램이 끝나거나 어떤 상황에서는 \n",
    "# 이를 지워줘야지 지워주지 않으면 계속 남아 있음. \n",
    "\n",
    "# 중요한 것은 c나 c++ 프로그래머는 heap에다 메모리를 할당 했으면 본인이 직접 지워줘야함\n",
    "\n",
    "# 파이썬은 스스로 알아서 지워줌\n",
    "# 파이썬에서 객체를 하나 만듬\n",
    "'''\n",
    "a = 10\n",
    "이렇게 객체를 만들면 10의 참조 횟수가 1이됨\n",
    "b = 10\n",
    "이렇게 추가하면 10의 참조 횟수가 2가됨\n",
    "c = 10 \n",
    "이렇게 추가 하면 10의 참조 횟수가 3이됨.\n",
    "\n",
    "참조 횟수가 최소 1개라도 남아있어야 10은 존재 이유가 있음\n",
    "만약 참조 횟수가 0이 되면 누구도 10을 필요로 하지 않는 자료가 되기에 \n",
    "파이썬에서는 자체적으로 10의 메모리를 지워버림 \n",
    "\n",
    "가비지 컬렉션: 참조할 필요가 없는 (참조 횟수가 0인 자료) 자료들을 모아둔 것.\n",
    "파이썬에서는 가비지 컬렉션을 레퍼런스 카운트라고 함. \n",
    "\n",
    "레퍼런스 카운트는 쓸데없는 메모리 이용을 방지하기 위해 파이썬 내부에서 자체적으로 사용됨.\n",
    "\n",
    "'''\n",
    "print(None)"
   ]
  },
  {
   "cell_type": "code",
   "execution_count": 18,
   "metadata": {
    "collapsed": true
   },
   "outputs": [],
   "source": [
    "# 실제 레퍼렌스 카운트가 실행되는것\n",
    "import sys  # import system의 의미\n",
    "\n",
    "jojo='song'"
   ]
  },
  {
   "cell_type": "code",
   "execution_count": 19,
   "metadata": {},
   "outputs": [
    {
     "data": {
      "text/plain": [
       "2"
      ]
     },
     "execution_count": 19,
     "metadata": {},
     "output_type": "execute_result"
    }
   ],
   "source": [
    "sys.getrefcount(jojo)   #s의 reference  count를 얻는것 #1은 안나옴"
   ]
  },
  {
   "cell_type": "code",
   "execution_count": 20,
   "metadata": {},
   "outputs": [
    {
     "name": "stdout",
     "output_type": "stream",
     "text": [
      "None\n"
     ]
    }
   ],
   "source": [
    "# 2가 나온 이유는 \n",
    "'''\n",
    "일단 jojo='song'에서 1번 참조한것이고          # +1\n",
    "sys.getrefcount(jojo)에서 한번 더 참조한 것.   # +1\n",
    "'''\n",
    "print(None)"
   ]
  },
  {
   "cell_type": "code",
   "execution_count": 21,
   "metadata": {
    "collapsed": true
   },
   "outputs": [],
   "source": [
    "# 함수 내에서 새로운 메모리 공간을 할당했다가 스택프레임이 사라지면 해당 값을 가리키는 변수가 사라지기에 레퍼런스카운트가 0이되서 사라짐"
   ]
  },
  {
   "cell_type": "code",
   "execution_count": 24,
   "metadata": {},
   "outputs": [
    {
     "name": "stdout",
     "output_type": "stream",
     "text": [
      "None\n"
     ]
    }
   ],
   "source": [
    "a = 1\n",
    "sys.getrefcount(a)\n",
    "# 1이라는 것은 상수 객체\n",
    "'''\n",
    "객체를 만들었다가 지우는 것은 엄청난 메모리를 요함(==리소스를 많이 잡아먹음)\n",
    "1이나 3과 같은 것은 많이 사용하기에 파이썬을 실행하는 시작시점에서 미리 만들어 놓음\n",
    "따라서 1이 얼마나 쓰였는지 보면 내부에서 수많은 참조 과정까지 카운트 되서 나타남.\n",
    "'''\n",
    "print(None)"
   ]
  },
  {
   "cell_type": "code",
   "execution_count": 28,
   "metadata": {},
   "outputs": [
    {
     "data": {
      "text/plain": [
       "3"
      ]
     },
     "execution_count": 28,
     "metadata": {},
     "output_type": "execute_result"
    }
   ],
   "source": [
    "# 1과 같이 자주쓰이는 것 말고는 다른 특이한 것들은 미리 만들어 놓지 않음\n",
    "# 예시\n",
    "\n",
    "jojojo = 19089\n",
    "sys.getrefcount(jojojo)"
   ]
  },
  {
   "cell_type": "code",
   "execution_count": 31,
   "metadata": {},
   "outputs": [
    {
     "name": "stdout",
     "output_type": "stream",
     "text": [
      "[10, 2, 3, 4]\n"
     ]
    },
    {
     "data": {
      "text/plain": [
       "[10, 2, 3, 4]"
      ]
     },
     "execution_count": 31,
     "metadata": {},
     "output_type": "execute_result"
    }
   ],
   "source": [
    "# 복습\n",
    "# mutable\n",
    "\n",
    "def func(li):\n",
    "    li[0] = 10\n",
    "    print(li)\n",
    "\n",
    "# main 함수\n",
    "\n",
    "li = [1,2,3,4,]\n",
    "func(li)\n",
    "li\n",
    "'''\n",
    "메인함수의 sf \n",
    "[li --> [1,2,3,4,]]\n",
    "\n",
    "내부함수의 sf\n",
    "(외부의 li의 값을 내부의 li도 가리킴)\n",
    "[li -->[10,2,3,4]] (같이 가리키던 리스트를 변경)\n",
    "\n",
    ">> 레퍼런스 카운트가 0이되면서 내부함수의 sf 사라짐\n",
    ">> 외부 함수의 li는 변경된 리스트를 가리킴\n",
    "\n",
    "'''"
   ]
  },
  {
   "cell_type": "code",
   "execution_count": 32,
   "metadata": {},
   "outputs": [
    {
     "name": "stdout",
     "output_type": "stream",
     "text": [
      "[10, 2, 3, 4]\n"
     ]
    },
    {
     "data": {
      "text/plain": [
       "[1, 2, 3, 4]"
      ]
     },
     "execution_count": 32,
     "metadata": {},
     "output_type": "execute_result"
    }
   ],
   "source": [
    "# 복습2\n",
    "# mutable 이어서 (변수에 새로운 리스트를 할당하는 경우 )\n",
    "\n",
    "def func2(list_):\n",
    "    list_ = [10,2,3,4]\n",
    "    print(list_)\n",
    "\n",
    "# 메인함수\n",
    "li2 = [1,2,3,4,]\n",
    "func2(li2)\n",
    "li2\n",
    "\n",
    "'''\n",
    "파이썬을 왜 콜바이 어사인먼트라고 하나면,,,,\n",
    "위 함수 내에서 리스트를 정의해주는 것을 assignment라고 부름\n",
    "또한 func2(li) > 함수에 외부 변수를 넣어주는 것도 assignment라고 부름\n",
    "'''\n",
    "\n",
    "# immutable한 string과 같은 경우 함수의 return 값으로 외부 변수의 값을 변경하고 싶다면\n",
    "# 함수의 return값을 \n",
    "\n",
    "print(None)"
   ]
  },
  {
   "cell_type": "code",
   "execution_count": 37,
   "metadata": {},
   "outputs": [
    {
     "name": "stdout",
     "output_type": "stream",
     "text": [
      "8989\n"
     ]
    }
   ],
   "source": [
    "# 추가 (+a과정)\n",
    "\n",
    "# 자료구조에서 자료의 저장 방법으로 array 와 linked list가 있음 (파이써는 linked_list로 저장)\n",
    "'''참고 사이트'''\n",
    "'''http://one-zero.tistory.com/entry/%EB%B0%B0%EC%97%B4%EA%B3%BC-%EC%97%B0%EA%B2%B0%EB%A6%AC%EC%8A%A4%ED%8A%B8-Array-LinkedList'''\n",
    "\n",
    "# array의경우 한번 메모리게 할당을 하면 수정 불가능\n",
    "# 예를 들면 4바이트 짜리 자료를 메모리에 할당하면 그것으로 끝\n",
    "# 6바이트짜리 자료를 만들기 위해서는 새로운 공간에 기존 4바이트 짜리를 복사 붙여넣기 해주고 2바이트 정보를 추가해줌. (4바이트는 지워줌)\n",
    "# 결론 > 복잡함\n",
    "\n",
    "# linked list의 경우\n",
    "# 각각의 자료가 하나의 공간에 저장되어 있고 추가 하고 싶으면 서로 연결을 해줌\n",
    "\n",
    "# 자료구조를 배우는 이유는 각각의 상황에서 어떠한 방법을 써야하는지 알기 위해서 배움\n",
    "# 상황에 따라 적합한 방법을 사용하는 것이 프로그램 성능에 큰 차이를 불러옴."
   ]
  },
  {
   "cell_type": "code",
   "execution_count": null,
   "metadata": {
    "collapsed": true
   },
   "outputs": [],
   "source": []
  }
 ],
 "metadata": {
  "kernelspec": {
   "display_name": "Python 3",
   "language": "python",
   "name": "python3"
  },
  "language_info": {
   "codemirror_mode": {
    "name": "ipython",
    "version": 3
   },
   "file_extension": ".py",
   "mimetype": "text/x-python",
   "name": "python",
   "nbconvert_exporter": "python",
   "pygments_lexer": "ipython3",
   "version": "3.6.2"
  }
 },
 "nbformat": 4,
 "nbformat_minor": 2
}
