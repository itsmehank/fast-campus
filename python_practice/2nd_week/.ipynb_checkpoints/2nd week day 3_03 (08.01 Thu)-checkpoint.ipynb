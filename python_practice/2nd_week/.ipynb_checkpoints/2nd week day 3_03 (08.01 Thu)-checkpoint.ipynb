{
 "cells": [
  {
   "cell_type": "code",
   "execution_count": 6,
   "metadata": {},
   "outputs": [
    {
     "data": {
      "text/plain": [
       "'come'"
      ]
     },
     "execution_count": 6,
     "metadata": {},
     "output_type": "execute_result"
    }
   ],
   "source": [
    "# 네번째 시간 시작(4시부터~)\n",
    "\n",
    "\n",
    "a = 'hit hit hit'\n",
    "'hit'.replace('hit','come')"
   ]
  },
  {
   "cell_type": "code",
   "execution_count": 9,
   "metadata": {},
   "outputs": [
    {
     "name": "stdout",
     "output_type": "stream",
     "text": [
      "changed string\n",
      "string\n"
     ]
    }
   ],
   "source": [
    "'''참고 사항_ hackerrank.com을 풀다가 알게됨.'''\n",
    "# str.replace(<old>, <new[,<max>])  \n",
    "# string의 요소를 변경해주는 데 사용. max의 경우 변경 횟수의 max를 설정하는 것으로 초기값이 none이기에 입력 안하면 다 바꿔줌\n",
    "# **주의** \n",
    "# replace의 경우 기존의 str을 변경해주는 것이 아님.(좀 더 생각해보면 string의 경우 immutable하기에 변경 불가하다는 것을 알 수 있음)\n",
    "# 따라서 변경된 string을 출력하고 싶으면 바로 str.replace(<old>,<new>)를 print해주면 됨\n",
    "# >>>> 즉 replace 함수는 return으로 변경된 str을 출력함. \n",
    "\n",
    "# 예시\n",
    "\n",
    "a = 'string'\n",
    "print(a.replace('string', 'changed string'))    # 리스트의 sort의 경우는 배열만 변경해주고 None을 return함.\n",
    "print(a)"
   ]
  },
  {
   "cell_type": "code",
   "execution_count": 11,
   "metadata": {},
   "outputs": [
    {
     "name": "stdout",
     "output_type": "stream",
     "text": [
      "None\n"
     ]
    }
   ],
   "source": [
    "# 정리\n",
    "\n",
    "'''\n",
    "mutable object\n",
    "경우의 수 2가지\n",
    "1. 요소 변경 --> 본체 바뀜\n",
    "2. 재정의 --> 새로운 본체 생김\n",
    "'''\n",
    "\n",
    "'''\n",
    "immutable object\n",
    "경우의 수 1가지\n",
    "1. 무조건 변경은 재정의\n",
    "'''\n",
    "\n",
    "# immutable의 저러한 성격으로  인해 immutable object의 내부function 의 경우 바로 새롭게 바뀐 값을 출력하는 기능이 포함되어 있음\n",
    "# 대표적인 예시로 immutable object의 대표형인 string의 내부 function인 replace의 경우 바뀐 string을 바로 출력 해준다. \n",
    "\n",
    "print(None)"
   ]
  },
  {
   "cell_type": "code",
   "execution_count": 13,
   "metadata": {},
   "outputs": [
    {
     "name": "stdout",
     "output_type": "stream",
     "text": [
      "None\n"
     ]
    }
   ],
   "source": [
    "# 수학 (Numbers)  # github의 numbers 파일 참고!!\n",
    "\n",
    "'''\n",
    "십진수에서 10의 의미는 유니크한 10개의 숫자로 수를 표현했다는 것. 여기서 10은 기수, base, radix로 불림\n",
    "이진수에서 2의 의미는 유니크한 2개의 숫자로 수를 표현했다는 것. 여기서 2는 기수, base, radix로 불림\n",
    "16진수에서 16의 의미는 유니크한 16개의 숫자로 수를 표현했다는 것. (0~9,a,b,c,d,e,f) // 여기서 기수,base,radix는 16임\n",
    "\n",
    "# 10은 1과 0이라는 기존 숫자를 이용해 만들어진 수이기에 유니크하지 않음.\n",
    "'''\n",
    "print(None)"
   ]
  },
  {
   "cell_type": "code",
   "execution_count": 14,
   "metadata": {},
   "outputs": [
    {
     "data": {
      "text/plain": [
       "'정답'"
      ]
     },
     "execution_count": 14,
     "metadata": {},
     "output_type": "execute_result"
    }
   ],
   "source": [
    "# 컴퓨터는 0을 false로 1은 true로 인식\n",
    "# 컴퓨터는 0과 1을 어떻게 인식하는가?\n",
    "\n",
    "'''정답'''\n",
    "# 전압으로 인식\n",
    "# 0볼트에 가까우면 0으로 인식 5볼트에 가까우면 1로 인식\n",
    "\n"
   ]
  },
  {
   "cell_type": "code",
   "execution_count": 15,
   "metadata": {},
   "outputs": [
    {
     "data": {
      "text/plain": [
       "'\\n48을 넘지 않는 2의 승수 32\\n32는 2의 5승\\n16은 2의 4승\\n(32+16은 48)\\n나머지 승수는 포함안되있기에 0처리\\n\\n'"
      ]
     },
     "execution_count": 15,
     "metadata": {},
     "output_type": "execute_result"
    }
   ],
   "source": [
    "# 변환\n",
    "# 십진수에서 이진수로\n",
    "# 예시 십진수 48을 이진수로 변환하기\n",
    "\n",
    "# 윈도우 계산기 - 프로그래머용- hex는 16진수, dec는 10진수 bin는 2진수\n",
    "\n",
    "'''\n",
    "48을 넘지 않는 2의 승수 32\n",
    "32는 2의 5승\n",
    "16은 2의 4승\n",
    "(32+16은 48)\n",
    "나머지 승수는 포함안되있기에 0처리\n",
    "\n",
    "'''"
   ]
  },
  {
   "cell_type": "code",
   "execution_count": 16,
   "metadata": {},
   "outputs": [
    {
     "data": {
      "text/plain": [
       "'\\n260\\n\\n128 2**7\\n64 2**6\\n32 2**5\\n16 2** 4\\n\\n\\n'"
      ]
     },
     "execution_count": 16,
     "metadata": {},
     "output_type": "execute_result"
    }
   ],
   "source": [
    "'''\n",
    "260\n",
    "\n",
    "256 >> 2 **8\n",
    "4 >> 2 **2\n",
    "100000100(2)  >>>> 정확한 표기법은 radix를 옆에다 써줘야함\n",
    "'''\n",
    "\n",
    "'''\n",
    "52\n",
    "\n",
    "32 >> 2 **5\n",
    "16 >> 2 **4\n",
    "4 >>  2 **2\n",
    "110100(2)\n",
    "'''\n",
    "\n",
    "'''\n",
    "7\n",
    "\n",
    "4 >> 2 **2\n",
    "2 >> 2 **1\n",
    "1 >> 2 **0\n",
    "111(2)\n",
    "'''"
   ]
  },
  {
   "cell_type": "code",
   "execution_count": 17,
   "metadata": {
    "collapsed": true
   },
   "outputs": [],
   "source": [
    "#2의 승수 기본적으로 알아두기 2048까지\n",
    "# 2,4,8,16,32,64,128,256,512,1024,2048\n",
    "# 2 ** 10 = 1024 >>> 10은 10(24)로 외우자\n",
    "# 2 ** 5 = 32 >>>> 5는 3.BGG로 외우자"
   ]
  },
  {
   "cell_type": "code",
   "execution_count": 19,
   "metadata": {},
   "outputs": [
    {
     "name": "stdout",
     "output_type": "stream",
     "text": [
      "None\n"
     ]
    }
   ],
   "source": [
    "# 이진수를 십진수로 바꾸기 \n",
    "\n",
    "'''\n",
    "11010 \n",
    "43210 >>> 밑에 자리수 표기\n",
    "\n",
    "2**4 + 2**3 + 2 **1 >>> 1로되어있는 것을 더해줌\n",
    "16 + 8 + 2 = 26\n",
    "'''\n",
    "print(None)"
   ]
  },
  {
   "cell_type": "code",
   "execution_count": 20,
   "metadata": {},
   "outputs": [
    {
     "data": {
      "text/plain": [
       "'\\na =1010\\nb =1011\\nc =1100\\nd =1101\\ne =1110\\nf =1111\\n\\n잘외우는 방법 \\n\\na에서 1더하면 b\\nc에서 1더하면 d\\nf에서 1빼면 e\\n'"
      ]
     },
     "execution_count": 20,
     "metadata": {},
     "output_type": "execute_result"
    }
   ],
   "source": [
    "# 중요(*****)\n",
    "# 16진수를 2진수로 바꾸는 것과 2진수를 16진수로 바꾸는 것은 매우 중요!!!\n",
    "\n",
    "# 16진수가 0이면 >>> 2진수로 표현하면 0000\n",
    "# 16진수가 1이면 >>> 2진수로 표현하면 0001\n",
    "# 16진수 한자리는 2진수 4자리이다.(중요)\n",
    "# 16진수 0부터 9까지는 10진수의 2진수 표기법과 같음\n",
    "\n",
    "#외워야 하는것\n",
    "'''\n",
    "a =1010\n",
    "b =1011\n",
    "c =1100\n",
    "d =1101\n",
    "e =1110\n",
    "f =1111\n",
    "\n",
    "잘외우는 방법 \n",
    "\n",
    "a에서 1더하면 b  (1010 1011)\n",
    "c에서 1더하면 d  (1100 1101)\n",
    "f에서 1빼면 e    (1110 1111)\n",
    "'''\n",
    "print(None)"
   ]
  },
  {
   "cell_type": "code",
   "execution_count": 21,
   "metadata": {},
   "outputs": [
    {
     "data": {
      "text/plain": [
       "' 0b110101의 표현은 >>> 0b는 binary(이진수)를 의미'"
      ]
     },
     "execution_count": 21,
     "metadata": {},
     "output_type": "execute_result"
    }
   ],
   "source": [
    "# 2진수 110101을 16진수로 바꾸기\n",
    "# 11은 3\n",
    "# 0101은 5\n",
    "\n",
    "''' 0x35로 표현 >>> 0x는 hex를 의미'''\n",
    "''' 0b110101의 표현은 >>> 0b는 binary(이진수)를 의미'''\n",
    "print(None)"
   ]
  },
  {
   "cell_type": "code",
   "execution_count": 22,
   "metadata": {},
   "outputs": [
    {
     "name": "stdout",
     "output_type": "stream",
     "text": [
      "None\n"
     ]
    }
   ],
   "source": [
    "# 32비트 컴퓨터와 64비트 컴퓨터의 차이는 무엇인가?\n",
    "\n",
    "'''\n",
    "32비트 컴퓨터 >> cpu와 ram 사이에 데이터 통신에서 한번에 보낼 수 있는 데이터의 양(wire의 양)이 32개임.\n",
    "각각의 와이어는 4바이트 정보를 보낼 수 있음\n",
    "1바이트는 8비트 \n",
    "32비트는 4바이트\n",
    "하나의 와이어는 4바이트 정보를 보냄.(ex 1010, 0101)\n",
    "메모리에 저장된 정수(integer)은 4바이트 \n",
    "따라서 32비트 컴퓨터는 최소한 정수를 한번에 cpu로 전달 할 수 있는 능력이 있음\n",
    "\n",
    "32비트 컴퓨터는 32개의 이진수를 전달가능\n",
    "이진수는 읽기 힘들기에 16진수로 바꿔서 표현  >>>>> 가독성이 높아짐.\n",
    "0x 0000 0000부터 0x ffff ffff 까지 표현 가능. (8자리)\n",
    "\n",
    "32비트는 16진수 8개를 표현가능\n",
    "64비트 컴퓨터의 경우 16자리까지 표현 가능. \n",
    "\n",
    "'''\n",
    "\n",
    "# 메모리 설명\n",
    "'''\n",
    "메모리(ram) 설명\n",
    "메모리는 정보를 2진수로 표현, 인식.\n",
    "따라서 정보의 최소 저장 단위는 1바이트\n",
    "'''\n",
    "\n",
    "'''\n",
    "32비트 컴퓨터는 최대 램의 크기로 2**32 인 4기가\n",
    "64비트 컴퓨터의 최대 햄의 크기로 2**64 인 16.8 billion terabyte\n",
    "\n",
    "'''\n",
    "print(None)"
   ]
  },
  {
   "cell_type": "code",
   "execution_count": 23,
   "metadata": {
    "collapsed": true
   },
   "outputs": [],
   "source": [
    "# 포인터의 주소값이 0x1111 1111 형태(16진수)로 되어 있다.>>>> 메모리에 해당 정수가 어디에 있는지 나타내는것. \n"
   ]
  },
  {
   "cell_type": "code",
   "execution_count": 27,
   "metadata": {},
   "outputs": [
    {
     "data": {
      "text/plain": [
       "'\\n11111010\\n76543210\\n2**7 + 2**6 + 2**5 + 2**4 + 2** 3 + 2** 1\\n==250\\n'"
      ]
     },
     "execution_count": 27,
     "metadata": {},
     "output_type": "execute_result"
    }
   ],
   "source": [
    "# 실습\n",
    "print(a = 0xfa)\n",
    "\n",
    "# a = 11111010\n",
    "'''\n",
    "11111010\n",
    "76543210\n",
    "2**7 + 2**6 + 2**5 + 2**4 + 2** 3 + 2** 1\n",
    "==250\n",
    "'''\n"
   ]
  },
  {
   "cell_type": "code",
   "execution_count": 28,
   "metadata": {},
   "outputs": [
    {
     "data": {
      "text/plain": [
       "'0b11001'"
      ]
     },
     "execution_count": 28,
     "metadata": {},
     "output_type": "execute_result"
    }
   ],
   "source": [
    "bin(25)"
   ]
  },
  {
   "cell_type": "code",
   "execution_count": 29,
   "metadata": {},
   "outputs": [
    {
     "data": {
      "text/plain": [
       "'0x19'"
      ]
     },
     "execution_count": 29,
     "metadata": {},
     "output_type": "execute_result"
    }
   ],
   "source": [
    "hex(25)"
   ]
  },
  {
   "cell_type": "code",
   "execution_count": 30,
   "metadata": {},
   "outputs": [
    {
     "data": {
      "text/plain": [
       "'0xfa'"
      ]
     },
     "execution_count": 30,
     "metadata": {},
     "output_type": "execute_result"
    }
   ],
   "source": [
    "hex(250)"
   ]
  },
  {
   "cell_type": "code",
   "execution_count": 31,
   "metadata": {},
   "outputs": [
    {
     "data": {
      "text/plain": [
       "682"
      ]
     },
     "execution_count": 31,
     "metadata": {},
     "output_type": "execute_result"
    }
   ],
   "source": [
    "0b1010101010"
   ]
  },
  {
   "cell_type": "code",
   "execution_count": 32,
   "metadata": {},
   "outputs": [
    {
     "data": {
      "text/plain": [
       "'0x690f6910'"
      ]
     },
     "execution_count": 32,
     "metadata": {},
     "output_type": "execute_result"
    }
   ],
   "source": [
    "# a =10 이 실제로 메모리에 있는지 확인해보고 싶을 떄\n",
    "a = 10\n",
    "hex(id(a))\n",
    "# a -> 10인 메모리에 실제로 있는 첫번째 바이트의 주소값을 반환함.\n",
    "# 16진수로 나타난 주소"
   ]
  },
  {
   "cell_type": "code",
   "execution_count": null,
   "metadata": {
    "collapsed": true
   },
   "outputs": [],
   "source": [
    "# numbers.pdf 파일 참고해서 공부\n",
    "# 32개의 이진수로 주소를 표현하는 것이 가독성이 떨어지기에 16진수를 이용해 8자리로 표현.\n",
    "# 오늘 수업 끝"
   ]
  }
 ],
 "metadata": {
  "kernelspec": {
   "display_name": "Python 3",
   "language": "python",
   "name": "python3"
  },
  "language_info": {
   "codemirror_mode": {
    "name": "ipython",
    "version": 3
   },
   "file_extension": ".py",
   "mimetype": "text/x-python",
   "name": "python",
   "nbconvert_exporter": "python",
   "pygments_lexer": "ipython3",
   "version": "3.6.2"
  }
 },
 "nbformat": 4,
 "nbformat_minor": 2
}
