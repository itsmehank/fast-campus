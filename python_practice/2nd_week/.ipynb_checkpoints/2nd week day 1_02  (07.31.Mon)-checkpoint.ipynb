{
 "cells": [
  {
   "cell_type": "code",
   "execution_count": 1,
   "metadata": {
    "collapsed": true
   },
   "outputs": [],
   "source": [
    "# 02번 녹음 시작\n",
    "\n",
    "# 시작 하기 전에 \n",
    "\n",
    "# 파이썬은 모든 것이 객체\n",
    "# 다른 언어에서는 함수 선언 이후 프로그램이 시작하고 끝낼때까지 지울 수가 없다\n",
    "# 파이썬에서는 함수 역시 객체이기에 지울 수 있다.\n",
    "# del + <function name>\n",
    "\n",
    "# 다른 언어에서는 함수를 정의 했다는 것은 프로그램 영역에 올라갔기 때문에 수정 불가능하다 "
   ]
  },
  {
   "cell_type": "code",
   "execution_count": 2,
   "metadata": {},
   "outputs": [
    {
     "data": {
      "text/plain": [
       "'\\n3가지가 가능하면 일급함수라고 부름\\n1. 함수를 인자로 전달가능한가\\n2. 함수를 반환할 수 있는가\\n3. 변수에 저장할 수 있는가\\n\\n\\n'"
      ]
     },
     "execution_count": 2,
     "metadata": {},
     "output_type": "execute_result"
    }
   ],
   "source": [
    "#  first class function\n",
    "\n",
    "'''\n",
    "3가지가 가능하면 일급함수라고 부름\n",
    "1. 함수를 인자로 전달가능한가\n",
    "2. 함수를 반환할 수 있는가\n",
    "3. 변수에 저장할 수 있는가\n",
    "\n",
    "'''"
   ]
  },
  {
   "cell_type": "code",
   "execution_count": 4,
   "metadata": {},
   "outputs": [
    {
     "data": {
      "text/plain": [
       "11"
      ]
     },
     "execution_count": 4,
     "metadata": {},
     "output_type": "execute_result"
    }
   ],
   "source": [
    "# 1번조건 확인하기\n",
    "# argument로 전달 할 수 있는지\n",
    "\n",
    "\n",
    "def f(a,b):   # 첫번째 함수 선언\n",
    "    return a+ b\n",
    "def g(func, a,b):  # 두번째 함수 선언 -->> 첫번째 인자로 앞의 함수를 받음.\n",
    "    return func(a, b)  # 여기서 func의 위치는 함수의 위치. \n",
    "\n",
    "# g 함수에서 func를 인자로 받을 수 있는가?\n",
    "\n",
    "g(f, 5, 6)\n",
    "\n",
    "# 11이 도출됨.>>> 1번 조건 만족함. (함수를 인자로 전달할 수 있다.)"
   ]
  },
  {
   "cell_type": "code",
   "execution_count": 5,
   "metadata": {
    "collapsed": true
   },
   "outputs": [],
   "source": [
    "# 세번째 조건\n",
    "def adder(a,b):\n",
    "    return a+b\n"
   ]
  },
  {
   "cell_type": "code",
   "execution_count": 6,
   "metadata": {
    "collapsed": true
   },
   "outputs": [],
   "source": [
    "var = adder"
   ]
  },
  {
   "cell_type": "code",
   "execution_count": 7,
   "metadata": {},
   "outputs": [
    {
     "data": {
      "text/plain": [
       "7"
      ]
     },
     "execution_count": 7,
     "metadata": {},
     "output_type": "execute_result"
    }
   ],
   "source": [
    "var(5,2)\n",
    "# 함수를 변수로 받을 수 있다.\n",
    "# 변수를 함수처럼 쓸 수 있다. (3번째 조건 클리어)"
   ]
  },
  {
   "cell_type": "code",
   "execution_count": 8,
   "metadata": {
    "collapsed": true
   },
   "outputs": [],
   "source": [
    "# 두번째 조건\n",
    "# 함수로 return할 수 있는가\n",
    "\n",
    "def calc(kind = 'add'):    #이런 input값을 변수의 default값이라고 부름 >> 아무것도 넣지 않을 때 'add'가 들어감\n",
    "    # 인자로 'add'를 넣으면 두값을 더하는 함수를 return 받고 싶고\n",
    "    # 인자로 'sub'를 넣으면 a-bㄹㄹ 실행하는 함수를 return 받고 싶다면\n",
    "    def add(a,b):\n",
    "        return a +b\n",
    "    def sub(a,b):\n",
    "        return a -b\n",
    "    \n",
    "    if kind == 'add':\n",
    "        return add    # 함수를 리턴\n",
    "    elif kind == 'sub':\n",
    "        return sub    # 함수를 리턴\n",
    "    \n",
    "\n",
    "\n",
    "    "
   ]
  },
  {
   "cell_type": "code",
   "execution_count": 9,
   "metadata": {},
   "outputs": [
    {
     "data": {
      "text/plain": [
       "3"
      ]
     },
     "execution_count": 9,
     "metadata": {},
     "output_type": "execute_result"
    }
   ],
   "source": [
    "f = calc('add')\n",
    "f(1,2)\n",
    "\n",
    "# calc함수의 return값으로 함수를 받은 것. \n",
    "# 두번째 조건 만족"
   ]
  },
  {
   "cell_type": "code",
   "execution_count": 10,
   "metadata": {
    "collapsed": true
   },
   "outputs": [],
   "source": [
    "# 결론 \n",
    "# 파이썬의 함수는 모두 3가지 조건을 만족하는 일급 함수다.\n",
    "# 함수를 parameter로 받을 수 있다.\n",
    "# 함수를 variable로 받을 수 있다.\n",
    "# 함수로 return 할 수 있다.\n",
    "\n",
    "\n"
   ]
  },
  {
   "cell_type": "code",
   "execution_count": 11,
   "metadata": {
    "collapsed": true
   },
   "outputs": [],
   "source": [
    "# 일급함수가 된다는 말은 나아가 closure나 decorator가 구현 가능하다는 것을 의미한다."
   ]
  },
  {
   "cell_type": "code",
   "execution_count": 12,
   "metadata": {},
   "outputs": [
    {
     "data": {
      "text/plain": [
       "'\\n언어에는 low level 언어와 high level 언어가 있다.\\nlow에는 두가지 만 있음 >> 기계어와 어셈블리\\nc와 python은 하이레벨 그런데 python이 더 높음 -->> 의미는 더 추상화되있다는거. \\n\\nlow 언어를 안다는것은 cpu와 레지스터 메모리를 알아야한다는것.\\nc는 레지스터 몰라도됨 \\n이말은 실제 작동 과정과 프로그래밍과정이 멀어진다는 것\\n파이썬의 경우 메모리가 얼마나 들어가는지 생각할 필요 없이 만들 수 있다.\\n파이썬은 수저 어셈블리는 젓가락\\n추상화 정도가 다름. \\n\\n\\n'"
      ]
     },
     "execution_count": 12,
     "metadata": {},
     "output_type": "execute_result"
    }
   ],
   "source": [
    "# 질문\n",
    "\n",
    "'''\n",
    "언어에는 low level 언어와 high level 언어가 있다.\n",
    "low에는 두가지 만 있음 >> 기계어와 어셈블리\n",
    "c와 python은 하이레벨 그런데 python이 더 높음 -->> 의미는 더 추상화되있다는거. \n",
    "\n",
    "low 언어를 안다는것은 cpu와 레지스터 메모리를 알아야한다는것.\n",
    "c는 레지스터 몰라도됨 \n",
    "이말은 실제 작동 과정과 프로그래밍과정이 멀어진다는 것\n",
    "파이썬의 경우 메모리가 얼마나 들어가는지 생각할 필요 없이 만들 수 있다.\n",
    "파이썬은 수저 어셈블리는 젓가락\n",
    "추상화 정도가 다름. \n",
    "\n",
    "\n",
    "'''"
   ]
  },
  {
   "cell_type": "code",
   "execution_count": 15,
   "metadata": {},
   "outputs": [],
   "source": [
    "# closure 하기전에 code object와 function object\n",
    "# 그 전에 스택프레임\n",
    "\n",
    "def func(a,b):\n",
    "    return a + b"
   ]
  },
  {
   "cell_type": "code",
   "execution_count": 17,
   "metadata": {},
   "outputs": [
    {
     "name": "stdout",
     "output_type": "stream",
     "text": [
      "None\n"
     ]
    }
   ],
   "source": [
    "func(1,2)\n",
    "func(3,4)\n",
    "\n",
    "# 둘이 실행되는 메모리 공간이 같을까? 다를까?\n",
    "# def 코드는 메모리 어딘가에 저장됨. \n",
    "# 호출을 할때 이 def가 저장된 곳에 가서 인수를 넣는 것이 아니라\n",
    "# 새로운 공간에 인수를 가져와 def의 연산과정을 진행함\n",
    "\n",
    "# 이 새로운 공간을 stack frame(스택프레임)이라고 부름\n",
    "\n",
    "'''\n",
    "def func(a,b):\n",
    "    return a + b\n",
    "    \n",
    "이와같은 코딩은 단지 어떻게 해야할지 지시문(instruction)에 불과.\n",
    "지시문은 메모리에 저장됨. \n",
    "func(5,6)은 memory 공간 어딘가에 있음 (실행 이전에도)\n",
    "이를 호출하는 순간 여기서 5와 6을 넣어서 실행하는 것이 아님.\n",
    "\n",
    "실행하는 순간 메모리에 있는 5와 6을 다른 메모리 공간에 가져와 a와 b를 가리켜줌\n",
    "function의 연산과정이 진행되고 그 결과 값을 도출함. \n",
    "\n",
    "실제 값을 넣어서 호출을 할때는 원래 메모리에 있는 값들을, \n",
    "메모리의 다른 영역에 불러와 지시문에 따라 연산하는것.\n",
    "\n",
    "\n",
    "'''\n",
    "\n",
    "# 스택프레임은 함수가 저장된 메모리 공간과 완전히 다른 공간.\n",
    "# 중요한것은...\n",
    "# 함수를 정의한 공간(def의 공간)과 인수를 넣어 호출하는 공간(스택프레임)은 완전히 다름\n",
    "print (None)"
   ]
  },
  {
   "cell_type": "code",
   "execution_count": 18,
   "metadata": {
    "collapsed": true
   },
   "outputs": [],
   "source": [
    "# 펑션 오브젝트와 코드 오브젝트\n",
    "# 파이썬의 고급문법 - 심화과정이기에 추가적인 공부가 필수\n",
    "\n",
    "'''\n",
    "파이선의 내부 동작과정과 관련된 내용이다.\n",
    "(어려울 수 있다)\n",
    "\n",
    "파이썬에서는 모든것이 객체다(함수도)\n",
    "\"함수 객체는 우리말로 function object\" 이와 동시에 code object도 배울 것.(코드 객체)\n",
    "'''\n",
    "\n",
    "# 함수 선언\n",
    "def func(a,b):\n",
    "    return a+ b\n"
   ]
  },
  {
   "cell_type": "code",
   "execution_count": 19,
   "metadata": {},
   "outputs": [
    {
     "data": {
      "text/plain": [
       "<function __main__.func>"
      ]
     },
     "execution_count": 19,
     "metadata": {},
     "output_type": "execute_result"
    }
   ],
   "source": [
    "func"
   ]
  },
  {
   "cell_type": "code",
   "execution_count": 21,
   "metadata": {},
   "outputs": [
    {
     "data": {
      "text/plain": [
       "['__annotations__',\n",
       " '__call__',\n",
       " '__class__',\n",
       " '__closure__',\n",
       " '__code__',\n",
       " '__defaults__',\n",
       " '__delattr__',\n",
       " '__dict__',\n",
       " '__dir__',\n",
       " '__doc__',\n",
       " '__eq__',\n",
       " '__format__',\n",
       " '__ge__',\n",
       " '__get__',\n",
       " '__getattribute__',\n",
       " '__globals__',\n",
       " '__gt__',\n",
       " '__hash__',\n",
       " '__init__',\n",
       " '__init_subclass__',\n",
       " '__kwdefaults__',\n",
       " '__le__',\n",
       " '__lt__',\n",
       " '__module__',\n",
       " '__name__',\n",
       " '__ne__',\n",
       " '__new__',\n",
       " '__qualname__',\n",
       " '__reduce__',\n",
       " '__reduce_ex__',\n",
       " '__repr__',\n",
       " '__setattr__',\n",
       " '__sizeof__',\n",
       " '__str__',\n",
       " '__subclasshook__']"
      ]
     },
     "execution_count": 21,
     "metadata": {},
     "output_type": "execute_result"
    }
   ],
   "source": [
    "dir(func)  #dir(<function>)이 가지고 있는 dictionary를 보여준다.(해당 <function>이 접근가능한 정보들을 보여줌)"
   ]
  },
  {
   "cell_type": "code",
   "execution_count": 22,
   "metadata": {},
   "outputs": [
    {
     "data": {
      "text/plain": [
       "{'In': ['',\n",
       "  '# 02번 녹음 시작\\n\\n# 파이썬은 모든 것이 객체\\n# 다른 언어에서는 함수 선언 이후 프로그램이 시작하고 끝낼때까지 지울 수가 없다\\n# 파이썬에서는 함수 역시 객체이기에 지울 수 있다.\\n# del + <function name>\\n\\n# 다른 언어에서는 함수를 정의 했다는 것은 프로그램 영역에 올라갔기 때문에 수정 불가능하다 ',\n",
       "  \"#  first class function\\n\\n'''\\n3가지가 가능하면 일급함수라고 부름\\n1. 함수를 인자로 전달가능한가\\n2. 함수를 반환할 수 있는가\\n3. 변수에 저장할 수 있는가\\n\\n\\n'''\",\n",
       "  '# 1번조건 확인하기\\n# argument로 전달 할 수 있는지\\n\\n\\ndef f(a,b):\\n    return a+ b\\ndef g(func, a,b):\\n    return func(a, b)\\n\\n# g 함수에서 func를 인자로 받을 수 있는가?\\n\\ng(f, 5, 6)',\n",
       "  '# 1번조건 확인하기\\n# argument로 전달 할 수 있는지\\n\\n\\ndef f(a,b):   # 첫번째 함수 선언\\n    return a+ b\\ndef g(func, a,b):  # 두번째 함수 선언 -->> 첫번째 인자로 앞의 함수를 받음.\\n    return func(a, b)  # 여기서 func의 위치는 함수의 위치. \\n\\n# g 함수에서 func를 인자로 받을 수 있는가?\\n\\ng(f, 5, 6)\\n\\n# 11이 도출됨.>>> 1번 조건 만족함. (함수를 인자로 전달할 수 있다.)',\n",
       "  '# 두번째 조건\\ndef adder(a,b):\\n    return a+b',\n",
       "  'var = adder',\n",
       "  'var(5,2)',\n",
       "  \"# 두번째 조건\\n# 함수로 return할 수 있는가\\n\\ndef calc(kind = 'add'):    #이런 input값을 변수의 default값이라고 부름 >> 아무것도 넣지 않을 때 'add'가 들어감\\n    # 인자로 'add'를 넣으면 두값을 더하는 함수를 return 받고 싶고\\n    # 인자로 'sub'를 넣으면 a-bㄹㄹ 실행하는 함수를 return 받고 싶다면\\n    def add(a,b):\\n        return a +b\\n    def sub(a,b):\\n        return a -b\\n    \\n    if kind == 'add':\\n        return add    # 함수를 리턴\\n    elif kind == 'sub':\\n        return sub    # 함수를 리턴\\n    \\n\\n\\n    \",\n",
       "  \"f = calc('add')\\nf(1,2)\",\n",
       "  '# 결론 \\n# 파이썬의 함수는 모두 3가지 조건을 만족하는 일급 함수다.\\n# 함수를 parameter로 받을 수 있다.\\n# 함수를 variable로 받을 수 있다.\\n# 함수로 return 할 수 있다.',\n",
       "  '# 일급함수가 된다는 말은 나아가 closure나 decorator가 구현 가능하다는 것을 의미한다.',\n",
       "  \"# 질문\\n\\n'''\\n언어에는 low level 언어와 high level 언어가 있다.\\nlow에는 두가지 만 있음 >> 기계어와 어셈블리\\nc와 python은 하이레벨 그런데 python이 더 높음 -->> 의미는 더 추상화되있다는거. \\n\\nlow 언어를 안다는것은 cpu와 레지스터 메모리를 알아야한다는것.\\nc는 레지스터 몰라도됨 \\n이말은 실제 작동 과정과 프로그래밍과정이 멀어진다는 것\\n파이썬의 경우 메모리가 얼마나 들어가는지 생각할 필요 없이 만들 수 있다.\\n파이썬은 수저 어셈블리는 젓가락\\n추상화 정도가 다름. \\n\\n\\n'''\",\n",
       "  '# closure 하기전에 code object와 function object\\n# 그 전에 \\n\\ndef func(a,b):\\n    return a_ b',\n",
       "  \"func(1,2)\\nfunc(3,4)\\n\\n# 둘이 실행되는 메모리 공간이 같을까? 다를까?\\n# def 코드는 메모리 어딘가에 저장됨. \\n# 호출을 할때 이 def가 저장된 곳에 가서 인수를 넣는 것이 아니라\\n# 새로운 공간에 인수를 가져와 def의 연산과정을 진행함\\n\\n# 이 새로운 공간을 stack frame(스택프레임)이라고 부름\\n\\n'''\\ndef func(a,b):\\n    return a + b\\n    \\n이와같은 코딩은 단지 어떻게 해야할지 지시문(instruction)에 불과.\\n지시문은 메모리에 저장됨. \\nfunc(5,6)은 memory 공간 어딘가에 있음 (실행 이전에도)\\n이를 호출하는 순간 여기서 5와 6을 넣어서 실행하는 것이 아님.\\n\\n실행하는 순간 메모리에 있는 5와 6을 다른 메모리 공간에 가져와 a와 b를 가리켜줌\\nfunction의 연산과정이 진행되고 그 결과 값을 도출함. \\n\\n실제 값을 넣어서 호출을 할때는 원래 메모리에 있는 값들을, \\n메모리의 다른 영역에 불러와 지시문에 따라 연산하는것.\\n\\n\\n'''\\n\\n# 스택프레임은 함수가 저장된 메모리 공간과 완전히 다른 공간.\\n# 중요한것은...\\n# 함수를 정의한 공간(def의 공간)과 인수를 넣어 호출하는 공간(스택프레임)은 완전히 다름\",\n",
       "  '# closure 하기전에 code object와 function object\\n# 그 전에 스택프레임\\n\\ndef func(a,b):\\n    return a + b',\n",
       "  \"func(1,2)\\nfunc(3,4)\\n\\n# 둘이 실행되는 메모리 공간이 같을까? 다를까?\\n# def 코드는 메모리 어딘가에 저장됨. \\n# 호출을 할때 이 def가 저장된 곳에 가서 인수를 넣는 것이 아니라\\n# 새로운 공간에 인수를 가져와 def의 연산과정을 진행함\\n\\n# 이 새로운 공간을 stack frame(스택프레임)이라고 부름\\n\\n'''\\ndef func(a,b):\\n    return a + b\\n    \\n이와같은 코딩은 단지 어떻게 해야할지 지시문(instruction)에 불과.\\n지시문은 메모리에 저장됨. \\nfunc(5,6)은 memory 공간 어딘가에 있음 (실행 이전에도)\\n이를 호출하는 순간 여기서 5와 6을 넣어서 실행하는 것이 아님.\\n\\n실행하는 순간 메모리에 있는 5와 6을 다른 메모리 공간에 가져와 a와 b를 가리켜줌\\nfunction의 연산과정이 진행되고 그 결과 값을 도출함. \\n\\n실제 값을 넣어서 호출을 할때는 원래 메모리에 있는 값들을, \\n메모리의 다른 영역에 불러와 지시문에 따라 연산하는것.\\n\\n\\n'''\\n\\n# 스택프레임은 함수가 저장된 메모리 공간과 완전히 다른 공간.\\n# 중요한것은...\\n# 함수를 정의한 공간(def의 공간)과 인수를 넣어 호출하는 공간(스택프레임)은 완전히 다름\",\n",
       "  \"func(1,2)\\nfunc(3,4)\\n\\n# 둘이 실행되는 메모리 공간이 같을까? 다를까?\\n# def 코드는 메모리 어딘가에 저장됨. \\n# 호출을 할때 이 def가 저장된 곳에 가서 인수를 넣는 것이 아니라\\n# 새로운 공간에 인수를 가져와 def의 연산과정을 진행함\\n\\n# 이 새로운 공간을 stack frame(스택프레임)이라고 부름\\n\\n'''\\ndef func(a,b):\\n    return a + b\\n    \\n이와같은 코딩은 단지 어떻게 해야할지 지시문(instruction)에 불과.\\n지시문은 메모리에 저장됨. \\nfunc(5,6)은 memory 공간 어딘가에 있음 (실행 이전에도)\\n이를 호출하는 순간 여기서 5와 6을 넣어서 실행하는 것이 아님.\\n\\n실행하는 순간 메모리에 있는 5와 6을 다른 메모리 공간에 가져와 a와 b를 가리켜줌\\nfunction의 연산과정이 진행되고 그 결과 값을 도출함. \\n\\n실제 값을 넣어서 호출을 할때는 원래 메모리에 있는 값들을, \\n메모리의 다른 영역에 불러와 지시문에 따라 연산하는것.\\n\\n\\n'''\\n\\n# 스택프레임은 함수가 저장된 메모리 공간과 완전히 다른 공간.\\n# 중요한것은...\\n# 함수를 정의한 공간(def의 공간)과 인수를 넣어 호출하는 공간(스택프레임)은 완전히 다름\\nprint (None)\",\n",
       "  '# 펑션 오브젝트와 코드 오브젝트\\n# 파이썬의 고급문법 - 심화과정이기에 추가적인 공부가 필수\\n\\n\\'\\'\\'\\n파이선의 내부 동작과정과 관련된 내용이다.\\n(어려울 수 있다)\\n\\n파이썬에서는 모든것이 객체다(함수도)\\n\"함수 객체는 우리말로 function object\" 이와 동시에 code object도 배울 것.(코드 객체)\\n\\'\\'\\'\\n\\n# 함수 선언\\ndef func(a,b):\\n    return a+ b',\n",
       "  'func',\n",
       "  'dir(func\\n   )',\n",
       "  'dir(func)',\n",
       "  'func.__globals__'],\n",
       " 'Out': {2: '\\n3가지가 가능하면 일급함수라고 부름\\n1. 함수를 인자로 전달가능한가\\n2. 함수를 반환할 수 있는가\\n3. 변수에 저장할 수 있는가\\n\\n\\n',\n",
       "  3: 11,\n",
       "  4: 11,\n",
       "  7: 7,\n",
       "  9: 3,\n",
       "  12: '\\n언어에는 low level 언어와 high level 언어가 있다.\\nlow에는 두가지 만 있음 >> 기계어와 어셈블리\\nc와 python은 하이레벨 그런데 python이 더 높음 -->> 의미는 더 추상화되있다는거. \\n\\nlow 언어를 안다는것은 cpu와 레지스터 메모리를 알아야한다는것.\\nc는 레지스터 몰라도됨 \\n이말은 실제 작동 과정과 프로그래밍과정이 멀어진다는 것\\n파이썬의 경우 메모리가 얼마나 들어가는지 생각할 필요 없이 만들 수 있다.\\n파이썬은 수저 어셈블리는 젓가락\\n추상화 정도가 다름. \\n\\n\\n',\n",
       "  16: '\\ndef func(a,b):\\n    return a + b\\n    \\n이와같은 코딩은 단지 어떻게 해야할지 지시문(instruction)에 불과.\\n지시문은 메모리에 저장됨. \\nfunc(5,6)은 memory 공간 어딘가에 있음 (실행 이전에도)\\n이를 호출하는 순간 여기서 5와 6을 넣어서 실행하는 것이 아님.\\n\\n실행하는 순간 메모리에 있는 5와 6을 다른 메모리 공간에 가져와 a와 b를 가리켜줌\\nfunction의 연산과정이 진행되고 그 결과 값을 도출함. \\n\\n실제 값을 넣어서 호출을 할때는 원래 메모리에 있는 값들을, \\n메모리의 다른 영역에 불러와 지시문에 따라 연산하는것.\\n\\n\\n',\n",
       "  19: <function __main__.func>,\n",
       "  20: ['__annotations__',\n",
       "   '__call__',\n",
       "   '__class__',\n",
       "   '__closure__',\n",
       "   '__code__',\n",
       "   '__defaults__',\n",
       "   '__delattr__',\n",
       "   '__dict__',\n",
       "   '__dir__',\n",
       "   '__doc__',\n",
       "   '__eq__',\n",
       "   '__format__',\n",
       "   '__ge__',\n",
       "   '__get__',\n",
       "   '__getattribute__',\n",
       "   '__globals__',\n",
       "   '__gt__',\n",
       "   '__hash__',\n",
       "   '__init__',\n",
       "   '__init_subclass__',\n",
       "   '__kwdefaults__',\n",
       "   '__le__',\n",
       "   '__lt__',\n",
       "   '__module__',\n",
       "   '__name__',\n",
       "   '__ne__',\n",
       "   '__new__',\n",
       "   '__qualname__',\n",
       "   '__reduce__',\n",
       "   '__reduce_ex__',\n",
       "   '__repr__',\n",
       "   '__setattr__',\n",
       "   '__sizeof__',\n",
       "   '__str__',\n",
       "   '__subclasshook__'],\n",
       "  21: ['__annotations__',\n",
       "   '__call__',\n",
       "   '__class__',\n",
       "   '__closure__',\n",
       "   '__code__',\n",
       "   '__defaults__',\n",
       "   '__delattr__',\n",
       "   '__dict__',\n",
       "   '__dir__',\n",
       "   '__doc__',\n",
       "   '__eq__',\n",
       "   '__format__',\n",
       "   '__ge__',\n",
       "   '__get__',\n",
       "   '__getattribute__',\n",
       "   '__globals__',\n",
       "   '__gt__',\n",
       "   '__hash__',\n",
       "   '__init__',\n",
       "   '__init_subclass__',\n",
       "   '__kwdefaults__',\n",
       "   '__le__',\n",
       "   '__lt__',\n",
       "   '__module__',\n",
       "   '__name__',\n",
       "   '__ne__',\n",
       "   '__new__',\n",
       "   '__qualname__',\n",
       "   '__reduce__',\n",
       "   '__reduce_ex__',\n",
       "   '__repr__',\n",
       "   '__setattr__',\n",
       "   '__sizeof__',\n",
       "   '__str__',\n",
       "   '__subclasshook__']},\n",
       " '_': ['__annotations__',\n",
       "  '__call__',\n",
       "  '__class__',\n",
       "  '__closure__',\n",
       "  '__code__',\n",
       "  '__defaults__',\n",
       "  '__delattr__',\n",
       "  '__dict__',\n",
       "  '__dir__',\n",
       "  '__doc__',\n",
       "  '__eq__',\n",
       "  '__format__',\n",
       "  '__ge__',\n",
       "  '__get__',\n",
       "  '__getattribute__',\n",
       "  '__globals__',\n",
       "  '__gt__',\n",
       "  '__hash__',\n",
       "  '__init__',\n",
       "  '__init_subclass__',\n",
       "  '__kwdefaults__',\n",
       "  '__le__',\n",
       "  '__lt__',\n",
       "  '__module__',\n",
       "  '__name__',\n",
       "  '__ne__',\n",
       "  '__new__',\n",
       "  '__qualname__',\n",
       "  '__reduce__',\n",
       "  '__reduce_ex__',\n",
       "  '__repr__',\n",
       "  '__setattr__',\n",
       "  '__sizeof__',\n",
       "  '__str__',\n",
       "  '__subclasshook__'],\n",
       " '_12': '\\n언어에는 low level 언어와 high level 언어가 있다.\\nlow에는 두가지 만 있음 >> 기계어와 어셈블리\\nc와 python은 하이레벨 그런데 python이 더 높음 -->> 의미는 더 추상화되있다는거. \\n\\nlow 언어를 안다는것은 cpu와 레지스터 메모리를 알아야한다는것.\\nc는 레지스터 몰라도됨 \\n이말은 실제 작동 과정과 프로그래밍과정이 멀어진다는 것\\n파이썬의 경우 메모리가 얼마나 들어가는지 생각할 필요 없이 만들 수 있다.\\n파이썬은 수저 어셈블리는 젓가락\\n추상화 정도가 다름. \\n\\n\\n',\n",
       " '_16': '\\ndef func(a,b):\\n    return a + b\\n    \\n이와같은 코딩은 단지 어떻게 해야할지 지시문(instruction)에 불과.\\n지시문은 메모리에 저장됨. \\nfunc(5,6)은 memory 공간 어딘가에 있음 (실행 이전에도)\\n이를 호출하는 순간 여기서 5와 6을 넣어서 실행하는 것이 아님.\\n\\n실행하는 순간 메모리에 있는 5와 6을 다른 메모리 공간에 가져와 a와 b를 가리켜줌\\nfunction의 연산과정이 진행되고 그 결과 값을 도출함. \\n\\n실제 값을 넣어서 호출을 할때는 원래 메모리에 있는 값들을, \\n메모리의 다른 영역에 불러와 지시문에 따라 연산하는것.\\n\\n\\n',\n",
       " '_19': <function __main__.func>,\n",
       " '_2': '\\n3가지가 가능하면 일급함수라고 부름\\n1. 함수를 인자로 전달가능한가\\n2. 함수를 반환할 수 있는가\\n3. 변수에 저장할 수 있는가\\n\\n\\n',\n",
       " '_20': ['__annotations__',\n",
       "  '__call__',\n",
       "  '__class__',\n",
       "  '__closure__',\n",
       "  '__code__',\n",
       "  '__defaults__',\n",
       "  '__delattr__',\n",
       "  '__dict__',\n",
       "  '__dir__',\n",
       "  '__doc__',\n",
       "  '__eq__',\n",
       "  '__format__',\n",
       "  '__ge__',\n",
       "  '__get__',\n",
       "  '__getattribute__',\n",
       "  '__globals__',\n",
       "  '__gt__',\n",
       "  '__hash__',\n",
       "  '__init__',\n",
       "  '__init_subclass__',\n",
       "  '__kwdefaults__',\n",
       "  '__le__',\n",
       "  '__lt__',\n",
       "  '__module__',\n",
       "  '__name__',\n",
       "  '__ne__',\n",
       "  '__new__',\n",
       "  '__qualname__',\n",
       "  '__reduce__',\n",
       "  '__reduce_ex__',\n",
       "  '__repr__',\n",
       "  '__setattr__',\n",
       "  '__sizeof__',\n",
       "  '__str__',\n",
       "  '__subclasshook__'],\n",
       " '_21': ['__annotations__',\n",
       "  '__call__',\n",
       "  '__class__',\n",
       "  '__closure__',\n",
       "  '__code__',\n",
       "  '__defaults__',\n",
       "  '__delattr__',\n",
       "  '__dict__',\n",
       "  '__dir__',\n",
       "  '__doc__',\n",
       "  '__eq__',\n",
       "  '__format__',\n",
       "  '__ge__',\n",
       "  '__get__',\n",
       "  '__getattribute__',\n",
       "  '__globals__',\n",
       "  '__gt__',\n",
       "  '__hash__',\n",
       "  '__init__',\n",
       "  '__init_subclass__',\n",
       "  '__kwdefaults__',\n",
       "  '__le__',\n",
       "  '__lt__',\n",
       "  '__module__',\n",
       "  '__name__',\n",
       "  '__ne__',\n",
       "  '__new__',\n",
       "  '__qualname__',\n",
       "  '__reduce__',\n",
       "  '__reduce_ex__',\n",
       "  '__repr__',\n",
       "  '__setattr__',\n",
       "  '__sizeof__',\n",
       "  '__str__',\n",
       "  '__subclasshook__'],\n",
       " '_3': 11,\n",
       " '_4': 11,\n",
       " '_7': 7,\n",
       " '_9': 3,\n",
       " '__': ['__annotations__',\n",
       "  '__call__',\n",
       "  '__class__',\n",
       "  '__closure__',\n",
       "  '__code__',\n",
       "  '__defaults__',\n",
       "  '__delattr__',\n",
       "  '__dict__',\n",
       "  '__dir__',\n",
       "  '__doc__',\n",
       "  '__eq__',\n",
       "  '__format__',\n",
       "  '__ge__',\n",
       "  '__get__',\n",
       "  '__getattribute__',\n",
       "  '__globals__',\n",
       "  '__gt__',\n",
       "  '__hash__',\n",
       "  '__init__',\n",
       "  '__init_subclass__',\n",
       "  '__kwdefaults__',\n",
       "  '__le__',\n",
       "  '__lt__',\n",
       "  '__module__',\n",
       "  '__name__',\n",
       "  '__ne__',\n",
       "  '__new__',\n",
       "  '__qualname__',\n",
       "  '__reduce__',\n",
       "  '__reduce_ex__',\n",
       "  '__repr__',\n",
       "  '__setattr__',\n",
       "  '__sizeof__',\n",
       "  '__str__',\n",
       "  '__subclasshook__'],\n",
       " '___': <function __main__.func>,\n",
       " '__builtin__': <module 'builtins' (built-in)>,\n",
       " '__builtins__': <module 'builtins' (built-in)>,\n",
       " '__doc__': '\\n파이선의 내부 동작과정과 관련된 내용이다.\\n(어려울 수 있다)\\n\\n파이썬에서는 모든것이 객체다(함수도)\\n\"함수 객체는 우리말로 function object\" 이와 동시에 code object도 배울 것.(코드 객체)\\n',\n",
       " '__loader__': None,\n",
       " '__name__': '__main__',\n",
       " '__package__': None,\n",
       " '__spec__': None,\n",
       " '_dh': ['C:\\\\Users\\\\HankYoo\\\\Documents\\\\css\\\\til\\\\python_practice\\\\2nd week'],\n",
       " '_i': 'dir(func)',\n",
       " '_i1': '# 02번 녹음 시작\\n\\n# 파이썬은 모든 것이 객체\\n# 다른 언어에서는 함수 선언 이후 프로그램이 시작하고 끝낼때까지 지울 수가 없다\\n# 파이썬에서는 함수 역시 객체이기에 지울 수 있다.\\n# del + <function name>\\n\\n# 다른 언어에서는 함수를 정의 했다는 것은 프로그램 영역에 올라갔기 때문에 수정 불가능하다 ',\n",
       " '_i10': '# 결론 \\n# 파이썬의 함수는 모두 3가지 조건을 만족하는 일급 함수다.\\n# 함수를 parameter로 받을 수 있다.\\n# 함수를 variable로 받을 수 있다.\\n# 함수로 return 할 수 있다.',\n",
       " '_i11': '# 일급함수가 된다는 말은 나아가 closure나 decorator가 구현 가능하다는 것을 의미한다.',\n",
       " '_i12': \"# 질문\\n\\n'''\\n언어에는 low level 언어와 high level 언어가 있다.\\nlow에는 두가지 만 있음 >> 기계어와 어셈블리\\nc와 python은 하이레벨 그런데 python이 더 높음 -->> 의미는 더 추상화되있다는거. \\n\\nlow 언어를 안다는것은 cpu와 레지스터 메모리를 알아야한다는것.\\nc는 레지스터 몰라도됨 \\n이말은 실제 작동 과정과 프로그래밍과정이 멀어진다는 것\\n파이썬의 경우 메모리가 얼마나 들어가는지 생각할 필요 없이 만들 수 있다.\\n파이썬은 수저 어셈블리는 젓가락\\n추상화 정도가 다름. \\n\\n\\n'''\",\n",
       " '_i13': '# closure 하기전에 code object와 function object\\n# 그 전에 \\n\\ndef func(a,b):\\n    return a_ b',\n",
       " '_i14': \"func(1,2)\\nfunc(3,4)\\n\\n# 둘이 실행되는 메모리 공간이 같을까? 다를까?\\n# def 코드는 메모리 어딘가에 저장됨. \\n# 호출을 할때 이 def가 저장된 곳에 가서 인수를 넣는 것이 아니라\\n# 새로운 공간에 인수를 가져와 def의 연산과정을 진행함\\n\\n# 이 새로운 공간을 stack frame(스택프레임)이라고 부름\\n\\n'''\\ndef func(a,b):\\n    return a + b\\n    \\n이와같은 코딩은 단지 어떻게 해야할지 지시문(instruction)에 불과.\\n지시문은 메모리에 저장됨. \\nfunc(5,6)은 memory 공간 어딘가에 있음 (실행 이전에도)\\n이를 호출하는 순간 여기서 5와 6을 넣어서 실행하는 것이 아님.\\n\\n실행하는 순간 메모리에 있는 5와 6을 다른 메모리 공간에 가져와 a와 b를 가리켜줌\\nfunction의 연산과정이 진행되고 그 결과 값을 도출함. \\n\\n실제 값을 넣어서 호출을 할때는 원래 메모리에 있는 값들을, \\n메모리의 다른 영역에 불러와 지시문에 따라 연산하는것.\\n\\n\\n'''\\n\\n# 스택프레임은 함수가 저장된 메모리 공간과 완전히 다른 공간.\\n# 중요한것은...\\n# 함수를 정의한 공간(def의 공간)과 인수를 넣어 호출하는 공간(스택프레임)은 완전히 다름\",\n",
       " '_i15': '# closure 하기전에 code object와 function object\\n# 그 전에 스택프레임\\n\\ndef func(a,b):\\n    return a + b',\n",
       " '_i16': \"func(1,2)\\nfunc(3,4)\\n\\n# 둘이 실행되는 메모리 공간이 같을까? 다를까?\\n# def 코드는 메모리 어딘가에 저장됨. \\n# 호출을 할때 이 def가 저장된 곳에 가서 인수를 넣는 것이 아니라\\n# 새로운 공간에 인수를 가져와 def의 연산과정을 진행함\\n\\n# 이 새로운 공간을 stack frame(스택프레임)이라고 부름\\n\\n'''\\ndef func(a,b):\\n    return a + b\\n    \\n이와같은 코딩은 단지 어떻게 해야할지 지시문(instruction)에 불과.\\n지시문은 메모리에 저장됨. \\nfunc(5,6)은 memory 공간 어딘가에 있음 (실행 이전에도)\\n이를 호출하는 순간 여기서 5와 6을 넣어서 실행하는 것이 아님.\\n\\n실행하는 순간 메모리에 있는 5와 6을 다른 메모리 공간에 가져와 a와 b를 가리켜줌\\nfunction의 연산과정이 진행되고 그 결과 값을 도출함. \\n\\n실제 값을 넣어서 호출을 할때는 원래 메모리에 있는 값들을, \\n메모리의 다른 영역에 불러와 지시문에 따라 연산하는것.\\n\\n\\n'''\\n\\n# 스택프레임은 함수가 저장된 메모리 공간과 완전히 다른 공간.\\n# 중요한것은...\\n# 함수를 정의한 공간(def의 공간)과 인수를 넣어 호출하는 공간(스택프레임)은 완전히 다름\",\n",
       " '_i17': \"func(1,2)\\nfunc(3,4)\\n\\n# 둘이 실행되는 메모리 공간이 같을까? 다를까?\\n# def 코드는 메모리 어딘가에 저장됨. \\n# 호출을 할때 이 def가 저장된 곳에 가서 인수를 넣는 것이 아니라\\n# 새로운 공간에 인수를 가져와 def의 연산과정을 진행함\\n\\n# 이 새로운 공간을 stack frame(스택프레임)이라고 부름\\n\\n'''\\ndef func(a,b):\\n    return a + b\\n    \\n이와같은 코딩은 단지 어떻게 해야할지 지시문(instruction)에 불과.\\n지시문은 메모리에 저장됨. \\nfunc(5,6)은 memory 공간 어딘가에 있음 (실행 이전에도)\\n이를 호출하는 순간 여기서 5와 6을 넣어서 실행하는 것이 아님.\\n\\n실행하는 순간 메모리에 있는 5와 6을 다른 메모리 공간에 가져와 a와 b를 가리켜줌\\nfunction의 연산과정이 진행되고 그 결과 값을 도출함. \\n\\n실제 값을 넣어서 호출을 할때는 원래 메모리에 있는 값들을, \\n메모리의 다른 영역에 불러와 지시문에 따라 연산하는것.\\n\\n\\n'''\\n\\n# 스택프레임은 함수가 저장된 메모리 공간과 완전히 다른 공간.\\n# 중요한것은...\\n# 함수를 정의한 공간(def의 공간)과 인수를 넣어 호출하는 공간(스택프레임)은 완전히 다름\\nprint (None)\",\n",
       " '_i18': '# 펑션 오브젝트와 코드 오브젝트\\n# 파이썬의 고급문법 - 심화과정이기에 추가적인 공부가 필수\\n\\n\\'\\'\\'\\n파이선의 내부 동작과정과 관련된 내용이다.\\n(어려울 수 있다)\\n\\n파이썬에서는 모든것이 객체다(함수도)\\n\"함수 객체는 우리말로 function object\" 이와 동시에 code object도 배울 것.(코드 객체)\\n\\'\\'\\'\\n\\n# 함수 선언\\ndef func(a,b):\\n    return a+ b',\n",
       " '_i19': 'func',\n",
       " '_i2': \"#  first class function\\n\\n'''\\n3가지가 가능하면 일급함수라고 부름\\n1. 함수를 인자로 전달가능한가\\n2. 함수를 반환할 수 있는가\\n3. 변수에 저장할 수 있는가\\n\\n\\n'''\",\n",
       " '_i20': 'dir(func\\n   )',\n",
       " '_i21': 'dir(func)',\n",
       " '_i22': 'func.__globals__',\n",
       " '_i3': '# 1번조건 확인하기\\n# argument로 전달 할 수 있는지\\n\\n\\ndef f(a,b):\\n    return a+ b\\ndef g(func, a,b):\\n    return func(a, b)\\n\\n# g 함수에서 func를 인자로 받을 수 있는가?\\n\\ng(f, 5, 6)',\n",
       " '_i4': '# 1번조건 확인하기\\n# argument로 전달 할 수 있는지\\n\\n\\ndef f(a,b):   # 첫번째 함수 선언\\n    return a+ b\\ndef g(func, a,b):  # 두번째 함수 선언 -->> 첫번째 인자로 앞의 함수를 받음.\\n    return func(a, b)  # 여기서 func의 위치는 함수의 위치. \\n\\n# g 함수에서 func를 인자로 받을 수 있는가?\\n\\ng(f, 5, 6)\\n\\n# 11이 도출됨.>>> 1번 조건 만족함. (함수를 인자로 전달할 수 있다.)',\n",
       " '_i5': '# 두번째 조건\\ndef adder(a,b):\\n    return a+b',\n",
       " '_i6': 'var = adder',\n",
       " '_i7': 'var(5,2)',\n",
       " '_i8': \"# 두번째 조건\\n# 함수로 return할 수 있는가\\n\\ndef calc(kind = 'add'):    #이런 input값을 변수의 default값이라고 부름 >> 아무것도 넣지 않을 때 'add'가 들어감\\n    # 인자로 'add'를 넣으면 두값을 더하는 함수를 return 받고 싶고\\n    # 인자로 'sub'를 넣으면 a-bㄹㄹ 실행하는 함수를 return 받고 싶다면\\n    def add(a,b):\\n        return a +b\\n    def sub(a,b):\\n        return a -b\\n    \\n    if kind == 'add':\\n        return add    # 함수를 리턴\\n    elif kind == 'sub':\\n        return sub    # 함수를 리턴\\n    \\n\\n\\n    \",\n",
       " '_i9': \"f = calc('add')\\nf(1,2)\",\n",
       " '_ih': ['',\n",
       "  '# 02번 녹음 시작\\n\\n# 파이썬은 모든 것이 객체\\n# 다른 언어에서는 함수 선언 이후 프로그램이 시작하고 끝낼때까지 지울 수가 없다\\n# 파이썬에서는 함수 역시 객체이기에 지울 수 있다.\\n# del + <function name>\\n\\n# 다른 언어에서는 함수를 정의 했다는 것은 프로그램 영역에 올라갔기 때문에 수정 불가능하다 ',\n",
       "  \"#  first class function\\n\\n'''\\n3가지가 가능하면 일급함수라고 부름\\n1. 함수를 인자로 전달가능한가\\n2. 함수를 반환할 수 있는가\\n3. 변수에 저장할 수 있는가\\n\\n\\n'''\",\n",
       "  '# 1번조건 확인하기\\n# argument로 전달 할 수 있는지\\n\\n\\ndef f(a,b):\\n    return a+ b\\ndef g(func, a,b):\\n    return func(a, b)\\n\\n# g 함수에서 func를 인자로 받을 수 있는가?\\n\\ng(f, 5, 6)',\n",
       "  '# 1번조건 확인하기\\n# argument로 전달 할 수 있는지\\n\\n\\ndef f(a,b):   # 첫번째 함수 선언\\n    return a+ b\\ndef g(func, a,b):  # 두번째 함수 선언 -->> 첫번째 인자로 앞의 함수를 받음.\\n    return func(a, b)  # 여기서 func의 위치는 함수의 위치. \\n\\n# g 함수에서 func를 인자로 받을 수 있는가?\\n\\ng(f, 5, 6)\\n\\n# 11이 도출됨.>>> 1번 조건 만족함. (함수를 인자로 전달할 수 있다.)',\n",
       "  '# 두번째 조건\\ndef adder(a,b):\\n    return a+b',\n",
       "  'var = adder',\n",
       "  'var(5,2)',\n",
       "  \"# 두번째 조건\\n# 함수로 return할 수 있는가\\n\\ndef calc(kind = 'add'):    #이런 input값을 변수의 default값이라고 부름 >> 아무것도 넣지 않을 때 'add'가 들어감\\n    # 인자로 'add'를 넣으면 두값을 더하는 함수를 return 받고 싶고\\n    # 인자로 'sub'를 넣으면 a-bㄹㄹ 실행하는 함수를 return 받고 싶다면\\n    def add(a,b):\\n        return a +b\\n    def sub(a,b):\\n        return a -b\\n    \\n    if kind == 'add':\\n        return add    # 함수를 리턴\\n    elif kind == 'sub':\\n        return sub    # 함수를 리턴\\n    \\n\\n\\n    \",\n",
       "  \"f = calc('add')\\nf(1,2)\",\n",
       "  '# 결론 \\n# 파이썬의 함수는 모두 3가지 조건을 만족하는 일급 함수다.\\n# 함수를 parameter로 받을 수 있다.\\n# 함수를 variable로 받을 수 있다.\\n# 함수로 return 할 수 있다.',\n",
       "  '# 일급함수가 된다는 말은 나아가 closure나 decorator가 구현 가능하다는 것을 의미한다.',\n",
       "  \"# 질문\\n\\n'''\\n언어에는 low level 언어와 high level 언어가 있다.\\nlow에는 두가지 만 있음 >> 기계어와 어셈블리\\nc와 python은 하이레벨 그런데 python이 더 높음 -->> 의미는 더 추상화되있다는거. \\n\\nlow 언어를 안다는것은 cpu와 레지스터 메모리를 알아야한다는것.\\nc는 레지스터 몰라도됨 \\n이말은 실제 작동 과정과 프로그래밍과정이 멀어진다는 것\\n파이썬의 경우 메모리가 얼마나 들어가는지 생각할 필요 없이 만들 수 있다.\\n파이썬은 수저 어셈블리는 젓가락\\n추상화 정도가 다름. \\n\\n\\n'''\",\n",
       "  '# closure 하기전에 code object와 function object\\n# 그 전에 \\n\\ndef func(a,b):\\n    return a_ b',\n",
       "  \"func(1,2)\\nfunc(3,4)\\n\\n# 둘이 실행되는 메모리 공간이 같을까? 다를까?\\n# def 코드는 메모리 어딘가에 저장됨. \\n# 호출을 할때 이 def가 저장된 곳에 가서 인수를 넣는 것이 아니라\\n# 새로운 공간에 인수를 가져와 def의 연산과정을 진행함\\n\\n# 이 새로운 공간을 stack frame(스택프레임)이라고 부름\\n\\n'''\\ndef func(a,b):\\n    return a + b\\n    \\n이와같은 코딩은 단지 어떻게 해야할지 지시문(instruction)에 불과.\\n지시문은 메모리에 저장됨. \\nfunc(5,6)은 memory 공간 어딘가에 있음 (실행 이전에도)\\n이를 호출하는 순간 여기서 5와 6을 넣어서 실행하는 것이 아님.\\n\\n실행하는 순간 메모리에 있는 5와 6을 다른 메모리 공간에 가져와 a와 b를 가리켜줌\\nfunction의 연산과정이 진행되고 그 결과 값을 도출함. \\n\\n실제 값을 넣어서 호출을 할때는 원래 메모리에 있는 값들을, \\n메모리의 다른 영역에 불러와 지시문에 따라 연산하는것.\\n\\n\\n'''\\n\\n# 스택프레임은 함수가 저장된 메모리 공간과 완전히 다른 공간.\\n# 중요한것은...\\n# 함수를 정의한 공간(def의 공간)과 인수를 넣어 호출하는 공간(스택프레임)은 완전히 다름\",\n",
       "  '# closure 하기전에 code object와 function object\\n# 그 전에 스택프레임\\n\\ndef func(a,b):\\n    return a + b',\n",
       "  \"func(1,2)\\nfunc(3,4)\\n\\n# 둘이 실행되는 메모리 공간이 같을까? 다를까?\\n# def 코드는 메모리 어딘가에 저장됨. \\n# 호출을 할때 이 def가 저장된 곳에 가서 인수를 넣는 것이 아니라\\n# 새로운 공간에 인수를 가져와 def의 연산과정을 진행함\\n\\n# 이 새로운 공간을 stack frame(스택프레임)이라고 부름\\n\\n'''\\ndef func(a,b):\\n    return a + b\\n    \\n이와같은 코딩은 단지 어떻게 해야할지 지시문(instruction)에 불과.\\n지시문은 메모리에 저장됨. \\nfunc(5,6)은 memory 공간 어딘가에 있음 (실행 이전에도)\\n이를 호출하는 순간 여기서 5와 6을 넣어서 실행하는 것이 아님.\\n\\n실행하는 순간 메모리에 있는 5와 6을 다른 메모리 공간에 가져와 a와 b를 가리켜줌\\nfunction의 연산과정이 진행되고 그 결과 값을 도출함. \\n\\n실제 값을 넣어서 호출을 할때는 원래 메모리에 있는 값들을, \\n메모리의 다른 영역에 불러와 지시문에 따라 연산하는것.\\n\\n\\n'''\\n\\n# 스택프레임은 함수가 저장된 메모리 공간과 완전히 다른 공간.\\n# 중요한것은...\\n# 함수를 정의한 공간(def의 공간)과 인수를 넣어 호출하는 공간(스택프레임)은 완전히 다름\",\n",
       "  \"func(1,2)\\nfunc(3,4)\\n\\n# 둘이 실행되는 메모리 공간이 같을까? 다를까?\\n# def 코드는 메모리 어딘가에 저장됨. \\n# 호출을 할때 이 def가 저장된 곳에 가서 인수를 넣는 것이 아니라\\n# 새로운 공간에 인수를 가져와 def의 연산과정을 진행함\\n\\n# 이 새로운 공간을 stack frame(스택프레임)이라고 부름\\n\\n'''\\ndef func(a,b):\\n    return a + b\\n    \\n이와같은 코딩은 단지 어떻게 해야할지 지시문(instruction)에 불과.\\n지시문은 메모리에 저장됨. \\nfunc(5,6)은 memory 공간 어딘가에 있음 (실행 이전에도)\\n이를 호출하는 순간 여기서 5와 6을 넣어서 실행하는 것이 아님.\\n\\n실행하는 순간 메모리에 있는 5와 6을 다른 메모리 공간에 가져와 a와 b를 가리켜줌\\nfunction의 연산과정이 진행되고 그 결과 값을 도출함. \\n\\n실제 값을 넣어서 호출을 할때는 원래 메모리에 있는 값들을, \\n메모리의 다른 영역에 불러와 지시문에 따라 연산하는것.\\n\\n\\n'''\\n\\n# 스택프레임은 함수가 저장된 메모리 공간과 완전히 다른 공간.\\n# 중요한것은...\\n# 함수를 정의한 공간(def의 공간)과 인수를 넣어 호출하는 공간(스택프레임)은 완전히 다름\\nprint (None)\",\n",
       "  '# 펑션 오브젝트와 코드 오브젝트\\n# 파이썬의 고급문법 - 심화과정이기에 추가적인 공부가 필수\\n\\n\\'\\'\\'\\n파이선의 내부 동작과정과 관련된 내용이다.\\n(어려울 수 있다)\\n\\n파이썬에서는 모든것이 객체다(함수도)\\n\"함수 객체는 우리말로 function object\" 이와 동시에 code object도 배울 것.(코드 객체)\\n\\'\\'\\'\\n\\n# 함수 선언\\ndef func(a,b):\\n    return a+ b',\n",
       "  'func',\n",
       "  'dir(func\\n   )',\n",
       "  'dir(func)',\n",
       "  'func.__globals__'],\n",
       " '_ii': 'dir(func\\n   )',\n",
       " '_iii': 'func',\n",
       " '_oh': {2: '\\n3가지가 가능하면 일급함수라고 부름\\n1. 함수를 인자로 전달가능한가\\n2. 함수를 반환할 수 있는가\\n3. 변수에 저장할 수 있는가\\n\\n\\n',\n",
       "  3: 11,\n",
       "  4: 11,\n",
       "  7: 7,\n",
       "  9: 3,\n",
       "  12: '\\n언어에는 low level 언어와 high level 언어가 있다.\\nlow에는 두가지 만 있음 >> 기계어와 어셈블리\\nc와 python은 하이레벨 그런데 python이 더 높음 -->> 의미는 더 추상화되있다는거. \\n\\nlow 언어를 안다는것은 cpu와 레지스터 메모리를 알아야한다는것.\\nc는 레지스터 몰라도됨 \\n이말은 실제 작동 과정과 프로그래밍과정이 멀어진다는 것\\n파이썬의 경우 메모리가 얼마나 들어가는지 생각할 필요 없이 만들 수 있다.\\n파이썬은 수저 어셈블리는 젓가락\\n추상화 정도가 다름. \\n\\n\\n',\n",
       "  16: '\\ndef func(a,b):\\n    return a + b\\n    \\n이와같은 코딩은 단지 어떻게 해야할지 지시문(instruction)에 불과.\\n지시문은 메모리에 저장됨. \\nfunc(5,6)은 memory 공간 어딘가에 있음 (실행 이전에도)\\n이를 호출하는 순간 여기서 5와 6을 넣어서 실행하는 것이 아님.\\n\\n실행하는 순간 메모리에 있는 5와 6을 다른 메모리 공간에 가져와 a와 b를 가리켜줌\\nfunction의 연산과정이 진행되고 그 결과 값을 도출함. \\n\\n실제 값을 넣어서 호출을 할때는 원래 메모리에 있는 값들을, \\n메모리의 다른 영역에 불러와 지시문에 따라 연산하는것.\\n\\n\\n',\n",
       "  19: <function __main__.func>,\n",
       "  20: ['__annotations__',\n",
       "   '__call__',\n",
       "   '__class__',\n",
       "   '__closure__',\n",
       "   '__code__',\n",
       "   '__defaults__',\n",
       "   '__delattr__',\n",
       "   '__dict__',\n",
       "   '__dir__',\n",
       "   '__doc__',\n",
       "   '__eq__',\n",
       "   '__format__',\n",
       "   '__ge__',\n",
       "   '__get__',\n",
       "   '__getattribute__',\n",
       "   '__globals__',\n",
       "   '__gt__',\n",
       "   '__hash__',\n",
       "   '__init__',\n",
       "   '__init_subclass__',\n",
       "   '__kwdefaults__',\n",
       "   '__le__',\n",
       "   '__lt__',\n",
       "   '__module__',\n",
       "   '__name__',\n",
       "   '__ne__',\n",
       "   '__new__',\n",
       "   '__qualname__',\n",
       "   '__reduce__',\n",
       "   '__reduce_ex__',\n",
       "   '__repr__',\n",
       "   '__setattr__',\n",
       "   '__sizeof__',\n",
       "   '__str__',\n",
       "   '__subclasshook__'],\n",
       "  21: ['__annotations__',\n",
       "   '__call__',\n",
       "   '__class__',\n",
       "   '__closure__',\n",
       "   '__code__',\n",
       "   '__defaults__',\n",
       "   '__delattr__',\n",
       "   '__dict__',\n",
       "   '__dir__',\n",
       "   '__doc__',\n",
       "   '__eq__',\n",
       "   '__format__',\n",
       "   '__ge__',\n",
       "   '__get__',\n",
       "   '__getattribute__',\n",
       "   '__globals__',\n",
       "   '__gt__',\n",
       "   '__hash__',\n",
       "   '__init__',\n",
       "   '__init_subclass__',\n",
       "   '__kwdefaults__',\n",
       "   '__le__',\n",
       "   '__lt__',\n",
       "   '__module__',\n",
       "   '__name__',\n",
       "   '__ne__',\n",
       "   '__new__',\n",
       "   '__qualname__',\n",
       "   '__reduce__',\n",
       "   '__reduce_ex__',\n",
       "   '__repr__',\n",
       "   '__setattr__',\n",
       "   '__sizeof__',\n",
       "   '__str__',\n",
       "   '__subclasshook__']},\n",
       " 'adder': <function __main__.adder>,\n",
       " 'calc': <function __main__.calc>,\n",
       " 'exit': <IPython.core.autocall.ZMQExitAutocall at 0x4432810>,\n",
       " 'f': <function __main__.calc.<locals>.add>,\n",
       " 'func': <function __main__.func>,\n",
       " 'g': <function __main__.g>,\n",
       " 'get_ipython': <bound method InteractiveShell.get_ipython of <ipykernel.zmqshell.ZMQInteractiveShell object at 0x043FAB70>>,\n",
       " 'quit': <IPython.core.autocall.ZMQExitAutocall at 0x4432810>,\n",
       " 'var': <function __main__.adder>}"
      ]
     },
     "execution_count": 22,
     "metadata": {},
     "output_type": "execute_result"
    }
   ],
   "source": [
    "func.__globals__"
   ]
  },
  {
   "cell_type": "code",
   "execution_count": 23,
   "metadata": {
    "collapsed": true
   },
   "outputs": [],
   "source": [
    "a = 10\n",
    "b = 20\n",
    "c = 30\n",
    "# 위의 세계는 global variable\n",
    "def func(a,b):\n",
    "    return a+ b\n"
   ]
  },
  {
   "cell_type": "code",
   "execution_count": 30,
   "metadata": {},
   "outputs": [],
   "source": [
    "f.__globals__['a']   #여기서 전역변수 a,b,c를 찾아보자\n",
    "f.__globals__['b']\n",
    "\n",
    "# 함수에서는 global variable 찾을 수 있는 기능있다.\n",
    "def func2():\n",
    "    print(a)\n",
    "# 일단 지역변수부터 찾아보고 없으면 전역변수의 영역에서 찾는다.\n",
    "# 모든 함수는 global 을 가지고 있다."
   ]
  },
  {
   "cell_type": "code",
   "execution_count": 33,
   "metadata": {
    "collapsed": true
   },
   "outputs": [],
   "source": [
    "code = func.__code__"
   ]
  },
  {
   "cell_type": "code",
   "execution_count": 35,
   "metadata": {},
   "outputs": [
    {
     "data": {
      "text/plain": [
       "<code object func at 0x00956650, file \"<ipython-input-23-6a451644caad>\", line 5>"
      ]
     },
     "execution_count": 35,
     "metadata": {},
     "output_type": "execute_result"
    }
   ],
   "source": [
    "code   #다시 듣기."
   ]
  },
  {
   "cell_type": "code",
   "execution_count": 37,
   "metadata": {},
   "outputs": [
    {
     "data": {
      "text/plain": [
       "b'|\\x00|\\x01\\x17\\x00S\\x00'"
      ]
     },
     "execution_count": 37,
     "metadata": {},
     "output_type": "execute_result"
    }
   ],
   "source": [
    "code.co_code # 컴퓨터의 언어 0101로 쓰여진 function의 지시문. \n",
    "# 밑의 001\\r값은 지시문이 파이썬 내부에서 저장되는 형태."
   ]
  },
  {
   "cell_type": "code",
   "execution_count": null,
   "metadata": {
    "collapsed": true
   },
   "outputs": [],
   "source": [
    "# 정리\n",
    "'''\n",
    "함수 정의를 했을때\n",
    "객체가 하나 생기면서\n",
    "해당 객체는 globals라는 딕셔너리 를 가지고\n",
    "code object라는 지시문을 0101로 바꾼 내용을 가지고 있다.  \n",
    "이 두가지를 가지고 있다면 closure을 할 수 있고\n",
    "closure을 할 수 있다면 decorator를 할 수 있다. \n",
    "'''"
   ]
  }
 ],
 "metadata": {
  "kernelspec": {
   "display_name": "Python 3",
   "language": "python",
   "name": "python3"
  },
  "language_info": {
   "codemirror_mode": {
    "name": "ipython",
    "version": 3
   },
   "file_extension": ".py",
   "mimetype": "text/x-python",
   "name": "python",
   "nbconvert_exporter": "python",
   "pygments_lexer": "ipython3",
   "version": "3.6.2"
  }
 },
 "nbformat": 4,
 "nbformat_minor": 2
}
