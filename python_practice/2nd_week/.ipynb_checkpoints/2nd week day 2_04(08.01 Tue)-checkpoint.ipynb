{
 "cells": [
  {
   "cell_type": "code",
   "execution_count": 1,
   "metadata": {
    "collapsed": true
   },
   "outputs": [],
   "source": [
    "# 세번째 시간 마지막 \n"
   ]
  },
  {
   "cell_type": "code",
   "execution_count": 4,
   "metadata": {},
   "outputs": [
    {
     "name": "stdout",
     "output_type": "stream",
     "text": [
      "None\n"
     ]
    }
   ],
   "source": [
    "# 파이썬의 함수는 식이다. 반드시 무엇을 return해야 한다.\n",
    "# return이 없으면 None을 반환\n",
    "\n",
    "dic_hint ={'a':1,'b':2}\n",
    "\n",
    "a = 10\n",
    "a = dic_hint.update({'c':3})\n",
    "print(a) "
   ]
  },
  {
   "cell_type": "code",
   "execution_count": 3,
   "metadata": {
    "collapsed": true
   },
   "outputs": [],
   "source": [
    "# 업데이트는 무엇을 반환하지 않는다. 단지 기존 dictionary를 업데이트 하고 끝 >> 그러나 식은 무조건 return 해야 하기에 None을 반환.\n",
    "# sort와 같이 해당 함수 자체는 구체적인 값을 반환하지 않고 기존의 대상만 수정하고 끝 >>> 그런데 식은 무조건 return해야 하기에 None을 반환"
   ]
  },
  {
   "cell_type": "code",
   "execution_count": 8,
   "metadata": {},
   "outputs": [
    {
     "name": "stdout",
     "output_type": "stream",
     "text": [
      "{'a': 1, 'b': 2, 'c': 3, 'd': 4}\n",
      "[1, 4, 6, 23, 25, 50, 290]\n"
     ]
    }
   ],
   "source": [
    "# 딕셔너리에 업데이트로 'c':3을 업데이트 한다음에 그 와 동시에 그 딕셔너리를 얻으려면 어떻게 하는가?\n",
    "# or를 통해 이를 실현 가능\n",
    "\n",
    "print(dic_hint.update({'d':4}) or dic_hint)   # == None or dic_hint    >>>> 결과는 dic_hint가 나올것. 거짓 or 참>>> 참을 return.\n",
    "\n",
    "#위를 이해하는 것이 중요한 것은 람다에 사용하기 위해서는 무엇인가를 반환해야 하기 때문.\n",
    "#람다 안에 사용하기 위해서는 1. 한줄로 표현 가능해야 하고 2. return 값이 있어야 함\n",
    "\n",
    "# sort로 연습해보자\n",
    "li_ex = [1,50,23,4,6,290,25,]\n",
    "print(li_ex.sort() or li_ex)"
   ]
  },
  {
   "cell_type": "code",
   "execution_count": 12,
   "metadata": {},
   "outputs": [
    {
     "data": {
      "text/plain": [
       "60"
      ]
     },
     "execution_count": 12,
     "metadata": {},
     "output_type": "execute_result"
    }
   ],
   "source": [
    "# 초기값\n",
    "'''\n",
    "초기값\n",
    "li = [1,2,3,4,] 이고 초기값이 50 일때,\n",
    "lambda a,b: a+b 일때\n",
    "초기값이 50이면 처음 식에 50이 a 자리에 들어감. \n",
    "(즉, a가 50 b가 1 >> 이렇게 시작해서 실행됨)\n",
    "'''\n",
    "from functools import reduce \n",
    "li_ini =[1,2,3,4,]\n",
    "res = reduce(lambda a,b: a+b, li_ini, 50)\n",
    "res"
   ]
  },
  {
   "cell_type": "code",
   "execution_count": 13,
   "metadata": {
    "collapsed": true
   },
   "outputs": [],
   "source": [
    "# reduce를 통해서 empty dictionary를 초기값으로 넣으면 최종적으로 dic이 나올 수 있을 것."
   ]
  },
  {
   "cell_type": "code",
   "execution_count": 31,
   "metadata": {},
   "outputs": [
    {
     "data": {
      "text/plain": [
       "{'a': 1, 'b': 1, 'c': 1}"
      ]
     },
     "execution_count": 31,
     "metadata": {},
     "output_type": "execute_result"
    }
   ],
   "source": [
    "# append 역시 None을 반환 >> or list해주면 append된 list가 반환됨\n",
    "# reduce에서 인자 2개이고 2개의 list에서 추출해올때 순서 중요\n",
    "# reduce a,b:<식>, r,k 일때 a는 k에서 추출// b는 r에서 추출\n",
    "\n",
    "li = ['a','b','c','a','b','a']\n",
    "m = list(map(lambda x: ))\n",
    "\n",
    "res = reduce(lambda dic,ch:dic.update({ch:next(map(lambda x: 1 if dic.get('a') == None else 1, li)) }) or dic ,li,{})\n",
    "res"
   ]
  },
  {
   "cell_type": "code",
   "execution_count": 33,
   "metadata": {},
   "outputs": [
    {
     "data": {
      "text/plain": [
       "{'a': 3, 'b': 2, 'c': 1}"
      ]
     },
     "execution_count": 33,
     "metadata": {},
     "output_type": "execute_result"
    }
   ],
   "source": [
    "# 정답\n",
    "li = ['a','b','c','a','b','a']\n",
    "\n",
    "\n",
    "res = reduce(lambda dic,ch:dic.update({ch:dic.get(ch, 0)+1 }) or dic ,li,{})  \n",
    "res\n",
    "# 1번 >>> 빈 딕셔너리 선언 >> dic과  {}\n",
    "# 2번 >>> get에서 None이 출력되면 대체 출력 값 0을 넣어주고 해당 값에 1을 더해줌(하나 있는 것이니까)\n",
    "# 중요>>>>> update에서는 새로운 key:value쌍을 추가 가능하다\n",
    "# 중요>>>>> get은 error가 아닌 None을 출력해서 프로그램에 영향을 주지 않는다\n",
    "# 중요>>>>> dictionary[<key>]를 쓰지 않는 이유는 최초에 error가 뜨기 때문이다. \n",
    "# 중요>>>>> update({key:value})에서 value의 위치에서 get을 사용해 출력되는 값은 사실 의미와 관계없이 해당 key의 value로 업데이트 된다.\n",
    "# 중요>>>>> get을 사용하면 해당 key의 value가 출력된다. 해당 key가 없다면 None이 출력된다\n",
    "# 중요>>>>> None은 False니까 or를 통해 추가적인 행동을 할 수 있다. \n",
    "\n",
    "# None에는 1을 더할수 없기에 default값 0을 넣어주는 것임 (dic.get('ch', 0))\n",
    "''' default값 == 초기값'''"
   ]
  },
  {
   "cell_type": "code",
   "execution_count": null,
   "metadata": {
    "collapsed": true
   },
   "outputs": [],
   "source": [
    "res = "
   ]
  }
 ],
 "metadata": {
  "kernelspec": {
   "display_name": "Python 3",
   "language": "python",
   "name": "python3"
  },
  "language_info": {
   "codemirror_mode": {
    "name": "ipython",
    "version": 3
   },
   "file_extension": ".py",
   "mimetype": "text/x-python",
   "name": "python",
   "nbconvert_exporter": "python",
   "pygments_lexer": "ipython3",
   "version": "3.6.2"
  }
 },
 "nbformat": 4,
 "nbformat_minor": 2
}
