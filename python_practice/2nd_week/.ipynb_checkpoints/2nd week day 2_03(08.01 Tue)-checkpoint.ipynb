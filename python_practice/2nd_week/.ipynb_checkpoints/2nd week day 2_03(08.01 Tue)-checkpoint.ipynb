{
 "cells": [
  {
   "cell_type": "code",
   "execution_count": 3,
   "metadata": {},
   "outputs": [
    {
     "data": {
      "text/plain": [
       "[3, 5, 7, 9]"
      ]
     },
     "execution_count": 3,
     "metadata": {},
     "output_type": "execute_result"
    }
   ],
   "source": [
    "# 세번째 녹음 \n",
    "\n",
    "# 들어가기 전에\n",
    "# map은 가변인자를 받는다. >> 뜻: 인자의 갯수가 여러개가 될 수 있다.\n",
    "'''\n",
    "y = f(x)\n",
    "z = f(x,y) >>> 맵으로 가능\n",
    "\n",
    "x에서 하나 가져오고 y에서 하나 가져와서 z 값을 가져오는 기능을 맵도 가능함\n",
    "'''\n",
    "\n",
    "a = [1,2,3,4]\n",
    "b = [2,3,4,5]\n",
    "result = list(map(lambda x,y: x+y, a,b))\n",
    "result"
   ]
  },
  {
   "cell_type": "code",
   "execution_count": 2,
   "metadata": {},
   "outputs": [
    {
     "data": {
      "text/plain": [
       "'\\nreduce \"줄여 나간다\"\\n[1,2,3,4,5,]가 있을 때,\\n모든 요소를 더한 수를 얻고 싶을 때.\\n첫번째 요소와 두번째 요소를 더하고 그 더한 값을 둘의 자리에 치환[mutation]을 함.\\n>>> 이때 요소의 자리수가 하나 사라짐(reduce)\\n[3,3,4,5]\\n[6,4,5]\\n[10,5]\\n15\\n'"
      ]
     },
     "execution_count": 2,
     "metadata": {},
     "output_type": "execute_result"
    }
   ],
   "source": [
    "# reduce >>> global에 있는 함수가 아니기에 functools에서 import해줘야 한다.\n",
    "from functools import reduce\n",
    "\n",
    "'''\n",
    "reduce \"줄여 나간다\"\n",
    "[1,2,3,4,5,]가 있을 때,\n",
    "모든 요소를 더한 수를 얻고 싶을 때.\n",
    "첫번째 요소와 두번째 요소를 더하고 그 더한 값을 둘의 자리에 치환[mutation]을 함.\n",
    ">>> 이때 요소의 자리수가 하나 사라짐(reduce)\n",
    "[3,3,4,5]\n",
    "[6,4,5]\n",
    "[10,5]\n",
    "15\n",
    "'''\n",
    "# 주의: 위의 과정으로 이해하면 쉬울 뿐 실제 list가 사라지거나 변하는 것은 아님!!"
   ]
  },
  {
   "cell_type": "code",
   "execution_count": 9,
   "metadata": {},
   "outputs": [
    {
     "name": "stdout",
     "output_type": "stream",
     "text": [
      "15\n",
      "[1, 2, 3, 4, 5]\n"
     ]
    }
   ],
   "source": [
    "li = [1,2,3,4,5]\n",
    "result = reduce(lambda a,b: a+b , li)\n",
    "print(result)\n",
    "print(li) # list는 변하지 않음"
   ]
  },
  {
   "cell_type": "code",
   "execution_count": 4,
   "metadata": {},
   "outputs": [
    {
     "ename": "TypeError",
     "evalue": "'int' object is not an iterator",
     "output_type": "error",
     "traceback": [
      "\u001b[1;31m---------------------------------------------------------------------------\u001b[0m",
      "\u001b[1;31mTypeError\u001b[0m                                 Traceback (most recent call last)",
      "\u001b[1;32m<ipython-input-4-0fb57b9045b4>\u001b[0m in \u001b[0;36m<module>\u001b[1;34m()\u001b[0m\n\u001b[0;32m      6\u001b[0m \u001b[1;33m\u001b[0m\u001b[0m\n\u001b[0;32m      7\u001b[0m \u001b[0mresult\u001b[0m \u001b[1;33m=\u001b[0m \u001b[0mreduce\u001b[0m\u001b[1;33m(\u001b[0m\u001b[1;32mlambda\u001b[0m \u001b[0mx\u001b[0m\u001b[1;33m,\u001b[0m\u001b[0my\u001b[0m\u001b[1;33m:\u001b[0m \u001b[1;33m(\u001b[0m\u001b[0mx\u001b[0m\u001b[1;33m//\u001b[0m\u001b[1;36m16\u001b[0m\u001b[1;33m)\u001b[0m\u001b[1;33m*\u001b[0m\u001b[1;36m16\u001b[0m \u001b[1;33m+\u001b[0m \u001b[1;33m(\u001b[0m\u001b[0my\u001b[0m\u001b[1;33m//\u001b[0m\u001b[1;36m16\u001b[0m\u001b[1;33m)\u001b[0m\u001b[1;33m*\u001b[0m\u001b[1;36m16\u001b[0m \u001b[1;33m,\u001b[0m \u001b[0mex_li\u001b[0m\u001b[1;33m)\u001b[0m\u001b[1;33m\u001b[0m\u001b[0m\n\u001b[1;32m----> 8\u001b[1;33m \u001b[0mnext\u001b[0m\u001b[1;33m(\u001b[0m\u001b[0mresult\u001b[0m\u001b[1;33m)\u001b[0m\u001b[1;33m\u001b[0m\u001b[0m\n\u001b[0m\u001b[0;32m      9\u001b[0m \u001b[1;33m\u001b[0m\u001b[0m\n\u001b[0;32m     10\u001b[0m \u001b[1;31m# 나중에 답변\u001b[0m\u001b[1;33m\u001b[0m\u001b[1;33m\u001b[0m\u001b[0m\n",
      "\u001b[1;31mTypeError\u001b[0m: 'int' object is not an iterator"
     ]
    }
   ],
   "source": [
    "# 예제 \n",
    "# 최대값 산출\n",
    "\n",
    "ex_li=[5,8,1,-4,16,2,9]\n",
    "# reduce를 사용해서 16를 얻기\n",
    "\n",
    "result = reduce(lambda x,y: (x//16)*16 + (y//16)*16 , ex_li)\n",
    "result\n",
    "\n",
    "# 나중에 답변"
   ]
  },
  {
   "cell_type": "code",
   "execution_count": 20,
   "metadata": {},
   "outputs": [
    {
     "data": {
      "text/plain": [
       "16"
      ]
     },
     "execution_count": 20,
     "metadata": {},
     "output_type": "execute_result"
    }
   ],
   "source": [
    "# 답안\n",
    "result = reduce(lambda x,y: x if x > y else y, ex_li)\n",
    "result"
   ]
  },
  {
   "cell_type": "code",
   "execution_count": 31,
   "metadata": {},
   "outputs": [
    {
     "name": "stdout",
     "output_type": "stream",
     "text": [
      "{'a': 1, 'b': 2, 'c': 3, 'd': 4}\n",
      "{'a': 1, 'b': 2, 'c': 3, 'd': 4, 'e': 5, 'f': 6}\n",
      "{'a': 1000, 'b': 2, 'c': 3, 'd': 4, 'e': 5, 'f': 6}\n",
      "1000\n",
      "1000\n",
      "99999\n",
      "50\n",
      "50\n"
     ]
    }
   ],
   "source": [
    "# reduce 마지막 예제\n",
    "ex_li2 = ['a', 'b','c','a','b','a']\n",
    "# 최종 목적은 a가 3개 있고 b가 2개 있고 c가 하나 있다는 정보의 dictionary를 만드는 것.\n",
    "#{'a': 3, 'b': 2, 'c': 1}\n",
    "\n",
    "# tip_01\n",
    "dic112 = {'a':1,'b':2,'c':3}\n",
    "#값을 추가하는 방법\n",
    "dic112['d'] = 4\n",
    "print(dic112)\n",
    "\n",
    "#값을 여러개 넣는 방법\n",
    "# <dictionary> + <dot> + update + (<dictionary>)\n",
    "dic112.update({'e':5,'f':6})\n",
    "print(dic112)\n",
    "# 존재하는 값도 수정 가능\n",
    "dic112.update({'a':1000})\n",
    "print(dic112)\n",
    "\n",
    "#값을 가져올 때\n",
    "print(dic112['a'])\n",
    "#다른 방법\n",
    "print(dic112.get('a'))\n",
    "\n",
    "# >>>> 두 방법의 결정적 차이 \n",
    "# >>>> 위의 방법은 없는 key를 찾으려고 하면 error // get은 error가 안뜸\n",
    "# error가 뜬다는 것은 프로그램 자체가 멈춰버리는 일을 의미.(큰일)\n",
    "\n",
    "#get의 두번째 기능. \n",
    "dic112.get('gggg', 99999)   # 'gggg'가 있다면 해당 value를 출력하고 없으면 99999를 출력하라는 말\n",
    "print(dic112.get('gggg', 99999))\n",
    "\n",
    "# setdefault \n",
    "print(dic112.setdefault('kk', 50))  # >>>> 'kk'가 dictionary에 있으면 value값 출력하고 없으면 {'kk':50}을 추가하라는 것\n",
    "# 만일 kk요소가 있으면 kk의 기존 value를 반환한다.\n",
    "print(dic112.setdefault('kk', 100000))  # 기존의 'kk' 값인 50을 출력함\n",
    "\n",
    "\n",
    "# 다시 한번 생각!! update는 여러개의 key:value들을 추가 & (기존에 있는 key라면) 수정 할 수 있다."
   ]
  },
  {
   "cell_type": "code",
   "execution_count": 32,
   "metadata": {},
   "outputs": [
    {
     "data": {
      "text/plain": [
       "[1, 2]"
      ]
     },
     "execution_count": 32,
     "metadata": {},
     "output_type": "execute_result"
    }
   ],
   "source": [
    "# and & or\n",
    "[1,2] or []   #이렇게 하면 결과가 무엇이 나올까? >>> True?"
   ]
  },
  {
   "cell_type": "code",
   "execution_count": 33,
   "metadata": {},
   "outputs": [
    {
     "data": {
      "text/plain": [
       "[1, 2]"
      ]
     },
     "execution_count": 33,
     "metadata": {},
     "output_type": "execute_result"
    }
   ],
   "source": [
    "# 결과는 [1,2]\n",
    "# 생각에는 앞의 것은 True고 뒤는 False니까 True가 나올 것 같은데 그냥 list를 반환\n",
    "#그러면\n",
    "[1,2] or [3,4]"
   ]
  },
  {
   "cell_type": "code",
   "execution_count": 34,
   "metadata": {},
   "outputs": [
    {
     "data": {
      "text/plain": [
       "[3, 4]"
      ]
     },
     "execution_count": 34,
     "metadata": {},
     "output_type": "execute_result"
    }
   ],
   "source": [
    "[1,2] and [3,4]"
   ]
  },
  {
   "cell_type": "code",
   "execution_count": 35,
   "metadata": {},
   "outputs": [
    {
     "data": {
      "text/plain": [
       "'\\nor의 경우 두개가 거짓일때만 거짓이고 나머지는 모두 참임\\n첫번째가 참이면 뒤에가 오류가 나오든 어떤 것이 나오든 거기까지는 검토하지 않고 바로 앞의 것을 출력\\n\\nand의 경우\\n'"
      ]
     },
     "execution_count": 35,
     "metadata": {},
     "output_type": "execute_result"
    }
   ],
   "source": [
    "# 1번 의문: 진리값(트루,폴스)이 아니고 그냥 리스트가 나오는 이유\n",
    "# 2번 의문: and와 or가 각각 다른 위치의 값을 출력하는 이유\n",
    "\n",
    "# 일단 정리 (파이썬에서 false로 취급하는 것들)\n",
    "# >>> 빈 list,빈 string, 빈 dictionary, 빈 tuple, None\n",
    "\n",
    "# 2번 의문 정리\n",
    "'''\n",
    "or의 경우 두개가 거짓일때만 거짓이고 나머지는 모두 참임\n",
    "첫번째가 참이면 뒤에가 오류가 나오든 어떤 것이 나오든 거기까지는 검토하지 않고 바로 앞의 것을 출력\n",
    "\n",
    "and의 경우 두개 모두가 참일때만 참. 따라서 첫번째가 거짓이면 바로 거짓값을 출력하고 뒤에는 검토 하지도 않음\n",
    "앞이 참인 경우 뒤에까지 검토해주고 뒤가 참인 경우 가장 마지막에 검토한 참 값을 출력함.\n",
    "'''\n",
    "# 1번 의문 정리\n",
    "'''\n",
    "앞에서 정리한 파이썬에서 false로 취급하는 것들에서 저것들을 제외한 모든 값은 True로 취급한다.\n",
    "따라서 or, and를 사용한 결과가 True와 False 형태를 가지지 않고 리스트 형태나 빈 리스트 형태를 취했다 하더라도\n",
    "파이썬에서는 그것들을 True와 False로 보기때문에 사실 true와 false로 출력한 것과 같다. \n",
    "\n",
    "'''"
   ]
  },
  {
   "cell_type": "code",
   "execution_count": 37,
   "metadata": {},
   "outputs": [
    {
     "ename": "NameError",
     "evalue": "name 'error' is not defined",
     "output_type": "error",
     "traceback": [
      "\u001b[1;31m---------------------------------------------------------------------------\u001b[0m",
      "\u001b[1;31mNameError\u001b[0m                                 Traceback (most recent call last)",
      "\u001b[1;32m<ipython-input-37-23c3fc47843b>\u001b[0m in \u001b[0;36m<module>\u001b[1;34m()\u001b[0m\n\u001b[0;32m      1\u001b[0m \u001b[1;31m# or의 경우 앞에가 오류인 경우에는 바로 오류 출력\u001b[0m\u001b[1;33m\u001b[0m\u001b[1;33m\u001b[0m\u001b[0m\n\u001b[1;32m----> 2\u001b[1;33m \u001b[0merror\u001b[0m \u001b[1;32mor\u001b[0m \u001b[1;33m[\u001b[0m\u001b[1;36m1\u001b[0m\u001b[1;33m,\u001b[0m\u001b[1;36m2\u001b[0m\u001b[1;33m]\u001b[0m\u001b[1;33m\u001b[0m\u001b[0m\n\u001b[0m\u001b[0;32m      3\u001b[0m \u001b[1;31m# 뒤가 오류인 경우는 앞에것만 검토하고 바로 참 출력하기에 오류 발생 안함\u001b[0m\u001b[1;33m\u001b[0m\u001b[1;33m\u001b[0m\u001b[0m\n\u001b[0;32m      4\u001b[0m \u001b[1;33m[\u001b[0m\u001b[1;36m1\u001b[0m\u001b[1;33m,\u001b[0m\u001b[1;36m2\u001b[0m\u001b[1;33m]\u001b[0m \u001b[1;32mor\u001b[0m \u001b[0merror\u001b[0m\u001b[1;33m\u001b[0m\u001b[0m\n",
      "\u001b[1;31mNameError\u001b[0m: name 'error' is not defined"
     ]
    }
   ],
   "source": [
    "# or의 경우 앞에가 오류인 경우에는 바로 오류 출력\n",
    "error or [1,2]"
   ]
  },
  {
   "cell_type": "code",
   "execution_count": 38,
   "metadata": {},
   "outputs": [
    {
     "data": {
      "text/plain": [
       "[1, 2]"
      ]
     },
     "execution_count": 38,
     "metadata": {},
     "output_type": "execute_result"
    }
   ],
   "source": [
    "# 뒤가 오류인 경우는 앞에것만 검토하고 바로 참 출력하기에 오류 발생 안함\n",
    "[1,2] or error"
   ]
  },
  {
   "cell_type": "code",
   "execution_count": null,
   "metadata": {
    "collapsed": true
   },
   "outputs": [],
   "source": []
  }
 ],
 "metadata": {
  "kernelspec": {
   "display_name": "Python 3",
   "language": "python",
   "name": "python3"
  },
  "language_info": {
   "codemirror_mode": {
    "name": "ipython",
    "version": 3
   },
   "file_extension": ".py",
   "mimetype": "text/x-python",
   "name": "python",
   "nbconvert_exporter": "python",
   "pygments_lexer": "ipython3",
   "version": "3.6.2"
  }
 },
 "nbformat": 4,
 "nbformat_minor": 2
}
