{
 "cells": [
  {
   "cell_type": "code",
   "execution_count": 1,
   "metadata": {
    "collapsed": true
   },
   "outputs": [],
   "source": [
    "# 03번 녹음 파일 시작\n",
    "\n",
    "# 클로져(closure)\n",
    "\n",
    "# 데코레이터는 굉장히 유용하고 강력함. 만드는 방법과 작동원리를 알아야 잘 쓸 수 있음\n",
    "# decorator의 작동 원리를 배움.\n",
    "\n",
    "'''\n",
    "closure: 함수 내 함수를 반환 받아 사용 (함수 안에 함수가 들어 있다>> closure의 필요 조건)\n",
    "free variable 중요함\n",
    "\n",
    "\n",
    "\n",
    "\n",
    "'''\n",
    "\n",
    "def outer():\n",
    "    a = 10\n",
    "    def inner():\n",
    "        pass\n",
    "    return inner \n",
    "\n",
    "# 함수를 반환하여 사용할 때, 반환받는 입장에서는 inner를 실행. \n",
    "# 근데 이때 반환된 function은 outer의 variable을 사용가능 (free variable을 사용가능 )\n"
   ]
  },
  {
   "cell_type": "code",
   "execution_count": 2,
   "metadata": {
    "collapsed": true
   },
   "outputs": [],
   "source": [
    "# 계좌를 만드는 함수\n",
    "def account(m, name):    #계좌를 개설할 때 초기 비용 m과 사용자 이름\n",
    "    def add(money):\n",
    "        # m += money     # 이렇게만 하면 오류 나옴 add 안에 지역변수 m이 없음\n",
    "                        # 따라서 nonlocal로 끌어 와야함\n",
    "        nonlocal m\n",
    "        m += money\n",
    "        return m, name\n",
    "    return add"
   ]
  },
  {
   "cell_type": "code",
   "execution_count": 3,
   "metadata": {
    "collapsed": true
   },
   "outputs": [],
   "source": [
    "my_account= account(1000, 'hank')\n",
    "your_account = account(200, 'john')\n",
    "\n",
    "#둘은 모두 account함수를 호출하면서 add함수를 반환받음"
   ]
  },
  {
   "cell_type": "code",
   "execution_count": 4,
   "metadata": {},
   "outputs": [
    {
     "data": {
      "text/plain": [
       "<function __main__.account.<locals>.add>"
      ]
     },
     "execution_count": 4,
     "metadata": {},
     "output_type": "execute_result"
    }
   ],
   "source": [
    "my_account # 종류를 보여줌 -->> function object -->> globals와 code object를 가지고 있음"
   ]
  },
  {
   "cell_type": "code",
   "execution_count": 5,
   "metadata": {},
   "outputs": [
    {
     "data": {
      "text/plain": [
       "<function __main__.account.<locals>.add>"
      ]
     },
     "execution_count": 5,
     "metadata": {},
     "output_type": "execute_result"
    }
   ],
   "source": [
    "your_account # 이역시 function object"
   ]
  },
  {
   "cell_type": "code",
   "execution_count": 6,
   "metadata": {},
   "outputs": [
    {
     "data": {
      "text/plain": [
       "False"
      ]
     },
     "execution_count": 6,
     "metadata": {},
     "output_type": "execute_result"
    }
   ],
   "source": [
    "# 그러나 둘은 같은가?\n",
    "\n",
    "my_account == your_account"
   ]
  },
  {
   "cell_type": "code",
   "execution_count": 7,
   "metadata": {},
   "outputs": [
    {
     "data": {
      "text/plain": [
       "True"
      ]
     },
     "execution_count": 7,
     "metadata": {},
     "output_type": "execute_result"
    }
   ],
   "source": [
    "# 다르다\n",
    "\n",
    "my_account.__code__ == your_account.__code__"
   ]
  },
  {
   "cell_type": "code",
   "execution_count": 8,
   "metadata": {
    "collapsed": true
   },
   "outputs": [],
   "source": [
    "# 둘은 다르지만 code object는 같다\n",
    "# 둘은 서로 다른 free variable을 가지고 있다 "
   ]
  },
  {
   "cell_type": "code",
   "execution_count": 9,
   "metadata": {},
   "outputs": [
    {
     "data": {
      "text/plain": [
       "(1300, 'hank')"
      ]
     },
     "execution_count": 9,
     "metadata": {},
     "output_type": "execute_result"
    }
   ],
   "source": [
    "my_account(300)  # >>> 반환값이 1300, hank가 나옴 >>>> 해당 함수는 내부 정보를 가지고 있다고 볼 수 있다(1000, hank)"
   ]
  },
  {
   "cell_type": "code",
   "execution_count": 10,
   "metadata": {},
   "outputs": [
    {
     "data": {
      "text/plain": [
       "(500, 'john')"
      ]
     },
     "execution_count": 10,
     "metadata": {},
     "output_type": "execute_result"
    }
   ],
   "source": [
    "your_account(300)   #my_account와는 다른 내부 정보를 가진 함수"
   ]
  },
  {
   "cell_type": "code",
   "execution_count": 11,
   "metadata": {
    "collapsed": true
   },
   "outputs": [],
   "source": [
    "# 함수인데 이렇게 내부정보를 가지고 있다 >>> 클로져"
   ]
  },
  {
   "cell_type": "code",
   "execution_count": 12,
   "metadata": {},
   "outputs": [
    {
     "data": {
      "text/plain": [
       "1300"
      ]
     },
     "execution_count": 12,
     "metadata": {},
     "output_type": "execute_result"
    }
   ],
   "source": [
    "my_account.__closure__[0].cell_contents  # 클로져라는 튜플을 봄"
   ]
  },
  {
   "cell_type": "code",
   "execution_count": 13,
   "metadata": {},
   "outputs": [
    {
     "data": {
      "text/plain": [
       "'hank'"
      ]
     },
     "execution_count": 13,
     "metadata": {},
     "output_type": "execute_result"
    }
   ],
   "source": [
    "my_account.__closure__[1].cell_contents # 함수인데 내부 정보를 가지고 있음.  이명령은 내부 정보를 보는 명령"
   ]
  },
  {
   "cell_type": "code",
   "execution_count": 14,
   "metadata": {},
   "outputs": [
    {
     "data": {
      "text/plain": [
       "500"
      ]
     },
     "execution_count": 14,
     "metadata": {},
     "output_type": "execute_result"
    }
   ],
   "source": [
    "your_account.__closure__[0].cell_contents"
   ]
  },
  {
   "cell_type": "code",
   "execution_count": 15,
   "metadata": {},
   "outputs": [
    {
     "data": {
      "text/plain": [
       "'john'"
      ]
     },
     "execution_count": 15,
     "metadata": {},
     "output_type": "execute_result"
    }
   ],
   "source": [
    "your_account.__closure__[1].cell_contents"
   ]
  },
  {
   "cell_type": "code",
   "execution_count": 19,
   "metadata": {},
   "outputs": [],
   "source": [
    "code=my_account.__code__    "
   ]
  },
  {
   "cell_type": "code",
   "execution_count": 23,
   "metadata": {},
   "outputs": [
    {
     "data": {
      "text/plain": [
       "('m', 'name')"
      ]
     },
     "execution_count": 23,
     "metadata": {},
     "output_type": "execute_result"
    }
   ],
   "source": [
    "code.co_freevars     # free variable 확인"
   ]
  },
  {
   "cell_type": "code",
   "execution_count": 24,
   "metadata": {},
   "outputs": [
    {
     "data": {
      "text/plain": [
       "('money',)"
      ]
     },
     "execution_count": 24,
     "metadata": {},
     "output_type": "execute_result"
    }
   ],
   "source": [
    "code.co_varnames     # local variable 확인"
   ]
  },
  {
   "cell_type": "code",
   "execution_count": 25,
   "metadata": {
    "collapsed": true
   },
   "outputs": [],
   "source": [
    "# 함수가 내부정보를 가지고 있다 >>> 클로져.\n",
    "# 내부정보 == 변수 == 데이터 \n"
   ]
  },
  {
   "cell_type": "code",
   "execution_count": 26,
   "metadata": {},
   "outputs": [
    {
     "data": {
      "text/plain": [
       "['__annotations__',\n",
       " '__call__',\n",
       " '__class__',\n",
       " '__closure__',\n",
       " '__code__',\n",
       " '__defaults__',\n",
       " '__delattr__',\n",
       " '__dict__',\n",
       " '__dir__',\n",
       " '__doc__',\n",
       " '__eq__',\n",
       " '__format__',\n",
       " '__ge__',\n",
       " '__get__',\n",
       " '__getattribute__',\n",
       " '__globals__',\n",
       " '__gt__',\n",
       " '__hash__',\n",
       " '__init__',\n",
       " '__init_subclass__',\n",
       " '__kwdefaults__',\n",
       " '__le__',\n",
       " '__lt__',\n",
       " '__module__',\n",
       " '__name__',\n",
       " '__ne__',\n",
       " '__new__',\n",
       " '__qualname__',\n",
       " '__reduce__',\n",
       " '__reduce_ex__',\n",
       " '__repr__',\n",
       " '__setattr__',\n",
       " '__sizeof__',\n",
       " '__str__',\n",
       " '__subclasshook__']"
      ]
     },
     "execution_count": 26,
     "metadata": {},
     "output_type": "execute_result"
    }
   ],
   "source": [
    "dir(my_account)  #closure 있다는 것을 확인 가능"
   ]
  },
  {
   "cell_type": "code",
   "execution_count": 27,
   "metadata": {},
   "outputs": [
    {
     "data": {
      "text/plain": [
       "(<cell at 0x05444770: int object at 0x053BBFD0>,\n",
       " <cell at 0x05444790: str object at 0x0541EF40>)"
      ]
     },
     "execution_count": 27,
     "metadata": {},
     "output_type": "execute_result"
    }
   ],
   "source": [
    "# cell은 변수로 이해하면 됨\n",
    "my_account.__closure__"
   ]
  },
  {
   "cell_type": "code",
   "execution_count": 29,
   "metadata": {},
   "outputs": [
    {
     "data": {
      "text/plain": [
       "<cell at 0x05444770: int object at 0x053BBFD0>"
      ]
     },
     "execution_count": 29,
     "metadata": {},
     "output_type": "execute_result"
    }
   ],
   "source": [
    "# 튜플 형태이기에 인덱싱으로 접근\n",
    "my_account.__closure__[0]"
   ]
  },
  {
   "cell_type": "code",
   "execution_count": 33,
   "metadata": {},
   "outputs": [
    {
     "data": {
      "text/plain": [
       "1300"
      ]
     },
     "execution_count": 33,
     "metadata": {},
     "output_type": "execute_result"
    }
   ],
   "source": [
    "my_account.__closure__[0].cell_contents "
   ]
  },
  {
   "cell_type": "code",
   "execution_count": 34,
   "metadata": {
    "collapsed": true
   },
   "outputs": [],
   "source": [
    "# 요약 \n",
    "# 클로져도 결국 함수\n",
    "# __closure__ : 튜플 -->> 데이터 담고 있음\n",
    "# __closure__[0].cell_contents -->> 튜플에서 첫번째 인덱스에 어떤 데이터를 담고 있는지 볼 수 있다. \n",
    "# 클로져 끝\n",
    "\n",
    "# __<variable name>__ 라는 형태의 변수는 파이썬에서 내부적으로 사용하기 위해 설정한 용어로 이러한 형태로 변수를 설정하면 안된다.(내장변수) "
   ]
  },
  {
   "cell_type": "code",
   "execution_count": 36,
   "metadata": {},
   "outputs": [
    {
     "name": "stdout",
     "output_type": "stream",
     "text": [
      "None\n"
     ]
    }
   ],
   "source": [
    "# 람다 lambda 시작\n",
    "\n",
    "\n",
    "# map과 fliter의 경우에는 내부정보를 가질 수 없다(이들을 함수형 프로그래밍(functional programing)이라고 부름)\n",
    "\n",
    "'''\n",
    "람다는 익명함수(이름이 없는 함수)\n",
    "\n",
    "함수를 선언하면 메모리 어딘가에 공간을 차지함\n",
    "함수를 딱 한번 사용할때, 해당 함수를 선언하는게 비합리적이라 여겨져 람다 사용(일회성 함수)\n",
    "이름이 없기에 변수로 받지 않는 이상 다음 line으로 넘어가면 값이 사라짐\n",
    "\n",
    "'''\n",
    "print(None)"
   ]
  },
  {
   "cell_type": "code",
   "execution_count": 37,
   "metadata": {
    "collapsed": true
   },
   "outputs": [],
   "source": [
    "# 람다\n",
    "\n",
    "def adder(a,b):\n",
    "    return a+b"
   ]
  },
  {
   "cell_type": "code",
   "execution_count": 38,
   "metadata": {},
   "outputs": [
    {
     "data": {
      "text/plain": [
       "<function __main__.<lambda>>"
      ]
     },
     "execution_count": 38,
     "metadata": {},
     "output_type": "execute_result"
    }
   ],
   "source": [
    "lambda a,b : a + b\n",
    "# 람다 + arguments(parameter) + : <expression>\n",
    "\n",
    "# 람다의 특징 >>> 람다는 무조건 return하기에 return을 쓰지 않고 또한 '식'만 들어올 수 있다. "
   ]
  },
  {
   "cell_type": "code",
   "execution_count": 39,
   "metadata": {
    "collapsed": true
   },
   "outputs": [],
   "source": [
    "# 위의 람다는 다음줄(해당줄)에서는 사라짐"
   ]
  },
  {
   "cell_type": "code",
   "execution_count": 40,
   "metadata": {
    "collapsed": true
   },
   "outputs": [],
   "source": [
    "f = lambda a,b : a + b  #이렇게 변수로 받으면"
   ]
  },
  {
   "cell_type": "code",
   "execution_count": 42,
   "metadata": {},
   "outputs": [
    {
     "data": {
      "text/plain": [
       "6"
      ]
     },
     "execution_count": 42,
     "metadata": {},
     "output_type": "execute_result"
    }
   ],
   "source": [
    "# 다음줄에서도 사용 가능\n",
    "f(1,5)"
   ]
  },
  {
   "cell_type": "code",
   "execution_count": 44,
   "metadata": {
    "collapsed": true
   },
   "outputs": [],
   "source": [
    "# 함수에서는 '문'을 사용 가능\n",
    "def func(a,b):\n",
    "    c = a + b\n",
    "    \n",
    "# 이 경우 오류뜨지 않음"
   ]
  },
  {
   "cell_type": "code",
   "execution_count": 45,
   "metadata": {},
   "outputs": [
    {
     "ename": "SyntaxError",
     "evalue": "can't assign to lambda (<ipython-input-45-a5719e8f4607>, line 3)",
     "output_type": "error",
     "traceback": [
      "\u001b[1;36m  File \u001b[1;32m\"<ipython-input-45-a5719e8f4607>\"\u001b[1;36m, line \u001b[1;32m3\u001b[0m\n\u001b[1;33m    lambda a,b : c = a+b\u001b[0m\n\u001b[1;37m                         ^\u001b[0m\n\u001b[1;31mSyntaxError\u001b[0m\u001b[1;31m:\u001b[0m can't assign to lambda\n"
     ]
    }
   ],
   "source": [
    "# 람다에서는 문은 불가능\n",
    "\n",
    "lambda a,b : c = a+b \n",
    "# 이렇게 입력하면 에러나옴\n",
    "# 람다에서는 '식' 만 가능하고 '문'불가능.\n",
    "\n",
    "# '식' -->> a + b\n",
    "# '문' -->> c  = a + b"
   ]
  },
  {
   "cell_type": "code",
   "execution_count": 46,
   "metadata": {},
   "outputs": [
    {
     "data": {
      "text/plain": [
       "<function __main__.<lambda>>"
      ]
     },
     "execution_count": 46,
     "metadata": {},
     "output_type": "execute_result"
    }
   ],
   "source": [
    "f   # 값에서 lambda라고 나타남>> f는 람다라는 의미"
   ]
  },
  {
   "cell_type": "code",
   "execution_count": 47,
   "metadata": {
    "collapsed": true
   },
   "outputs": [],
   "source": [
    "# 인자를 전달하지 않아도 람다 근처에 있는 데이터를 가져와 쓸 수 있다.\n",
    "\n",
    "li = [1,2,3]\n",
    "f = lambda idx: li[idx]"
   ]
  },
  {
   "cell_type": "code",
   "execution_count": 49,
   "metadata": {},
   "outputs": [
    {
     "data": {
      "text/plain": [
       "3"
      ]
     },
     "execution_count": 49,
     "metadata": {},
     "output_type": "execute_result"
    }
   ],
   "source": [
    "f(2)  #이게 가능"
   ]
  },
  {
   "cell_type": "code",
   "execution_count": 50,
   "metadata": {},
   "outputs": [
    {
     "data": {
      "text/plain": [
       "[1, 3, 6, 52]"
      ]
     },
     "execution_count": 50,
     "metadata": {},
     "output_type": "execute_result"
    }
   ],
   "source": [
    "# 람다의 사용예\n",
    "\n",
    "\n",
    "li = [1,3,52,6]\n",
    "li.sort()\n",
    "li"
   ]
  },
  {
   "cell_type": "code",
   "execution_count": 51,
   "metadata": {},
   "outputs": [
    {
     "name": "stdout",
     "output_type": "stream",
     "text": [
      "Help on built-in function sort:\n",
      "\n",
      "sort(...) method of builtins.list instance\n",
      "    L.sort(key=None, reverse=False) -> None -- stable sort *IN PLACE*\n",
      "\n"
     ]
    }
   ],
   "source": [
    "li = [ i for i in range(1,10)]\n",
    "\n",
    "# sort 함수의 인자보기\n",
    "\n",
    "help(li.sort)"
   ]
  },
  {
   "cell_type": "code",
   "execution_count": 53,
   "metadata": {},
   "outputs": [],
   "source": [
    "def pred(a):\n",
    "    return a % 2 == 0"
   ]
  },
  {
   "cell_type": "code",
   "execution_count": 54,
   "metadata": {
    "collapsed": true
   },
   "outputs": [],
   "source": [
    "li.sort(key = pred)  # 홀수는 거짓 -->> 0 짝수는 참 -->> 1 sort함수는 올림차순 따라서 홀수가 앞으로 짝수는 뒤로감."
   ]
  },
  {
   "cell_type": "code",
   "execution_count": 55,
   "metadata": {},
   "outputs": [
    {
     "name": "stdout",
     "output_type": "stream",
     "text": [
      "[1, 3, 5, 7, 9, 2, 4, 6, 8]\n"
     ]
    }
   ],
   "source": [
    "print(li)  # 홀수는 앞으로 짝수는 뒤로 빠짐"
   ]
  },
  {
   "cell_type": "code",
   "execution_count": 56,
   "metadata": {
    "collapsed": true
   },
   "outputs": [],
   "source": [
    "# pred 함수를 한번쓰고 안쓴다면"
   ]
  },
  {
   "cell_type": "code",
   "execution_count": 57,
   "metadata": {
    "collapsed": true
   },
   "outputs": [],
   "source": [
    "li = [i for i in range(1,10)]\n",
    "li. sort(key = lambda a: a%2 == 0)"
   ]
  },
  {
   "cell_type": "code",
   "execution_count": 58,
   "metadata": {},
   "outputs": [
    {
     "name": "stdout",
     "output_type": "stream",
     "text": [
      "[1, 3, 5, 7, 9, 2, 4, 6, 8]\n"
     ]
    }
   ],
   "source": [
    "print(li)"
   ]
  },
  {
   "cell_type": "code",
   "execution_count": 59,
   "metadata": {
    "collapsed": true
   },
   "outputs": [],
   "source": [
    "# 람다를 이용해서 간단하게 코딩 가능."
   ]
  },
  {
   "cell_type": "code",
   "execution_count": 60,
   "metadata": {},
   "outputs": [
    {
     "name": "stdout",
     "output_type": "stream",
     "text": [
      "[9, 8, 7, 6, 5, 4, 3, 2, 1]\n"
     ]
    }
   ],
   "source": [
    "# sort 더보기\n",
    "\n",
    "li.sort(reverse = True)\n",
    "print(li)   #내림차순으로 변함"
   ]
  },
  {
   "cell_type": "code",
   "execution_count": 61,
   "metadata": {},
   "outputs": [
    {
     "data": {
      "text/plain": [
       "[1, 2, 2, 3, 7]"
      ]
     },
     "execution_count": 61,
     "metadata": {},
     "output_type": "execute_result"
    }
   ],
   "source": [
    "li = [ 2,3,1,7,2]\n",
    "li.sort()\n",
    "li \n",
    "#이렇게 하면 기존의 list가 사라짐\n",
    "# 기존의 리스트도 얻고 수정 버전도 얻고 싶을때!!"
   ]
  },
  {
   "cell_type": "code",
   "execution_count": 62,
   "metadata": {},
   "outputs": [
    {
     "name": "stdout",
     "output_type": "stream",
     "text": [
      "[1, 2, 2, 3, 7]\n",
      "[2, 3, 1, 7, 2]\n"
     ]
    }
   ],
   "source": [
    "li = [2,3,1,7,2,]\n",
    "li2 = sorted(li)   #원본을 그대로 두고 새로운 리스트를 만들어줌 -->> sorted(<list>)\n",
    "print(li2)\n",
    "print(li)"
   ]
  },
  {
   "cell_type": "code",
   "execution_count": null,
   "metadata": {
    "collapsed": true
   },
   "outputs": [],
   "source": [
    "# 내일부터 map,filter,reduce, decorator \n",
    "# reduce가 어려움 >>> 공부해오기!!!!\n",
    "\n",
    "\n",
    "# 끝"
   ]
  }
 ],
 "metadata": {
  "kernelspec": {
   "display_name": "Python 3",
   "language": "python",
   "name": "python3"
  },
  "language_info": {
   "codemirror_mode": {
    "name": "ipython",
    "version": 3
   },
   "file_extension": ".py",
   "mimetype": "text/x-python",
   "name": "python",
   "nbconvert_exporter": "python",
   "pygments_lexer": "ipython3",
   "version": "3.6.2"
  }
 },
 "nbformat": 4,
 "nbformat_minor": 2
}
