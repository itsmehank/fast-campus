{
 "cells": [
  {
   "cell_type": "code",
   "execution_count": 1,
   "metadata": {},
   "outputs": [
    {
     "data": {
      "text/plain": [
       "'\\n아스키 코드는 미국인이 만들었기에 다른 언어를 표현하지 못함. \\n>>> 이를 해결하기 위해 유니코드라는 또다른 테이블을 만듬\\n\\nASCII는 128개 문자밖에 없다(1바이트-1비트)\\n\\nUNICODE는 2바이트로 늘림\\n\\n'"
      ]
     },
     "execution_count": 1,
     "metadata": {},
     "output_type": "execute_result"
    }
   ],
   "source": [
    "# 마지막 시간(16시부터~)\n",
    "\n",
    "# 유니코드\n",
    "\n",
    "'''\n",
    "문자 표현하기\n",
    "\n",
    "문자를 메모리에 저장하는 방법필요\n",
    "\n",
    "각 문자를 숫자와 mapping(매칭시켜줌)함. \n",
    "\n",
    "이때 문자와 숫자를 연결시키기 위해 최초 등장한 table이 아스키임(ASCII)\n",
    "\n",
    "캐릭터는 8비트(1바이트) >> 첫비트는 부호/7비트는 2^7 = 128 따라서 0부터 127까지 표현 가능\n",
    "\n",
    "각 숫자에 문자를 맵핑 시킴. (EX_ A는 1000001)\n",
    "\n",
    "\n",
    "'''\n",
    "\n",
    "'''\n",
    "아스키 코드는 미국인이 만들었기에 다른 언어를 표현하지 못함. \n",
    ">>> 이를 해결하기 위해 유니코드라는 또다른 테이블을 만듬\n",
    "\n",
    "ASCII는 128개 문자밖에 없다(1바이트-1비트)\n",
    "\n",
    "UNICODE는 2바이트로 늘림\n",
    "\n",
    "'''"
   ]
  },
  {
   "cell_type": "code",
   "execution_count": 2,
   "metadata": {},
   "outputs": [
    {
     "data": {
      "text/plain": [
       "'가'"
      ]
     },
     "execution_count": 2,
     "metadata": {},
     "output_type": "execute_result"
    }
   ],
   "source": [
    "'\\uAC00'"
   ]
  },
  {
   "cell_type": "code",
   "execution_count": 4,
   "metadata": {},
   "outputs": [
    {
     "data": {
      "text/plain": [
       "'나'"
      ]
     },
     "execution_count": 4,
     "metadata": {},
     "output_type": "execute_result"
    }
   ],
   "source": [
    "#'\\u'  유니코드 호출명령\n",
    "'\\ub098'"
   ]
  },
  {
   "cell_type": "code",
   "execution_count": 5,
   "metadata": {},
   "outputs": [
    {
     "data": {
      "text/plain": [
       "'다'"
      ]
     },
     "execution_count": 5,
     "metadata": {},
     "output_type": "execute_result"
    }
   ],
   "source": [
    "'\\ub2e4'"
   ]
  },
  {
   "cell_type": "code",
   "execution_count": 6,
   "metadata": {
    "collapsed": true
   },
   "outputs": [],
   "source": [
    "# 유니코드: 하나의 평면이 2바이트 >> 17개의 평면이 있음\n",
    "# 전체 평면을 표현하기 위해서 4바이트를 사용(2의 배수로 늘림_padding byte라는 하드웨어 최적화를 위한 방법)\n",
    "# 유니코드 한 평면은 2바이트로 충분한데 17개의 평면을 표현하기 위해서는 4바이트 사용\n",
    "# 우리가 주로 쓰는 다국어 평면은 2바이트만 사용"
   ]
  },
  {
   "cell_type": "code",
   "execution_count": 7,
   "metadata": {
    "collapsed": true
   },
   "outputs": [],
   "source": [
    "# 아스키는 요즘 안쓰는가? >>> 아스키는 유니코드에 포함이 됨. \n",
    "# 아스키에서 대문자 A는 16진수로 41 >>> 유니코드에서는 0041로 표현 >>>> 아스키가 호환됨(유니코드 안에는 아스키가 그대로 담겨있음)\n",
    "\n"
   ]
  },
  {
   "cell_type": "code",
   "execution_count": 8,
   "metadata": {
    "collapsed": true
   },
   "outputs": [],
   "source": [
    "# 유니코드의 부호화 방식\n",
    "# UTF-8\n",
    "# 우리는 많이 쓰는 언어만 많이 쓰는데, 자주 안쓰는 언어를 메모리에 유니코드로 가지고 있으면 비효율적\n",
    "# TABLE에 있는 코드는 0041 즉 A이지만 이를 특정한 부호화를 통해 41만 입력해도 A가 나오게 만듬 (바이트가 줄어듬)  \n",
    "# >> 가변길이 유니코드 인코딩 시스템\n",
    "# >>> 이게 UTF-8 임\n",
    "\n",
    "# UTF-8은 8비트 기반, 즉 A나 a는 1바이트로 표현\n",
    "# 한글의 경우 3바이트로 표현\n",
    "\n",
    "# UTF-16은 유니코드를 몽땅 사용.(2바이트로 표현)\n",
    "# UTF-32는 모든 것을 32비트로 저장(4바이트로 표현)\n",
    "# UTF-8은 8비트를 기반으로 저장(영어는 1바이트, 한글은 3바이트 등등)\n",
    "\n",
    "# 윈도우는 CP949라는 독자적인 테이블을 사용(유니코드 안씀.)\n",
    "# CP949 >>> 통합형 한글코드(한국에서 사용하는 윈도우는 이 테이블을 사용함)\n",
    "\n",
    "# 파이썬은 default 가 UTF-8로 되어있음.\n",
    "\n"
   ]
  },
  {
   "cell_type": "code",
   "execution_count": 9,
   "metadata": {},
   "outputs": [
    {
     "data": {
      "text/plain": [
       "b'A'"
      ]
     },
     "execution_count": 9,
     "metadata": {},
     "output_type": "execute_result"
    }
   ],
   "source": [
    "'A'.encode('utf-8') # 1바이트"
   ]
  },
  {
   "cell_type": "code",
   "execution_count": 11,
   "metadata": {},
   "outputs": [
    {
     "data": {
      "text/plain": [
       "b'\\xea\\xb0\\x80'"
      ]
     },
     "execution_count": 11,
     "metadata": {},
     "output_type": "execute_result"
    }
   ],
   "source": [
    "'가'.encode('utf-8')  # 3바이트 >>>>> 실제 메모리에는 80b0ea로 저장됨.\n",
    "                      # ac00을 2진수로 바꾼다음에 (ac00은 0800-ffff 사이에 포함되어 있다면 이진수로 푼다음 \n",
    "                      # 1110 xxxx 10xxxxxx 10xxxxxx에서 앞부분부터  x에 쌓아주면 됨)\n",
    "                      # 이를 16진수로 바꾸면 utf-8의 인코딩 형태가 나옴."
   ]
  },
  {
   "cell_type": "code",
   "execution_count": 12,
   "metadata": {},
   "outputs": [
    {
     "data": {
      "text/plain": [
       "b'\\xff\\xfe\\x00\\xac'"
      ]
     },
     "execution_count": 12,
     "metadata": {},
     "output_type": "execute_result"
    }
   ],
   "source": [
    "'가'.encode('utf-16') #2바이트 (리틀인디언이기에 앞에 부분 읽지말고 뒤에 부분만) 00 ac >> ac00"
   ]
  },
  {
   "cell_type": "code",
   "execution_count": 13,
   "metadata": {},
   "outputs": [
    {
     "data": {
      "text/plain": [
       "b'\\xb0\\xa1'"
      ]
     },
     "execution_count": 13,
     "metadata": {},
     "output_type": "execute_result"
    }
   ],
   "source": [
    "'가'.encode('cp949')"
   ]
  },
  {
   "cell_type": "code",
   "execution_count": 15,
   "metadata": {},
   "outputs": [
    {
     "name": "stdout",
     "output_type": "stream",
     "text": [
      "97\n",
      "98\n",
      "99\n",
      "100\n",
      "101\n"
     ]
    }
   ],
   "source": [
    "# 예제\n",
    "c = 'abcde'.encode()\n",
    "for ch in c:\n",
    "    print(ch)\n",
    "    \n",
    "#문자가 실제 메모리에 저장되는 이진수의 십진수 형태가 출력됨"
   ]
  },
  {
   "cell_type": "code",
   "execution_count": 16,
   "metadata": {
    "collapsed": true
   },
   "outputs": [],
   "source": [
    "# 인코딩 방식이 맞아야 텍스트를 읽을 수 있음. \n",
    "# 아스키가 뭔지 유니코드가 뭔지 유니코드에 인코딩 방식이 뭐가 있는지 알아야한다.\n"
   ]
  },
  {
   "cell_type": "code",
   "execution_count": null,
   "metadata": {
    "collapsed": true
   },
   "outputs": [],
   "source": [
    "# 마지막\n",
    "\n",
    "# '가'를 encoding 해보자.\n",
    "# 파이썬에서는 utf-8을 이용한다."
   ]
  }
 ],
 "metadata": {
  "kernelspec": {
   "display_name": "Python 3",
   "language": "python",
   "name": "python3"
  },
  "language_info": {
   "codemirror_mode": {
    "name": "ipython",
    "version": 3
   },
   "file_extension": ".py",
   "mimetype": "text/x-python",
   "name": "python",
   "nbconvert_exporter": "python",
   "pygments_lexer": "ipython3",
   "version": "3.6.2"
  }
 },
 "nbformat": 4,
 "nbformat_minor": 2
}
