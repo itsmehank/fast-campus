{
 "cells": [
  {
   "cell_type": "code",
   "execution_count": 1,
   "metadata": {
    "collapsed": true
   },
   "outputs": [],
   "source": [
    "# 첫번째 시간\n",
    "\n",
    "# 어제(day3) 배운것 복습해볼것"
   ]
  },
  {
   "cell_type": "code",
   "execution_count": 2,
   "metadata": {},
   "outputs": [
    {
     "name": "stdout",
     "output_type": "stream",
     "text": [
      "True\n"
     ]
    }
   ],
   "source": [
    "a = 1024    # a는 1024를 가리킴  >>>> 독립적으로 1024를 가리킴\n",
    "b = 1024    # b는 1024를 가리킴  >>>> 독립적으로 1024를 가리킴(a가 가리키는 1024가 아님)\n",
    "print(a==b)   # a과 b가 가리키는 값이 같은가?"
   ]
  },
  {
   "cell_type": "code",
   "execution_count": 3,
   "metadata": {},
   "outputs": [
    {
     "data": {
      "text/plain": [
       "False"
      ]
     },
     "execution_count": 3,
     "metadata": {},
     "output_type": "execute_result"
    }
   ],
   "source": [
    "a is b     # a와 b의 값의 메모리 주소가 같은가?"
   ]
  },
  {
   "cell_type": "code",
   "execution_count": 5,
   "metadata": {},
   "outputs": [
    {
     "name": "stdout",
     "output_type": "stream",
     "text": [
      "0x57ccf10\n",
      "0x57cced0\n"
     ]
    }
   ],
   "source": [
    "# 1024라는 값은 같은데 저장되어 있는 메모리 주소가 다름\n",
    "# 각각의 메모리 주소 출력 명령\n",
    "print(hex(id(a)))\n",
    "print(hex(id(b))) "
   ]
  },
  {
   "cell_type": "code",
   "execution_count": 7,
   "metadata": {},
   "outputs": [
    {
     "name": "stdout",
     "output_type": "stream",
     "text": [
      "True\n",
      "0x68de6880\n",
      "0x68de6880\n"
     ]
    }
   ],
   "source": [
    "# 1의 경우 미리 만들어 놓는다.(파이썬에서)\n",
    "# 미리 만들어 놓았기에 하나의 주소지에 위치한다. \n",
    "\n",
    "a = 1\n",
    "b = 1\n",
    "print(a is b)\n",
    "print(hex(id(a)))  # a의 값인 1의 메모리 주소지\n",
    "print(hex(id(b)))  # b의 값인 1의 메모리 주소지\n"
   ]
  },
  {
   "cell_type": "code",
   "execution_count": 1,
   "metadata": {},
   "outputs": [
    {
     "name": "stdout",
     "output_type": "stream",
     "text": [
      "True\n",
      "True\n"
     ]
    }
   ],
   "source": [
    "'''\n",
    "1의 경우 자주 쓰이기에 파이썬에서 미리 메모리에 주소를 할당해 공간을 만들어 놓는다.\n",
    "그렇기에 1을 호출한다면 언제든 그 메모리 공간 주소지를 할당 받게 된다. \n",
    "1024와 같이 흔히 쓰이지 않는 숫자의 경우 해당 값을 불러올 때마다 새로운 메모리 공간에 해당 값을 부여하고 주소지를 할당한다. \n",
    "이때 1024는 언제 사라질지 모르는 값이기에 새로운 변수가 나타나 1024를 똑같이 가리킨다고 하더라도 기존 1024의 주소지를 할당하지 않고 \n",
    "해당 변수만의 1024를 메모리 공간에 만들어 주소지를 할당한다.\n",
    "'''\n",
    "\n",
    "'''\n",
    "그러나 문자열의 경우 값이 같은 경우 주소지도 같게 개발자가 설정함\n",
    "원래는 달라야 하는데 같게 한 이유: 문자열인 경우 메모리를 많이 먹어 최적화를 위해서 같은 주소지를 할당함.\n",
    "'''\n",
    "\n",
    "# 예시\n",
    "\n",
    "a ='abcde'\n",
    "b ='abcde'\n",
    "print(a == b)\n",
    "print(a is b)"
   ]
  },
  {
   "cell_type": "code",
   "execution_count": 10,
   "metadata": {},
   "outputs": [
    {
     "name": "stdout",
     "output_type": "stream",
     "text": [
      "x is a :  True\n",
      "x is a :  False\n",
      "None\n"
     ]
    }
   ],
   "source": [
    "def func(x, v):\n",
    "    print('x is a : ', x is a)\n",
    "    x = v\n",
    "    print('x is a : ', x is a)\n",
    " \n",
    "a = 10\n",
    "func(a,20)\n",
    "\n",
    "'''a가 func의 x자리에 input될때, a의 값만 copy되서 입력되는 것이 아니다(콜바이 밸류가 아니다)\n",
    "실제 a가 가리키는 주소지가 x의 값으로 입력된다.(물론 integer이라 immutable하지만, 그래도 실제 같은 주소지를 할당했다는 것!!)'''\n",
    "print(None)"
   ]
  },
  {
   "cell_type": "code",
   "execution_count": 9,
   "metadata": {},
   "outputs": [
    {
     "name": "stdout",
     "output_type": "stream",
     "text": [
      "data is li:  True\n",
      "data is li:  True\n"
     ]
    }
   ],
   "source": [
    "def func(data, idx, value):\n",
    "    print(\"data is li: \", data is li)\n",
    "    data[idx] = value    #요소를 변경하는 것(mutation!!)\n",
    "    print(\"data is li: \", data is li)\n",
    "\n",
    "    \n",
    "li = [1,2,3,4,]    \n",
    "func(li, 2, 'aaa')"
   ]
  },
  {
   "cell_type": "code",
   "execution_count": 2,
   "metadata": {
    "collapsed": true
   },
   "outputs": [],
   "source": [
    "# 파이썬의 작동 과정을 보는 사이트\n",
    "# www.pythontutor.com \n",
    "# 단 스택프레임 쌓이는 순서는 실제와 거꾸로 된 순서로 보여줌."
   ]
  },
  {
   "cell_type": "code",
   "execution_count": 3,
   "metadata": {},
   "outputs": [
    {
     "data": {
      "text/plain": [
       "' 두번째 시간'"
      ]
     },
     "execution_count": 3,
     "metadata": {},
     "output_type": "execute_result"
    }
   ],
   "source": [
    "''' 두번째 시간'''\n"
   ]
  },
  {
   "cell_type": "code",
   "execution_count": 4,
   "metadata": {},
   "outputs": [
    {
     "name": "stdout",
     "output_type": "stream",
     "text": [
      "None\n"
     ]
    }
   ],
   "source": [
    "# function에 대한 내용은 마무리함\n",
    "# 오늘은 '수'에 대한 얘기 진행할 것!\n",
    "\n",
    "# 자료형 종류: 수, 문자, 문자열\n",
    "# 수의 종류: 정수, 실수\n",
    "# 정수의 종류: 양수, 음수\n",
    "\n",
    "'''컴퓨터는 양수,음수를 어떻게 저장할까? 실수를 어떻게 저장할까?'''#(어려움(*****))\n",
    "'''문자는 어떻게 저장할까? ASCII. ASCII이 가진 문제를 해결하기 위해 나온 UNICODE'''# 매우중요(**********)\n",
    "\n",
    "# 문자도 결국에는 숫자임.(컴퓨터에게는)\n",
    "print(None)"
   ]
  },
  {
   "cell_type": "code",
   "execution_count": 5,
   "metadata": {
    "collapsed": true
   },
   "outputs": [],
   "source": [
    "# 현대의 컴퓨터는 음수를 2의 보수(two's complement)로 저장한다. 왜??\n",
    "# 실수 관련>> 실수는 부동소수점으로 표현한다. 1) 왜? 2) 어떻게 표현하는가? (floating point)\n",
    "# floating point는 제대로 이해하기가 정말 어려운 개념. "
   ]
  },
  {
   "cell_type": "code",
   "execution_count": 6,
   "metadata": {},
   "outputs": [
    {
     "data": {
      "text/plain": [
       "'\\n1바이트는 8비트\\n1번째 비트는 부호(0은 +// 1은 -)\\n결과: 00001001\\n# 뒤에서부터 4자리는 9를 이진수로 표현한 것. 1001\\n'"
      ]
     },
     "execution_count": 6,
     "metadata": {},
     "output_type": "execute_result"
    }
   ],
   "source": [
    "# 2의 보수란?\n",
    "\n",
    "# 정수를 표현하는데도 1바이트, 4바이트, 8바이트,2바이트 등 다양함\n",
    "# 파이썬에서 숫자를 끝까지 파고 들어가면 내부에 long이라는 얘가 있다. 그리고 그 long은 4바이트다. \n",
    "'''\n",
    "1바이트 - 캐릭터\n",
    "2바이트 - 쇼트\n",
    "4바이트 - 정수, 롱\n",
    "8바이트 - 롱롱\n",
    "'''\n",
    "# 설명의 편의를 위해 character(1바이트)로 할 것임\n",
    "\n",
    "# 9를 1바이트짜리 캐릭터에 저장하고 싶다면.\n",
    "'''\n",
    "1바이트는 8비트\n",
    "1번째 비트는 부호(0은 +// 1은 -)\n",
    "결과: 00001001\n",
    "# 뒤에서부터 4자리는 9를 이진수로 표현한 것. 1001\n",
    "'''"
   ]
  },
  {
   "cell_type": "code",
   "execution_count": 8,
   "metadata": {},
   "outputs": [
    {
     "data": {
      "text/plain": [
       "b'\\x1f'"
      ]
     },
     "execution_count": 8,
     "metadata": {},
     "output_type": "execute_result"
    }
   ],
   "source": [
    "# 9가 아닌 조금 큰수인 31를 예시로 하면\n",
    "'''\n",
    "31 -> 11111(2)\n",
    "00011111\n",
    "이를 16진수로 바꾸면 \n",
    "0x1f\n",
    "'''\n",
    "\n",
    "\n",
    "\n",
    "(31).to_bytes(1,byteorder = 'little', signed = True)\n",
    "\n",
    "# unsigned >> 가장 앞의 비트를 사인부호로 안함\n",
    "# signed>> 가장 앞의 비트를 사인부호로 설정함."
   ]
  },
  {
   "cell_type": "code",
   "execution_count": 9,
   "metadata": {
    "collapsed": true
   },
   "outputs": [],
   "source": [
    "# \\는 0을 의미.\n",
    "# 00011111 이러한 형태로 31이 메모리에 저장됨!!"
   ]
  },
  {
   "cell_type": "code",
   "execution_count": 10,
   "metadata": {},
   "outputs": [
    {
     "data": {
      "text/plain": [
       "'\\n제일 앞 비트만 부호 잡아주고 나머지는 이진수로 숫자 표현해줌. \\n'"
      ]
     },
     "execution_count": 10,
     "metadata": {},
     "output_type": "execute_result"
    }
   ],
   "source": [
    "# 4바이트짜리 이해하기\n",
    "'''\n",
    "제일 앞 비트만 부호 잡아주고 나머지는 이진수로 숫자 표현해줌. \n",
    "'''\n"
   ]
  },
  {
   "cell_type": "code",
   "execution_count": 11,
   "metadata": {},
   "outputs": [
    {
     "data": {
      "text/plain": [
       "' \\n4321이라는 수에서 가장 큰 수는 4(4000) >>> 우리는 가장 큰(중요한)정보를 제일 앞에 놓음\\n>>> 이렇게 인간의 표현 방식을 빅엔디언이라고 하고\\n거꾸로 표현하는 방식을 리틀엔디언이라고 한다(1234)\\n'"
      ]
     },
     "execution_count": 11,
     "metadata": {},
     "output_type": "execute_result"
    }
   ],
   "source": [
    "# 컴퓨터 메모리에 저장하는 두가지 방식\n",
    "\n",
    "''' \n",
    "4321이라는 수에서 가장 큰 수는 4(4000) >>> 우리는 가장 큰(중요한)정보를 제일 앞에 놓음\n",
    ">>> 이렇게 인간의 표현 방식을 빅엔디언이라고 하고\n",
    "거꾸로 표현하는 방식을 리틀엔디언이라고 한다(1234)\n",
    "'''\n",
    "\n",
    "# 0x12\n",
    "#>> 00010002 (8비트 = 1바이트)\n",
    "\n",
    "#메모리에 위의 숫자가 저장될때, 인간과 같은 빅엔디언 방식을 쓴다면(컴퓨터가) > 순서대로 저장할것.(0001 >> 0002 저장)\n",
    "# 리틀엔디언 방식을 쓴다면 뒤에서부터 저장, (0002 >> 0001저장) \n"
   ]
  },
  {
   "cell_type": "code",
   "execution_count": 12,
   "metadata": {},
   "outputs": [
    {
     "name": "stdout",
     "output_type": "stream",
     "text": [
      "b'\\x12\\x00\\x00\\x00'\n",
      "b'\\x00\\x00\\x00\\x12'\n"
     ]
    }
   ],
   "source": [
    "a = 0x12\n",
    "print(a.to_bytes(4,byteorder = 'little', signed = True))\n",
    "print(a.to_bytes(4,byteorder = 'big', signed = True))"
   ]
  },
  {
   "cell_type": "code",
   "execution_count": 14,
   "metadata": {
    "collapsed": true
   },
   "outputs": [],
   "source": [
    "# 컴퓨터는 보통 데이터를 저장할때, 리틀 엔디언을 사용함. > 단 거꾸로 저장했다가 호출시 다시 거꾸로 부르기에 실제 사용자는 느끼지 못함\n",
    "# 빅엔디언, 리틀엔디언은 걸리버 여행기에서는 소인국에서 빅엔디언 파와 리틀 엔디언 파가 싸운데서 유래\n",
    "# 빅엔디언 파: 계란은 위쪽부터 먹어야 vs 리틀엔디언: 계란은 아래부터 먹어야"
   ]
  },
  {
   "cell_type": "code",
   "execution_count": 15,
   "metadata": {
    "collapsed": true
   },
   "outputs": [],
   "source": [
    "# 지금까지, 저장방식 & 양수 저장하는 방법 끝냄"
   ]
  },
  {
   "cell_type": "code",
   "execution_count": 16,
   "metadata": {
    "collapsed": true
   },
   "outputs": [],
   "source": [
    "# 음수는 어떻게 저장하는가?\n",
    "# -31인 경우 10011111  이렇게 저장하면 안될까? >>> 안됨\n",
    "# 10000000 >> -0 // 00000000 >> +0 \n",
    "# 이렇게 같은 숫자를 두가지로 표현하는 오류 생김 >> 컴퓨터 효율성 저해 >>> 이런 방식 채택안함"
   ]
  },
  {
   "cell_type": "code",
   "execution_count": 17,
   "metadata": {
    "collapsed": true
   },
   "outputs": [],
   "source": [
    "# 11100001 이게 -31을 의미 \n",
    "# 10011111 이게 -31을 의미하는 것이 아님\n",
    "# 00011111 이게 +31을 의미\n",
    "\n",
    "# 11100001 해석\n",
    "# 첫번째 비트는 사인부호(+면 0// -면 1)\n",
    "# 첫번째 비트의 정보인 -를 keep 해놓음\n",
    "# 11100001을 1의 보수로 바꾸면 (방법: 모든 숫자를 반전시키면 됨)\n",
    "# >>> 0011110 여기에 +1을 함\n",
    "# >>> 0011111 이게 2의 보수 이것을 십진수로 바꾸면 31\n",
    "# 여기에 keep 해놓았던 -부호를 붙여주면 -31"
   ]
  },
  {
   "cell_type": "code",
   "execution_count": 19,
   "metadata": {},
   "outputs": [
    {
     "name": "stdout",
     "output_type": "stream",
     "text": [
      "None\n"
     ]
    }
   ],
   "source": [
    "# 2의 보수를 이해하기 전에 10의 보수를 이해하면 이해가 쉬움\n",
    "'''\n",
    "10,2는 십진법, 이진법의 기수임\n",
    "\n",
    "각 수가 표현된 방식의 기수의 보수는 >>> 자리바꿔주는 최소의 수\n",
    "각 수가 표현된 방식의 기수-1의 보수는 >>> 자리안바뀌는데 최대가 되게하는수\n",
    "\n",
    "54가 있을때\n",
    "1. 9의 보수는?  >>> + 무엇인가를 해서 99가 나올때 해당 숫자가 9의 보수라고 함 >> 45.\n",
    ">> 자리수가 바뀌지 않는 수준에서 가장 큰 수를 만들어주는 수(보수)\n",
    "\n",
    "2.10의 보수? >>> 어떤수를 더해서 자리수가 하나 늘어나는 것\n",
    ">>> 54+( ) = 100 >>> 46이 10의 보수\n",
    "\n",
    "----\n",
    "10101\n",
    "1의 보수가 되려면 \n",
    "자리 바뀜이 되기전에 가장 큰수는? 11111\n",
    "더했을때 11111이 되는 수 => 1의 보수\n",
    "01010\n",
    "* 법칙 발견 >> 1의 보수는 원래수를 모두 반전 시키면 나옴\n",
    "\n",
    "2의 보수는?\n",
    "1의 보수에서 +1만 해주면 (이말은 즉 자리 바뀜이 된다는 것) 2의 보수임.\n",
    "\n",
    "\n",
    "'''\n",
    "\n",
    "# ~1010 에서 ~의 의미는 not의 의미로 모든 수를 반전시켜줌을 의미\n",
    "# ~ 0000 0000 >>> 1111 1111\n",
    "#  1111 1111 >> (1의 보수는) 0000 0000 >>> (+1하면) 0000 0001 >>> (여기에 아까 keep한 -를 붙이면) -1이 나옴\n",
    "# 규칙성 발견 가능. \n",
    "# ~0 >> -1\n",
    "# ~1 >> -2\n",
    "# ~2 >> -3\n",
    "# 이러한 규칙을 발견할 수 있다. \n",
    "\n",
    "# 컴퓨터는 2의 보수로 음수를 저장한다. \n",
    "print(None)"
   ]
  },
  {
   "cell_type": "code",
   "execution_count": null,
   "metadata": {
    "collapsed": true
   },
   "outputs": [],
   "source": [
    "# floating point(부동소수점)에서 중요한 3가지!!\n",
    "'''\n",
    "부동소수점\n",
    "1. 표현범위가 넓다\n",
    "2. 정밀도가 떨어진다.\n",
    "3. if 문에서 ==를 이용해서 비교하면 안된다. \n",
    "\n",
    "'''"
   ]
  },
  {
   "cell_type": "code",
   "execution_count": 21,
   "metadata": {},
   "outputs": [
    {
     "name": "stdout",
     "output_type": "stream",
     "text": [
      "s is NOT 1\n"
     ]
    }
   ],
   "source": [
    "# 실수를 저장하는 방식\n",
    "# 표현범위가 넓다는 것의 의미\n",
    "# 정밀도가 떨어진다는 것의 의미\n",
    "# if문에서 ==로 쓰면 안되는 것의 의미\n",
    "\n",
    "'''\n",
    "왜 부동소수점은 if문에서 == 를 쓰면 안되는가? >> 예시로 보자\n",
    "'''\n",
    "\n",
    "a = 0.01\n",
    "s = 0.0\n",
    "for i in range(100):\n",
    "    s += a\n",
    "if s == 1.0:\n",
    "    print(\"s is 1\")\n",
    "else:\n",
    "    print(\"s is NOT 1\")"
   ]
  },
  {
   "cell_type": "code",
   "execution_count": 22,
   "metadata": {},
   "outputs": [
    {
     "data": {
      "text/plain": [
       "1.0000000000000007"
      ]
     },
     "execution_count": 22,
     "metadata": {},
     "output_type": "execute_result"
    }
   ],
   "source": [
    "s"
   ]
  },
  {
   "cell_type": "code",
   "execution_count": 23,
   "metadata": {
    "collapsed": true
   },
   "outputs": [],
   "source": [
    "# s는 1이 아님.>>>>  0.01을 100번 더했는데도 1이 안나옴.\n",
    "# 따라서 부동소수점은 ==를 쓰면 안됨.(크다, 작다는 사용가능.)\n",
    "\n",
    "# 부동소수점을 쓴다는 것(실수라는 자료형을 쓴다는것)은 어느정도의 정확성을 포기하고 쓰겠다는 의미다.\n",
    "# 게임에서는 보통 실수를 사용 >>> 어마어마한 정밀도가 필요 없기에."
   ]
  },
  {
   "cell_type": "code",
   "execution_count": 25,
   "metadata": {},
   "outputs": [
    {
     "name": "stdout",
     "output_type": "stream",
     "text": [
      "s is 1.5625\n"
     ]
    }
   ],
   "source": [
    "a = 0.015625\n",
    "s = 0.0\n",
    "\n",
    "for i in range(100):\n",
    "    s += a\n",
    "if s == 1.5625:\n",
    "    print(\"s is 1.5625\")\n",
    "else:\n",
    "    print(\"s is NOT 1.5625\")"
   ]
  },
  {
   "cell_type": "code",
   "execution_count": 26,
   "metadata": {
    "collapsed": true
   },
   "outputs": [],
   "source": [
    "# 왜 여기에서는 정확한 수치가 나왔는가?"
   ]
  },
  {
   "cell_type": "code",
   "execution_count": 27,
   "metadata": {},
   "outputs": [
    {
     "data": {
      "text/plain": [
       "'\\n4321을 표현하면 432.1 * (10**1) 혹은 43.21 * (10**2) 등등 >>> 소수점이 이동함(둥둥 떠다님(부유하며 움직임=부동))\\n\\n'"
      ]
     },
     "execution_count": 27,
     "metadata": {},
     "output_type": "execute_result"
    }
   ],
   "source": [
    "# 부동소수점(floating point)에 대하여\n",
    "# 왜 이름이 floating이 붙었는가?\n",
    "# 부동>> 떠다닌다.(움직인다)  >>>> 소수점이 움직인다\n",
    "'''\n",
    "4321을 표현하면 432.1 * (10**1) 혹은 43.21 * (10**2) 등등 >>> 소수점이 이동함(둥둥 떠다님(부유하며 움직임=부동))\n",
    "\n",
    "'''\n"
   ]
  },
  {
   "cell_type": "code",
   "execution_count": 28,
   "metadata": {},
   "outputs": [
    {
     "data": {
      "text/plain": [
       "'\\n4321 >>> 43.21 * (10**2)\\n\\n43.21의 부분을 가수분(멘티사(mantissa))\\n10**2에서 10을 radix, base(기수)라고 부름\\n10**2에서 2를 exponent(지수)라고 부름\\n\\n'"
      ]
     },
     "execution_count": 28,
     "metadata": {},
     "output_type": "execute_result"
    }
   ],
   "source": [
    "# 부동 소수점으로 표현하기 위해서는\n",
    "'''\n",
    "4321 >>> 43.21 * (10**2)\n",
    "\n",
    "43.21의 부분을 가수분(멘티사(mantissa))\n",
    "10**2에서 10을 radix, base(기수)라고 부름\n",
    "10**2에서 2를 exponent(지수)라고 부름\n",
    "\n",
    "'''"
   ]
  },
  {
   "cell_type": "code",
   "execution_count": 29,
   "metadata": {},
   "outputs": [
    {
     "data": {
      "text/plain": [
       "'\\n정규화 >>> 소수점 앞의 자리를 radix보다 작은 자연수로 바꾸는 것.(자연수라 0은 안됨)\\n4321에서는\\n4.321 * (10**3)이 해당.\\n\\n4321를 여러가지 방식으로 부동소수점으로 표현할 수 있는데\\n정규화하면 딱 하나 4.321 * (10**3)로 표현가능\\n\\n'"
      ]
     },
     "execution_count": 29,
     "metadata": {},
     "output_type": "execute_result"
    }
   ],
   "source": [
    "# 정규화하는 개념(normalize)\n",
    "'''\n",
    "정규화 >>> 소수점 앞의 자리를 radix보다 작은 자연수로 바꾸는 것.(자연수라 0은 안됨)\n",
    "4321에서는\n",
    "4.321 * (10**3)이 해당.\n",
    "\n",
    "4321를 여러가지 방식으로 부동소수점으로 표현할 수 있는데\n",
    "정규화하면 딱 하나 4.321 * (10**3)로 표현가능\n",
    "\n",
    "'''"
   ]
  },
  {
   "cell_type": "code",
   "execution_count": 30,
   "metadata": {},
   "outputs": [
    {
     "data": {
      "text/plain": [
       "'\\nIEEE(미국의 학회) 754 표준.\\n\\n+-1.m * 2^e-b  (플러스 마이서스 1.m 곱하기 2의 e-b승)\\n위 식은 은 우리가 알고 있는 실수를 메모리에 정규화하여 저장할때의 최종 형태\\n\\n제일 앞이 1인 이유>> radix가 2이기에(컴퓨터는 이진수)>> 정규화할때, 0은 못쓰기에 2보다 작은 자연수는 1밖에 안남음\\n4바이트로 표현한 숫자에서 첫비트는 sign부호  \\n두번째부터 8개의 비트는 exponent라고 부르고 e가 여기에 저장됨\\n나머지 23비트는 mantissa(가수부)부분이라고 함. 여기에 m이 저장됨.\\n>> 실제 우리가 부르는 가수부는 1을 포함한 1.m 이지만 저장할때는 1은 원래 고정되어 있기에 아깝기 때문에 m 만 저장함.\\n>>> 따라서 저장은 2진수 23자리로 저장하지만 여기에는 1이 빠져있기에 실제로 표현 가능한 범위는 2진수 24자리이다.\\n\\n>>> b는 127임(e가 8자리일때 2**8-1 -1 == 2*7 -1 == 127)\\n\\n'"
      ]
     },
     "execution_count": 30,
     "metadata": {},
     "output_type": "execute_result"
    }
   ],
   "source": [
    "# 실수 이해해보자\n",
    "\n",
    "'''\n",
    "IEEE(미국의 학회) 754 표준.\n",
    "\n",
    "+-1.m * 2^e-b  (플러스 마이서스 1.m 곱하기 2의 e-b승)\n",
    "위 식은 은 우리가 알고 있는 실수를 메모리에 정규화하여 저장할때의 최종 형태\n",
    "\n",
    "제일 앞이 1인 이유>> radix가 2이기에(컴퓨터는 이진수)>> 정규화할때, 0은 못쓰기에 2보다 작은 자연수는 1밖에 안남음\n",
    "4바이트로 표현한 숫자에서 첫비트는 sign부호  \n",
    "두번째부터 8개의 비트는 exponent라고 부르고 e가 여기에 저장됨\n",
    "나머지 23비트는 mantissa(가수부)부분이라고 함. 여기에 m이 저장됨.\n",
    ">> 실제 우리가 부르는 가수부는 1을 포함한 1.m 이지만 저장할때는 1은 원래 고정되어 있기에 아깝기 때문에 m 만 저장함.\n",
    ">>> 따라서 저장은 2진수 23자리로 저장하지만 여기에는 1이 빠져있기에 실제로 표현 가능한 범위는 2진수 24자리이다.\n",
    "\n",
    ">>> b는 127임(e가 8자리일때 2**8-1 -1 == 2*7 -1 == 127)\n",
    "\n",
    "'''\n",
    "\n",
    "# 실수를 표현하는 자료형(2)\n",
    "# 1. float >> 메모리에 32비트로 표현 >> 4바이트로 저장한다는 말\n",
    "# >>>>>>>>>>> 표현 범위가 넓지만 정밀도가 떨어져서 새로운 것을 만듬(8바이트짜리)\n",
    "# 2. double >> float를 더블해서 만든것.\n",
    "\n",
    "# float만 이해하면 double 이해는 따라옴(비트수만 늘린것이기에)\n"
   ]
  },
  {
   "cell_type": "code",
   "execution_count": 31,
   "metadata": {},
   "outputs": [
    {
     "data": {
      "text/plain": [
       "'\\n17.25는 어떻게 저장되는가\\n(4 비트 메모리에 float로)\\n\\nb = 127\\n1. 이진수로 바꾸기\\n>>> 16 + 2 + 0.25\\n>>> 2 **4 + 2**0 + 2 **-2\\n>>> 10001.01\\n\\n2. 정규화하기\\n+1.000101*(2**4)\\n\\n3. sign 1비트 e는 8비트 멘티사는 23비트\\n\\n4. 0/________/_______________________\\n\\n5. e-b = 4 >>> e-127 = 4 >>> e = 131\\n\\n6. 131 = 10000011(2)\\n\\n7. 0/10000011/_______________________\\n\\n8.1.000101에서 1빼고 나머지 넣어주고 남은 빈칸은 싹다 0 입력\\n\\n9. 0/10000011/000101000000000000000000\\n\\n10. 16진수로 바꾸기 위해서 4비트로 쪼개줌\\n\\n11. 0100 0001 1000 1010 0000 0000 0000 0000 \\n\\n12. 0x418a0000\\n\\n13. 실제 메모리는 리틀엔디언으로 저장되어 있기에\\n\\n14. 0x00008a41 이런형태로 저장되어 있을것임.\\n\\n\\n\\n'"
      ]
     },
     "execution_count": 31,
     "metadata": {},
     "output_type": "execute_result"
    }
   ],
   "source": [
    "'''\n",
    "17.25는 어떻게 저장되는가\n",
    "(4 비트 메모리에 float로)\n",
    "\n",
    "b = 127\n",
    "1. 이진수로 바꾸기\n",
    ">>> 16 + 2 + 0.25\n",
    ">>> 2 **4 + 2**0 + 2 **-2\n",
    ">>> 10001.01\n",
    "\n",
    "2. 정규화하기\n",
    "+1.000101*(2**4)\n",
    "\n",
    "3. sign 1비트 e는 8비트 멘티사는 23비트\n",
    "\n",
    "4. 0/________/_______________________\n",
    "\n",
    "5. e-b = 4 >>> e-127 = 4 >>> e = 131\n",
    "\n",
    "6. 131 = 10000011(2)\n",
    "\n",
    "7. 0/10000011/_______________________\n",
    "\n",
    "8.1.000101에서 1빼고 나머지 넣어주고 남은 빈칸은 싹다 0 입력\n",
    "\n",
    "9. 0/10000011/0001010000000000000000000\n",
    "\n",
    "10. 16진수로 바꾸기 위해서 4비트로 쪼개줌\n",
    "\n",
    "11. 0100 0001 1000 1010 0000 0000 0000 0000 \n",
    "\n",
    "12. 0x418a0000\n",
    "\n",
    "13. 실제 메모리는 리틀엔디언으로 저장되어 있기에\n",
    "\n",
    "14. 0x00008a41 이런형태로 저장되어 있을것임.\n",
    "\n",
    "\n",
    "\n",
    "'''"
   ]
  },
  {
   "cell_type": "code",
   "execution_count": 32,
   "metadata": {},
   "outputs": [
    {
     "data": {
      "text/plain": [
       "sys.float_info(max=1.7976931348623157e+308, max_exp=1024, max_10_exp=308, min=2.2250738585072014e-308, min_exp=-1021, min_10_exp=-307, dig=15, mant_dig=53, epsilon=2.220446049250313e-16, radix=2, rounds=1)"
      ]
     },
     "execution_count": 32,
     "metadata": {},
     "output_type": "execute_result"
    }
   ],
   "source": [
    "# 파이썬에 확인해보기\n",
    "\n",
    "# 파이썬에서 실수는 더블로 쌓임\n",
    "\n",
    "import sys\n",
    "sys.float_info"
   ]
  },
  {
   "cell_type": "code",
   "execution_count": 33,
   "metadata": {},
   "outputs": [
    {
     "data": {
      "text/plain": [
       "'\\nmantissa digit = 53 >>> 64 비트\\n\\n\\n'"
      ]
     },
     "execution_count": 33,
     "metadata": {},
     "output_type": "execute_result"
    }
   ],
   "source": [
    "# 위의 정보를 보면\n",
    "'''\n",
    "mantissa digit = 53 >>> 64 비트\n",
    "\n",
    "\n",
    "'''"
   ]
  },
  {
   "cell_type": "code",
   "execution_count": 34,
   "metadata": {
    "collapsed": true
   },
   "outputs": [],
   "source": [
    "# 지금부터는 정밀도에 대해 알아볼 것임.\n",
    "# 변환하는 것까지는 인터넷에 많음\n",
    "# 정밀도의 의미 아는 게 어려움\n",
    "\n",
    "# dig  =15 에서 dig가 정밀도를 의미\n",
    "# dig는 자릿수인데 왜 정밀도라고 하지? >> 이를 설명할 것임\n"
   ]
  },
  {
   "cell_type": "code",
   "execution_count": 35,
   "metadata": {},
   "outputs": [
    {
     "data": {
      "text/plain": [
       "'\\n2진수의 4자리수인 1111부터 10진수의 한자리수를 온전히 표현 가능\\n>>> 2진수의 자릿수를 추가했을때, 해당 최고수가 10진수 자릿수를 변화시켰으면 >> 해당시점의 2진수 n자리로 십진수 k자리 표현 가능\\n(111 >> 7 // 1111 >> 15) >>>>> 2진수 4자리로 10진수 1자리 온전히 표현 가능\\n\\n이렇게 쭉쭉해나가면(24개의 이진수의 최대값은 약 16,175,111이렇게 나온다. 즉 2진수 24자리로는 10진수 7자리(9,999,999) 표현 가능)\\n'"
      ]
     },
     "execution_count": 35,
     "metadata": {},
     "output_type": "execute_result"
    }
   ],
   "source": [
    "# 2^10은 10^3 과 비슷하다 라는 문장의 의미를 이해해보자\n",
    "\n",
    "# 2진수 3자리가 있을때. _ _ _\n",
    "# 2진수 3자리로 10진수 한자리수를 모두 표현 불가능(8,9)\n",
    "# 000(0) ~ 111(7)  >>> 2진수 3자리로는 10진수 한자리를 표현 불가능\n",
    "# 여기에 이진수 한자리만 추가하면 15까지 표현 가능 >>> 즉 2진수 4자리는 10진수 한자리를 정밀하게 표현가능\n",
    "\n",
    "# 멘티사에서(32비트에서) 24비트까지 표현 가능하다고 했는데, 2진수 24자리로 10진수 몇자리를 표현 가능한가? >> 이게 정밀도의 의미!!\n",
    "\n",
    "'''\n",
    "2진수의 4자리수인 1111부터 10진수의 한자리수를 온전히 표현 가능\n",
    ">>> 2진수의 자릿수를 추가했을때, 해당 최고수가 10진수 자릿수를 변화시켰으면 >> 해당시점의 2진수 n자리로 십진수 k자리 표현 가능\n",
    "(111 >> 7 // 1111 >> 15) >>>>> 2진수 4자리로 10진수 1자리 온전히 표현 가능\n",
    "\n",
    "이렇게 쭉쭉해나가면(24개의 이진수의 최대값은 약 16,175,111이렇게 나온다. 즉 2진수 24자리로는 10진수 7자리(9,999,999) 표현 가능)\n",
    "'''"
   ]
  },
  {
   "cell_type": "code",
   "execution_count": 36,
   "metadata": {
    "collapsed": true
   },
   "outputs": [],
   "source": [
    "# 더블형의 정밀도를 보자\n",
    "# 더블형의 멘티사는 53자리\n",
    "# 이진수 53자리로 온전히 표현 가능한 10진수 자리수는 15자리수\n",
    "# dig = 15 >>>>> 10진수 15자리로 표현 할수 있음.  이게 정밀도의 의미를 가지는 이유.\n"
   ]
  },
  {
   "cell_type": "markdown",
   "metadata": {},
   "source": [
    "# 정밀도 이어서..\n",
    "\n",
    "'''\n",
    "멘티사:  1.00000-------0 * 2^24 이를 10진수로 바꾸면\n",
    "\n",
    "16,777,216\n",
    "\n",
    "위의 멘티사로 표현할 수 있는 다음수는\n",
    "\n",
    "멘티사: 1.00000--------1 * 2^24\n",
    "\n",
    "이를 10진수로 바꾸면\n",
    "\n",
    "16,777,218\n",
    "\n",
    "그렇다면 16,777,217은 어떻게 표현 가능한가?\n",
    "\n",
    "1.00000-------0 * 2^24 가 16,777,217까지 포함하는걸로 봐야함. (정밀도 떨어짐)\n",
    "'''\n",
    "\n",
    "'''\n",
    "1.00000-------0 *2^30을 10진수로 바꾸면\n",
    "\n",
    "1,073,741,824\n",
    "\n",
    "여기서 이 포맷으로 표현할 수 있는 다음수는\n",
    "\n",
    "1.00000-------1 *2^30 이를 10진수로 바꾸면\n",
    "\n",
    "2^30 + 2^(30-23) \n",
    "\n",
    "1,073,741,952 \n",
    "\n",
    "이때, 851 부터 952사이의 숫자는 위의 숫자가 포함해야함 >>> 정밀도가 완전히 떨어짐\n",
    "\n",
    "이때 10진수 7자리까지 유효한것. (정밀도의 의미)\n",
    "\n",
    "1,073,741 (7자리)\n",
    "\n",
    "'''"
   ]
  },
  {
   "cell_type": "code",
   "execution_count": null,
   "metadata": {
    "collapsed": true
   },
   "outputs": [],
   "source": [
    "# 표현할 수 있는 수와 그 다음 수의 차이는 exponent 부분에서 결정이 되는데\n",
    "'''\n",
    "2^(승수 - 23(멘티사가 표현 가능한 자리수)) =  차이\n",
    "\n",
    "'''\n",
    "\n",
    "'''\n",
    "어떤 수의 exponent가 작다면 표현할 수 있는 수와 그 다음수의 차이가 작음\n",
    "그러나 exponent가 트다면 표현할 수 있는 수와 그 다음수의 차이가 큼\n",
    "\n",
    "부동소수점은 한수와 한수의 간격이 exponent에 따라 달라짐 >>> 정밀도가 고정되어 있지 않음\n",
    "\n",
    "\n",
    "'''\n",
    "\n",
    "# epsilon = 1과 1다음으로 표현할 수 있는 숫자의 차이. \n",
    "2^(0-52)"
   ]
  }
 ],
 "metadata": {
  "kernelspec": {
   "display_name": "Python 3",
   "language": "python",
   "name": "python3"
  },
  "language_info": {
   "codemirror_mode": {
    "name": "ipython",
    "version": 3
   },
   "file_extension": ".py",
   "mimetype": "text/x-python",
   "name": "python",
   "nbconvert_exporter": "python",
   "pygments_lexer": "ipython3",
   "version": "3.6.2"
  }
 },
 "nbformat": 4,
 "nbformat_minor": 2
}
