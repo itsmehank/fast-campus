{
 "cells": [
  {
   "cell_type": "code",
   "execution_count": 6,
   "metadata": {},
   "outputs": [
    {
     "name": "stdout",
     "output_type": "stream",
     "text": [
      "14\n"
     ]
    }
   ],
   "source": [
    "def days(m1,d1,m2,d2):\n",
    "    days = 0\n",
    "    while m1 != m2:\n",
    "        while d1 != 31:\n",
    "            d1 += 1\n",
    "            days += 1\n",
    "        d1 = 1\n",
    "        m1 += 1\n",
    "        days += 1\n",
    "    if d1 == d2:\n",
    "        return days\n",
    "    else:\n",
    "        while d1 != d2:\n",
    "            d1 += 1\n",
    "            days += 1\n",
    "        return days\n",
    "\n",
    "\n",
    "def months(y1,m1,y2,m2):\n",
    "    months = 0\n",
    "    while y1 != y2:\n",
    "        while m1!= 12:\n",
    "            m1 += 1\n",
    "            months += 1\n",
    "        m1 = 1\n",
    "        y1 += 1\n",
    "        months += 1\n",
    "    if m1 == m2:\n",
    "        return months\n",
    "    else: \n",
    "        while m1 != m2:\n",
    "            m1 += 1\n",
    "            months += 1\n",
    "        return months"
   ]
  },
  {
   "cell_type": "code",
   "execution_count": 17,
   "metadata": {},
   "outputs": [
    {
     "name": "stdout",
     "output_type": "stream",
     "text": [
      "372\n"
     ]
    }
   ],
   "source": [
    "def rdays(y1,m1,d1,y2,m2,d2):\n",
    "    days = 0\n",
    "    while y1 != y2:\n",
    "        while m1 < 13:\n",
    "            if d1 != 31:   # *****\n",
    "                d1 += 1\n",
    "                days += 1\n",
    "            else:\n",
    "                d1 = 1\n",
    "                m1 += 1\n",
    "                days += 1\n",
    "        m1 = 1\n",
    "        y1 += 1\n",
    "    while m1 != m2:\n",
    "        if d1 != 31:\n",
    "            d1 += 1\n",
    "            days += 1\n",
    "        d1 = 1\n",
    "        m1 += 1\n",
    "        days += 1   \n",
    "    if d1 == d2:\n",
    "        return days\n",
    "    else:\n",
    "        while d1 != d2:\n",
    "            d1 += 1\n",
    "            days += 1\n",
    "        return days\n",
    "\n",
    "print(rdays(1,1,1,2,1,1,))\n",
    "        \n",
    "        \n",
    "        "
   ]
  },
  {
   "cell_type": "code",
   "execution_count": 19,
   "metadata": {},
   "outputs": [
    {
     "name": "stdout",
     "output_type": "stream",
     "text": [
      "372\n"
     ]
    }
   ],
   "source": [
    "print(12*31)"
   ]
  },
  {
   "cell_type": "code",
   "execution_count": null,
   "metadata": {
    "collapsed": true
   },
   "outputs": [],
   "source": [
    "daysOfMonths = [ 31, 28, 31, 30, 31, 30, 31, 31, 30, 31, 30, 31]\n",
    "\n",
    "\n",
    "def isLeapYear(year):\n",
    "    return (year % 4 == 0 and not year % 100 == 0) or year % 400 == 0\n",
    "\n",
    "\n",
    "\n",
    "def rdays(y1,m1,d1,y2,m2,d2):\n",
    "    days = 0\n",
    "    while y1 != y2:\n",
    "        if isLeapYear(y1):\n",
    "            daysOfMonths[1] = 29\n",
    "        else: \n",
    "            daysOfMonths[1] = 28 \n",
    "        while m1 < 13:\n",
    "            if d1 != daysOfMonths[m1-1]:   # *****\n",
    "                d1 += 1\n",
    "                days += 1\n",
    "            else:\n",
    "                d1 = 1\n",
    "                m1 += 1\n",
    "                days += 1\n",
    "        m1 = 1\n",
    "        y1 += 1\n",
    "    while m1 != m2:\n",
    "        if d1 != 31:\n",
    "            d1 += 1\n",
    "            days += 1\n",
    "        d1 = 1\n",
    "        m1 += 1\n",
    "        days += 1   \n",
    "    if d1 == d2:\n",
    "        return days\n",
    "    else:\n",
    "        while d1 != d2:\n",
    "            d1 += 1\n",
    "            days += 1\n",
    "        return days"
   ]
  }
 ],
 "metadata": {
  "kernelspec": {
   "display_name": "Python 3",
   "language": "python",
   "name": "python3"
  },
  "language_info": {
   "codemirror_mode": {
    "name": "ipython",
    "version": 3
   },
   "file_extension": ".py",
   "mimetype": "text/x-python",
   "name": "python",
   "nbconvert_exporter": "python",
   "pygments_lexer": "ipython3",
   "version": "3.6.2"
  }
 },
 "nbformat": 4,
 "nbformat_minor": 2
}
