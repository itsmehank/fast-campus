{
 "cells": [
  {
   "cell_type": "code",
   "execution_count": 1,
   "metadata": {},
   "outputs": [
    {
     "data": {
      "text/plain": [
       "3.0"
      ]
     },
     "execution_count": 1,
     "metadata": {},
     "output_type": "execute_result"
    }
   ],
   "source": [
    "# for practice typing casting\n",
    "float(3)"
   ]
  },
  {
   "cell_type": "code",
   "execution_count": 2,
   "metadata": {},
   "outputs": [
    {
     "data": {
      "text/plain": [
       "3"
      ]
     },
     "execution_count": 2,
     "metadata": {},
     "output_type": "execute_result"
    }
   ],
   "source": [
    "int(3.4)"
   ]
  },
  {
   "cell_type": "code",
   "execution_count": 3,
   "metadata": {},
   "outputs": [
    {
     "data": {
      "text/plain": [
       "4"
      ]
     },
     "execution_count": 3,
     "metadata": {},
     "output_type": "execute_result"
    }
   ],
   "source": [
    "int(3.9999999999999999999999999999999)  #Basically, on python, int(number) removes any float from the number and returns only integer. \n",
    "                                        # But as you can see here, this is limitation."
   ]
  },
  {
   "cell_type": "code",
   "execution_count": null,
   "metadata": {},
   "outputs": [
    {
     "data": {
      "text/plain": [
       "'3'"
      ]
     },
     "execution_count": 4,
     "metadata": {},
     "output_type": "execute_result"
    }
   ],
   "source": [
    "str(3)"
   ]
  },
  {
   "cell_type": "code",
   "execution_count": null,
   "metadata": {},
   "outputs": [],
   "source": [
    "# user input\n",
    "name = input('Whar is your name? ')\n",
    "print (\"Hi \" + name + \". Nice to meet you!\")"
   ]
  },
  {
   "cell_type": "code",
   "execution_count": null,
   "metadata": {},
   "outputs": [],
   "source": [
    "age = eval(input(\"How young are you?\"))\n",
    "die - age = 100 - age #이 경우 자료형 평가를 한 다음 input 값이 int나 float가 아닌 경우 자동적으로 오류 도출함.\n"
   ]
  },
  {
   "cell_type": "code",
   "execution_count": null,
   "metadata": {},
   "outputs": [],
   "source": [
    "# string formating\n",
    "print('I have a %s, I have an %s.' % ('pen','apple'))"
   ]
  },
  {
   "cell_type": "code",
   "execution_count": null,
   "metadata": {},
   "outputs": [],
   "source": [
    "# string\n",
    "print (len(\"hey, jude\"))\n",
    "print(len(','))    # comma와 같은 기호도 하나의 글자 크기를 차지.\n",
    "print(len(' '))    # blank space도 하나의 공간을 차지, 즉 하나의 글자 크기를 차지.\n",
    "print(len(''))     # (띄어쓰기 없는) 그냥 빈 공간''은 공간을 차지 하지 않기에 0의 크기."
   ]
  },
  {
   "cell_type": "code",
   "execution_count": null,
   "metadata": {},
   "outputs": [],
   "source": [
    "# string index\n",
    "print (len('homophobia'))\n",
    "print ('homophobia'[1:5:2])    # 1부터 (5-1)까지 두칸을 간격으로 character를 가져온다\n",
    "print ('homophobia'[:10])\n",
    "print ('homophobia'[:11])     # 이렇게 range를 indexing 하는 경우에는 대상이 되는 string으ㅢ 길이를 초월하는 범위를 입력해도 오류 아님. \n",
    "print ('homophobia'[::])    # [::]는 [:]와 같다\n"
   ]
  },
  {
   "cell_type": "code",
   "execution_count": null,
   "metadata": {},
   "outputs": [],
   "source": [
    "#count\n",
    "ano_string=\"python is easy programming language for all.\"\n",
    "ano_string.count('p')\n"
   ]
  },
  {
   "cell_type": "code",
   "execution_count": null,
   "metadata": {},
   "outputs": [],
   "source": [
    "#find _위치 찾아줌\n",
    "ano_string.find('r')"
   ]
  },
  {
   "cell_type": "code",
   "execution_count": null,
   "metadata": {},
   "outputs": [],
   "source": [
    "# join\n",
    "comma = ','\n",
    "commaed = comma.join('python')\n",
    "print(commaed)"
   ]
  },
  {
   "cell_type": "code",
   "execution_count": null,
   "metadata": {},
   "outputs": [],
   "source": [
    "#replace\n",
    "ano_string=\"python is easy programming language for all.\"\n",
    "ano_string.replace('python', 'golang')"
   ]
  },
  {
   "cell_type": "code",
   "execution_count": null,
   "metadata": {},
   "outputs": [],
   "source": [
    "#list\n",
    "lang = [] # empty list declare\n",
    "lang.append('python')\n",
    "lang.append('golang')\n",
    "lang.append('java')\n",
    "print (lang)"
   ]
  },
  {
   "cell_type": "code",
   "execution_count": null,
   "metadata": {},
   "outputs": [],
   "source": [
    "#insert\n",
    "lang.insert(1,'c')\n",
    "print (lang)"
   ]
  },
  {
   "cell_type": "code",
   "execution_count": null,
   "metadata": {},
   "outputs": [],
   "source": [
    "#remove\n",
    "lang.remove('c')\n",
    "print(lang)"
   ]
  },
  {
   "cell_type": "code",
   "execution_count": null,
   "metadata": {},
   "outputs": [],
   "source": [
    "#pop\n",
    "golang = lang.pop(1)\n",
    "print(golang)\n",
    "print(lang)"
   ]
  },
  {
   "cell_type": "code",
   "execution_count": null,
   "metadata": {},
   "outputs": [],
   "source": [
    "#sort\n",
    "numbers =[90,2,42,99,1903,129]\n",
    "numbers.sort()\n",
    "numbers\n",
    "\n",
    "print(numbers[::-1])\n",
    "numbers.reverse()\n",
    "print (numbers)"
   ]
  },
  {
   "cell_type": "code",
   "execution_count": null,
   "metadata": {},
   "outputs": [],
   "source": [
    "#index  해당 element가 어디에 위치하는지 찾아줌. >>> string의 find function과 비슷\n",
    "numbers.index(2)"
   ]
  },
  {
   "cell_type": "code",
   "execution_count": null,
   "metadata": {},
   "outputs": [],
   "source": [
    "# + or extend    #리스트를 더하는 방법은 두가지가 있다. + 사용 or extend 사용. \n",
    "list = [1,2,3,4]\n",
    "list = list + [5,6]\n",
    "print (list)\n",
    "list.extend([7,8])\n",
    "print (list)"
   ]
  },
  {
   "cell_type": "code",
   "execution_count": null,
   "metadata": {},
   "outputs": [],
   "source": [
    "# 쉬는시간 연습\n",
    "list2 = ['a']\n",
    "list2 += ['b']\n",
    "print (list2)\n",
    "list2.extend(['c'])\n",
    "print (list2)"
   ]
  },
  {
   "cell_type": "code",
   "execution_count": null,
   "metadata": {},
   "outputs": [],
   "source": [
    "# Tuple\n",
    "tuple1 = (1,2,3,4)\n",
    "'''\n",
    "del tuple1[1]  # error가 뜬다. 튜플에서는 삭제 불가능\n",
    "tupel1[1] = 5  # error가 뜬다. 튜플에서는 요소 변경 불가능\n",
    "'''"
   ]
  },
  {
   "cell_type": "code",
   "execution_count": null,
   "metadata": {},
   "outputs": [],
   "source": [
    "tuple2 =(5,6)\n",
    "tuple1 + tuple2 "
   ]
  },
  {
   "cell_type": "code",
   "execution_count": null,
   "metadata": {},
   "outputs": [],
   "source": [
    "tuple1 * 3"
   ]
  },
  {
   "cell_type": "code",
   "execution_count": null,
   "metadata": {},
   "outputs": [],
   "source": [
    "# 튜플의 요소 값 변경해주는 방법1_임시 변수 사용 >> 임시 변수 이용 이유는, 동시에 바꿔버리면 오류 발생한다\n",
    "x = 1\n",
    "y = 38\n",
    "temp = x\n",
    "x = y\n",
    "y = temp\n",
    "print (x,y)"
   ]
  },
  {
   "cell_type": "code",
   "execution_count": null,
   "metadata": {},
   "outputs": [],
   "source": [
    "# 튜플의 요소 값 변경해주는 방법2_(x,y) = (y,x) 공식 사용 >>> 임시 변수 이용안하고 간단히 값을 치환할 수 있는 것. \n",
    "print (x,y)\n",
    "(x,y) = (y,x)\n",
    "print (x,y)"
   ]
  },
  {
   "cell_type": "code",
   "execution_count": null,
   "metadata": {},
   "outputs": [],
   "source": [
    "# if statement\n",
    "age = 200\n",
    "nationality = 'Korean'\n",
    "if age < 19 or nationality == 'Korean':\n",
    "    print ('get out of here', nationality)"
   ]
  },
  {
   "cell_type": "code",
   "execution_count": null,
   "metadata": {},
   "outputs": [],
   "source": [
    "# else statement\n",
    "age = 10\n",
    "nationality = 'American'\n",
    "if age < 20 or nationality == 'Korean':\n",
    "    print ('hi kiddo')\n",
    "else: \n",
    "    print ('do you support Trump?')"
   ]
  },
  {
   "cell_type": "code",
   "execution_count": null,
   "metadata": {
    "collapsed": true
   },
   "outputs": [],
   "source": [
    "#elif\n",
    "if age<19:\n",
    "    print ('baby')\n",
    "elif 20<age<50:\n",
    "    print ('ass')\n",
    "else:\n",
    "    print('goodday')"
   ]
  },
  {
   "cell_type": "code",
   "execution_count": null,
   "metadata": {},
   "outputs": [],
   "source": [
    "#randint\n",
    "import random   #library를 import 해주면 두줄을 띄어주고 코딩 시작.\n",
    "\n",
    "\n",
    "answer = random.randint(1, 100)\n",
    "print (answer)  #이것이 없으면 answer가 없기에 밑의 if 문이 작동 안함. \n",
    "#get user input\n",
    "\n",
    "username = input(\"Hi there, What's your name??\")\n",
    "guess = eval(input(\"Hi, %s. what number would you go with?\" % (username)))\n",
    "\n",
    "if answer == guess:\n",
    "    print (\"You are right!\")\n",
    "else:\n",
    "    print ('Sorry')"
   ]
  },
  {
   "cell_type": "code",
   "execution_count": null,
   "metadata": {},
   "outputs": [],
   "source": [
    "# for statement\n",
    "list2 = ['python', 'golang', 'ruby', 'java']\n",
    "for lang in list2:\n",
    "    print(lang)"
   ]
  },
  {
   "cell_type": "code",
   "execution_count": null,
   "metadata": {
    "collapsed": true
   },
   "outputs": [],
   "source": []
  }
 ],
 "metadata": {
  "kernelspec": {
   "display_name": "Python 3",
   "language": "python",
   "name": "python3"
  },
  "language_info": {
   "codemirror_mode": {
    "name": "ipython",
    "version": 3
   },
   "file_extension": ".py",
   "mimetype": "text/x-python",
   "name": "python",
   "nbconvert_exporter": "python",
   "pygments_lexer": "ipython3",
   "version": "3.6.2"
  }
 },
 "nbformat": 4,
 "nbformat_minor": 2
}
