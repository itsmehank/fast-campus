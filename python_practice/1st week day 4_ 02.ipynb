{
 "cells": [
  {
   "cell_type": "code",
   "execution_count": null,
   "metadata": {},
   "outputs": [],
   "source": [
    "# 파일 입출력\n",
    "\n",
    "# 외부의 파일을 불러와 파이썬에서 처리하기 위한 명령\n",
    "\n",
    "f = open(<filename>, <mode>)\n",
    "f.close()\n"
   ]
  },
  {
   "cell_type": "code",
   "execution_count": null,
   "metadata": {
    "collapsed": true
   },
   "outputs": [],
   "source": [
    "# 새파일 만들기\n",
    "\n",
    "f = open('Newfile.txt', 'w') #newfile.txt를 쓰기 모드('w'=writing)로 만들어라.  \n",
    "f.close()   # 파일을 닫는다는 것임. 안 닫으면 메모리에 상주해있음. \n",
    "#Jupyter notebook의 Home에 newfile.txt가 생김"
   ]
  },
  {
   "cell_type": "code",
   "execution_count": null,
   "metadata": {
    "collapsed": true
   },
   "outputs": [],
   "source": [
    "# a 모드를 이용해서 파일을 수정하기\n",
    "\n",
    "f = open(\"Newfile.txt\", 'a')\n",
    "for i in range(1,11):\n",
    "    text = \"line %d. \\n\" % i   #newfile.txt에 집어 넣을 내용을 적는다. ,백슬레시는 줄을 바꾼다는 것. 백슬레시와 원화 기호는 똑같음\n",
    "    f.write(text)    # text를 open한 파일에 집어 넣음\n",
    "f.close() #늘 습관적으로 open statement 입력시 동시에 입력해 놓고 가운데를 채워나간다"
   ]
  },
  {
   "cell_type": "code",
   "execution_count": null,
   "metadata": {},
   "outputs": [],
   "source": [
    "# 파일을 읽기 f.readline()\n",
    "\n",
    "f = open(\"Newfile.txt\", 'r')\n",
    "text = f.readline()   #첫줄을 읽는것. >>> readline의 특성임. & file의 모든 내용을 읽기 위해서는 while을 이용해야함.\n",
    "print(text)\n",
    "f.close()"
   ]
  },
  {
   "cell_type": "code",
   "execution_count": null,
   "metadata": {},
   "outputs": [],
   "source": [
    "f = open(\"Newfile.txt\", 'r')\n",
    "while True:\n",
    "    text = f.readline()   #첫줄씩 읽는 것. \n",
    "    if not text:\n",
    "        break\n",
    "    print(text)\n",
    "f.close()    "
   ]
  },
  {
   "cell_type": "code",
   "execution_count": null,
   "metadata": {},
   "outputs": [],
   "source": [
    "# readlines라는 함수가 있다. \n",
    "\n",
    "f = open(\"Newfile.txt\", 'r')\n",
    "texts = f.readlines()   #readlines는 file의 내용을 다 불러 오는 것 (리스트로 받음)\n",
    "print (texts)\n",
    "for text in texts:\n",
    "    print (text)\n",
    "f.close()"
   ]
  },
  {
   "cell_type": "code",
   "execution_count": null,
   "metadata": {
    "collapsed": true
   },
   "outputs": [],
   "source": [
    "# 기존 파일에 11번째줄부터 20번째 줄까지 추가하기.\n",
    "\n",
    "f = open(\"Newfile.txt\", 'a')\n",
    "for i in range(11,21):\n",
    "    text = \"line %d. \\n\" % i\n",
    "    f.write(text)  \n",
    "f.close()"
   ]
  },
  {
   "cell_type": "code",
   "execution_count": 1,
   "metadata": {},
   "outputs": [],
   "source": [
    "# with를 이용하면 f.close() 없이 수정하고 자동으로 파일을 닫을 수 있따. \n",
    "\n",
    "with open(\"Newfile.txt\", 'r') as f:          # == 'f = open(\"Newfile.txt\", 'a')'\n",
    "        f.readline()"
   ]
  },
  {
   "cell_type": "code",
   "execution_count": 2,
   "metadata": {
    "collapsed": true
   },
   "outputs": [],
   "source": [
    "# 에러 핸들링\n",
    "#try, except 구문을 이용하여 시도 해보고 안되면 이렇게 해라 라는 명령 내릴 수 있다.\n",
    "# try 해보고 안되면 except 해라.\n",
    "\n"
   ]
  },
  {
   "cell_type": "code",
   "execution_count": 4,
   "metadata": {},
   "outputs": [
    {
     "name": "stdout",
     "output_type": "stream",
     "text": [
      "plz enter your age: 22\n"
     ]
    }
   ],
   "source": [
    "# 밸류 에러\n",
    "# input값이 원하지 않은 자료형이 들어왔을때, (에러 발생시) 출력 값 설정 가능\n",
    "\n",
    "try: \n",
    "    some_input = int(input(\"plz enter your age: \"))   #정수형으로 바꿀 수 없는 값이 입력되면 value error가 발생 >> except로 넘어감. \n",
    "except:\n",
    "    print(\"ass\")"
   ]
  },
  {
   "cell_type": "code",
   "execution_count": 5,
   "metadata": {
    "collapsed": true
   },
   "outputs": [],
   "source": [
    "# 01\n",
    "try:\n",
    "    pass   #pass는 아무 행동 없이 지나가는 명령어. 처음에 구조 설계시 쓰면 좋음.\n",
    "except \n",
    "    pass"
   ]
  },
  {
   "cell_type": "code",
   "execution_count": 6,
   "metadata": {},
   "outputs": [
    {
     "name": "stdout",
     "output_type": "stream",
     "text": [
      "Type the nummber: f\n",
      "One more chance baby\n",
      "Type the nummber: f\n",
      "ass\n"
     ]
    }
   ],
   "source": [
    "# 02\n",
    "try:\n",
    "    some_input = int(input(\"Type the nummber: \"))\n",
    "except ValueError: # 에러 타입을 확인 후에 적어줌. 해당 에러 메세지랑 동일한 형태여야함. \n",
    "    print(\"One more chance baby\")\n",
    "    try:\n",
    "        some_input = int(input(\"Type the nummber: \"))\n",
    "    except ValueError:\n",
    "        print(\"ass\")"
   ]
  },
  {
   "cell_type": "code",
   "execution_count": 13,
   "metadata": {},
   "outputs": [
    {
     "name": "stdout",
     "output_type": "stream",
     "text": [
      "Type the nummber: p\n",
      "One more chance baby\n",
      "Type the nummber: 11\n",
      "11\n"
     ]
    }
   ],
   "source": [
    "# 에러에 별명 부여하기 as\n",
    "try:\n",
    "    some_input = int(input(\"Type the nummber: \"))\n",
    "except ValueError: # 에러 타입을 확인 후에 적어줌. 해당 에러 메세지랑 동일한 형태여야함. \n",
    "    print(\"One more chance baby\")\n",
    "    try:\n",
    "        some_input = int(input(\"Type the nummber: \"))\n",
    "    except ValueError as e:\n",
    "        print(\"ass\")\n",
    "        print (e)\n",
    "    else:\n",
    "        print (some_input)"
   ]
  },
  {
   "cell_type": "code",
   "execution_count": 9,
   "metadata": {
    "collapsed": true
   },
   "outputs": [],
   "source": [
    "# 파일낫파운드에러\n",
    "\n",
    "try:\n",
    "    pass\n",
    "except:\n",
    "    pass\n",
    "else:\n",
    "    pass\n",
    "\n",
    "# try >> 에러 발생시 except로 \n",
    "# 에러 발생 안하면 >> else로 \n",
    "\n"
   ]
  },
  {
   "cell_type": "code",
   "execution_count": 12,
   "metadata": {},
   "outputs": [
    {
     "name": "stdout",
     "output_type": "stream",
     "text": [
      "[Errno 2] No such file or directory: 'error.txt'\n"
     ]
    }
   ],
   "source": [
    "try:\n",
    "    f = open(\"error.txt\", 'r')\n",
    "except FileNotFoundError as e:\n",
    "    print(e)\n",
    "else:\n",
    "    text = f.read()\n",
    "    f.close()\n"
   ]
  },
  {
   "cell_type": "code",
   "execution_count": 11,
   "metadata": {},
   "outputs": [
    {
     "ename": "FileNotFoundError",
     "evalue": "[Errno 2] No such file or directory: 'error.txt'",
     "output_type": "error",
     "traceback": [
      "\u001b[1;31m---------------------------------------------------------------------------\u001b[0m",
      "\u001b[1;31mFileNotFoundError\u001b[0m                         Traceback (most recent call last)",
      "\u001b[1;32m<ipython-input-11-9512331e8406>\u001b[0m in \u001b[0;36m<module>\u001b[1;34m()\u001b[0m\n\u001b[1;32m----> 1\u001b[1;33m \u001b[0mf\u001b[0m \u001b[1;33m=\u001b[0m \u001b[0mopen\u001b[0m\u001b[1;33m(\u001b[0m\u001b[1;34m\"error.txt\"\u001b[0m\u001b[1;33m,\u001b[0m \u001b[1;34m'r'\u001b[0m\u001b[1;33m)\u001b[0m\u001b[1;33m\u001b[0m\u001b[0m\n\u001b[0m\u001b[0;32m      2\u001b[0m \u001b[0mf\u001b[0m\u001b[1;33m.\u001b[0m\u001b[0mclose\u001b[0m\u001b[1;33m(\u001b[0m\u001b[1;33m)\u001b[0m\u001b[1;33m\u001b[0m\u001b[0m\n",
      "\u001b[1;31mFileNotFoundError\u001b[0m: [Errno 2] No such file or directory: 'error.txt'"
     ]
    }
   ],
   "source": [
    "# 일부러 에러를 일으켜서 에러 이름을 복사해서 except에 붙여넣는다. \n",
    "\n",
    "f = open(\"error.txt\", 'r')\n",
    "f.close()"
   ]
  },
  {
   "cell_type": "code",
   "execution_count": null,
   "metadata": {
    "collapsed": true
   },
   "outputs": [],
   "source": [
    "# 여러개의 error가 발생될 확률이 있으면\n",
    "#except를 여러개 붙여주면 된다\n",
    "'''\n",
    "except ValueError:\n",
    "    print ('error')\n",
    "except FileNotFoundError as g:\n",
    "    print ('error')\n",
    "except ... continue..    \n",
    "\n",
    "'''"
   ]
  }
 ],
 "metadata": {
  "kernelspec": {
   "display_name": "Python 3",
   "language": "python",
   "name": "python3"
  },
  "language_info": {
   "codemirror_mode": {
    "name": "ipython",
    "version": 3
   },
   "file_extension": ".py",
   "mimetype": "text/x-python",
   "name": "python",
   "nbconvert_exporter": "python",
   "pygments_lexer": "ipython3",
   "version": "3.6.2"
  }
 },
 "nbformat": 4,
 "nbformat_minor": 2
}
