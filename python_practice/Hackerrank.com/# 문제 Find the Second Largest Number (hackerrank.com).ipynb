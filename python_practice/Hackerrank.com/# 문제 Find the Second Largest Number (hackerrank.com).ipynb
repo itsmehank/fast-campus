{
 "cells": [
  {
   "cell_type": "code",
   "execution_count": null,
   "metadata": {
    "collapsed": true
   },
   "outputs": [],
   "source": [
    "# 시도 \n",
    "\n",
    "if __name__ == '__main__':\n",
    "    n = int(input())\n",
    "    arr = map(int, input().split())\n",
    "    set_ = set(arr)                    # set을 통해 중복 value 제거\n",
    "    list_ = list(set_)                 # set은 indexing이 되지 않기에 list로 변경\n",
    "    list_.sort()                       # 순서가 크기순으로 입력 되지 않은 경우 고려해서 list.sort() 함수로 정렬\n",
    "    if len(list_) == 1:                # 하나의 동일 input으로 이루어진 list인 경우 고려\n",
    "        print(list_[0])\n",
    "    else:\n",
    "        print(list_[-2])"
   ]
  }
 ],
 "metadata": {
  "kernelspec": {
   "display_name": "Python 3",
   "language": "python",
   "name": "python3"
  },
  "language_info": {
   "codemirror_mode": {
    "name": "ipython",
    "version": 3
   },
   "file_extension": ".py",
   "mimetype": "text/x-python",
   "name": "python",
   "nbconvert_exporter": "python",
   "pygments_lexer": "ipython3",
   "version": "3.6.2"
  }
 },
 "nbformat": 4,
 "nbformat_minor": 2
}
