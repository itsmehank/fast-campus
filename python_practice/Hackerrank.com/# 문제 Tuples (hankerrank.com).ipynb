{
 "cells": [
  {
   "cell_type": "code",
   "execution_count": 21,
   "metadata": {},
   "outputs": [
    {
     "name": "stdout",
     "output_type": "stream",
     "text": [
      "280965649\n",
      "1299869600\n",
      "-1698335887\n",
      "[2, 4, 6]\n"
     ]
    }
   ],
   "source": [
    "# 문제 출처: https://www.hackerrank.com/challenges/python-tuples?h_r=next-challenge&h_v=zen\n",
    "# 풀이\n",
    "\n",
    "#문제 이해\n",
    "\n",
    "'''\n",
    "hash function   \n",
    " - 형태: hash(<any form>)\n",
    " - 값: 모든 종류의 data type에 대해 정수형태의 변형 값을 돌려줌\n",
    "\n",
    "\n",
    "\n",
    "map function\n",
    " - 원하는 function을 원하는 그룹 자료 형태(list, set, dictionary 등등)에 한번에 적용하여 그 결과를 뽑아주는 function\n",
    "\n",
    " - **주의**: map에서 <function>에 input되는 형태는 그룹 자료 전체(list, dictionary등등)가 아니라, 개별 인자(element)이다.\n",
    " >>>>>따라서 <function>을 짤때도 parameter가 element인 function을 짜야 한다.\n",
    "\n",
    "- 형태: list(map(<function>, <list or dictionary etc>))\n",
    ">>>>>>list statement로 map의 결과값들을 list로 출력 가능. \n",
    "'''\n",
    "\n",
    "#hash 예시\n",
    "print (hash('12312313'))\n",
    "print (hash((1,2)))\n",
    "print (hash ('it\\'s show time'))    #백슬레쉬를 붙여주면 raw 형태로 뒤에 오는 문자를 사용한다는 의미이다.(백슬레쉬 == \\)\n",
    "\n",
    "# map 예시\n",
    "\n",
    "def add(x):\n",
    "    return x * 2\n",
    "\n",
    "\n",
    "print(list(map(add, [1,2,3])))\n"
   ]
  },
  {
   "cell_type": "raw",
   "metadata": {},
   "source": [
    "\n"
   ]
  },
  {
   "cell_type": "code",
   "execution_count": 27,
   "metadata": {},
   "outputs": [
    {
     "name": "stdout",
     "output_type": "stream",
     "text": [
      "2\n",
      "1 2\n",
      "1299869600\n"
     ]
    }
   ],
   "source": [
    "# 시도\n",
    "\n",
    "def oo():\n",
    "    n = input()\n",
    "    integer_input=map(int, input().split())\n",
    "    return (hash(tuple(integer_input)))\n",
    "\n",
    "print(oo())"
   ]
  },
  {
   "cell_type": "code",
   "execution_count": null,
   "metadata": {
    "collapsed": true
   },
   "outputs": [],
   "source": []
  }
 ],
 "metadata": {
  "kernelspec": {
   "display_name": "Python 3",
   "language": "python",
   "name": "python3"
  },
  "language_info": {
   "codemirror_mode": {
    "name": "ipython",
    "version": 3
   },
   "file_extension": ".py",
   "mimetype": "text/x-python",
   "name": "python",
   "nbconvert_exporter": "python",
   "pygments_lexer": "ipython3",
   "version": "3.6.2"
  }
 },
 "nbformat": 4,
 "nbformat_minor": 2
}
