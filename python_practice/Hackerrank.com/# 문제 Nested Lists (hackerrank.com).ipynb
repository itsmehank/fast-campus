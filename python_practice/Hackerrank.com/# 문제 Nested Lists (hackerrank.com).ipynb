{
 "cells": [
  {
   "cell_type": "code",
   "execution_count": null,
   "metadata": {
    "collapsed": true
   },
   "outputs": [],
   "source": [
    "# 문제\n",
    "\n",
    "# 출처 : https://www.hackerrank.com/challenges/nested-list?h_r=next-challenge&h_v=zen\n",
    "\n"
   ]
  },
  {
   "cell_type": "code",
   "execution_count": 1,
   "metadata": {},
   "outputs": [
    {
     "name": "stdout",
     "output_type": "stream",
     "text": [
      "5\n",
      "Harsh\n",
      "20\n",
      "Beria\n",
      "20\n",
      "Varun\n",
      "19\n",
      "Kakunami\n",
      "19\n",
      "Vikes\n",
      "21\n",
      "Kakunami\n",
      "Varun\n"
     ]
    }
   ],
   "source": [
    "# 시도_1\n",
    "\n",
    "\n",
    "if __name__ == '__main__':\n",
    "    dict_ = {}\n",
    "    for _ in range(int(input())):\n",
    "        name = input()\n",
    "        score = float(input())\n",
    "        dict_[name] = score\n",
    "    list_ = []\n",
    "    for score_ in dict_.values():\n",
    "        list_.append(score_)\n",
    "    list_.sort()   #sort는 그냥 이렇게 명령만 해주면 자동으로 대상 list를 정렬해줌 >>> 새로운 변수 설정으로 사용 불가.\n",
    "    second_low = list_[1]\n",
    "    name_list = []\n",
    "    for name, score in dict_.items():\n",
    "        if score == second_low:\n",
    "            name_list.append(name)\n",
    "    name_list.sort()\n",
    "    for i in range(len(name_list)):\n",
    "        print (name_list[i])\n",
    "\n",
    "'''\n",
    "몇몇 케이스에서 오류 발생\n",
    "\n",
    "오류 발생 case\n",
    "\n",
    "---------------------------------------\n",
    "input\n",
    "5\n",
    "Harsh\n",
    "20\n",
    "Beria\n",
    "20\n",
    "Varun\n",
    "19\n",
    "Kakunami\n",
    "19\n",
    "Vikas\n",
    "21\n",
    "\n",
    "---------------------------------------\n",
    "output\n",
    "\n",
    "Kakunami\n",
    "Varun\n",
    "\n",
    "\n",
    "'''"
   ]
  },
  {
   "cell_type": "code",
   "execution_count": 12,
   "metadata": {},
   "outputs": [
    {
     "name": "stdout",
     "output_type": "stream",
     "text": [
      "4\n",
      "k\n",
      "100\n",
      "j\n",
      "100\n",
      "h\n",
      "90\n",
      "g\n",
      "60\n",
      "this is sorted list2: [60, 90, 100, 100]\n",
      "this is set2:{100, 90, 60}\n",
      "this is transformed list from set2: [100, 90, 60]\n",
      "90\n",
      "h\n"
     ]
    }
   ],
   "source": [
    "# 시도 2_ set을 이용해서 반복 제거, 2번쨰로 낮은 점수 확인\n",
    "\n",
    "def oo2():\n",
    "    dict2 = {}\n",
    "    for _ in range(int(input())):\n",
    "        name = input()\n",
    "        score = int(input())\n",
    "        dict2[name] = score\n",
    "    list2 = []    \n",
    "    for score in dict2.values():\n",
    "        list2.append(score)\n",
    "    list2.sort()\n",
    "    print (\"this is sorted list2: \" + str(list2))\n",
    "    set2 = set(list2)\n",
    "    \n",
    "    print (\"this is set2:\" + str(set2))\n",
    "    list2 = list(set2)\n",
    "    print (\"this is transformed list from set2: \" + str(list2))\n",
    "    second_low_score = list2[1]\n",
    "    print (second_low_score)\n",
    "    name_list =[]\n",
    "    for name,score in dict2.items():\n",
    "        if score == second_low_score:\n",
    "            name_list.append(name)\n",
    "    name_list.sort()\n",
    "    for i in range(len(name_list)):\n",
    "        print (name_list[i])\n",
    "            \n",
    "\n",
    "    \n",
    "oo2()\n",
    "\n",
    "'''\n",
    "위의 function을 실행시켜보면\n",
    "\n",
    "list를 set으로 변환시켜주는 과정에서\n",
    "\n",
    "sorted된 element들이 다시 뒤죽박죽 섞이는 것을 볼 수 있다.\n",
    "\n",
    "정확히 말하면 내림차순으로 정리된다. \n",
    "\n",
    "따라서 set을 통해 중복 값을 제거 해준 다음\n",
    "\n",
    "list로 변형시켜주고 나서 sort를 해줘야 한다.\n",
    "\n",
    "\n",
    "'''"
   ]
  },
  {
   "cell_type": "code",
   "execution_count": 15,
   "metadata": {},
   "outputs": [
    {
     "name": "stdout",
     "output_type": "stream",
     "text": [
      "4\n",
      "h\n",
      "100\n",
      "s\n",
      "200\n",
      "b\n",
      "200\n",
      "v\n",
      "40\n",
      "this is the set2:{200, 40, 100}\n",
      "this is the transformed list from set2: [40, 100, 200]\n",
      "100\n",
      "h\n"
     ]
    }
   ],
   "source": [
    "# 시도 3 >>> set 이후에 list화 해주고 sort 함수 사용하기.\n",
    "\n",
    "\n",
    "def oo3():\n",
    "    dict2 = {}\n",
    "    for _ in range(int(input())):\n",
    "        name = input()\n",
    "        score = int(input())\n",
    "        dict2[name] = score\n",
    "    list2 = []    \n",
    "    for score in dict2.values():\n",
    "        list2.append(score)\n",
    "    set2 = set(list2)\n",
    "    print (\"this is the set2:\" + str(set2))\n",
    "    list2 = list(set2)\n",
    "    list2.sort()\n",
    "    print (\"this is the transformed list from set2: \" + str(list2))\n",
    "    second_low_score = list2[1]\n",
    "    print (second_low_score)\n",
    "    name_list =[]\n",
    "    for name,score in dict2.items():\n",
    "        if score == second_low_score:\n",
    "            name_list.append(name)\n",
    "    name_list.sort()\n",
    "    for i in range(len(name_list)):\n",
    "        print (name_list[i])\n",
    "            \n",
    "\n",
    "    \n",
    "oo3()"
   ]
  },
  {
   "cell_type": "code",
   "execution_count": null,
   "metadata": {
    "collapsed": true
   },
   "outputs": [],
   "source": []
  }
 ],
 "metadata": {
  "kernelspec": {
   "display_name": "Python 3",
   "language": "python",
   "name": "python3"
  },
  "language_info": {
   "codemirror_mode": {
    "name": "ipython",
    "version": 3
   },
   "file_extension": ".py",
   "mimetype": "text/x-python",
   "name": "python",
   "nbconvert_exporter": "python",
   "pygments_lexer": "ipython3",
   "version": "3.6.2"
  }
 },
 "nbformat": 4,
 "nbformat_minor": 2
}
