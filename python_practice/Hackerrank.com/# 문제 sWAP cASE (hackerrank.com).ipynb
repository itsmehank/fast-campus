{
 "cells": [
  {
   "cell_type": "code",
   "execution_count": 2,
   "metadata": {},
   "outputs": [
    {
     "name": "stdout",
     "output_type": "stream",
     "text": [
      "1\n",
      "2\n",
      "5\n"
     ]
    }
   ],
   "source": [
    "# 이전 문제와 관련됨.\n",
    "# for loop에서 list불러오면 바로 element가 출력됨.\n",
    "a = [1,2,5,]\n",
    "\n",
    "for i in a:\n",
    "    print (i)"
   ]
  },
  {
   "cell_type": "code",
   "execution_count": 6,
   "metadata": {},
   "outputs": [
    {
     "name": "stdout",
     "output_type": "stream",
     "text": [
      "10.29\n"
     ]
    }
   ],
   "source": [
    "# 이전 문제와 관련됨. \n",
    "# float 소수점 자릿수 설정해주는 방법.\n",
    "a = 10.289853\n",
    "\n",
    "print ('%.2f' % (a))"
   ]
  },
  {
   "cell_type": "code",
   "execution_count": 19,
   "metadata": {},
   "outputs": [
    {
     "name": "stdout",
     "output_type": "stream",
     "text": [
      "a\n"
     ]
    }
   ],
   "source": [
    "print ('A'.lower())"
   ]
  },
  {
   "cell_type": "code",
   "execution_count": 25,
   "metadata": {},
   "outputs": [
    {
     "name": "stdout",
     "output_type": "stream",
     "text": [
      "STRING\n",
      "string\n",
      "A\n",
      "a\n"
     ]
    }
   ],
   "source": [
    "a =  'strING'\n",
    "print (a.upper())      # <string> + <dot> + upper() or lower() >>> 대문자 or 소문자로 변경\n",
    "print (a.lower())\n",
    "print ('a'.upper())\n",
    "print ('A'.lower())"
   ]
  },
  {
   "cell_type": "code",
   "execution_count": 26,
   "metadata": {},
   "outputs": [
    {
     "name": "stdout",
     "output_type": "stream",
     "text": [
      "STRING\n",
      "string\n",
      "r\n",
      "STrING\n"
     ]
    }
   ],
   "source": [
    "# 해당 문제 \n",
    "# 문제 출처: https://www.hackerrank.com/challenges/swap-case\n",
    "\n",
    "a =  'stRing'\n",
    "print (a.upper())\n",
    "print (a.lower())\n",
    "origin = (','.join(a).split(','))\n",
    "upper = (','.join(a.upper()).split(','))\n",
    "n = 0\n",
    "result = []\n",
    "for i in origin:\n",
    "    if i != upper[n]:\n",
    "        result.append(upper[n])\n",
    "    else:\n",
    "        i = i.lower()\n",
    "        print (i)\n",
    "        result.append(i)\n",
    "    n += 1\n",
    "result = \"\".join(result)     #join을 이용해서 list의 element들을 하나로 붙여 string으로 만들 수 있다. \n",
    "print (result)"
   ]
  },
  {
   "cell_type": "code",
   "execution_count": null,
   "metadata": {
    "collapsed": true
   },
   "outputs": [],
   "source": [
    "# 시도 _ 정답\n",
    "\n",
    "\n",
    "def swap_case(s):\n",
    "    origin = (','.join(s).split(','))\n",
    "    upper = (','.join(s.upper()).split(','))\n",
    "    n = 0\n",
    "    result = []\n",
    "    for i in origin:\n",
    "        if i != upper[n]:\n",
    "            result.append(upper[n])\n",
    "        else:\n",
    "            i = i.lower()\n",
    "            result.append(i)\n",
    "        n += 1\n",
    "    result = \"\".join(result)\n",
    "    return result"
   ]
  }
 ],
 "metadata": {
  "kernelspec": {
   "display_name": "Python 3",
   "language": "python",
   "name": "python3"
  },
  "language_info": {
   "codemirror_mode": {
    "name": "ipython",
    "version": 3
   },
   "file_extension": ".py",
   "mimetype": "text/x-python",
   "name": "python",
   "nbconvert_exporter": "python",
   "pygments_lexer": "ipython3",
   "version": "3.6.2"
  }
 },
 "nbformat": 4,
 "nbformat_minor": 2
}
