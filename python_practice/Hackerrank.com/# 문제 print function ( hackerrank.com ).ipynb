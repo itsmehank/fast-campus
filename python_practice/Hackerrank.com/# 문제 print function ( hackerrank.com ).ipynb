{
 "cells": [
  {
   "cell_type": "code",
   "execution_count": null,
   "metadata": {
    "collapsed": true
   },
   "outputs": [],
   "source": [
    "# 문제 \n",
    "'''\n",
    "Read an integer N\n",
    "\n",
    "Without using any string methods, try to print the following:\n",
    "\n",
    "123...N\n",
    "\n",
    "Note that \"...\" represents the values in between.\n",
    "\n",
    "--------------------------------------------\n",
    "Input Format \n",
    "The first line contains an integer .\n",
    "\n",
    "--------------------------------------------\n",
    "Output Format \n",
    "Output the answer as explained in the task.\n",
    "\n",
    "--------------------------------------------\n",
    "Sample Input\n",
    "\n",
    "3\n",
    "\n",
    "--------------------------------------------\n",
    "Sample Output\n",
    "\n",
    "123\n",
    "\n",
    "'''"
   ]
  },
  {
   "cell_type": "code",
   "execution_count": 14,
   "metadata": {},
   "outputs": [
    {
     "name": "stdout",
     "output_type": "stream",
     "text": [
      "10\n",
      "1000000000\n",
      "1200000000\n",
      "1230000000\n",
      "1234000000\n",
      "1234500000\n",
      "1234560000\n",
      "1234567000\n",
      "1234567800\n",
      "1234567890\n",
      "1234567900\n",
      "1234567900\n"
     ]
    }
   ],
   "source": [
    "# 문제 print function\n",
    "# 시도_1 >> 10이상의 수에서는 자릿수가 input 값이랑 다르기에 (10의 경우 11자리수) 오류 발생\n",
    "def oo(n):\n",
    "    k = 0\n",
    "    for i in range(1,n+1):\n",
    "        k += i * (10**(n-i))\n",
    "        print (k)\n",
    "    return (k)\n",
    "n = int(input())\n",
    "print (oo(n))"
   ]
  },
  {
   "cell_type": "code",
   "execution_count": 37,
   "metadata": {},
   "outputs": [
    {
     "name": "stdout",
     "output_type": "stream",
     "text": [
      "20\n",
      "20\n",
      "210\n",
      "2010\n",
      "19010\n",
      "179010\n",
      "1679010\n",
      "15679010\n",
      "145679010\n",
      "1345679010\n",
      "12345679010\n",
      "112345679010\n",
      "1012345679010\n",
      "9012345679010\n",
      "79012345679010\n",
      "679012345679010\n",
      "5679012345679010\n",
      "45679012345679010\n",
      "345679012345679010\n",
      "2345679012345679010\n",
      "12345679012345679010\n",
      "12345679012345679010\n"
     ]
    }
   ],
   "source": [
    "# 시도_2 >> n이 20 일때, 20 + 190 + 1800 에서 각 자리수별로 더하기가 된다>> 오류발생\n",
    "\n",
    "def oo2():   #input값을 함수 내에 정의해주고 그것을 이용하기 위해서는 일단 최초에 input값을 정의해주면 안된다.\n",
    "    n = int(input())\n",
    "    list2 = []\n",
    "    for i in range(1,n+1):\n",
    "        list2.append(i)\n",
    "    list2.reverse()\n",
    "    # print (list2)\n",
    "    a = 0\n",
    "    for i in range(n):\n",
    "        a += list2[i]*(10**i)\n",
    "        print (a)\n",
    "    return a    \n",
    "\n",
    "\n",
    "print (oo2())"
   ]
  },
  {
   "cell_type": "code",
   "execution_count": 34,
   "metadata": {},
   "outputs": [
    {
     "name": "stdout",
     "output_type": "stream",
     "text": [
      "None\n",
      "[3, 2, 1]\n"
     ]
    }
   ],
   "source": [
    "# 아래와 같이 reverse function이 작동하지 않을때!!\n",
    "\n",
    "a = [1,2,3,]\n",
    "print (a.reverse())\n",
    "\n",
    "# 해설: reverse function은 단지 해당 list를 거꾸로 위치시킬뿐 어떠한 return 값을 도출하지 않는다.(return 값은 None임)\n",
    "# 따라서 reversed list를 출력하고 싶으면 해당 list를 다시 출력 해줘야 한다.\n",
    "\n",
    "print (a)"
   ]
  },
  {
   "cell_type": "code",
   "execution_count": 40,
   "metadata": {},
   "outputs": [
    {
     "name": "stdout",
     "output_type": "stream",
     "text": [
      "20\n",
      "1234567891011121314151617181920\n"
     ]
    }
   ],
   "source": [
    "# 시도_3  >> 성공. \n",
    "\n",
    "def oo3():\n",
    "    n = int(input())\n",
    "    list3 = []\n",
    "    for i in range(1,n+1):\n",
    "        list3.append(i)\n",
    "    a = \"\"    \n",
    "    for i in range(n):\n",
    "        a += str(list3[i])\n",
    "        # print (a)\n",
    "    return (a)    \n",
    "\n",
    "\n",
    "print(oo3())"
   ]
  },
  {
   "cell_type": "code",
   "execution_count": null,
   "metadata": {
    "collapsed": true
   },
   "outputs": [],
   "source": []
  }
 ],
 "metadata": {
  "kernelspec": {
   "display_name": "Python 3",
   "language": "python",
   "name": "python3"
  },
  "language_info": {
   "codemirror_mode": {
    "name": "ipython",
    "version": 3
   },
   "file_extension": ".py",
   "mimetype": "text/x-python",
   "name": "python",
   "nbconvert_exporter": "python",
   "pygments_lexer": "ipython3",
   "version": "3.6.2"
  }
 },
 "nbformat": 4,
 "nbformat_minor": 2
}
