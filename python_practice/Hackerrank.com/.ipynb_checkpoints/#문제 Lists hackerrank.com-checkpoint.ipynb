{
 "cells": [
  {
   "cell_type": "code",
   "execution_count": null,
   "metadata": {},
   "outputs": [],
   "source": [
    "'''\n",
    "문제 내용. \n",
    "\n",
    "Consider a list (list = []). You can perform the following commands:\n",
    "\n",
    " - insert i e: Insert integer  at position .\n",
    " - print: Print the list.\n",
    " - remove e: Delete the first occurrence of integer .\n",
    " - append e: Insert integer  at the end of the list.\n",
    " - sort: Sort the list.\n",
    " - pop: Pop the last element from the list.\n",
    " - reverse: Reverse the list.\n",
    "\n",
    "Initialize your list and read in the value of  followed by  lines of commands where each command will be of the types listed above. \n",
    "Iterate through each command in order and perform the corresponding operation on your list.\n",
    "\n",
    "------------------------------------------------------------------------------\n",
    "Input Format\n",
    "\n",
    "The first line contains an integer, , denoting the number of commands. \n",
    "Each line  of the  subsequent lines contains one of the commands described above.\n",
    "\n",
    "------------------------------------------------------------------------------\n",
    "Constraints\n",
    "\n",
    "The elements added to the list must be integers.\n",
    "\n",
    "------------------------------------------------------------------------------\n",
    "Output Format\n",
    "\n",
    "For each command of type print, print the list on a new line.\n",
    "\n",
    "------------------------------------------------------------------------------\n",
    "Sample Input\n",
    "\n",
    "12\n",
    "insert 0 5\n",
    "insert 1 10\n",
    "insert 0 6\n",
    "print \n",
    "remove 6\n",
    "append 9\n",
    "append 1\n",
    "sort \n",
    "print\n",
    "pop\n",
    "reverse\n",
    "print\n",
    "\n",
    "--------------------------------------------------------------------------------\n",
    "Sample Output\n",
    "\n",
    "[6, 5, 10]\n",
    "[1, 5, 9, 10]\n",
    "[9, 5, 1]\n",
    "'''\n",
    "print (None)"
   ]
  },
  {
   "cell_type": "code",
   "execution_count": null,
   "metadata": {},
   "outputs": [],
   "source": [
    "# 시도 _1  >>> 문제 이해 부족으로 실패\n",
    "# 문제에서 input으로 숫자만 주어지는게 아니라 숫자와 명령어까지 주어짐.\n",
    "'''\n",
    "예를 들면 input으로 \n",
    "\n",
    "3\n",
    "insert 0 1\n",
    "insert 1 2\n",
    "print\n",
    "\n",
    "이렇게 주어지는 것임.\n",
    "따라서 이러한 명령어를 구분해서 처리해주는 작업이 필요\n",
    "\n",
    "'''\n",
    "\n",
    "def oo():\n",
    "    n = int(input())\n",
    "    list1 =[]\n",
    "    for i in range(1,n+1):\n",
    "        if i > 12:\n",
    "            i = i % 12\n",
    "            if i == 1:\n",
    "                list1.insert (0,5)\n",
    "            elif i == 2:\n",
    "                list1.insert (1,10)\n",
    "            elif i == 3:\n",
    "                list1.insert (0,6)\n",
    "            elif i == 4:\n",
    "                print (list1)\n",
    "            elif i == 5:\n",
    "                list1.remove (6)\n",
    "            elif i == 6:\n",
    "                list1.append (9)\n",
    "            elif i == 7:\n",
    "                list1.append (1)\n",
    "            elif i == 8:\n",
    "                list1.sort() \n",
    "            elif i == 9:\n",
    "                print (list1)\n",
    "            elif i == 10:\n",
    "                list1.pop()\n",
    "            elif i == 11:\n",
    "                list1.reverse()\n",
    "            elif i == 12:\n",
    "                print (list1)\n",
    "        else:\n",
    "            if i == 1:\n",
    "                list1.insert (0,5)\n",
    "            elif i == 2:\n",
    "                list1.insert (1,10)\n",
    "            elif i == 3:\n",
    "                list1.insert (0,6)\n",
    "            elif i == 4:\n",
    "                print (list1)\n",
    "            elif i == 5:\n",
    "                list1.remove (6)\n",
    "            elif i == 6:\n",
    "                list1.append (9)\n",
    "            elif i == 7:\n",
    "                list1.append (1)\n",
    "            elif i == 8:\n",
    "                list1.sort() \n",
    "            elif i == 9:\n",
    "                print (list1)\n",
    "            elif i == 10:\n",
    "                list1.pop()\n",
    "            elif i == 11:\n",
    "                list1.reverse()\n",
    "            elif i == 12:\n",
    "                print (list1)\n",
    "\n",
    "print(oo())\n",
    "\n",
    "\n",
    "    "
   ]
  },
  {
   "cell_type": "code",
   "execution_count": null,
   "metadata": {},
   "outputs": [],
   "source": [
    "# list의 insert 함수\n",
    "# reverse와 같이 해당 함수 자체는 return이 None이다. 명령 자체만으로는 해당 list를 수정해주는 것밖에 안함.\n",
    "# 따라서 해당 함수 사용이후 수정된 list를 다시 print해주는 것이 필요하다.\n",
    "\n",
    "a = [1]\n",
    "\n",
    "print (a.insert(0,1))\n",
    "print (a)"
   ]
  },
  {
   "cell_type": "code",
   "execution_count": null,
   "metadata": {
    "collapsed": true
   },
   "outputs": [],
   "source": [
    "# 시도2\n",
    "def oo():\n",
    "    n = int(input())\n",
    "    list1 =[]\n",
    "    "
   ]
  },
  {
   "cell_type": "code",
   "execution_count": 6,
   "metadata": {},
   "outputs": [
    {
     "name": "stdout",
     "output_type": "stream",
     "text": [
      "4\n",
      "insert 0 1\n",
      "['0', '1']\n",
      "insert\n",
      "insert(0,1)\n",
      "append 3\n",
      "['3']\n",
      "append\n",
      "append(3)\n",
      "remove 3\n",
      "['3']\n",
      "remove\n",
      "remove(3)\n",
      "print \n",
      "[]\n",
      "[1]\n"
     ]
    }
   ],
   "source": [
    "# 모범답안 copy >> 설명은 wordpress에 저장\n",
    "\n",
    "if __name__ == '__main__':\n",
    "    n = int(input())\n",
    "    l = []\n",
    "    for _ in range(n):\n",
    "        s = input().split()\n",
    "        cmd = s[0]\n",
    "        args = s[1:]\n",
    "        if cmd !=\"print\":\n",
    "            cmd += \"(\"+ \",\".join(args) +\")\"\n",
    "            eval(\"l.\"+cmd)\n",
    "        else:\n",
    "            print (l)"
   ]
  },
  {
   "cell_type": "code",
   "execution_count": 16,
   "metadata": {},
   "outputs": [
    {
     "name": "stdout",
     "output_type": "stream",
     "text": [
      "['1', '2']\n",
      "1.2\n"
     ]
    }
   ],
   "source": [
    "# join의 기능\n",
    "# join 특징 >> string으로 이루어진 list의 각 element를 join 앞에 오는 string기준으로 붙여준다. \n",
    "# 예를 들면 list = ['1', '2']인 list를 \".\".join(list) 해주면 output으로 \"1.2\"가 나온다.\n",
    "# **주의 : element가 integer이면 사용할 수 없음. \n",
    "\n",
    "\n",
    "a = ['1','2']\n",
    "\n",
    "print (a)  # **join의 중요한 특징: join은 대상이 되는 list를 수정하는 것이 아니다.(대상 list는 변하지 않음.)\n",
    "           # >>>>>>>>>>>>>>>>>>>> 따라서 join을 통해 도출된 값을 이용하고 싶으면 새로 variable을 설정 해주는 것이 필요.\n",
    "\n",
    "b = \".\".join(a)  #새로운 variable b를 만들었다.\n",
    "\n",
    "print (b)"
   ]
  },
  {
   "cell_type": "code",
   "execution_count": null,
   "metadata": {
    "collapsed": true
   },
   "outputs": [],
   "source": []
  },
  {
   "cell_type": "code",
   "execution_count": null,
   "metadata": {
    "collapsed": true
   },
   "outputs": [],
   "source": []
  }
 ],
 "metadata": {
  "kernelspec": {
   "display_name": "Python 3",
   "language": "python",
   "name": "python3"
  },
  "language_info": {
   "codemirror_mode": {
    "name": "ipython",
    "version": 3
   },
   "file_extension": ".py",
   "mimetype": "text/x-python",
   "name": "python",
   "nbconvert_exporter": "python",
   "pygments_lexer": "ipython3",
   "version": "3.6.2"
  }
 },
 "nbformat": 4,
 "nbformat_minor": 2
}
