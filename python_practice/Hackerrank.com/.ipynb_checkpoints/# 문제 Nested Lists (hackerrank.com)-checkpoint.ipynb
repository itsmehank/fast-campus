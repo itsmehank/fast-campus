{
 "cells": [
  {
   "cell_type": "code",
   "execution_count": null,
   "metadata": {
    "collapsed": true
   },
   "outputs": [],
   "source": [
    "# 문제\n",
    "\n",
    "# 출처 : https://www.hackerrank.com/challenges/nested-list?h_r=next-challenge&h_v=zen\n",
    "\n"
   ]
  },
  {
   "cell_type": "code",
   "execution_count": 1,
   "metadata": {},
   "outputs": [
    {
     "name": "stdout",
     "output_type": "stream",
     "text": [
      "3\n",
      "hank\n",
      "100\n",
      "song\n",
      "100\n",
      "python \n",
      "20\n",
      "hank\n",
      "song\n"
     ]
    }
   ],
   "source": [
    "# 시도_1\n",
    "\n",
    "\n",
    "if __name__ == '__main__':\n",
    "    dict_ = {}\n",
    "    for _ in range(int(input())):\n",
    "        name = input()\n",
    "        score = float(input())\n",
    "        dict_[name] = score\n",
    "    list_ = []\n",
    "    for score_ in dict_.values():\n",
    "        list_.append(score_)\n",
    "    list_.sort()   #sort는 그냥 이렇게 명령만 해주면 자동으로 대상 list를 정렬해줌 >>> 새로운 변수 설정으로 사용 불가.\n",
    "    second_low = list_[1]\n",
    "    name_list = []\n",
    "    for name, score in dict_.items():\n",
    "        if score == second_low:\n",
    "            name_list.append(name)\n",
    "    name_list.sort()\n",
    "    for i in range(len(name_list)):\n",
    "        print (name_list[i])\n"
   ]
  }
 ],
 "metadata": {
  "kernelspec": {
   "display_name": "Python 3",
   "language": "python",
   "name": "python3"
  },
  "language_info": {
   "codemirror_mode": {
    "name": "ipython",
    "version": 3
   },
   "file_extension": ".py",
   "mimetype": "text/x-python",
   "name": "python",
   "nbconvert_exporter": "python",
   "pygments_lexer": "ipython3",
   "version": "3.6.2"
  }
 },
 "nbformat": 4,
 "nbformat_minor": 2
}
