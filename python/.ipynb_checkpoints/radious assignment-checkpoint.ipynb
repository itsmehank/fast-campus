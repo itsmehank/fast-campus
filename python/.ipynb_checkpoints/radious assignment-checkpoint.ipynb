{
 "cells": [
  {
   "cell_type": "code",
   "execution_count": 11,
   "metadata": {
    "collapsed": true
   },
   "outputs": [],
   "source": [
    "# When a radious is 10, get the value of diameter, circumference, area and volume. \n",
    "# pi value has 3.1415\n",
    "r = 10\n",
    "pi =3.1415\n",
    "# Your Code Starts Here"
   ]
  },
  {
   "cell_type": "code",
   "execution_count": 27,
   "metadata": {},
   "outputs": [],
   "source": [
    "radious = r\n",
    "diameter = r * 2\n",
    "circumference = diameter * pi\n",
    "area = circumference * 1/2 * r\n",
    "volume = 4/3 * pi * (r**3)"
   ]
  },
  {
   "cell_type": "code",
   "execution_count": 28,
   "metadata": {},
   "outputs": [
    {
     "name": "stdout",
     "output_type": "stream",
     "text": [
      "10\n",
      "20\n",
      "62.830000000000005\n",
      "314.15000000000003\n",
      "4188.666666666666\n"
     ]
    }
   ],
   "source": [
    "print (radious)\n",
    "print(diameter)\n",
    "print (circumference)\n",
    "print (area)\n",
    "print (volume)"
   ]
  },
  {
   "cell_type": "code",
   "execution_count": null,
   "metadata": {
    "collapsed": true
   },
   "outputs": [],
   "source": []
  }
 ],
 "metadata": {
  "kernelspec": {
   "display_name": "Python 3",
   "language": "python",
   "name": "python3"
  },
  "language_info": {
   "codemirror_mode": {
    "name": "ipython",
    "version": 3
   },
   "file_extension": ".py",
   "mimetype": "text/x-python",
   "name": "python",
   "nbconvert_exporter": "python",
   "pygments_lexer": "ipython3",
   "version": "3.6.2"
  }
 },
 "nbformat": 4,
 "nbformat_minor": 2
}
